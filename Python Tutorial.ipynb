{
 "cells": [
  {
   "cell_type": "code",
   "execution_count": 1,
   "id": "3fcbe230-f29e-4807-bbcf-380259fcf98c",
   "metadata": {},
   "outputs": [],
   "source": [
    "import sys\n",
    "import keyword\n",
    "import operator\n",
    "from datetime import datetime\n",
    "import os"
   ]
  },
  {
   "cell_type": "code",
   "execution_count": null,
   "id": "c9563749-d0f6-461d-be50-cc6f3663ba7d",
   "metadata": {},
   "outputs": [],
   "source": []
  },
  {
   "cell_type": "markdown",
   "id": "a95c0f1a-a5c4-4e4a-b7c7-957121af852e",
   "metadata": {},
   "source": [
    "# Keywords"
   ]
  },
  {
   "cell_type": "code",
   "execution_count": 2,
   "id": "232bbe85-3e82-4234-9880-25808b94a325",
   "metadata": {},
   "outputs": [
    {
     "name": "stdout",
     "output_type": "stream",
     "text": [
      "['False', 'None', 'True', 'and', 'as', 'assert', 'async', 'await', 'break', 'class', 'continue', 'def', 'del', 'elif', 'else', 'except', 'finally', 'for', 'from', 'global', 'if', 'import', 'in', 'is', 'lambda', 'nonlocal', 'not', 'or', 'pass', 'raise', 'return', 'try', 'while', 'with', 'yield']\n"
     ]
    }
   ],
   "source": [
    "print(keyword.kwlist)"
   ]
  },
  {
   "cell_type": "code",
   "execution_count": 3,
   "id": "69734864-bde0-4a86-8255-54c96893ad1a",
   "metadata": {},
   "outputs": [
    {
     "data": {
      "text/plain": [
       "35"
      ]
     },
     "execution_count": 3,
     "metadata": {},
     "output_type": "execute_result"
    }
   ],
   "source": [
    "len(keyword.kwlist)"
   ]
  },
  {
   "cell_type": "code",
   "execution_count": null,
   "id": "42c79aa1-ae0b-4938-bcca-5ea52c08833e",
   "metadata": {},
   "outputs": [],
   "source": []
  },
  {
   "cell_type": "markdown",
   "id": "a8ec6b7f-4347-4826-bf9c-4dcbdecc3ded",
   "metadata": {},
   "source": [
    "# Identifiers"
   ]
  },
  {
   "cell_type": "markdown",
   "id": "3ca46cc4-16a2-415f-b877-6df2507a98fb",
   "metadata": {},
   "source": [
    "1var = 10    # variables cant start with a digit"
   ]
  },
  {
   "cell_type": "code",
   "execution_count": 5,
   "id": "b41f506b-84a7-4942-bc5b-ae8fa70ca058",
   "metadata": {},
   "outputs": [
    {
     "ename": "SyntaxError",
     "evalue": "invalid syntax (3625693022.py, line 1)",
     "output_type": "error",
     "traceback": [
      "\u001b[1;36m  Cell \u001b[1;32mIn[5], line 1\u001b[1;36m\u001b[0m\n\u001b[1;33m    val2@ =35\u001b[0m\n\u001b[1;37m          ^\u001b[0m\n\u001b[1;31mSyntaxError\u001b[0m\u001b[1;31m:\u001b[0m invalid syntax\n"
     ]
    }
   ],
   "source": [
    "val2@ =35   # variables cant use special symbols except _"
   ]
  },
  {
   "cell_type": "code",
   "execution_count": 6,
   "id": "3cf50530-c8d2-4e23-9071-d693f55edcd5",
   "metadata": {},
   "outputs": [
    {
     "ename": "SyntaxError",
     "evalue": "invalid syntax (4166699667.py, line 1)",
     "output_type": "error",
     "traceback": [
      "\u001b[1;36m  Cell \u001b[1;32mIn[6], line 1\u001b[1;36m\u001b[0m\n\u001b[1;33m    import = 125\u001b[0m\n\u001b[1;37m           ^\u001b[0m\n\u001b[1;31mSyntaxError\u001b[0m\u001b[1;31m:\u001b[0m invalid syntax\n"
     ]
    }
   ],
   "source": [
    "import = 125    # keyword cant be used as identifiers"
   ]
  },
  {
   "cell_type": "code",
   "execution_count": 7,
   "id": "4fec06ef-90d9-4c49-aa22-7cc79a4069e3",
   "metadata": {},
   "outputs": [
    {
     "data": {
      "text/plain": [
       "10"
      ]
     },
     "execution_count": 7,
     "metadata": {},
     "output_type": "execute_result"
    }
   ],
   "source": [
    "val2=10\n",
    "val2"
   ]
  },
  {
   "cell_type": "code",
   "execution_count": 8,
   "id": "213e0784-afc3-40be-a4df-4d7063208bac",
   "metadata": {},
   "outputs": [
    {
     "data": {
      "text/plain": [
       "99"
      ]
     },
     "execution_count": 8,
     "metadata": {},
     "output_type": "execute_result"
    }
   ],
   "source": [
    "val_=99\n",
    "val_"
   ]
  },
  {
   "cell_type": "code",
   "execution_count": null,
   "id": "2b889cf8-554a-4723-b41f-ecf5f9faead7",
   "metadata": {},
   "outputs": [],
   "source": []
  },
  {
   "cell_type": "markdown",
   "id": "b2282489-888e-4894-a42b-9e11bfdc60a8",
   "metadata": {},
   "source": [
    "# Comments in python"
   ]
  },
  {
   "cell_type": "code",
   "execution_count": 9,
   "id": "a47f483d-a4d9-4822-8092-7a76e25ee6dd",
   "metadata": {},
   "outputs": [],
   "source": [
    "val1=10\n",
    "\n",
    "# single line comment"
   ]
  },
  {
   "cell_type": "code",
   "execution_count": 10,
   "id": "4ffcc9a9-5541-49fe-b014-afc7b7fb05fd",
   "metadata": {},
   "outputs": [],
   "source": [
    "# Multi \n",
    "# line\n",
    "# comment\n",
    "\n",
    "val1 = 15"
   ]
  },
  {
   "cell_type": "code",
   "execution_count": 11,
   "id": "e1d47761-656b-4221-aa75-6da35d89243f",
   "metadata": {},
   "outputs": [],
   "source": [
    "'''\n",
    "multi\n",
    "line\n",
    "comment\n",
    "'''\n",
    "\n",
    "val2 =20"
   ]
  },
  {
   "cell_type": "code",
   "execution_count": 12,
   "id": "1b22204b-e748-48a6-91d0-424e96caa2fc",
   "metadata": {},
   "outputs": [],
   "source": [
    "\"\"\"\n",
    "Multi\n",
    "line\n",
    "comment\n",
    "\"\"\"\n",
    "val3=52"
   ]
  },
  {
   "cell_type": "code",
   "execution_count": null,
   "id": "aa1edb7f-faaf-4f6d-85b2-8638f4df903e",
   "metadata": {},
   "outputs": [],
   "source": []
  },
  {
   "cell_type": "markdown",
   "id": "44c504c8-7791-47b1-b574-019ffe05b25e",
   "metadata": {},
   "source": [
    "# Statements"
   ]
  },
  {
   "cell_type": "code",
   "execution_count": 15,
   "id": "e0d64373-666b-4152-98dc-acb9777d0711",
   "metadata": {},
   "outputs": [
    {
     "data": {
      "text/plain": [
       "(20, int, 140703530495000, '0x7ff817f42c18')"
      ]
     },
     "execution_count": 15,
     "metadata": {},
     "output_type": "execute_result"
    }
   ],
   "source": [
    "p=20\n",
    "q=20\n",
    "r=q\n",
    "\n",
    "p,type(p),id(p),hex(id(p))"
   ]
  },
  {
   "cell_type": "code",
   "execution_count": 16,
   "id": "0c3fba67-be8d-4006-906f-fdcd2c488be6",
   "metadata": {},
   "outputs": [
    {
     "data": {
      "text/plain": [
       "(20, int, 140703530495000, '0x7ff817f42c18')"
      ]
     },
     "execution_count": 16,
     "metadata": {},
     "output_type": "execute_result"
    }
   ],
   "source": [
    "q,type(q),id(q),hex(id(q))"
   ]
  },
  {
   "cell_type": "code",
   "execution_count": 17,
   "id": "f0e25852-1fe9-40de-8d44-87e7a0cf0192",
   "metadata": {},
   "outputs": [
    {
     "data": {
      "text/plain": [
       "(20, int, 140703530495000, '0x7ff817f42c18')"
      ]
     },
     "execution_count": 17,
     "metadata": {},
     "output_type": "execute_result"
    }
   ],
   "source": [
    "r,type(r), id(r), hex(id(r))"
   ]
  },
  {
   "cell_type": "code",
   "execution_count": null,
   "id": "b66c5eb7-1b16-4fd7-a5ae-f83f7b72a6ed",
   "metadata": {},
   "outputs": [],
   "source": []
  },
  {
   "cell_type": "code",
   "execution_count": 18,
   "id": "cc11cfed-0f2a-434c-a365-9958c61bd355",
   "metadata": {},
   "outputs": [
    {
     "data": {
      "text/plain": [
       "35"
      ]
     },
     "execution_count": 18,
     "metadata": {},
     "output_type": "execute_result"
    }
   ],
   "source": [
    "p=20\n",
    "p=p+15      #variable overwriting\n",
    "p"
   ]
  },
  {
   "cell_type": "code",
   "execution_count": null,
   "id": "b050bbf1-86d7-4685-9410-892823630230",
   "metadata": {},
   "outputs": [],
   "source": []
  },
  {
   "cell_type": "markdown",
   "id": "e0608d7c-822b-44c3-8304-a85f490ea1ae",
   "metadata": {},
   "source": [
    "# Variable assignment"
   ]
  },
  {
   "cell_type": "code",
   "execution_count": 19,
   "id": "f55d5ccf-bdad-47d6-bfaf-76be8f62a33c",
   "metadata": {},
   "outputs": [
    {
     "name": "stdout",
     "output_type": "stream",
     "text": [
      "10\n",
      "2.57\n",
      "python language\n"
     ]
    }
   ],
   "source": [
    "intvar=10\n",
    "floatvar=2.57\n",
    "strvar=\"python language\"\n",
    "\n",
    "print(intvar)\n",
    "print(floatvar)\n",
    "print(strvar)"
   ]
  },
  {
   "cell_type": "code",
   "execution_count": null,
   "id": "5ed02811-3928-47a2-aa99-1adb070e69fa",
   "metadata": {},
   "outputs": [],
   "source": []
  },
  {
   "cell_type": "markdown",
   "id": "52cb32ba-350e-47e5-90b4-07e00cc55f66",
   "metadata": {},
   "source": [
    "# Multiple assignments"
   ]
  },
  {
   "cell_type": "code",
   "execution_count": 20,
   "id": "6ec4a396-6543-40f1-ab4e-ad64e6011533",
   "metadata": {},
   "outputs": [
    {
     "name": "stdout",
     "output_type": "stream",
     "text": [
      "15\n",
      "5.89\n",
      "nit ameerpet\n"
     ]
    }
   ],
   "source": [
    "intvar,floatvar,strvar=15,5.89,'nit ameerpet'\n",
    "print(intvar)\n",
    "print(floatvar)\n",
    "print(strvar)"
   ]
  },
  {
   "cell_type": "code",
   "execution_count": null,
   "id": "5e05ec86-4120-4a79-8b76-b566dd7ce8ab",
   "metadata": {},
   "outputs": [],
   "source": []
  },
  {
   "cell_type": "markdown",
   "id": "1be663ba-cac5-48af-a860-b4e78e5631b3",
   "metadata": {},
   "source": [
    "# Datatypes"
   ]
  },
  {
   "cell_type": "code",
   "execution_count": 22,
   "id": "fdd433e6-4fc9-4f7a-b5b8-2c65f406f800",
   "metadata": {},
   "outputs": [
    {
     "name": "stdout",
     "output_type": "stream",
     "text": [
      "10\n",
      "<class 'int'>\n",
      "28\n",
      "10 is integer? True\n"
     ]
    }
   ],
   "source": [
    "val1 = 10\n",
    "\n",
    "print(val1)\n",
    "print(type(val1))\n",
    "print(sys.getsizeof(val1))    #size of integer object in bytes\n",
    "print(val1,\"is integer?\", isinstance(val1,int))   #val1 is an instance of integer"
   ]
  },
  {
   "cell_type": "code",
   "execution_count": 25,
   "id": "b9ad8d55-827a-4a17-a1fd-c6a22df91002",
   "metadata": {},
   "outputs": [
    {
     "name": "stdout",
     "output_type": "stream",
     "text": [
      "76.84\n",
      "<class 'float'>\n",
      "24\n",
      "10 is float? True\n"
     ]
    }
   ],
   "source": [
    "val2 = 76.84\n",
    "\n",
    "print(val2)\n",
    "print(type(val2))\n",
    "print(sys.getsizeof(val2))    \n",
    "print(val1,\"is float?\", isinstance(val2,float)) "
   ]
  },
  {
   "cell_type": "code",
   "execution_count": 26,
   "id": "b62ec0a7-05f5-479b-9036-7095759cff83",
   "metadata": {},
   "outputs": [
    {
     "name": "stdout",
     "output_type": "stream",
     "text": [
      "(7+9j)\n",
      "<class 'complex'>\n",
      "32\n",
      "10 is complex? True\n"
     ]
    }
   ],
   "source": [
    "val3 = 7+9j\n",
    "\n",
    "print(val3)\n",
    "print(type(val3))\n",
    "print(sys.getsizeof(val3))    \n",
    "print(val1,\"is complex?\", isinstance(val3,complex)) "
   ]
  },
  {
   "cell_type": "code",
   "execution_count": null,
   "id": "89dbf562-119e-4e14-a574-be6a1f041146",
   "metadata": {},
   "outputs": [],
   "source": []
  },
  {
   "cell_type": "code",
   "execution_count": 27,
   "id": "c95f7148-3f9f-4808-a5b8-63ce0de214b1",
   "metadata": {},
   "outputs": [
    {
     "data": {
      "text/plain": [
       "28"
      ]
     },
     "execution_count": 27,
     "metadata": {},
     "output_type": "execute_result"
    }
   ],
   "source": [
    "sys.getsizeof(int())"
   ]
  },
  {
   "cell_type": "code",
   "execution_count": 28,
   "id": "fedcc403-1b50-442e-9814-2fc928095647",
   "metadata": {},
   "outputs": [
    {
     "data": {
      "text/plain": [
       "24"
      ]
     },
     "execution_count": 28,
     "metadata": {},
     "output_type": "execute_result"
    }
   ],
   "source": [
    "sys.getsizeof(float())"
   ]
  },
  {
   "cell_type": "code",
   "execution_count": 30,
   "id": "2425207a-bf4e-4ada-9d3f-23d84c9e1448",
   "metadata": {},
   "outputs": [
    {
     "data": {
      "text/plain": [
       "32"
      ]
     },
     "execution_count": 30,
     "metadata": {},
     "output_type": "execute_result"
    }
   ],
   "source": [
    "sys.getsizeof(complex())"
   ]
  },
  {
   "cell_type": "code",
   "execution_count": 31,
   "id": "613dbb33-20fc-403a-912c-d27bfd90d9d0",
   "metadata": {},
   "outputs": [
    {
     "data": {
      "text/plain": [
       "28"
      ]
     },
     "execution_count": 31,
     "metadata": {},
     "output_type": "execute_result"
    }
   ],
   "source": [
    "sys.getsizeof(bool())"
   ]
  },
  {
   "cell_type": "code",
   "execution_count": null,
   "id": "3e4b81cf-a5c2-412d-a3e0-92ca56f6c185",
   "metadata": {},
   "outputs": [],
   "source": []
  },
  {
   "cell_type": "markdown",
   "id": "0d6e1b90-49d7-48c8-8404-7ed206347b72",
   "metadata": {},
   "source": [
    "# Boolean"
   ]
  },
  {
   "cell_type": "code",
   "execution_count": 32,
   "id": "7181e8c3-0604-40bc-ad4a-70a162807316",
   "metadata": {},
   "outputs": [],
   "source": [
    "bool1=True\n",
    "bool2=False"
   ]
  },
  {
   "cell_type": "code",
   "execution_count": 33,
   "id": "684e4b10-0331-4cee-bcbb-1d54720c4874",
   "metadata": {},
   "outputs": [
    {
     "name": "stdout",
     "output_type": "stream",
     "text": [
      "<class 'bool'>\n",
      "<class 'bool'>\n"
     ]
    }
   ],
   "source": [
    "print(type(bool1))\n",
    "print(type(bool2))"
   ]
  },
  {
   "cell_type": "code",
   "execution_count": 35,
   "id": "e98987f2-44c3-4a84-a214-d4d163b80af2",
   "metadata": {},
   "outputs": [
    {
     "data": {
      "text/plain": [
       "True"
      ]
     },
     "execution_count": 35,
     "metadata": {},
     "output_type": "execute_result"
    }
   ],
   "source": [
    "isinstance(bool1,bool)"
   ]
  },
  {
   "cell_type": "code",
   "execution_count": 36,
   "id": "04eca475-899d-4b86-89d3-a69b8b34fe09",
   "metadata": {},
   "outputs": [
    {
     "data": {
      "text/plain": [
       "True"
      ]
     },
     "execution_count": 36,
     "metadata": {},
     "output_type": "execute_result"
    }
   ],
   "source": [
    "isinstance(bool2,bool)"
   ]
  },
  {
   "cell_type": "code",
   "execution_count": 37,
   "id": "1cbf829a-f165-468e-8bcd-b73d5cf72959",
   "metadata": {},
   "outputs": [
    {
     "data": {
      "text/plain": [
       "False"
      ]
     },
     "execution_count": 37,
     "metadata": {},
     "output_type": "execute_result"
    }
   ],
   "source": [
    "bool(0)"
   ]
  },
  {
   "cell_type": "code",
   "execution_count": 38,
   "id": "aac33001-629d-4bb1-be47-91fc17a5ccf8",
   "metadata": {},
   "outputs": [
    {
     "data": {
      "text/plain": [
       "True"
      ]
     },
     "execution_count": 38,
     "metadata": {},
     "output_type": "execute_result"
    }
   ],
   "source": [
    "bool(1)"
   ]
  },
  {
   "cell_type": "code",
   "execution_count": 39,
   "id": "c227358e-78c7-493d-9756-abf934d68a15",
   "metadata": {},
   "outputs": [
    {
     "data": {
      "text/plain": [
       "False"
      ]
     },
     "execution_count": 39,
     "metadata": {},
     "output_type": "execute_result"
    }
   ],
   "source": [
    "bool(None)"
   ]
  },
  {
   "cell_type": "code",
   "execution_count": 40,
   "id": "36f08713-093a-4059-bc69-4410ef8bcc7a",
   "metadata": {},
   "outputs": [
    {
     "data": {
      "text/plain": [
       "False"
      ]
     },
     "execution_count": 40,
     "metadata": {},
     "output_type": "execute_result"
    }
   ],
   "source": [
    "bool(False)"
   ]
  },
  {
   "cell_type": "code",
   "execution_count": 41,
   "id": "f7d716ed-308c-4c30-ae9d-9842552bc57e",
   "metadata": {},
   "outputs": [
    {
     "data": {
      "text/plain": [
       "True"
      ]
     },
     "execution_count": 41,
     "metadata": {},
     "output_type": "execute_result"
    }
   ],
   "source": [
    "bool(True)"
   ]
  },
  {
   "cell_type": "code",
   "execution_count": null,
   "id": "768cf344-6633-4e21-99ca-c123b0859554",
   "metadata": {},
   "outputs": [],
   "source": []
  },
  {
   "cell_type": "markdown",
   "id": "c1cb087c-8345-43ff-ab44-d9d91f95f714",
   "metadata": {},
   "source": [
    "# Strings"
   ]
  },
  {
   "cell_type": "code",
   "execution_count": 42,
   "id": "c8eeecdf-078b-4ddf-9c03-7d640596c8df",
   "metadata": {},
   "outputs": [
    {
     "name": "stdout",
     "output_type": "stream",
     "text": [
      "Hello Python\n"
     ]
    }
   ],
   "source": [
    "str1=\"Hello Python\"\n",
    "print(str1)"
   ]
  },
  {
   "cell_type": "code",
   "execution_count": 43,
   "id": "1393da70-7143-43a9-aaa8-1792dded14a8",
   "metadata": {},
   "outputs": [
    {
     "name": "stdout",
     "output_type": "stream",
     "text": [
      "Hello World\n"
     ]
    }
   ],
   "source": [
    "mystr ='Hello World'    # string in single quotes\n",
    "print(mystr)"
   ]
  },
  {
   "cell_type": "code",
   "execution_count": 45,
   "id": "2fc8b372-5b51-4df8-a0fc-65a7986e3e8f",
   "metadata": {},
   "outputs": [
    {
     "name": "stdout",
     "output_type": "stream",
     "text": [
      "Hello World\n"
     ]
    }
   ],
   "source": [
    "mystr=\"Hello World\"    # string in double quotes\n",
    "print(mystr)"
   ]
  },
  {
   "cell_type": "code",
   "execution_count": 47,
   "id": "133618e7-9241-4dd5-bcd4-b027678678f3",
   "metadata": {},
   "outputs": [
    {
     "name": "stdout",
     "output_type": "stream",
     "text": [
      "Hello      \n",
      "world\n"
     ]
    }
   ],
   "source": [
    "mystr = \"\"\"Hello      \n",
    "world\"\"\"              # string in triple quotes\n",
    "print(mystr)"
   ]
  },
  {
   "cell_type": "code",
   "execution_count": 53,
   "id": "1c1037c3-1905-4d9d-9a0b-f270fe7b4793",
   "metadata": {},
   "outputs": [
    {
     "name": "stdout",
     "output_type": "stream",
     "text": [
      "Happy monday everyone \n"
     ]
    }
   ],
   "source": [
    "mystr=('Happy '\n",
    "       'monday '\n",
    "       'everyone ')\n",
    "print(mystr)"
   ]
  },
  {
   "cell_type": "code",
   "execution_count": 57,
   "id": "4b295c4a-f2d0-43bf-8c64-a33e58a847be",
   "metadata": {},
   "outputs": [
    {
     "name": "stdout",
     "output_type": "stream",
     "text": [
      "Woohoo Woohoo Woohoo Woohoo Woohoo \n"
     ]
    }
   ],
   "source": [
    "mystr2='Woohoo '\n",
    "mystr2= mystr2*5\n",
    "print(mystr2)"
   ]
  },
  {
   "cell_type": "code",
   "execution_count": 58,
   "id": "3f0f9e96-49c7-40de-867a-f60a677a0368",
   "metadata": {},
   "outputs": [
    {
     "data": {
      "text/plain": [
       "35"
      ]
     },
     "execution_count": 58,
     "metadata": {},
     "output_type": "execute_result"
    }
   ],
   "source": [
    "len(mystr2)"
   ]
  },
  {
   "cell_type": "code",
   "execution_count": null,
   "id": "825d17b3-6963-4aac-a419-1000984bc710",
   "metadata": {},
   "outputs": [],
   "source": []
  },
  {
   "cell_type": "markdown",
   "id": "c26954dc-11d7-4bc9-a8ec-8d1e68d87e82",
   "metadata": {},
   "source": [
    "# String indexing"
   ]
  },
  {
   "cell_type": "code",
   "execution_count": 59,
   "id": "609a5093-7c1a-41af-96d8-477e8f634e9b",
   "metadata": {},
   "outputs": [
    {
     "data": {
      "text/plain": [
       "'Hello Python'"
      ]
     },
     "execution_count": 59,
     "metadata": {},
     "output_type": "execute_result"
    }
   ],
   "source": [
    "str1"
   ]
  },
  {
   "cell_type": "code",
   "execution_count": 60,
   "id": "b905c1a1-09ab-4ea2-bded-9759cc82e44c",
   "metadata": {},
   "outputs": [
    {
     "data": {
      "text/plain": [
       "'H'"
      ]
     },
     "execution_count": 60,
     "metadata": {},
     "output_type": "execute_result"
    }
   ],
   "source": [
    "str1[0]"
   ]
  },
  {
   "cell_type": "code",
   "execution_count": 65,
   "id": "594f6571-b94b-44ff-ac6b-d422632f104f",
   "metadata": {},
   "outputs": [
    {
     "data": {
      "text/plain": [
       "'n'"
      ]
     },
     "execution_count": 65,
     "metadata": {},
     "output_type": "execute_result"
    }
   ],
   "source": [
    "str1[len(str1)-1]"
   ]
  },
  {
   "cell_type": "code",
   "execution_count": 66,
   "id": "3f6d727c-8b38-49cd-8238-0dd42877b864",
   "metadata": {},
   "outputs": [
    {
     "data": {
      "text/plain": [
       "'n'"
      ]
     },
     "execution_count": 66,
     "metadata": {},
     "output_type": "execute_result"
    }
   ],
   "source": [
    "str1[-1]"
   ]
  },
  {
   "cell_type": "code",
   "execution_count": 67,
   "id": "c9289cf6-ee4f-4c83-816c-ca761a519853",
   "metadata": {},
   "outputs": [
    {
     "data": {
      "text/plain": [
       "'P'"
      ]
     },
     "execution_count": 67,
     "metadata": {},
     "output_type": "execute_result"
    }
   ],
   "source": [
    "str1[6]"
   ]
  },
  {
   "cell_type": "code",
   "execution_count": 68,
   "id": "3c19fd1e-2f37-4a1a-bc5b-12bd3b9b12a1",
   "metadata": {},
   "outputs": [
    {
     "data": {
      "text/plain": [
       "'o'"
      ]
     },
     "execution_count": 68,
     "metadata": {},
     "output_type": "execute_result"
    }
   ],
   "source": [
    "str1[10]"
   ]
  },
  {
   "cell_type": "code",
   "execution_count": 69,
   "id": "444bd8c0-a47e-4ea5-bde6-c0cc2db74f73",
   "metadata": {},
   "outputs": [
    {
     "data": {
      "text/plain": [
       "' '"
      ]
     },
     "execution_count": 69,
     "metadata": {},
     "output_type": "execute_result"
    }
   ],
   "source": [
    "str1[5]"
   ]
  },
  {
   "cell_type": "code",
   "execution_count": null,
   "id": "ca6d8dd6-f8aa-4e0d-b4b1-0938f51b6330",
   "metadata": {},
   "outputs": [],
   "source": []
  },
  {
   "cell_type": "markdown",
   "id": "c3299d64-f379-409d-aacb-fe5346e6a120",
   "metadata": {},
   "source": [
    "# String Slicing"
   ]
  },
  {
   "cell_type": "code",
   "execution_count": 70,
   "id": "e12f5285-a970-4ec4-9193-19bc7b9fcb78",
   "metadata": {},
   "outputs": [
    {
     "data": {
      "text/plain": [
       "'Hello'"
      ]
     },
     "execution_count": 70,
     "metadata": {},
     "output_type": "execute_result"
    }
   ],
   "source": [
    "str1[0:5]"
   ]
  },
  {
   "cell_type": "code",
   "execution_count": 71,
   "id": "dde85907-4084-4031-a40b-b876d2e1ad87",
   "metadata": {},
   "outputs": [
    {
     "data": {
      "text/plain": [
       "'Python'"
      ]
     },
     "execution_count": 71,
     "metadata": {},
     "output_type": "execute_result"
    }
   ],
   "source": [
    "str1[6:12]"
   ]
  },
  {
   "cell_type": "code",
   "execution_count": 73,
   "id": "3a3de00f-b7eb-4b1c-b3b2-6a9b4d7ec877",
   "metadata": {},
   "outputs": [
    {
     "data": {
      "text/plain": [
       "'thon'"
      ]
     },
     "execution_count": 73,
     "metadata": {},
     "output_type": "execute_result"
    }
   ],
   "source": [
    "str1[-4:]"
   ]
  },
  {
   "cell_type": "code",
   "execution_count": 75,
   "id": "50a23633-749d-4cb3-aef0-6ad23e108c4e",
   "metadata": {},
   "outputs": [
    {
     "data": {
      "text/plain": [
       "'Hello '"
      ]
     },
     "execution_count": 75,
     "metadata": {},
     "output_type": "execute_result"
    }
   ],
   "source": [
    "str1[:6]"
   ]
  },
  {
   "cell_type": "code",
   "execution_count": null,
   "id": "84f31870-5afc-45f2-84ff-901b64f438cc",
   "metadata": {},
   "outputs": [],
   "source": []
  },
  {
   "cell_type": "markdown",
   "id": "4c69ec09-22eb-40cf-a066-0dbc83493077",
   "metadata": {},
   "source": [
    "# Update & Delete string"
   ]
  },
  {
   "cell_type": "code",
   "execution_count": 78,
   "id": "a44fd366-2b2d-4aef-a513-dfe21f21024c",
   "metadata": {},
   "outputs": [
    {
     "data": {
      "text/plain": [
       "'Hello Python'"
      ]
     },
     "execution_count": 78,
     "metadata": {},
     "output_type": "execute_result"
    }
   ],
   "source": [
    "str1"
   ]
  },
  {
   "cell_type": "code",
   "execution_count": 80,
   "id": "62ee6ea8-76df-467a-a768-55da942b46bd",
   "metadata": {},
   "outputs": [
    {
     "ename": "TypeError",
     "evalue": "'str' object does not support item assignment",
     "output_type": "error",
     "traceback": [
      "\u001b[1;31m---------------------------------------------------------------------------\u001b[0m",
      "\u001b[1;31mTypeError\u001b[0m                                 Traceback (most recent call last)",
      "Cell \u001b[1;32mIn[80], line 1\u001b[0m\n\u001b[1;32m----> 1\u001b[0m str1[\u001b[38;5;241m0\u001b[39m:\u001b[38;5;241m5\u001b[39m] \u001b[38;5;241m=\u001b[39m \u001b[38;5;124m'\u001b[39m\u001b[38;5;124mHolaa\u001b[39m\u001b[38;5;124m'\u001b[39m\n",
      "\u001b[1;31mTypeError\u001b[0m: 'str' object does not support item assignment"
     ]
    }
   ],
   "source": [
    "str1[0:5] = 'Holaa'   #strings are immutable"
   ]
  },
  {
   "cell_type": "code",
   "execution_count": 81,
   "id": "1acd8e87-a2c4-4a3e-b7fa-a82a07738214",
   "metadata": {},
   "outputs": [
    {
     "ename": "NameError",
     "evalue": "name 'str1' is not defined",
     "output_type": "error",
     "traceback": [
      "\u001b[1;31m---------------------------------------------------------------------------\u001b[0m",
      "\u001b[1;31mNameError\u001b[0m                                 Traceback (most recent call last)",
      "Cell \u001b[1;32mIn[81], line 2\u001b[0m\n\u001b[0;32m      1\u001b[0m \u001b[38;5;28;01mdel\u001b[39;00m str1\n\u001b[1;32m----> 2\u001b[0m \u001b[38;5;28mprint\u001b[39m(str1)\n",
      "\u001b[1;31mNameError\u001b[0m: name 'str1' is not defined"
     ]
    }
   ],
   "source": [
    "del str1\n",
    "print(str1)   #Delete a string"
   ]
  },
  {
   "cell_type": "code",
   "execution_count": null,
   "id": "21d712d0-1481-43ac-ae73-4bc7d966f19e",
   "metadata": {},
   "outputs": [],
   "source": []
  },
  {
   "cell_type": "markdown",
   "id": "e9c5cff8-58c3-472f-8a97-ab76acaa88b3",
   "metadata": {},
   "source": [
    "# String concantation"
   ]
  },
  {
   "cell_type": "code",
   "execution_count": 82,
   "id": "6a04ac50-86b8-4da6-9b23-7d5d7a5eb391",
   "metadata": {},
   "outputs": [
    {
     "name": "stdout",
     "output_type": "stream",
     "text": [
      "HelloAsif\n"
     ]
    }
   ],
   "source": [
    "s1 = \"Hello\"\n",
    "s2 = \"Asif\"\n",
    "s3 = s1+s2\n",
    "print(s3)"
   ]
  },
  {
   "cell_type": "code",
   "execution_count": null,
   "id": "efe9b297-e124-4df8-9885-033e376a2112",
   "metadata": {},
   "outputs": [],
   "source": []
  },
  {
   "cell_type": "code",
   "execution_count": null,
   "id": "18ca383f-a7de-4e37-a074-814a1efcf413",
   "metadata": {},
   "outputs": [],
   "source": []
  },
  {
   "cell_type": "code",
   "execution_count": null,
   "id": "5fe2d190-0175-4799-92cd-99222b722f4b",
   "metadata": {},
   "outputs": [],
   "source": []
  }
 ],
 "metadata": {
  "kernelspec": {
   "display_name": "Python [conda env:base] *",
   "language": "python",
   "name": "conda-base-py"
  },
  "language_info": {
   "codemirror_mode": {
    "name": "ipython",
    "version": 3
   },
   "file_extension": ".py",
   "mimetype": "text/x-python",
   "name": "python",
   "nbconvert_exporter": "python",
   "pygments_lexer": "ipython3",
   "version": "3.12.7"
  }
 },
 "nbformat": 4,
 "nbformat_minor": 5
}
