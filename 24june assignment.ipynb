{
 "cells": [
  {
   "cell_type": "markdown",
   "id": "31473e80-0b9c-46d8-8a16-6086c33ed19f",
   "metadata": {},
   "source": [
    "# lstrip and strip functions"
   ]
  },
  {
   "cell_type": "code",
   "execution_count": 136,
   "id": "adcd539d-ce65-4b92-a0b3-c06319a770d0",
   "metadata": {},
   "outputs": [
    {
     "data": {
      "text/plain": [
       "'abc def ghi '"
      ]
     },
     "execution_count": 136,
     "metadata": {},
     "output_type": "execute_result"
    }
   ],
   "source": [
    "txt = \"  abc def ghi \"\n",
    "txt.lstrip()\n",
    "\n",
    "# txt.lstrip()` removes whitespace characters from the beginning (left side) of a string."
   ]
  },
  {
   "cell_type": "code",
   "execution_count": 137,
   "id": "849a1c14-62f3-4854-bf68-06e87db44341",
   "metadata": {},
   "outputs": [
    {
     "data": {
      "text/plain": [
       "'abc def ghi'"
      ]
     },
     "execution_count": 137,
     "metadata": {},
     "output_type": "execute_result"
    }
   ],
   "source": [
    "txt = \"   abc def ghi  \"\n",
    "txt.strip()\n",
    "\n",
    "#`txt.strip()` removes whitespace characters from both the beginning and end of a string"
   ]
  },
  {
   "cell_type": "code",
   "execution_count": null,
   "id": "bdae7a4d-e196-4631-8e00-f8b5892ecdb3",
   "metadata": {},
   "outputs": [],
   "source": []
  },
  {
   "cell_type": "markdown",
   "id": "757792f3-2a7f-4397-9298-0b71cdaca631",
   "metadata": {},
   "source": [
    "# Using escape character"
   ]
  },
  {
   "cell_type": "code",
   "execution_count": 138,
   "id": "ddcfc4b2-591d-4f0b-895c-9ab2d06c4123",
   "metadata": {},
   "outputs": [
    {
     "ename": "SyntaxError",
     "evalue": "invalid syntax (3068539012.py, line 3)",
     "output_type": "error",
     "traceback": [
      "\u001b[1;36m  Cell \u001b[1;32mIn[138], line 3\u001b[1;36m\u001b[0m\n\u001b[1;33m    mystr = \"My favorite TV series is \"Game of Thrones\"\"\u001b[0m\n\u001b[1;37m                                       ^\u001b[0m\n\u001b[1;31mSyntaxError\u001b[0m\u001b[1;31m:\u001b[0m invalid syntax\n"
     ]
    }
   ],
   "source": [
    "# using double quotes in the string isnot allowed\n",
    "\n",
    "mystr = \"My favorite TV series is \"Game of Thrones\"\""
   ]
  },
  {
   "cell_type": "code",
   "execution_count": null,
   "id": "ea6e1f94-21ec-465d-96f7-309d8d022b2a",
   "metadata": {},
   "outputs": [],
   "source": []
  },
  {
   "cell_type": "code",
   "execution_count": null,
   "id": "298f0809-2466-49f4-bfa1-50d40f242276",
   "metadata": {},
   "outputs": [],
   "source": [
    "# using escape character( \\ ) to allow illegal characters\n",
    "\n",
    "mystr = \"My favorite TV series is \\\"Game of Thrones\\\"\"\n",
    "print(mystr)"
   ]
  },
  {
   "cell_type": "code",
   "execution_count": null,
   "id": "41c180c4-def9-4831-b8e1-7e83bb774f08",
   "metadata": {},
   "outputs": [],
   "source": []
  },
  {
   "cell_type": "markdown",
   "id": "358e7274-5cb2-44c4-bee4-5cfdaa45d55b",
   "metadata": {},
   "source": [
    "# List"
   ]
  },
  {
   "cell_type": "code",
   "execution_count": null,
   "id": "161e5526-5759-46da-a08b-e44ce8e889be",
   "metadata": {},
   "outputs": [],
   "source": [
    "list1 = []  # empty list"
   ]
  },
  {
   "cell_type": "code",
   "execution_count": null,
   "id": "89bd11e2-40d1-4f22-9010-94958dabb872",
   "metadata": {},
   "outputs": [],
   "source": [
    "print(list1)\n",
    "print(type(list1))\n",
    "print(len(list1))"
   ]
  },
  {
   "cell_type": "code",
   "execution_count": null,
   "id": "dc6c6ca2-c422-476f-9629-9c01720ee92e",
   "metadata": {},
   "outputs": [],
   "source": []
  },
  {
   "cell_type": "code",
   "execution_count": null,
   "id": "05ce5993-e866-4bc1-950f-5cf2e167e9ac",
   "metadata": {},
   "outputs": [],
   "source": [
    "list2 = [10,30,60]   #integer list"
   ]
  },
  {
   "cell_type": "code",
   "execution_count": null,
   "id": "d67a5c2f-37f2-49fb-b8a3-e1f2947f2bb6",
   "metadata": {},
   "outputs": [],
   "source": [
    "list3 = [10.77,30.56,59.41]  # list of float"
   ]
  },
  {
   "cell_type": "code",
   "execution_count": null,
   "id": "523a87c8-df33-438b-b4e5-6f4d34f9fd75",
   "metadata": {},
   "outputs": [],
   "source": [
    "list4 = ['one', 'two', 'three']   #list of strings"
   ]
  },
  {
   "cell_type": "code",
   "execution_count": null,
   "id": "99961401-ee23-42a0-8217-f57c1a5cb931",
   "metadata": {},
   "outputs": [],
   "source": [
    "list5 = ['Nit', 25, [50,100],[40,50,60]]  \n",
    "\n",
    "# NESTED LISTS\n"
   ]
  },
  {
   "cell_type": "code",
   "execution_count": null,
   "id": "ba0556fd-9cb3-44c2-ad38-19d99e0512d2",
   "metadata": {},
   "outputs": [],
   "source": [
    "list6 = [100,'nit',74.56]    \n",
    "\n",
    "#List  of mixed datatypes"
   ]
  },
  {
   "cell_type": "code",
   "execution_count": null,
   "id": "2e581b88-603a-4a98-92ca-2aff5f7c754c",
   "metadata": {},
   "outputs": [],
   "source": [
    "list7 = ['nit',25,[50,150],[10,20,30],{'John','David'}]\n",
    "#Nested list"
   ]
  },
  {
   "cell_type": "code",
   "execution_count": null,
   "id": "20b30ed4-15a3-4967-b218-548e794c49e1",
   "metadata": {},
   "outputs": [],
   "source": [
    "len(list7)"
   ]
  },
  {
   "cell_type": "code",
   "execution_count": null,
   "id": "0f5fbc13-2089-4d6b-9f75-7f08d9b7e965",
   "metadata": {},
   "outputs": [],
   "source": []
  },
  {
   "cell_type": "markdown",
   "id": "89bafb45-b793-41ed-a5bc-967b45769044",
   "metadata": {},
   "source": [
    "# List indexing"
   ]
  },
  {
   "cell_type": "code",
   "execution_count": null,
   "id": "21ba60d8-7831-4bfc-aa40-c9aa398f2e85",
   "metadata": {},
   "outputs": [],
   "source": [
    "list2[0]"
   ]
  },
  {
   "cell_type": "code",
   "execution_count": null,
   "id": "a2feabd1-ba70-4a87-9bb9-feb436d91050",
   "metadata": {},
   "outputs": [],
   "source": [
    "list6[1]"
   ]
  },
  {
   "cell_type": "code",
   "execution_count": null,
   "id": "a2f14f92-0198-4a61-8015-4938f13510aa",
   "metadata": {},
   "outputs": [],
   "source": [
    "list7[3][2]  # Nested list indexing"
   ]
  },
  {
   "cell_type": "code",
   "execution_count": null,
   "id": "ca363aee-3946-4e70-947a-4653eb5fea22",
   "metadata": {},
   "outputs": [],
   "source": [
    "list5[-1]"
   ]
  },
  {
   "cell_type": "code",
   "execution_count": null,
   "id": "a3d9ce2a-9914-4d9d-a484-0c10d5a547d9",
   "metadata": {},
   "outputs": [],
   "source": []
  },
  {
   "cell_type": "markdown",
   "id": "d87d70c4-feab-497c-89e3-9911871cc4c5",
   "metadata": {},
   "source": [
    "# List slicing"
   ]
  },
  {
   "cell_type": "code",
   "execution_count": null,
   "id": "0f9435ad-5430-4d27-8253-414d0fed8023",
   "metadata": {},
   "outputs": [],
   "source": [
    "mylist = ['one','two','three','four','five','six','seven','eight']"
   ]
  },
  {
   "cell_type": "code",
   "execution_count": null,
   "id": "723c251e-42af-4c8b-a314-9e7eaba29c13",
   "metadata": {},
   "outputs": [],
   "source": [
    "mylist[:3]"
   ]
  },
  {
   "cell_type": "code",
   "execution_count": null,
   "id": "cbe19a99-3fb3-4376-99af-aa5668a13812",
   "metadata": {},
   "outputs": [],
   "source": [
    "mylist[5:]"
   ]
  },
  {
   "cell_type": "code",
   "execution_count": null,
   "id": "42cc9f06-289b-41dc-9ad8-4560974555ca",
   "metadata": {},
   "outputs": [],
   "source": [
    "mylist[2:5]"
   ]
  },
  {
   "cell_type": "code",
   "execution_count": null,
   "id": "9906f27c-8da1-455a-8f1e-1a794b6c1707",
   "metadata": {},
   "outputs": [],
   "source": [
    "mylist[:-3]"
   ]
  },
  {
   "cell_type": "code",
   "execution_count": null,
   "id": "b2541d73-d13e-44f2-9f1a-166160a86343",
   "metadata": {},
   "outputs": [],
   "source": [
    "mylist[-6:]"
   ]
  },
  {
   "cell_type": "code",
   "execution_count": null,
   "id": "e066f11d-249e-4cfe-a965-b0bb706d2390",
   "metadata": {},
   "outputs": [],
   "source": [
    "mylist[-5]"
   ]
  },
  {
   "cell_type": "code",
   "execution_count": null,
   "id": "983cc120-78f2-4d00-85cc-33006cc12f3f",
   "metadata": {},
   "outputs": [],
   "source": [
    "mylist[:]"
   ]
  },
  {
   "cell_type": "code",
   "execution_count": null,
   "id": "f95eb826-f08a-4805-bce5-f9baee335356",
   "metadata": {},
   "outputs": [],
   "source": []
  },
  {
   "cell_type": "markdown",
   "id": "60156c58-c25b-4e32-b653-02626d75751b",
   "metadata": {},
   "source": [
    "# Add, Remove & changes to list"
   ]
  },
  {
   "cell_type": "code",
   "execution_count": null,
   "id": "ab9cbc99-bbb3-4214-be73-9d071d1498a8",
   "metadata": {},
   "outputs": [],
   "source": [
    "mylist"
   ]
  },
  {
   "cell_type": "code",
   "execution_count": null,
   "id": "e46f806d-314b-40e1-b3c1-ce7a41f8d402",
   "metadata": {},
   "outputs": [],
   "source": [
    "mylist.append('nine')\n",
    "\n",
    "# appends/adds 'nine' at the end of the list"
   ]
  },
  {
   "cell_type": "code",
   "execution_count": null,
   "id": "2dccc83b-eaa7-4d5f-b791-3ec1fe39d47a",
   "metadata": {},
   "outputs": [],
   "source": [
    "print(mylist)"
   ]
  },
  {
   "cell_type": "code",
   "execution_count": null,
   "id": "ca79b60c-522e-488a-a238-6826a4d66c4b",
   "metadata": {},
   "outputs": [],
   "source": [
    "mylist.insert(9,'ten')\n",
    "print(mylist)\n",
    "mylist"
   ]
  },
  {
   "cell_type": "code",
   "execution_count": null,
   "id": "ad52f25b-8d02-4ea1-a404-12d91254aba8",
   "metadata": {},
   "outputs": [],
   "source": [
    "mylist.insert(1,'ONE')"
   ]
  },
  {
   "cell_type": "code",
   "execution_count": null,
   "id": "96285fac-b896-4d5d-bbd0-05baa215ca9a",
   "metadata": {},
   "outputs": [],
   "source": [
    "print(mylist)"
   ]
  },
  {
   "cell_type": "code",
   "execution_count": null,
   "id": "36e17104-bece-4eaa-b9d3-1ac1b4ae0518",
   "metadata": {},
   "outputs": [],
   "source": [
    "mylist.remove('ONE')\n",
    "mylist"
   ]
  },
  {
   "cell_type": "code",
   "execution_count": null,
   "id": "1287e656-58ed-4511-ad7b-3a0b97fad022",
   "metadata": {},
   "outputs": [],
   "source": [
    "mylist.pop()\n",
    "\n",
    "# Removes last item"
   ]
  },
  {
   "cell_type": "code",
   "execution_count": null,
   "id": "4d54ae3a-ffd5-4778-b12a-cabe9ff0fd1d",
   "metadata": {},
   "outputs": [],
   "source": [
    "mylist"
   ]
  },
  {
   "cell_type": "code",
   "execution_count": null,
   "id": "4de79852-70b9-4405-a208-7395af0831b5",
   "metadata": {},
   "outputs": [],
   "source": [
    "mylist.pop(4)\n",
    "#removes 4th index item"
   ]
  },
  {
   "cell_type": "code",
   "execution_count": null,
   "id": "1b5fbde9-e805-45d2-823a-3b57ccb35d24",
   "metadata": {},
   "outputs": [],
   "source": [
    "mylist"
   ]
  },
  {
   "cell_type": "code",
   "execution_count": null,
   "id": "4fcb7155-2155-4786-96dd-1abd0fc434f5",
   "metadata": {},
   "outputs": [],
   "source": [
    "mylist.pop(7)\n",
    "mylist"
   ]
  },
  {
   "cell_type": "code",
   "execution_count": null,
   "id": "69ef9230-faa8-4de1-8534-4cd009aefaff",
   "metadata": {},
   "outputs": [],
   "source": [
    "#changes values of string\n",
    "mylist[0]=1\n",
    "mylist[1]=2\n",
    "mylist[2]=3\n",
    "mylist"
   ]
  },
  {
   "cell_type": "code",
   "execution_count": null,
   "id": "7ea3a931-4928-4cf1-8ed8-222e39d7147d",
   "metadata": {},
   "outputs": [],
   "source": [
    "mylist.clear()    # Remove all items from list\n",
    "\n",
    "mylist"
   ]
  },
  {
   "cell_type": "code",
   "execution_count": null,
   "id": "27596057-c18b-4e9f-844e-7a908da1c7ac",
   "metadata": {},
   "outputs": [],
   "source": [
    "del mylist  #Deletes the whole list\n",
    "mylist"
   ]
  },
  {
   "cell_type": "code",
   "execution_count": null,
   "id": "b5ba3353-90c7-4306-b38c-b9ce070329da",
   "metadata": {},
   "outputs": [],
   "source": []
  },
  {
   "cell_type": "code",
   "execution_count": null,
   "id": "ee7c8dcc-cf11-4b1e-8a1a-0e2d2f1a0c71",
   "metadata": {},
   "outputs": [],
   "source": [
    "mylist=['one','two','three','four','five','six','seven','eight']"
   ]
  },
  {
   "cell_type": "code",
   "execution_count": null,
   "id": "f104337c-4acd-47cf-b894-802f41e5c086",
   "metadata": {},
   "outputs": [],
   "source": [
    "mylist1=mylist   # Create a new reference mylist1\n",
    "mylist1"
   ]
  },
  {
   "cell_type": "code",
   "execution_count": null,
   "id": "b7c1feb2-b395-40c3-a18d-90c3e08334db",
   "metadata": {},
   "outputs": [],
   "source": [
    "print(id(mylist))\n",
    "\n",
    "print(id(mylist1))\n",
    "\n",
    "#Address will be same for both the list as mylist1 is new refernece and NOT A COPY"
   ]
  },
  {
   "cell_type": "code",
   "execution_count": null,
   "id": "85d05fe4-cc09-45be-b889-47e98020f2f7",
   "metadata": {},
   "outputs": [],
   "source": [
    "mylist2=mylist.copy()\n",
    "\n",
    "# creates a copy of list and NOT a refernce list"
   ]
  },
  {
   "cell_type": "code",
   "execution_count": null,
   "id": "18c9423b-f17c-4f72-ba21-8c637b3c355e",
   "metadata": {},
   "outputs": [],
   "source": [
    "print(id(mylist))\n",
    "\n",
    "print(id(mylist2))\n",
    "\n",
    "#different address as its a copy list"
   ]
  },
  {
   "cell_type": "code",
   "execution_count": null,
   "id": "e6bbe8a7-2e89-4c1a-b28a-6c20a9c67ed9",
   "metadata": {},
   "outputs": [],
   "source": [
    "mylist[0]=1\n",
    "mylist"
   ]
  },
  {
   "cell_type": "code",
   "execution_count": null,
   "id": "4eb6c903-d326-48a6-9dcd-5e87915d9797",
   "metadata": {},
   "outputs": [],
   "source": [
    "mylist1\n",
    "\n",
    "# reference list is also affected by the changes in the original list"
   ]
  },
  {
   "cell_type": "code",
   "execution_count": null,
   "id": "33bc96c7-4092-4c6a-b6f4-fdcb772b56fd",
   "metadata": {},
   "outputs": [],
   "source": [
    "mylist2\n",
    "\n",
    "#copy list is not affected by the chnages in the origina list"
   ]
  },
  {
   "cell_type": "code",
   "execution_count": null,
   "id": "f4a4f244-c5b8-4f3a-a8b6-2b126abecfb5",
   "metadata": {},
   "outputs": [],
   "source": []
  },
  {
   "cell_type": "markdown",
   "id": "5b66b8b0-43d2-4a4d-891e-0df16c15918d",
   "metadata": {},
   "source": [
    "# Join lists"
   ]
  },
  {
   "cell_type": "code",
   "execution_count": 139,
   "id": "4df7ecb7-f701-48a6-babe-faa00c9337be",
   "metadata": {},
   "outputs": [],
   "source": [
    "list1 = ['one','two','three','four']\n",
    "list2 = ['five','six','seven']\n",
    "list3 = ['eight','nine']"
   ]
  },
  {
   "cell_type": "code",
   "execution_count": 140,
   "id": "f2c423b7-f916-4937-9b4f-cd519099536a",
   "metadata": {},
   "outputs": [
    {
     "data": {
      "text/plain": [
       "['one', 'two', 'three', 'four', 'five', 'six', 'seven']"
      ]
     },
     "execution_count": 140,
     "metadata": {},
     "output_type": "execute_result"
    }
   ],
   "source": [
    "list4 = list1 + list2  #joins lists by '+' operator\n",
    "list4"
   ]
  },
  {
   "cell_type": "code",
   "execution_count": 141,
   "id": "88722d9f-c11b-4af0-b11b-b083c6f8036e",
   "metadata": {},
   "outputs": [
    {
     "data": {
      "text/plain": [
       "['one', 'two', 'three', 'four', 'five', 'six', 'seven']"
      ]
     },
     "execution_count": 141,
     "metadata": {},
     "output_type": "execute_result"
    }
   ],
   "source": [
    "list1.extend(list2)\n",
    "list1\n",
    "\n",
    "#appends list2 to list1 at the end"
   ]
  },
  {
   "cell_type": "code",
   "execution_count": null,
   "id": "423e95a8-e472-4e34-b5bb-593e834af373",
   "metadata": {},
   "outputs": [],
   "source": []
  },
  {
   "cell_type": "markdown",
   "id": "476f2f16-3169-47c1-b9b4-8a4ad36f9298",
   "metadata": {},
   "source": [
    "# List Membership"
   ]
  },
  {
   "cell_type": "code",
   "execution_count": 142,
   "id": "bab108fb-1df5-4f83-b099-6767a6977894",
   "metadata": {},
   "outputs": [
    {
     "data": {
      "text/plain": [
       "['one', 'two', 'three', 'four', 'five', 'six', 'seven']"
      ]
     },
     "execution_count": 142,
     "metadata": {},
     "output_type": "execute_result"
    }
   ],
   "source": [
    "list1"
   ]
  },
  {
   "cell_type": "code",
   "execution_count": 143,
   "id": "18e2118c-9ca1-4647-9f38-7735f89dc881",
   "metadata": {},
   "outputs": [
    {
     "data": {
      "text/plain": [
       "True"
      ]
     },
     "execution_count": 143,
     "metadata": {},
     "output_type": "execute_result"
    }
   ],
   "source": [
    "'one' in list1   # Check if 'one' exist in the list"
   ]
  },
  {
   "cell_type": "code",
   "execution_count": 144,
   "id": "5338a26f-b4c1-4cc5-949b-65180eb2c96f",
   "metadata": {},
   "outputs": [
    {
     "data": {
      "text/plain": [
       "True"
      ]
     },
     "execution_count": 144,
     "metadata": {},
     "output_type": "execute_result"
    }
   ],
   "source": [
    "'four' in list1"
   ]
  },
  {
   "cell_type": "code",
   "execution_count": 145,
   "id": "112f5b14-f37a-48c7-bebc-c547989059d4",
   "metadata": {},
   "outputs": [
    {
     "data": {
      "text/plain": [
       "False"
      ]
     },
     "execution_count": 145,
     "metadata": {},
     "output_type": "execute_result"
    }
   ],
   "source": [
    "'ten' in list1"
   ]
  },
  {
   "cell_type": "code",
   "execution_count": 146,
   "id": "cb33a194-16c8-4dd4-8d8a-6215be255188",
   "metadata": {},
   "outputs": [
    {
     "name": "stdout",
     "output_type": "stream",
     "text": [
      "Three is present in the list1\n"
     ]
    }
   ],
   "source": [
    "if 'three' in list1:\n",
    "    print('Three is present in the list1')\n",
    "else:\n",
    "    print('Three in not present in the list1')"
   ]
  },
  {
   "cell_type": "code",
   "execution_count": 149,
   "id": "d45ca173-db32-441b-95ad-639deb21f88b",
   "metadata": {},
   "outputs": [
    {
     "name": "stdout",
     "output_type": "stream",
     "text": [
      "Three in not present in the list1\n"
     ]
    }
   ],
   "source": [
    "if 'Three' in list1:\n",
    "    print('Three is present in the list1')\n",
    "else:\n",
    "    print('Three in not present in the list1')\n",
    "\n",
    "#strings are case sensitive"
   ]
  },
  {
   "cell_type": "code",
   "execution_count": 150,
   "id": "926dbbe0-dcf4-4809-a380-fc82cfc5b762",
   "metadata": {},
   "outputs": [
    {
     "name": "stdout",
     "output_type": "stream",
     "text": [
      "Sixty in not present in the list1\n"
     ]
    }
   ],
   "source": [
    "if 'sixty' in list1:\n",
    "    print('Sixty is present in the list1')\n",
    "else:\n",
    "    print('Sixty in not present in the list1')"
   ]
  },
  {
   "cell_type": "code",
   "execution_count": null,
   "id": "508d4048-b9cf-4793-a33f-d4bcde48b249",
   "metadata": {},
   "outputs": [],
   "source": []
  },
  {
   "cell_type": "markdown",
   "id": "972e705a-78a4-491a-a992-84d51d8b2034",
   "metadata": {},
   "source": [
    "# Reverse and Sort list"
   ]
  },
  {
   "cell_type": "code",
   "execution_count": 151,
   "id": "f95417d9-7b85-4b8a-9a7c-5d3d01d31fbd",
   "metadata": {},
   "outputs": [
    {
     "data": {
      "text/plain": [
       "['one', 'two', 'three', 'four', 'five', 'six', 'seven']"
      ]
     },
     "execution_count": 151,
     "metadata": {},
     "output_type": "execute_result"
    }
   ],
   "source": [
    "list1"
   ]
  },
  {
   "cell_type": "code",
   "execution_count": 154,
   "id": "fc29dcda-0344-43bf-a357-2a5624d40f80",
   "metadata": {},
   "outputs": [
    {
     "data": {
      "text/plain": [
       "['seven', 'six', 'five', 'four', 'three', 'two', 'one']"
      ]
     },
     "execution_count": 154,
     "metadata": {},
     "output_type": "execute_result"
    }
   ],
   "source": [
    "list1.reverse()        # Reverses the list(index places)\n",
    "list1"
   ]
  },
  {
   "cell_type": "code",
   "execution_count": 157,
   "id": "d3929d45-ee19-4ba7-afc3-4886e54b466b",
   "metadata": {},
   "outputs": [
    {
     "data": {
      "text/plain": [
       "['one', 'two', 'three', 'four', 'five', 'six', 'seven']"
      ]
     },
     "execution_count": 157,
     "metadata": {},
     "output_type": "execute_result"
    }
   ],
   "source": [
    "list1 = list1[::-1]    # Reverses the list(index places)\n",
    "list1"
   ]
  },
  {
   "cell_type": "code",
   "execution_count": 158,
   "id": "f7e2c0a3-42ca-4ecf-a1dc-c09cabe77ab2",
   "metadata": {},
   "outputs": [
    {
     "data": {
      "text/plain": [
       "['seven', 'six', 'five', 'four', 'three', 'two', 'one']"
      ]
     },
     "execution_count": 158,
     "metadata": {},
     "output_type": "execute_result"
    }
   ],
   "source": [
    "list1[::-1]"
   ]
  },
  {
   "cell_type": "code",
   "execution_count": null,
   "id": "12fea82b-957c-44e6-be18-4d9dddc932d6",
   "metadata": {},
   "outputs": [],
   "source": []
  },
  {
   "cell_type": "code",
   "execution_count": 160,
   "id": "3c63288e-2cc1-4271-a932-0914db7565d8",
   "metadata": {},
   "outputs": [
    {
     "data": {
      "text/plain": [
       "[5, 8, 63, 78, 15, 42, 1]"
      ]
     },
     "execution_count": 160,
     "metadata": {},
     "output_type": "execute_result"
    }
   ],
   "source": [
    "mylist3 = [5,8,63,78,15,42,1]\n",
    "mylist3"
   ]
  },
  {
   "cell_type": "code",
   "execution_count": 168,
   "id": "a9ba7733-a6dd-451e-8e9d-e657c8be13f7",
   "metadata": {},
   "outputs": [
    {
     "data": {
      "text/plain": [
       "[1, 5, 8, 15, 42, 63, 78]"
      ]
     },
     "execution_count": 168,
     "metadata": {},
     "output_type": "execute_result"
    }
   ],
   "source": [
    "mylist3.sort()    # Ascending order sort\n",
    "mylist3"
   ]
  },
  {
   "cell_type": "code",
   "execution_count": 170,
   "id": "feaad1f8-bbcb-4fdc-baa8-36e68dcd5258",
   "metadata": {},
   "outputs": [
    {
     "data": {
      "text/plain": [
       "[78, 63, 42, 15, 8, 5, 1]"
      ]
     },
     "execution_count": 170,
     "metadata": {},
     "output_type": "execute_result"
    }
   ],
   "source": [
    "mylist3.sort(reverse=True)   # Reverse of ascending order => Descending order\n",
    "mylist3"
   ]
  },
  {
   "cell_type": "code",
   "execution_count": 175,
   "id": "62547060-b109-42df-a77b-63c75b56acfb",
   "metadata": {},
   "outputs": [
    {
     "data": {
      "text/plain": [
       "[78, 63, 42, 15, 8, 5, 1]"
      ]
     },
     "execution_count": 175,
     "metadata": {},
     "output_type": "execute_result"
    }
   ],
   "source": [
    "mylist3    # After sort function,  Order of list changes in the origina list"
   ]
  },
  {
   "cell_type": "code",
   "execution_count": 176,
   "id": "63947ae1-01c1-44a3-b101-024f1a36a273",
   "metadata": {},
   "outputs": [
    {
     "name": "stdout",
     "output_type": "stream",
     "text": [
      "[4, 85, 32, 19, 0, 49]\n",
      "[0, 4, 19, 32, 49, 85]\n"
     ]
    }
   ],
   "source": [
    "mylist4 = [4,85,32,19,0,49]\n",
    "print(mylist4)\n",
    "print(sorted(mylist4))    \n",
    "\n",
    "# Returns with a sorted list but doesnot change the order in the original list\n"
   ]
  },
  {
   "cell_type": "code",
   "execution_count": null,
   "id": "b7e30c69-4b69-4a47-86f5-82ff2940b269",
   "metadata": {},
   "outputs": [],
   "source": []
  },
  {
   "cell_type": "markdown",
   "id": "1ddd638f-088a-48cd-b8be-bee4b90e1fff",
   "metadata": {},
   "source": [
    "# Loop through a list"
   ]
  },
  {
   "cell_type": "code",
   "execution_count": 177,
   "id": "adf59087-c2c1-46fa-8b33-535304fb481e",
   "metadata": {},
   "outputs": [
    {
     "data": {
      "text/plain": [
       "['one', 'two', 'three', 'four', 'five', 'six', 'seven']"
      ]
     },
     "execution_count": 177,
     "metadata": {},
     "output_type": "execute_result"
    }
   ],
   "source": [
    "list1"
   ]
  },
  {
   "cell_type": "code",
   "execution_count": 181,
   "id": "2a974e3a-ca14-4255-8a4c-d42734be8d92",
   "metadata": {},
   "outputs": [
    {
     "name": "stdout",
     "output_type": "stream",
     "text": [
      "one\n",
      "two\n",
      "three\n",
      "four\n",
      "five\n",
      "six\n",
      "seven\n"
     ]
    }
   ],
   "source": [
    "for i in list1:\n",
    "    print(i)\n",
    "\n",
    "#This starts a for loop that will iterate through each element in `list1`, assigning each element to the variable `i` one at a time."
   ]
  },
  {
   "cell_type": "code",
   "execution_count": 184,
   "id": "33646a62-72a6-460e-be6a-e70f9b6bc6ed",
   "metadata": {},
   "outputs": [
    {
     "data": {
      "text/plain": [
       "<enumerate at 0x268dbfea840>"
      ]
     },
     "execution_count": 184,
     "metadata": {},
     "output_type": "execute_result"
    }
   ],
   "source": [
    "enumerate(list1)\n"
   ]
  },
  {
   "cell_type": "code",
   "execution_count": 185,
   "id": "66b33aa5-ae89-4d65-9492-adfbd3d3146f",
   "metadata": {},
   "outputs": [
    {
     "name": "stdout",
     "output_type": "stream",
     "text": [
      "(0, 'one')\n",
      "(1, 'two')\n",
      "(2, 'three')\n",
      "(3, 'four')\n",
      "(4, 'five')\n",
      "(5, 'six')\n",
      "(6, 'seven')\n"
     ]
    }
   ],
   "source": [
    "for i in enumerate(list1):\n",
    "    print(i)\n",
    "\n",
    "# This creates a loop where `i` will be a tuple containing the index and the corresponding value from `list1` for each iteration."
   ]
  },
  {
   "cell_type": "code",
   "execution_count": null,
   "id": "5144dedc-287d-43f3-b5e1-96996cfb5a99",
   "metadata": {},
   "outputs": [],
   "source": []
  },
  {
   "cell_type": "markdown",
   "id": "272062fb-10ae-44a5-ae6e-507d8ce6c349",
   "metadata": {},
   "source": [
    "# Count"
   ]
  },
  {
   "cell_type": "code",
   "execution_count": 192,
   "id": "da6b9964-3d57-4dc4-9b8c-e3afc6255127",
   "metadata": {},
   "outputs": [],
   "source": [
    "lst1 = ['one','two','three','four','one','one','three','two']"
   ]
  },
  {
   "cell_type": "code",
   "execution_count": 194,
   "id": "731c50e5-7891-41b1-9d38-e29cfdac01bf",
   "metadata": {},
   "outputs": [
    {
     "data": {
      "text/plain": [
       "3"
      ]
     },
     "execution_count": 194,
     "metadata": {},
     "output_type": "execute_result"
    }
   ],
   "source": [
    "lst1.count('one')   # number of 'one' repetitions in the list"
   ]
  },
  {
   "cell_type": "code",
   "execution_count": 195,
   "id": "15ab2878-6a90-4d6e-b44d-153ba95ed9bf",
   "metadata": {},
   "outputs": [
    {
     "data": {
      "text/plain": [
       "2"
      ]
     },
     "execution_count": 195,
     "metadata": {},
     "output_type": "execute_result"
    }
   ],
   "source": [
    "lst1.count('two')"
   ]
  },
  {
   "cell_type": "code",
   "execution_count": 196,
   "id": "77944180-b83a-423b-8812-14cd514cb00e",
   "metadata": {},
   "outputs": [
    {
     "data": {
      "text/plain": [
       "0"
      ]
     },
     "execution_count": 196,
     "metadata": {},
     "output_type": "execute_result"
    }
   ],
   "source": [
    "lst1.count('five')"
   ]
  },
  {
   "cell_type": "code",
   "execution_count": null,
   "id": "4099922f-7056-4586-bb37-4adb05e89cee",
   "metadata": {},
   "outputs": [],
   "source": []
  },
  {
   "cell_type": "markdown",
   "id": "10df6d3c-8265-4fb6-9c62-0dc0418de943",
   "metadata": {},
   "source": [
    "# All - Any method"
   ]
  },
  {
   "cell_type": "code",
   "execution_count": 201,
   "id": "4df0992d-f6d0-4d1f-96e7-5bfdbb57b6a6",
   "metadata": {},
   "outputs": [],
   "source": [
    "L1 = [1,2,3,4,0]"
   ]
  },
  {
   "cell_type": "code",
   "execution_count": 199,
   "id": "1447e2e1-8c05-452e-9b84-fb1a74ee58d2",
   "metadata": {},
   "outputs": [
    {
     "data": {
      "text/plain": [
       "False"
      ]
     },
     "execution_count": 199,
     "metadata": {},
     "output_type": "execute_result"
    }
   ],
   "source": [
    "all(L1) \n",
    "\n",
    "# for all() function:\n",
    "# True - If all elements in a list are true(1 or True)\n",
    "# False - If any element in a list is false(0 or False)"
   ]
  },
  {
   "cell_type": "code",
   "execution_count": 205,
   "id": "3ddfc5fb-7ad1-479c-bcfd-e6c61e2fa9ce",
   "metadata": {},
   "outputs": [
    {
     "data": {
      "text/plain": [
       "True"
      ]
     },
     "execution_count": 205,
     "metadata": {},
     "output_type": "execute_result"
    }
   ],
   "source": [
    "any(L1)\n",
    "\n",
    "# True if any element in the list is True(1 or True)\n",
    "# If not, any() returns False "
   ]
  },
  {
   "cell_type": "code",
   "execution_count": null,
   "id": "73a1dc4a-e81e-409c-97a5-c9ab3bc47d7e",
   "metadata": {},
   "outputs": [],
   "source": []
  },
  {
   "cell_type": "code",
   "execution_count": 203,
   "id": "eac43441-9b0b-4d3c-9fc8-b2659bdf2fdd",
   "metadata": {},
   "outputs": [],
   "source": [
    "L2 = [1,2,3,4,5,True, False]"
   ]
  },
  {
   "cell_type": "code",
   "execution_count": 204,
   "id": "aff94fea-7c6b-4f1f-b980-ea596d6c388a",
   "metadata": {},
   "outputs": [
    {
     "data": {
      "text/plain": [
       "False"
      ]
     },
     "execution_count": 204,
     "metadata": {},
     "output_type": "execute_result"
    }
   ],
   "source": [
    "all(L2)     # False in the list"
   ]
  },
  {
   "cell_type": "code",
   "execution_count": 206,
   "id": "d7332147-b698-47a3-b4ac-1d0b45d92de5",
   "metadata": {},
   "outputs": [
    {
     "data": {
      "text/plain": [
       "True"
      ]
     },
     "execution_count": 206,
     "metadata": {},
     "output_type": "execute_result"
    }
   ],
   "source": [
    "any(L2)     # True and 1 in the list"
   ]
  },
  {
   "cell_type": "code",
   "execution_count": null,
   "id": "6218b2e0-a652-42cf-a68e-044c3c017002",
   "metadata": {},
   "outputs": [],
   "source": []
  },
  {
   "cell_type": "code",
   "execution_count": 207,
   "id": "1e146d16-2227-4045-b41f-e29d8830274c",
   "metadata": {},
   "outputs": [],
   "source": [
    "L3 = [ 1,2,3, True]"
   ]
  },
  {
   "cell_type": "code",
   "execution_count": 208,
   "id": "57cf55c5-eebf-45e1-8ce0-277961481d01",
   "metadata": {},
   "outputs": [
    {
     "data": {
      "text/plain": [
       "True"
      ]
     },
     "execution_count": 208,
     "metadata": {},
     "output_type": "execute_result"
    }
   ],
   "source": [
    "any(L3)     # No 0 or False in the list"
   ]
  },
  {
   "cell_type": "code",
   "execution_count": 209,
   "id": "a70a3a05-183f-40d5-b5b7-4a520f3e0407",
   "metadata": {},
   "outputs": [
    {
     "data": {
      "text/plain": [
       "True"
      ]
     },
     "execution_count": 209,
     "metadata": {},
     "output_type": "execute_result"
    }
   ],
   "source": [
    "all(L3)     # No 0 or False in the list"
   ]
  },
  {
   "cell_type": "code",
   "execution_count": null,
   "id": "d7ef1bee-2984-4f7c-8fbd-15b1040fb428",
   "metadata": {},
   "outputs": [],
   "source": []
  }
 ],
 "metadata": {
  "kernelspec": {
   "display_name": "Python [conda env:base] *",
   "language": "python",
   "name": "conda-base-py"
  },
  "language_info": {
   "codemirror_mode": {
    "name": "ipython",
    "version": 3
   },
   "file_extension": ".py",
   "mimetype": "text/x-python",
   "name": "python",
   "nbconvert_exporter": "python",
   "pygments_lexer": "ipython3",
   "version": "3.12.7"
  }
 },
 "nbformat": 4,
 "nbformat_minor": 5
}
