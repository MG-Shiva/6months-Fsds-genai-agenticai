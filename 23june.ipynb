{
 "cells": [
  {
   "cell_type": "code",
   "execution_count": 2,
   "id": "9a766b2c-c6f4-4980-a83e-942622fcd393",
   "metadata": {},
   "outputs": [
    {
     "name": "stdout",
     "output_type": "stream",
     "text": [
      "3.12.7 | packaged by Anaconda, Inc. | (main, Oct  4 2024, 13:17:27) [MSC v.1929 64 bit (AMD64)]\n"
     ]
    }
   ],
   "source": [
    "import sys\n",
    "print(sys.version)"
   ]
  },
  {
   "cell_type": "code",
   "execution_count": null,
   "id": "3ab977da-ca37-44ab-947f-95386da07920",
   "metadata": {},
   "outputs": [],
   "source": []
  },
  {
   "cell_type": "code",
   "execution_count": 3,
   "id": "577eae05-6d2d-4c4b-8f82-250e0887af67",
   "metadata": {},
   "outputs": [],
   "source": [
    "a = 2\n",
    "b = 3.8\n",
    "c ='nit'\n",
    "\n",
    "# data type"
   ]
  },
  {
   "cell_type": "code",
   "execution_count": null,
   "id": "6c076386-71ca-4261-9d0f-96b096e09f64",
   "metadata": {},
   "outputs": [],
   "source": []
  },
  {
   "cell_type": "code",
   "execution_count": 5,
   "id": "c84b3363-069c-4796-b0fc-0cb82d6624b2",
   "metadata": {},
   "outputs": [],
   "source": [
    "d = 5, 6.8, 'mine'\n",
    "\n",
    "# Data structure"
   ]
  },
  {
   "cell_type": "code",
   "execution_count": 6,
   "id": "d3a804c1-3f2f-43a2-913f-a94daee4a799",
   "metadata": {},
   "outputs": [],
   "source": [
    "# datatype = int, float, string,  bool, complex\n",
    "\n",
    "# data structure = collection of datatypes\n",
    "\n",
    "# matrix or dataframe  = collection of datastructures"
   ]
  },
  {
   "cell_type": "code",
   "execution_count": null,
   "id": "856b8e2c-afc0-4ca2-960f-1961e530ff82",
   "metadata": {},
   "outputs": [],
   "source": []
  },
  {
   "cell_type": "code",
   "execution_count": null,
   "id": "268221f1-c65a-4d81-98e4-145763788dc6",
   "metadata": {},
   "outputs": [],
   "source": [
    "# Data structures - primitive & Non-primitive\n",
    "# (1) primitive = int, float, bool, string\n",
    "# (2) non primitive - built-in  & user defined\n"
   ]
  },
  {
   "cell_type": "code",
   "execution_count": null,
   "id": "8cb8a8e9-baf0-4515-a5c4-0add049a17ee",
   "metadata": {},
   "outputs": [],
   "source": []
  },
  {
   "cell_type": "markdown",
   "id": "5aa68b44-54ab-4763-8bc3-534c1b9cc6fb",
   "metadata": {},
   "source": [
    "# List Data structures"
   ]
  },
  {
   "cell_type": "code",
   "execution_count": 50,
   "id": "ac80af93-f177-4383-821b-b8d6d251ef3a",
   "metadata": {},
   "outputs": [
    {
     "data": {
      "text/plain": [
       "[]"
      ]
     },
     "execution_count": 50,
     "metadata": {},
     "output_type": "execute_result"
    }
   ],
   "source": [
    "l = []  #list l with no/zero elements\n",
    "l"
   ]
  },
  {
   "cell_type": "code",
   "execution_count": 51,
   "id": "3a3f8f05-dddf-42a1-9481-ed946dc4d5aa",
   "metadata": {},
   "outputs": [
    {
     "data": {
      "text/plain": [
       "list"
      ]
     },
     "execution_count": 51,
     "metadata": {},
     "output_type": "execute_result"
    }
   ],
   "source": [
    "type(l)"
   ]
  },
  {
   "cell_type": "code",
   "execution_count": 52,
   "id": "976c8e54-3a8f-44d7-aee1-c0708a9e4d30",
   "metadata": {},
   "outputs": [
    {
     "name": "stdout",
     "output_type": "stream",
     "text": [
      "<class 'list'>\n"
     ]
    }
   ],
   "source": [
    "print(type(l))"
   ]
  },
  {
   "cell_type": "code",
   "execution_count": 53,
   "id": "8774effd-02b5-42a6-836f-feab41f93b8b",
   "metadata": {},
   "outputs": [
    {
     "data": {
      "text/plain": [
       "0"
      ]
     },
     "execution_count": 53,
     "metadata": {},
     "output_type": "execute_result"
    }
   ],
   "source": [
    "len(l)"
   ]
  },
  {
   "cell_type": "code",
   "execution_count": null,
   "id": "21435efd-27e3-4d99-8de4-cdce431266cf",
   "metadata": {},
   "outputs": [],
   "source": []
  },
  {
   "cell_type": "markdown",
   "id": "382bc885-dc98-47e0-89d4-85ab82c23602",
   "metadata": {},
   "source": [
    "# List functions"
   ]
  },
  {
   "cell_type": "code",
   "execution_count": 54,
   "id": "61de232c-c43a-46d4-b2b9-a54f112b32f7",
   "metadata": {},
   "outputs": [],
   "source": [
    "# append = adds value at the end of the list\n",
    "\n",
    "l.append(10)"
   ]
  },
  {
   "cell_type": "code",
   "execution_count": 55,
   "id": "2753238d-9a2e-4442-b6a2-b2bdad9d3d6a",
   "metadata": {},
   "outputs": [
    {
     "data": {
      "text/plain": [
       "[10]"
      ]
     },
     "execution_count": 55,
     "metadata": {},
     "output_type": "execute_result"
    }
   ],
   "source": [
    "l"
   ]
  },
  {
   "cell_type": "code",
   "execution_count": 56,
   "id": "ff0ada85-8fc5-4d26-9d6a-1463c1901b07",
   "metadata": {},
   "outputs": [],
   "source": [
    "l.append(15)\n",
    "l.append('nit')\n",
    "l.append(3.9)"
   ]
  },
  {
   "cell_type": "code",
   "execution_count": 57,
   "id": "e137ef18-c032-4473-aa18-4ab5dfe02df4",
   "metadata": {},
   "outputs": [
    {
     "data": {
      "text/plain": [
       "[10, 15, 'nit', 3.9]"
      ]
     },
     "execution_count": 57,
     "metadata": {},
     "output_type": "execute_result"
    }
   ],
   "source": [
    "l"
   ]
  },
  {
   "cell_type": "code",
   "execution_count": 58,
   "id": "c15d3358-2f00-4bb4-98ff-42b439444bd9",
   "metadata": {},
   "outputs": [],
   "source": [
    "l.append(15)\n",
    "\n",
    "# append allows duplicate addition to the list"
   ]
  },
  {
   "cell_type": "code",
   "execution_count": 59,
   "id": "32f62d9f-a188-40ea-a4fc-6057b99bc945",
   "metadata": {},
   "outputs": [
    {
     "data": {
      "text/plain": [
       "[10, 15, 'nit', 3.9, 15]"
      ]
     },
     "execution_count": 59,
     "metadata": {},
     "output_type": "execute_result"
    }
   ],
   "source": [
    "l"
   ]
  },
  {
   "cell_type": "code",
   "execution_count": 60,
   "id": "573038f1-a11c-4d78-93be-8959d7351f1c",
   "metadata": {},
   "outputs": [
    {
     "data": {
      "text/plain": [
       "5"
      ]
     },
     "execution_count": 60,
     "metadata": {},
     "output_type": "execute_result"
    }
   ],
   "source": [
    "len(l)"
   ]
  },
  {
   "cell_type": "code",
   "execution_count": null,
   "id": "b293a6dc-403b-4e81-bf2d-0d0652aebb0d",
   "metadata": {},
   "outputs": [],
   "source": []
  }
 ],
 "metadata": {
  "kernelspec": {
   "display_name": "Python [conda env:base] *",
   "language": "python",
   "name": "conda-base-py"
  },
  "language_info": {
   "codemirror_mode": {
    "name": "ipython",
    "version": 3
   },
   "file_extension": ".py",
   "mimetype": "text/x-python",
   "name": "python",
   "nbconvert_exporter": "python",
   "pygments_lexer": "ipython3",
   "version": "3.12.7"
  }
 },
 "nbformat": 4,
 "nbformat_minor": 5
}
