{
 "cells": [
  {
   "cell_type": "markdown",
   "id": "dc5f36f6-f509-4855-ba6c-67435aeae98e",
   "metadata": {},
   "source": [
    "# Print Statements"
   ]
  },
  {
   "cell_type": "code",
   "execution_count": 4,
   "id": "701ce604-8996-4a8e-a23d-4e7c799fcd02",
   "metadata": {},
   "outputs": [
    {
     "data": {
      "text/plain": [
       "20"
      ]
     },
     "execution_count": 4,
     "metadata": {},
     "output_type": "execute_result"
    }
   ],
   "source": [
    "a=10      # only takes last assigned value\n",
    "b=20\n",
    "\n",
    "a\n",
    "b"
   ]
  },
  {
   "cell_type": "code",
   "execution_count": 5,
   "id": "4692f750-fb35-44ff-a47e-874669a24e1a",
   "metadata": {},
   "outputs": [
    {
     "name": "stdout",
     "output_type": "stream",
     "text": [
      "10\n",
      "20\n"
     ]
    }
   ],
   "source": [
    "print(a)\n",
    "print(b)"
   ]
  },
  {
   "cell_type": "code",
   "execution_count": 6,
   "id": "b6009ce7-817d-4370-b104-ca65e16beb74",
   "metadata": {},
   "outputs": [
    {
     "name": "stdout",
     "output_type": "stream",
     "text": [
      "10\n",
      "10 20\n",
      "Python\n",
      "10 20 Python\n"
     ]
    }
   ],
   "source": [
    "print(10)\n",
    "print(10,20)\n",
    "print('Python')\n",
    "print(10,20,'Python')"
   ]
  },
  {
   "cell_type": "code",
   "execution_count": 7,
   "id": "e7431d22-e9ce-41f1-b293-872f20a5c529",
   "metadata": {},
   "outputs": [
    {
     "name": "stdout",
     "output_type": "stream",
     "text": [
      "30\n"
     ]
    }
   ],
   "source": [
    " c=a+b\n",
    "print(c)"
   ]
  },
  {
   "cell_type": "code",
   "execution_count": 12,
   "id": "114efab9-867c-47d2-b8fc-f12d3568de47",
   "metadata": {},
   "outputs": [
    {
     "name": "stdout",
     "output_type": "stream",
     "text": [
      "The addition of 20 and 30 is = 50\n"
     ]
    }
   ],
   "source": [
    "n1=20\n",
    "n2=30\n",
    "add=n1+n2\n",
    "print('The addition of', n1, 'and', n2,'is =',add)"
   ]
  },
  {
   "cell_type": "code",
   "execution_count": 16,
   "id": "6982407c-6601-4922-8f51-1ec243fce246",
   "metadata": {},
   "outputs": [
    {
     "name": "stdout",
     "output_type": "stream",
     "text": [
      "Hello, my name is Python and i am 25 years old from hyd\n"
     ]
    }
   ],
   "source": [
    "name = 'Python'\n",
    "age =25\n",
    "city = 'hyd'\n",
    "\n",
    "print('Hello, my name is',name,'and i am',age,'years old from',city)"
   ]
  },
  {
   "cell_type": "code",
   "execution_count": null,
   "id": "844d5c6e-013d-4afd-b826-ea8c504213d2",
   "metadata": {},
   "outputs": [],
   "source": []
  },
  {
   "cell_type": "code",
   "execution_count": null,
   "id": "48375bfd-81dd-4501-a4c0-254a299874f2",
   "metadata": {},
   "outputs": [],
   "source": []
  },
  {
   "cell_type": "markdown",
   "id": "6bd5b956-f8bf-4c27-b44a-59cebc5b68ef",
   "metadata": {},
   "source": [
    "# Print format method"
   ]
  },
  {
   "cell_type": "code",
   "execution_count": 19,
   "id": "50495da4-5b7b-42e3-8bd4-de47b9bfb1a5",
   "metadata": {},
   "outputs": [
    {
     "name": "stdout",
     "output_type": "stream",
     "text": [
      "The addition of 25 and 35 is = 60\n"
     ]
    }
   ],
   "source": [
    "n1=25\n",
    "n2=35\n",
    "add=n1+n2\n",
    "\n",
    "print('The addition of {} and {} is = {}'.format(n1,n2,add))"
   ]
  },
  {
   "cell_type": "code",
   "execution_count": null,
   "id": "080c3fc3-190f-4460-8c79-24527fc31e22",
   "metadata": {},
   "outputs": [],
   "source": []
  },
  {
   "cell_type": "code",
   "execution_count": 20,
   "id": "7ce7a5a3-c13c-4aac-a395-07ca41485d8e",
   "metadata": {},
   "outputs": [
    {
     "name": "stdout",
     "output_type": "stream",
     "text": [
      "Hello, my name is Python, and i am 25 years old from hyd\n"
     ]
    }
   ],
   "source": [
    "print('Hello, my name is {}, and i am {} years old from {}'.format(name,age,city))"
   ]
  },
  {
   "cell_type": "code",
   "execution_count": null,
   "id": "6f64a4df-ca61-416e-908d-3fec9dcb635d",
   "metadata": {},
   "outputs": [],
   "source": []
  },
  {
   "cell_type": "code",
   "execution_count": 27,
   "id": "55b416c3-fd9d-4412-b86d-f782472d0be9",
   "metadata": {},
   "outputs": [
    {
     "name": "stdout",
     "output_type": "stream",
     "text": [
      "The average of 75, 46 and 79 is = 66.66666666666667 or 66.67\n"
     ]
    }
   ],
   "source": [
    "a1=75\n",
    "a2=46\n",
    "a3=79\n",
    "\n",
    "avg=(a1+a2+a3)/3\n",
    "\n",
    "avg1=round((a1+a2+a3)/3,2)  # round off values upto 2digits after decimal\n",
    "\n",
    "print('The average of {}, {} and {} is = {} or {}'.format(a1,a2,a3,avg,avg1))\n"
   ]
  },
  {
   "cell_type": "code",
   "execution_count": null,
   "id": "0df33497-64b2-4a81-ad9e-12e2b938dec9",
   "metadata": {},
   "outputs": [],
   "source": []
  },
  {
   "cell_type": "code",
   "execution_count": null,
   "id": "88fdff68-c2d6-4ff2-80d1-6230481b0eb1",
   "metadata": {},
   "outputs": [],
   "source": []
  },
  {
   "cell_type": "markdown",
   "id": "e5c35e07-bd83-47c8-9b12-959ca733798c",
   "metadata": {},
   "source": [
    "# f string method"
   ]
  },
  {
   "cell_type": "code",
   "execution_count": 30,
   "id": "0bcccdd9-2082-4433-9dd2-a4925959bed7",
   "metadata": {},
   "outputs": [
    {
     "name": "stdout",
     "output_type": "stream",
     "text": [
      "The average of 75 , 46 and 79 is = 66.66666666666667\n"
     ]
    }
   ],
   "source": [
    "print(f'The average of {a1} , {a2} and {a3} is = {avg}') \n",
    "\n",
    "# here print(f,   )    not print(   )"
   ]
  },
  {
   "cell_type": "code",
   "execution_count": null,
   "id": "43de761b-310a-441f-aa7d-afcfa66f40b5",
   "metadata": {},
   "outputs": [],
   "source": []
  },
  {
   "cell_type": "code",
   "execution_count": 33,
   "id": "d718b4ba-f7d3-4ccc-b7ce-c3a74d9524bb",
   "metadata": {},
   "outputs": [
    {
     "name": "stdout",
     "output_type": "stream",
     "text": [
      "Hello my name is Python and i am 25 years old from hyd\n"
     ]
    }
   ],
   "source": [
    "print(f'Hello my name is {name} and i am {age} years old from {city}')\n",
    "\n",
    "# here print(f,   )    not print(   )"
   ]
  },
  {
   "cell_type": "code",
   "execution_count": null,
   "id": "c506bb9d-6194-49ca-bea3-92114856699f",
   "metadata": {},
   "outputs": [],
   "source": []
  },
  {
   "cell_type": "code",
   "execution_count": 38,
   "id": "952a7f22-6378-44af-b8cc-d810dd9d5747",
   "metadata": {},
   "outputs": [
    {
     "name": "stdout",
     "output_type": "stream",
     "text": [
      "The addition of 10 20 and 30 is = 60\n",
      "The addition of 10,20 and 30 is = 60\n",
      "The addition of 10,20 and 30 is = 60\n"
     ]
    }
   ],
   "source": [
    "b1 = 10\n",
    "b2 = 20\n",
    "b3 = 30\n",
    "add = b1+b2+b3\n",
    "\n",
    "print('The addition of', b1, b2,'and',b3, 'is =',add)\n",
    "print('The addition of {},{} and {} is = {}'.format(b1,b2,b3,add))\n",
    "print(f'The addition of {b1},{b2} and {b3} is = {add}')"
   ]
  },
  {
   "cell_type": "code",
   "execution_count": null,
   "id": "12f620d2-4255-450f-8555-67a398f344ec",
   "metadata": {},
   "outputs": [],
   "source": []
  },
  {
   "cell_type": "markdown",
   "id": "c4afc0a4-c805-44e2-b9d7-eb8ef4cb0731",
   "metadata": {},
   "source": [
    "# End statement"
   ]
  },
  {
   "cell_type": "code",
   "execution_count": 39,
   "id": "66e36d36-375c-4bf8-9308-4573f20cba1c",
   "metadata": {},
   "outputs": [
    {
     "name": "stdout",
     "output_type": "stream",
     "text": [
      "Hello\n",
      "Good morning\n"
     ]
    }
   ],
   "source": [
    "print('Hello')\n",
    "print('Good morning')"
   ]
  },
  {
   "cell_type": "code",
   "execution_count": 42,
   "id": "5c22fdfa-0fc7-44ba-afd9-de20b4e3017e",
   "metadata": {},
   "outputs": [
    {
     "name": "stdout",
     "output_type": "stream",
     "text": [
      "Hello Good morning\n"
     ]
    }
   ],
   "source": [
    "print('Hello',end=' ')   # adding one string to another to make a line or statement\n",
    "print('Good morning')"
   ]
  },
  {
   "cell_type": "code",
   "execution_count": null,
   "id": "04edf0e1-1293-4ae0-af86-de614d6a62c4",
   "metadata": {},
   "outputs": [],
   "source": []
  },
  {
   "cell_type": "markdown",
   "id": "8dfa6d81-1810-45f9-a8c5-cb449cbd79cd",
   "metadata": {},
   "source": [
    "# Seperator"
   ]
  },
  {
   "cell_type": "code",
   "execution_count": 43,
   "id": "d703a813-9c7f-4a29-bfc2-7daf6144eaac",
   "metadata": {},
   "outputs": [
    {
     "name": "stdout",
     "output_type": "stream",
     "text": [
      "Hello Hi How are you\n"
     ]
    }
   ],
   "source": [
    "print('Hello','Hi','How are you')"
   ]
  },
  {
   "cell_type": "code",
   "execution_count": 49,
   "id": "e3d6596c-71c8-49f3-bd64-bae2fdf2028d",
   "metadata": {},
   "outputs": [
    {
     "name": "stdout",
     "output_type": "stream",
     "text": [
      "Hello--->Hi--->How are you\n",
      "Hello & Hi & How are you\n",
      "Hello and Hi and How are you\n",
      "Hello @ Hi @ How are you\n"
     ]
    }
   ],
   "source": [
    "print('Hello','Hi','How are you',sep ='--->')\n",
    "\n",
    "print('Hello','Hi','How are you',sep =' & ')\n",
    "\n",
    "print('Hello','Hi','How are you',sep =' and ')\n",
    "\n",
    "print('Hello','Hi','How are you',sep =' @ ')\n",
    "# seperating strings with given argument\n"
   ]
  },
  {
   "cell_type": "code",
   "execution_count": null,
   "id": "e1b9a5fa-56ce-4a6a-8537-ab2b042f3cfd",
   "metadata": {},
   "outputs": [],
   "source": []
  },
  {
   "cell_type": "code",
   "execution_count": 50,
   "id": "0bd51e2f-7af4-4d3f-aba0-f4b6a5d7f0e3",
   "metadata": {},
   "outputs": [
    {
     "name": "stdout",
     "output_type": "stream",
     "text": [
      "3 .\n"
     ]
    }
   ],
   "source": [
    "print(3,'.')"
   ]
  },
  {
   "cell_type": "code",
   "execution_count": 53,
   "id": "32580bf2-aa0d-4ba2-b17a-fe1515001048",
   "metadata": {},
   "outputs": [
    {
     "name": "stdout",
     "output_type": "stream",
     "text": [
      "3.\n"
     ]
    }
   ],
   "source": [
    "print(3,'.',sep='')\n",
    "\n",
    "# sep also used to bring far arguments near"
   ]
  },
  {
   "cell_type": "code",
   "execution_count": null,
   "id": "df7479a3-9d38-493a-9168-af99dae6edf2",
   "metadata": {},
   "outputs": [],
   "source": []
  },
  {
   "cell_type": "markdown",
   "id": "42c66e73-b2c7-402d-8a03-60b98c18d4a1",
   "metadata": {},
   "source": [
    "# End and sep combination"
   ]
  },
  {
   "cell_type": "code",
   "execution_count": 64,
   "id": "fbe05606-065a-4d8e-a427-de3764f671c9",
   "metadata": {},
   "outputs": [
    {
     "name": "stdout",
     "output_type": "stream",
     "text": [
      "1 2 3.\n"
     ]
    }
   ],
   "source": [
    "print(1,2,end=' ')\n",
    "print(3,'.',sep='')"
   ]
  },
  {
   "cell_type": "code",
   "execution_count": null,
   "id": "6b16ce72-e209-404e-9ba6-f95a46247823",
   "metadata": {},
   "outputs": [],
   "source": []
  }
 ],
 "metadata": {
  "kernelspec": {
   "display_name": "Python [conda env:base] *",
   "language": "python",
   "name": "conda-base-py"
  },
  "language_info": {
   "codemirror_mode": {
    "name": "ipython",
    "version": 3
   },
   "file_extension": ".py",
   "mimetype": "text/x-python",
   "name": "python",
   "nbconvert_exporter": "python",
   "pygments_lexer": "ipython3",
   "version": "3.12.7"
  }
 },
 "nbformat": 4,
 "nbformat_minor": 5
}
