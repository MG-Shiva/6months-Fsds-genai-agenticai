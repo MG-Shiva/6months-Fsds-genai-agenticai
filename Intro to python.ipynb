{
 "cells": [
  {
   "cell_type": "code",
   "execution_count": 3,
   "id": "75f90ab4-1ed7-4ceb-9810-e0d0f5d07112",
   "metadata": {},
   "outputs": [],
   "source": [
    "spam = 1  # comment or note\n",
    "text = \"# This is not a comment because it's inside quotes\""
   ]
  },
  {
   "cell_type": "code",
   "execution_count": null,
   "id": "2411c9a0-7ac3-46fb-ac88-32aeb7bbdfa1",
   "metadata": {},
   "outputs": [],
   "source": []
  },
  {
   "cell_type": "markdown",
   "id": "7ada22a1-4647-45ba-ab3e-92dbfa3cb9f6",
   "metadata": {},
   "source": [
    "# Python as calculator"
   ]
  },
  {
   "cell_type": "code",
   "execution_count": 4,
   "id": "227cccbb-6ea0-4122-8e31-28607ab1d418",
   "metadata": {},
   "outputs": [
    {
     "data": {
      "text/plain": [
       "4"
      ]
     },
     "execution_count": 4,
     "metadata": {},
     "output_type": "execute_result"
    }
   ],
   "source": [
    "2+2"
   ]
  },
  {
   "cell_type": "code",
   "execution_count": 5,
   "id": "613c556f-323b-4bc0-92d0-895492c7341e",
   "metadata": {},
   "outputs": [
    {
     "data": {
      "text/plain": [
       "42.5"
      ]
     },
     "execution_count": 5,
     "metadata": {},
     "output_type": "execute_result"
    }
   ],
   "source": [
    "50-5*6/4"
   ]
  },
  {
   "cell_type": "code",
   "execution_count": 6,
   "id": "6c6366df-c0e8-4799-b9f9-d719078b9f22",
   "metadata": {},
   "outputs": [
    {
     "data": {
      "text/plain": [
       "5.0"
      ]
     },
     "execution_count": 6,
     "metadata": {},
     "output_type": "execute_result"
    }
   ],
   "source": [
    "(50-5*6)/4"
   ]
  },
  {
   "cell_type": "code",
   "execution_count": 7,
   "id": "8f3d3670-7d9b-496d-b5fd-389e943a7de5",
   "metadata": {},
   "outputs": [
    {
     "data": {
      "text/plain": [
       "1.6"
      ]
     },
     "execution_count": 7,
     "metadata": {},
     "output_type": "execute_result"
    }
   ],
   "source": [
    "8/5"
   ]
  },
  {
   "cell_type": "code",
   "execution_count": null,
   "id": "8284fe8b-bf30-4af7-bb05-152d6e35465f",
   "metadata": {},
   "outputs": [],
   "source": []
  },
  {
   "cell_type": "markdown",
   "id": "a8502612-e8ad-4dfc-8604-db2ee7602936",
   "metadata": {},
   "source": [
    "# Float"
   ]
  },
  {
   "cell_type": "code",
   "execution_count": 8,
   "id": "4c05a41d-04cf-447d-9522-435eba2ffe6d",
   "metadata": {},
   "outputs": [
    {
     "data": {
      "text/plain": [
       "5.666666666666667"
      ]
     },
     "execution_count": 8,
     "metadata": {},
     "output_type": "execute_result"
    }
   ],
   "source": [
    "17/3    # classic division returns a float"
   ]
  },
  {
   "cell_type": "code",
   "execution_count": 9,
   "id": "723fd476-2dfc-4076-a180-821bda43e55c",
   "metadata": {},
   "outputs": [
    {
     "data": {
      "text/plain": [
       "5"
      ]
     },
     "execution_count": 9,
     "metadata": {},
     "output_type": "execute_result"
    }
   ],
   "source": [
    "17//3   # floor division discards the factional part"
   ]
  },
  {
   "cell_type": "code",
   "execution_count": 10,
   "id": "0736f995-c05e-4ba6-b5b5-c04cd24ccacc",
   "metadata": {},
   "outputs": [
    {
     "data": {
      "text/plain": [
       "2"
      ]
     },
     "execution_count": 10,
     "metadata": {},
     "output_type": "execute_result"
    }
   ],
   "source": [
    "17 % 3   # the % operator returns the remainder of the division"
   ]
  },
  {
   "cell_type": "code",
   "execution_count": 11,
   "id": "61e775ea-3ee1-42c1-81be-49a448fd2d73",
   "metadata": {},
   "outputs": [
    {
     "data": {
      "text/plain": [
       "17"
      ]
     },
     "execution_count": 11,
     "metadata": {},
     "output_type": "execute_result"
    }
   ],
   "source": [
    "5*3+2  # floored quotient * divisor + remaainder"
   ]
  },
  {
   "cell_type": "code",
   "execution_count": null,
   "id": "1b085861-1d90-4cef-b94b-bc9ebf4c57ea",
   "metadata": {},
   "outputs": [],
   "source": []
  },
  {
   "cell_type": "markdown",
   "id": "a52211ac-1218-409c-9c15-39a8fd1f6ad9",
   "metadata": {},
   "source": [
    "# Calculate powers"
   ]
  },
  {
   "cell_type": "code",
   "execution_count": 12,
   "id": "74647982-825d-4428-b219-64e1d5e4bd5e",
   "metadata": {},
   "outputs": [
    {
     "data": {
      "text/plain": [
       "25"
      ]
     },
     "execution_count": 12,
     "metadata": {},
     "output_type": "execute_result"
    }
   ],
   "source": [
    "5**2  # 5 powwr of 2"
   ]
  },
  {
   "cell_type": "code",
   "execution_count": 13,
   "id": "f75b8ce7-f2b7-4e71-8da9-348499306746",
   "metadata": {},
   "outputs": [
    {
     "data": {
      "text/plain": [
       "128"
      ]
     },
     "execution_count": 13,
     "metadata": {},
     "output_type": "execute_result"
    }
   ],
   "source": [
    "2**7  # 2 power of 7"
   ]
  },
  {
   "cell_type": "code",
   "execution_count": null,
   "id": "c2eb633a-84ab-451e-969c-ea19680363a4",
   "metadata": {},
   "outputs": [],
   "source": []
  },
  {
   "cell_type": "code",
   "execution_count": 14,
   "id": "f80bb94b-02be-4fe6-87b8-25346a9a2b77",
   "metadata": {},
   "outputs": [
    {
     "data": {
      "text/plain": [
       "900"
      ]
     },
     "execution_count": 14,
     "metadata": {},
     "output_type": "execute_result"
    }
   ],
   "source": [
    "width = 20\n",
    "height = 5*9\n",
    "\n",
    "area = width*height\n",
    "area"
   ]
  },
  {
   "cell_type": "code",
   "execution_count": null,
   "id": "cf2e65e6-35ba-48aa-9408-142360998f71",
   "metadata": {},
   "outputs": [],
   "source": []
  },
  {
   "cell_type": "code",
   "execution_count": 15,
   "id": "bbfb8f1b-4dec-4d40-9057-5be819ba4243",
   "metadata": {},
   "outputs": [
    {
     "ename": "NameError",
     "evalue": "name 'n' is not defined",
     "output_type": "error",
     "traceback": [
      "\u001b[1;31m---------------------------------------------------------------------------\u001b[0m",
      "\u001b[1;31mNameError\u001b[0m                                 Traceback (most recent call last)",
      "Cell \u001b[1;32mIn[15], line 1\u001b[0m\n\u001b[1;32m----> 1\u001b[0m n\n",
      "\u001b[1;31mNameError\u001b[0m: name 'n' is not defined"
     ]
    }
   ],
   "source": [
    "n  # variables is not assigned any value"
   ]
  },
  {
   "cell_type": "code",
   "execution_count": null,
   "id": "d7fc6973-c491-489d-962e-ed1f9f2c7a9a",
   "metadata": {},
   "outputs": [],
   "source": []
  },
  {
   "cell_type": "code",
   "execution_count": null,
   "id": "d42bbbc1-7dbb-4678-9a6d-c57a386ef9f4",
   "metadata": {},
   "outputs": [],
   "source": [
    "4*3.73-1   # mixed operands give float"
   ]
  },
  {
   "cell_type": "code",
   "execution_count": null,
   "id": "69a33a40-dd20-4e31-b53e-ecfc59c45f84",
   "metadata": {},
   "outputs": [],
   "source": []
  },
  {
   "cell_type": "code",
   "execution_count": null,
   "id": "ee22fa0f-f626-41ae-b9df-b89266ec38d1",
   "metadata": {},
   "outputs": [],
   "source": [
    "tax = 12.5/100"
   ]
  },
  {
   "cell_type": "code",
   "execution_count": null,
   "id": "c2e3ae0b-bc09-4e94-ab50-2442b4c4ff00",
   "metadata": {},
   "outputs": [],
   "source": [
    "price = 100.50"
   ]
  },
  {
   "cell_type": "code",
   "execution_count": null,
   "id": "e160c626-9032-43f6-908c-6bc89462fe94",
   "metadata": {},
   "outputs": [],
   "source": [
    "price * tax"
   ]
  },
  {
   "cell_type": "code",
   "execution_count": null,
   "id": "a3e9eea9-ae1e-4de0-8715-2aa51f5b99ee",
   "metadata": {},
   "outputs": [],
   "source": [
    "_"
   ]
  },
  {
   "cell_type": "code",
   "execution_count": null,
   "id": "7322bb53-3fc0-4403-a853-1a4bbda04674",
   "metadata": {},
   "outputs": [],
   "source": [
    "price + _"
   ]
  },
  {
   "cell_type": "code",
   "execution_count": null,
   "id": "3186eb9f-a0cf-4f2a-b0c5-91c9bd43e480",
   "metadata": {},
   "outputs": [],
   "source": [
    "round(_, 2)"
   ]
  },
  {
   "cell_type": "code",
   "execution_count": null,
   "id": "02fea9b9-f237-49a5-8271-278393cace72",
   "metadata": {},
   "outputs": [],
   "source": []
  },
  {
   "cell_type": "markdown",
   "id": "ebb2ab22-fce3-427d-bcd3-6152f1593f09",
   "metadata": {},
   "source": [
    "# Text"
   ]
  },
  {
   "cell_type": "code",
   "execution_count": null,
   "id": "317ae6fe-8460-41be-b186-4339dd6034b1",
   "metadata": {},
   "outputs": [],
   "source": [
    "'Spam eggs'  #single quotes string"
   ]
  },
  {
   "cell_type": "code",
   "execution_count": null,
   "id": "e1226c9e-464b-4551-92fb-91d5c812a858",
   "metadata": {},
   "outputs": [],
   "source": [
    "\"Paris rabbit goy your back:)! Yay!\"  # double quote string with special characters"
   ]
  },
  {
   "cell_type": "code",
   "execution_count": null,
   "id": "5c1ed1ad-f583-4453-a394-b33649fdce00",
   "metadata": {},
   "outputs": [],
   "source": [
    "'1975'    # digits and numrals enclosed in quotes are also strings"
   ]
  },
  {
   "cell_type": "code",
   "execution_count": null,
   "id": "fc176853-8632-4de2-b755-555ceb8ce6db",
   "metadata": {},
   "outputs": [],
   "source": []
  },
  {
   "cell_type": "markdown",
   "id": "d92da4fe-fd9e-421b-b92b-2ce47ea3dcfd",
   "metadata": {},
   "source": [
    "# Escaping quotes"
   ]
  },
  {
   "cell_type": "code",
   "execution_count": null,
   "id": "e7979a83-50f8-4f13-a284-5a61e212bccf",
   "metadata": {},
   "outputs": [],
   "source": [
    "'doesn\\'t'   # use \\' to escape the single quote"
   ]
  },
  {
   "cell_type": "code",
   "execution_count": null,
   "id": "7ac8910b-aa30-4092-a9aa-a14be46b3d63",
   "metadata": {},
   "outputs": [],
   "source": [
    "\"doesn't\"   # or we can use double quotes"
   ]
  },
  {
   "cell_type": "code",
   "execution_count": null,
   "id": "c5115dc5-2edb-4ed9-8e8b-2491ed065380",
   "metadata": {},
   "outputs": [],
   "source": [
    "'\"yes,\" they said'"
   ]
  },
  {
   "cell_type": "code",
   "execution_count": null,
   "id": "2b582b0b-bc69-4f2b-8502-b9168f8130bf",
   "metadata": {},
   "outputs": [],
   "source": [
    "'\\\"yes,\"they said'"
   ]
  },
  {
   "cell_type": "code",
   "execution_count": null,
   "id": "91e63de1-ba85-4e41-aecb-154bc8bb9523",
   "metadata": {},
   "outputs": [],
   "source": [
    "'\"Isn\\'t,\" they said'"
   ]
  },
  {
   "cell_type": "code",
   "execution_count": null,
   "id": "0dff00a3-3af7-49e3-ac28-ed13ad36dc1e",
   "metadata": {},
   "outputs": [],
   "source": []
  },
  {
   "cell_type": "markdown",
   "id": "8fb21f8e-efba-41c8-b33e-0ae5adbb1587",
   "metadata": {},
   "source": [
    "# Escaping line"
   ]
  },
  {
   "cell_type": "code",
   "execution_count": null,
   "id": "4a1a2562-1008-4aba-a029-d54666b6c53c",
   "metadata": {},
   "outputs": [],
   "source": [
    "s = 'First line.\\nSecond line.'\n",
    "s\n",
    "\n",
    "# Without print function, \\n is considered as a part of the string"
   ]
  },
  {
   "cell_type": "code",
   "execution_count": null,
   "id": "6829a2c3-a72f-4093-a048-b95d192d4a0d",
   "metadata": {},
   "outputs": [],
   "source": [
    "print(s)"
   ]
  },
  {
   "cell_type": "code",
   "execution_count": null,
   "id": "26337d91-afcf-4041-b553-89357c60bc0b",
   "metadata": {},
   "outputs": [],
   "source": []
  },
  {
   "cell_type": "code",
   "execution_count": null,
   "id": "e547f00a-c71b-4bb0-918b-240ab24117ce",
   "metadata": {},
   "outputs": [],
   "source": [
    "print('C:\\some\\name')    # \\ in string is followed by n, so it interprets as \\n => new line "
   ]
  },
  {
   "cell_type": "code",
   "execution_count": null,
   "id": "75d68c99-94a6-4c69-95f1-0b79a1f93194",
   "metadata": {},
   "outputs": [],
   "source": [
    "print(r'C:some\\name')    # adding r before the quote solves this issue"
   ]
  },
  {
   "cell_type": "code",
   "execution_count": null,
   "id": "13fc0a16-a92c-40ec-a547-606094a79906",
   "metadata": {},
   "outputs": [],
   "source": []
  },
  {
   "cell_type": "code",
   "execution_count": null,
   "id": "a389f1d7-889a-46b5-9ffc-f73203fe096d",
   "metadata": {},
   "outputs": [],
   "source": [
    "# Multiple  line strings"
   ]
  },
  {
   "cell_type": "code",
   "execution_count": null,
   "id": "550f4f45-f0cb-4958-9cda-04f8c0ad9968",
   "metadata": {},
   "outputs": [],
   "source": [
    "print('''Usage:thingy[OPTIONS]    \n",
    "-h\n",
    "-H hostname''')\n",
    "\n",
    "# can use '''  ''' quotes for multiline string"
   ]
  },
  {
   "cell_type": "code",
   "execution_count": null,
   "id": "644dea78-3481-4f97-ace6-7894860c765f",
   "metadata": {},
   "outputs": [],
   "source": [
    "print(\"\"\"\\\n",
    "      Usage:thingy[OPTIONS]\n",
    "      -h\n",
    "      -H hostname\n",
    "      \"\"\")\n",
    "\n",
    "# or we can use  \"\"\"\\   \"\"\""
   ]
  },
  {
   "cell_type": "markdown",
   "id": "3da65ab1-39ec-4df4-82f9-04697e6cea5f",
   "metadata": {},
   "source": [
    "# Joining strings"
   ]
  },
  {
   "cell_type": "code",
   "execution_count": null,
   "id": "fe9ce567-b5af-4261-91ba-0dd8c0c1d012",
   "metadata": {},
   "outputs": [],
   "source": [
    "# 3 times 'un' followed by 'ium'\n",
    "\n",
    "3*'un' + 'ium'"
   ]
  },
  {
   "cell_type": "code",
   "execution_count": null,
   "id": "603d2640-aa17-418f-bf44-d8b6a669574d",
   "metadata": {},
   "outputs": [],
   "source": [
    "# Multiple strings in quotes next to each other are automatically joined together\n",
    "\n",
    "'p' 'y' 'thon'"
   ]
  },
  {
   "cell_type": "code",
   "execution_count": null,
   "id": "f31984af-ceeb-4dcf-8131-5d6502b4a78a",
   "metadata": {},
   "outputs": [],
   "source": [
    "'put several strings within parentheses'  'to have them joined together'"
   ]
  },
  {
   "cell_type": "code",
   "execution_count": null,
   "id": "88e96e2a-f943-4d6b-9651-78bde960f7e1",
   "metadata": {},
   "outputs": [],
   "source": [
    "text = ('put several strings within parentheses '\n",
    "        'to have them joined together.')\n",
    "text"
   ]
  },
  {
   "cell_type": "code",
   "execution_count": null,
   "id": "e731342c-0373-4670-aa06-39ab4a2e74ca",
   "metadata": {},
   "outputs": [],
   "source": []
  },
  {
   "cell_type": "code",
   "execution_count": null,
   "id": "64cf78be-cedd-4639-b4ad-59198682e6a5",
   "metadata": {},
   "outputs": [],
   "source": [
    "prefix = 'Py'\n",
    "prefix'thon'\n",
    "\n",
    "# joining wont work for a string and variable together"
   ]
  },
  {
   "cell_type": "code",
   "execution_count": null,
   "id": "34ef8474-3590-46d5-899d-6506839147f8",
   "metadata": {},
   "outputs": [],
   "source": [
    "# for variable and string we need to use + operator\n",
    "\n",
    "prefix = 'py'\n",
    "prefix + 'thon'"
   ]
  },
  {
   "cell_type": "code",
   "execution_count": null,
   "id": "fd989ee2-12ad-43db-b5a2-9668d16f368c",
   "metadata": {},
   "outputs": [],
   "source": []
  },
  {
   "cell_type": "code",
   "execution_count": null,
   "id": "f84f467c-77ef-4890-92a1-66059a939120",
   "metadata": {},
   "outputs": [],
   "source": [
    "word = 'Python'\n",
    "print(word[0])\n",
    "print(word[5])"
   ]
  },
  {
   "cell_type": "code",
   "execution_count": null,
   "id": "81cf4b20-cacb-40e6-919d-2c4595852048",
   "metadata": {},
   "outputs": [],
   "source": [
    "word[-1]"
   ]
  },
  {
   "cell_type": "code",
   "execution_count": null,
   "id": "ad26fd60-06cf-4c5d-a7ab-d559ec69b126",
   "metadata": {},
   "outputs": [],
   "source": [
    "word[-3]"
   ]
  },
  {
   "cell_type": "code",
   "execution_count": null,
   "id": "fc5cb8f2-773e-4e4b-bc65-38f823da1cb7",
   "metadata": {},
   "outputs": [],
   "source": [
    "word[0:2]  # slicing"
   ]
  },
  {
   "cell_type": "code",
   "execution_count": null,
   "id": "4e1f436a-6ca2-4087-b19d-10cdf5d7e45a",
   "metadata": {},
   "outputs": [],
   "source": [
    "word[2:5]"
   ]
  },
  {
   "cell_type": "code",
   "execution_count": null,
   "id": "16c7a4d4-94e3-40de-a003-67636f4bc418",
   "metadata": {},
   "outputs": [],
   "source": [
    "word[:2]"
   ]
  },
  {
   "cell_type": "code",
   "execution_count": null,
   "id": "71f0653e-abf7-4478-96f4-f0084113f2e9",
   "metadata": {},
   "outputs": [],
   "source": [
    "word[2:]"
   ]
  },
  {
   "cell_type": "code",
   "execution_count": null,
   "id": "0535c5fa-3d83-479c-ae14-f59ff9fc7e23",
   "metadata": {},
   "outputs": [],
   "source": [
    "word[-2:]"
   ]
  },
  {
   "cell_type": "code",
   "execution_count": null,
   "id": "3481d47c-adc0-4a86-80e3-f6b18b156ece",
   "metadata": {},
   "outputs": [],
   "source": [
    "word[:2] + word[2:]"
   ]
  },
  {
   "cell_type": "code",
   "execution_count": null,
   "id": "dea0ee2e-c8c9-484b-96a1-48a65481ddff",
   "metadata": {},
   "outputs": [],
   "source": [
    "word[:4] + word[4:]"
   ]
  },
  {
   "cell_type": "code",
   "execution_count": null,
   "id": "857e33f0-799b-47d7-9c51-5b4a5c860ba1",
   "metadata": {},
   "outputs": [],
   "source": []
  },
  {
   "cell_type": "code",
   "execution_count": null,
   "id": "632bc187-ed74-4196-ba9a-b5e4bf1f5d2c",
   "metadata": {},
   "outputs": [],
   "source": [
    "word[42]  # 6 characters in word string"
   ]
  },
  {
   "cell_type": "code",
   "execution_count": null,
   "id": "6351d1c1-9fc4-4149-9061-7d9e889bc131",
   "metadata": {},
   "outputs": [],
   "source": [
    "word[4:42]"
   ]
  },
  {
   "cell_type": "code",
   "execution_count": null,
   "id": "994dc60f-4495-4544-88c9-3b0e951e9b39",
   "metadata": {},
   "outputs": [],
   "source": [
    "word[42:]   # out of range slicing"
   ]
  },
  {
   "cell_type": "code",
   "execution_count": null,
   "id": "db09bd23-0462-44d9-be30-d2f8c9d0b8f1",
   "metadata": {},
   "outputs": [],
   "source": []
  },
  {
   "cell_type": "code",
   "execution_count": null,
   "id": "fbf8a33a-6f07-401a-8d87-03f3f7be82b9",
   "metadata": {},
   "outputs": [],
   "source": [
    "word[0] = 'j'\n",
    "\n",
    "# python strings cannot be changed , they are immutable"
   ]
  },
  {
   "cell_type": "code",
   "execution_count": null,
   "id": "a13bf2b3-4abd-42ff-9133-482152b6b8c7",
   "metadata": {},
   "outputs": [],
   "source": [
    "# but they can be added partially or fully to make a new string\n",
    "\n",
    "'j'+word[1:]"
   ]
  },
  {
   "cell_type": "code",
   "execution_count": null,
   "id": "4086df4d-5edb-494c-9ba8-4beb0504056f",
   "metadata": {},
   "outputs": [],
   "source": [
    "word[3:5] + 'la'"
   ]
  },
  {
   "cell_type": "code",
   "execution_count": null,
   "id": "a40bc040-ef3b-4ab3-9058-707990f23f8f",
   "metadata": {},
   "outputs": [],
   "source": []
  },
  {
   "cell_type": "code",
   "execution_count": null,
   "id": "f575bf42-b63f-463d-8e56-c5aa976c4a66",
   "metadata": {},
   "outputs": [],
   "source": [
    "s = 'supercalifrgilisticexpialidocius'   # length of string"
   ]
  },
  {
   "cell_type": "code",
   "execution_count": null,
   "id": "c277344a-0993-445c-a6a9-180d2de70743",
   "metadata": {},
   "outputs": [],
   "source": [
    "len(s)"
   ]
  },
  {
   "cell_type": "code",
   "execution_count": null,
   "id": "650376e4-aef1-498f-8732-c3cf3c2edd49",
   "metadata": {},
   "outputs": [],
   "source": []
  },
  {
   "cell_type": "markdown",
   "id": "26398696-03f1-463b-aedf-4b0942adb438",
   "metadata": {},
   "source": [
    "# Lists"
   ]
  },
  {
   "cell_type": "code",
   "execution_count": null,
   "id": "56deb1c9-ab00-4535-8d99-fca3f2fac0f5",
   "metadata": {},
   "outputs": [],
   "source": [
    "squares = [1,4,9,16,25]"
   ]
  },
  {
   "cell_type": "code",
   "execution_count": null,
   "id": "7b2eaa56-43ac-41c1-82a3-3429c5feca05",
   "metadata": {},
   "outputs": [],
   "source": [
    "squares"
   ]
  },
  {
   "cell_type": "code",
   "execution_count": null,
   "id": "480dfe76-1552-4915-ad20-12a4bba876f9",
   "metadata": {},
   "outputs": [],
   "source": [
    "squares[0]"
   ]
  },
  {
   "cell_type": "code",
   "execution_count": null,
   "id": "e0143c10-f652-4763-bfe3-af8ee4b30887",
   "metadata": {},
   "outputs": [],
   "source": [
    "squares[-3:]"
   ]
  },
  {
   "cell_type": "code",
   "execution_count": null,
   "id": "7426afbc-12d9-4612-a6f3-3cc3ea08938b",
   "metadata": {},
   "outputs": [],
   "source": [
    "squares[--3:]"
   ]
  },
  {
   "cell_type": "code",
   "execution_count": null,
   "id": "56e95314-8596-4051-bd01-e4c26603e2d0",
   "metadata": {},
   "outputs": [],
   "source": [
    "squares = squares + [36,49,64,80,100]\n",
    "squares"
   ]
  },
  {
   "cell_type": "code",
   "execution_count": null,
   "id": "e611a788-6d28-437e-8a5c-705e44c3318c",
   "metadata": {},
   "outputs": [],
   "source": [
    "squares[8] = 81\n",
    "squares"
   ]
  },
  {
   "cell_type": "code",
   "execution_count": null,
   "id": "65339608-6743-4518-a6f3-bd2eb45282dc",
   "metadata": {},
   "outputs": [],
   "source": [
    "squares.append(121)"
   ]
  },
  {
   "cell_type": "code",
   "execution_count": null,
   "id": "9f7f0755-4c6a-4052-b845-9bee9fe9689e",
   "metadata": {},
   "outputs": [],
   "source": [
    "squares"
   ]
  },
  {
   "cell_type": "code",
   "execution_count": null,
   "id": "321d7e6f-27db-45a1-a3e0-eac6fc5f0680",
   "metadata": {},
   "outputs": [],
   "source": []
  },
  {
   "cell_type": "markdown",
   "id": "c8bfec3b-6282-486e-bc26-bcf283cfeb73",
   "metadata": {},
   "source": [
    "# variable copy"
   ]
  },
  {
   "cell_type": "code",
   "execution_count": null,
   "id": "0044e118-4978-4267-a0c2-34755991d6f9",
   "metadata": {},
   "outputs": [],
   "source": [
    "rgb = [\"red\",\"green\",\"blue\"]\n",
    "rgb"
   ]
  },
  {
   "cell_type": "code",
   "execution_count": null,
   "id": "f05de904-1354-44bc-a338-7db851c33984",
   "metadata": {},
   "outputs": [],
   "source": [
    "rgby = rgb\n",
    "rgby"
   ]
  },
  {
   "cell_type": "code",
   "execution_count": null,
   "id": "196ff92b-483e-4e94-9b81-797a92003dc7",
   "metadata": {},
   "outputs": [],
   "source": [
    "id(rgb) == id(rgby)"
   ]
  },
  {
   "cell_type": "code",
   "execution_count": null,
   "id": "28691560-111e-4f59-8f27-5f3058b74196",
   "metadata": {},
   "outputs": [],
   "source": [
    "rgby.append('yellow')"
   ]
  },
  {
   "cell_type": "code",
   "execution_count": null,
   "id": "33581d56-00ca-4233-8eb6-179c27d05773",
   "metadata": {},
   "outputs": [],
   "source": [
    "rgby"
   ]
  },
  {
   "cell_type": "code",
   "execution_count": null,
   "id": "3c8684db-25a1-4e20-966b-44b56e156276",
   "metadata": {},
   "outputs": [],
   "source": []
  },
  {
   "cell_type": "code",
   "execution_count": null,
   "id": "b6b985c4-7990-4161-8ec3-1ed1c92ce32a",
   "metadata": {},
   "outputs": [],
   "source": [
    "correct_rgby = rgby[:]"
   ]
  },
  {
   "cell_type": "code",
   "execution_count": null,
   "id": "39eb973b-a15a-4ec8-92df-4f3bcb62a8b0",
   "metadata": {},
   "outputs": [],
   "source": [
    "correct_rgby[-1] = 'yelow'"
   ]
  },
  {
   "cell_type": "code",
   "execution_count": null,
   "id": "ae97de0b-16c0-4b80-ad0c-33d5d3657275",
   "metadata": {},
   "outputs": [],
   "source": [
    "correct_rgby"
   ]
  },
  {
   "cell_type": "code",
   "execution_count": null,
   "id": "56965157-1364-41b9-883f-fdc561e66c3f",
   "metadata": {},
   "outputs": [],
   "source": []
  },
  {
   "cell_type": "markdown",
   "id": "32be13b9-f2b7-45e5-b2e7-237e26223e23",
   "metadata": {},
   "source": [
    "# assignment to slices"
   ]
  },
  {
   "cell_type": "code",
   "execution_count": null,
   "id": "2672afc6-9b30-4fcc-89bf-ad3205d4ef40",
   "metadata": {},
   "outputs": [],
   "source": [
    "letters = ['a','b','c','d','e','f','g']"
   ]
  },
  {
   "cell_type": "code",
   "execution_count": null,
   "id": "7c682fc3-662e-4bd3-af38-32a814f8585e",
   "metadata": {},
   "outputs": [],
   "source": [
    "letters"
   ]
  },
  {
   "cell_type": "code",
   "execution_count": null,
   "id": "64f19275-7288-491d-8c9a-0d244c8b31aa",
   "metadata": {},
   "outputs": [],
   "source": [
    "letters[2:5]"
   ]
  },
  {
   "cell_type": "code",
   "execution_count": null,
   "id": "940d867a-4dc0-47c2-ad8d-192feb318511",
   "metadata": {},
   "outputs": [],
   "source": [
    "letters[2:5] = ['C','D','E']   #replace items using slicing"
   ]
  },
  {
   "cell_type": "code",
   "execution_count": null,
   "id": "538528ce-f392-4ec0-8e33-8791a2e416bc",
   "metadata": {},
   "outputs": [],
   "source": [
    "\n",
    "letters"
   ]
  },
  {
   "cell_type": "code",
   "execution_count": null,
   "id": "ba485ac0-c0dc-4eea-b01f-073389585d36",
   "metadata": {},
   "outputs": [],
   "source": [
    "letters[2:5] = []    # removing items using slicing"
   ]
  },
  {
   "cell_type": "code",
   "execution_count": null,
   "id": "8f0f91c6-b8ab-4884-b8f8-27013952cab4",
   "metadata": {},
   "outputs": [],
   "source": [
    "\n",
    "letters"
   ]
  },
  {
   "cell_type": "code",
   "execution_count": null,
   "id": "46863c95-faa5-4b1a-b88d-fd068aa83489",
   "metadata": {},
   "outputs": [],
   "source": [
    "letters[:] = []   # claering all items"
   ]
  },
  {
   "cell_type": "code",
   "execution_count": null,
   "id": "d06b52f0-ac3b-4430-af4d-56cffede2923",
   "metadata": {},
   "outputs": [],
   "source": [
    "letters"
   ]
  },
  {
   "cell_type": "code",
   "execution_count": null,
   "id": "456932da-f9b7-4271-9a6a-737dc2e4df54",
   "metadata": {},
   "outputs": [],
   "source": []
  },
  {
   "cell_type": "code",
   "execution_count": null,
   "id": "6dfce247-69cd-4bac-bd20-2a82a7e58080",
   "metadata": {},
   "outputs": [],
   "source": [
    "letters = ['a','b','c','d']"
   ]
  },
  {
   "cell_type": "code",
   "execution_count": null,
   "id": "a6c130bc-8255-435d-b2c3-9d7a7e1c959f",
   "metadata": {},
   "outputs": [],
   "source": [
    "letters"
   ]
  },
  {
   "cell_type": "code",
   "execution_count": null,
   "id": "49fb0527-f00f-4cc2-a3f7-de383d271b2e",
   "metadata": {},
   "outputs": [],
   "source": [
    "len(letters)"
   ]
  },
  {
   "cell_type": "code",
   "execution_count": null,
   "id": "c5e088a1-827e-48be-a1d6-8b0251d016d3",
   "metadata": {},
   "outputs": [],
   "source": []
  },
  {
   "cell_type": "markdown",
   "id": "292e2810-a477-4591-93c7-771e300287b7",
   "metadata": {},
   "source": [
    "# nestlists"
   ]
  },
  {
   "cell_type": "code",
   "execution_count": null,
   "id": "e228de2f-a333-44a6-b12f-6db01ba040e5",
   "metadata": {},
   "outputs": [],
   "source": [
    "a = ['a','b','c']\n",
    "n = [1,2,3]\n",
    "x = [a,n]"
   ]
  },
  {
   "cell_type": "code",
   "execution_count": null,
   "id": "23bc9d0a-3b04-4796-a2a2-89f0609afdfe",
   "metadata": {},
   "outputs": [],
   "source": [
    "x"
   ]
  },
  {
   "cell_type": "code",
   "execution_count": null,
   "id": "f9508090-d5eb-47d6-bdc7-0c0f9061ee80",
   "metadata": {},
   "outputs": [],
   "source": [
    "x[0]"
   ]
  },
  {
   "cell_type": "code",
   "execution_count": null,
   "id": "01be043b-a6d7-4bbb-b7ac-d7c93db68242",
   "metadata": {},
   "outputs": [],
   "source": [
    "x[1][2]"
   ]
  },
  {
   "cell_type": "code",
   "execution_count": null,
   "id": "6f3f08d1-4b68-4bd9-8ad2-c83d55d0024e",
   "metadata": {},
   "outputs": [],
   "source": []
  },
  {
   "cell_type": "markdown",
   "id": "8dcdae16-fead-4fac-b24c-82cba2d60a12",
   "metadata": {},
   "source": [
    "# fibonacci series code"
   ]
  },
  {
   "cell_type": "code",
   "execution_count": 22,
   "id": "bda5cb29-fed6-4e0f-b85b-973c2443933e",
   "metadata": {},
   "outputs": [
    {
     "name": "stdout",
     "output_type": "stream",
     "text": [
      "0\n",
      "1\n",
      "1\n",
      "2\n",
      "3\n",
      "5\n",
      "8\n",
      "13\n",
      "21\n",
      "34\n",
      "55\n",
      "89\n",
      "144\n",
      "233\n",
      "377\n",
      "610\n",
      "987\n"
     ]
    }
   ],
   "source": [
    "# fibonacci series - the sum of two preceding elements defines the next element\n",
    "\n",
    "a, b = 0, 1\n",
    "while a<1000:\n",
    "    print(a)\n",
    "    a,b = b,a+b"
   ]
  },
  {
   "cell_type": "code",
   "execution_count": null,
   "id": "16264318-4229-4d6c-bb8c-b3fe47cbd3a2",
   "metadata": {},
   "outputs": [],
   "source": []
  },
  {
   "cell_type": "code",
   "execution_count": 20,
   "id": "cf6dd1b0-4a5a-4fbd-b969-dc74c4c94267",
   "metadata": {},
   "outputs": [
    {
     "name": "stdout",
     "output_type": "stream",
     "text": [
      "The value of i is: 65536\n"
     ]
    }
   ],
   "source": [
    "i = 256*256\n",
    "print('The value of i is:',i)"
   ]
  },
  {
   "cell_type": "code",
   "execution_count": null,
   "id": "4451a477-5a34-4659-88d2-63d24714cab5",
   "metadata": {},
   "outputs": [],
   "source": []
  },
  {
   "cell_type": "code",
   "execution_count": 21,
   "id": "67b8c36e-826d-4be5-95bf-ba4bc7ab61c6",
   "metadata": {},
   "outputs": [
    {
     "name": "stdout",
     "output_type": "stream",
     "text": [
      "0,1,1,2,3,5,8,13,21,34,55,89,144,233,377,610,987,"
     ]
    }
   ],
   "source": [
    "a,b = 0,1\n",
    "while a<1000:\n",
    "    print(a, end=',')\n",
    "    a,b = b,a+b"
   ]
  },
  {
   "cell_type": "code",
   "execution_count": null,
   "id": "da64b756-6eff-45af-8694-573897cfeab8",
   "metadata": {},
   "outputs": [],
   "source": []
  },
  {
   "cell_type": "code",
   "execution_count": 23,
   "id": "0683d936-a1c0-4f76-b6d1-dca9207337ff",
   "metadata": {},
   "outputs": [
    {
     "data": {
      "text/plain": [
       "-9"
      ]
     },
     "execution_count": 23,
     "metadata": {},
     "output_type": "execute_result"
    }
   ],
   "source": [
    "-3**2     # ** has higher precedence than - : BODMAS rule"
   ]
  },
  {
   "cell_type": "code",
   "execution_count": 25,
   "id": "1091956a-769e-4530-a0ef-bcb34fe90f9e",
   "metadata": {},
   "outputs": [
    {
     "data": {
      "text/plain": [
       "9"
      ]
     },
     "execution_count": 25,
     "metadata": {},
     "output_type": "execute_result"
    }
   ],
   "source": [
    "(-3)**2   # to avoid wrong calculation"
   ]
  },
  {
   "cell_type": "code",
   "execution_count": null,
   "id": "9e7a7103-a8ce-4de1-bafe-e16edd9845c3",
   "metadata": {},
   "outputs": [],
   "source": []
  },
  {
   "cell_type": "code",
   "execution_count": 45,
   "id": "e0b98581-aa5a-407a-983d-3cd06ed76765",
   "metadata": {},
   "outputs": [
    {
     "data": {
      "text/plain": [
       "'Nit\\nAmeerpet'"
      ]
     },
     "execution_count": 45,
     "metadata": {},
     "output_type": "execute_result"
    }
   ],
   "source": [
    "'Nit\\nAmeerpet'"
   ]
  },
  {
   "cell_type": "code",
   "execution_count": 41,
   "id": "202a6bd1-70c6-4ac5-815e-e0da398b560a",
   "metadata": {},
   "outputs": [
    {
     "name": "stdout",
     "output_type": "stream",
     "text": [
      "Nit\n",
      "Ameerpet\n"
     ]
    }
   ],
   "source": [
    "print('Nit\\nAmeerpet')"
   ]
  },
  {
   "cell_type": "code",
   "execution_count": null,
   "id": "d7a992aa-f6b4-4f7e-89f9-a36112ccdf12",
   "metadata": {},
   "outputs": [],
   "source": []
  }
 ],
 "metadata": {
  "kernelspec": {
   "display_name": "Python [conda env:base] *",
   "language": "python",
   "name": "conda-base-py"
  },
  "language_info": {
   "codemirror_mode": {
    "name": "ipython",
    "version": 3
   },
   "file_extension": ".py",
   "mimetype": "text/x-python",
   "name": "python",
   "nbconvert_exporter": "python",
   "pygments_lexer": "ipython3",
   "version": "3.12.7"
  }
 },
 "nbformat": 4,
 "nbformat_minor": 5
}
