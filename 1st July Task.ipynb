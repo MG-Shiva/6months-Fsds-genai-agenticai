{
 "cells": [
  {
   "cell_type": "markdown",
   "id": "3103ce3b-8c88-4d3a-bbd2-c977594a2182",
   "metadata": {},
   "source": [
    "# Arithmetic operator"
   ]
  },
  {
   "cell_type": "code",
   "execution_count": 1,
   "id": "2e310448-4148-471f-ac2c-e0a7db89e9ba",
   "metadata": {},
   "outputs": [],
   "source": [
    "x1, y1 = 10, 5"
   ]
  },
  {
   "cell_type": "code",
   "execution_count": 2,
   "id": "fc2c17f2-48ee-4d75-a33f-c7ceafb34944",
   "metadata": {},
   "outputs": [
    {
     "data": {
      "text/plain": [
       "15"
      ]
     },
     "execution_count": 2,
     "metadata": {},
     "output_type": "execute_result"
    }
   ],
   "source": [
    "x1+y1"
   ]
  },
  {
   "cell_type": "code",
   "execution_count": 3,
   "id": "046a9527-bcac-4a13-9c60-f785b03e4329",
   "metadata": {},
   "outputs": [
    {
     "data": {
      "text/plain": [
       "5"
      ]
     },
     "execution_count": 3,
     "metadata": {},
     "output_type": "execute_result"
    }
   ],
   "source": [
    "x1-y1"
   ]
  },
  {
   "cell_type": "code",
   "execution_count": 4,
   "id": "3dbdc697-a05a-40bf-9b98-d16dfb97a99f",
   "metadata": {},
   "outputs": [
    {
     "data": {
      "text/plain": [
       "50"
      ]
     },
     "execution_count": 4,
     "metadata": {},
     "output_type": "execute_result"
    }
   ],
   "source": [
    "x1*y1"
   ]
  },
  {
   "cell_type": "code",
   "execution_count": 5,
   "id": "e71ff5bc-b83f-4d0d-b1bf-893234c02a77",
   "metadata": {},
   "outputs": [
    {
     "data": {
      "text/plain": [
       "2.0"
      ]
     },
     "execution_count": 5,
     "metadata": {},
     "output_type": "execute_result"
    }
   ],
   "source": [
    "x1/y1"
   ]
  },
  {
   "cell_type": "code",
   "execution_count": 6,
   "id": "e6b3fbd5-caa9-4c38-93e4-132628e0630d",
   "metadata": {},
   "outputs": [
    {
     "data": {
      "text/plain": [
       "2"
      ]
     },
     "execution_count": 6,
     "metadata": {},
     "output_type": "execute_result"
    }
   ],
   "source": [
    "x1//y1"
   ]
  },
  {
   "cell_type": "code",
   "execution_count": 7,
   "id": "3570ec6d-d8a4-4a52-a444-2f6be24823e2",
   "metadata": {},
   "outputs": [
    {
     "data": {
      "text/plain": [
       "0"
      ]
     },
     "execution_count": 7,
     "metadata": {},
     "output_type": "execute_result"
    }
   ],
   "source": [
    "x1%y1"
   ]
  },
  {
   "cell_type": "code",
   "execution_count": 8,
   "id": "9f4bd1b3-6f51-41ba-95d7-6c52e3ee265e",
   "metadata": {},
   "outputs": [
    {
     "data": {
      "text/plain": [
       "100000"
      ]
     },
     "execution_count": 8,
     "metadata": {},
     "output_type": "execute_result"
    }
   ],
   "source": [
    "x1**y1"
   ]
  },
  {
   "cell_type": "code",
   "execution_count": 9,
   "id": "9923f87c-df41-4248-86d9-e9a51a6e1b98",
   "metadata": {},
   "outputs": [
    {
     "data": {
      "text/plain": [
       "27"
      ]
     },
     "execution_count": 9,
     "metadata": {},
     "output_type": "execute_result"
    }
   ],
   "source": [
    "x2 = 3\n",
    "y2 = 3\n",
    "\n",
    "x2**y2"
   ]
  },
  {
   "cell_type": "code",
   "execution_count": null,
   "id": "5e3059e8-76d5-4ae7-8687-53dc52b705a9",
   "metadata": {},
   "outputs": [],
   "source": []
  },
  {
   "cell_type": "markdown",
   "id": "384366a8-8b53-4cbe-80e5-f33339b7d5ed",
   "metadata": {},
   "source": [
    "# Assignment operator"
   ]
  },
  {
   "cell_type": "code",
   "execution_count": 10,
   "id": "56cd9cac-938f-405c-b4ce-5b6c01c7e968",
   "metadata": {},
   "outputs": [],
   "source": [
    "x = 2"
   ]
  },
  {
   "cell_type": "code",
   "execution_count": 11,
   "id": "3048b20f-59f2-4a8a-9c73-2da29c1bced8",
   "metadata": {},
   "outputs": [
    {
     "data": {
      "text/plain": [
       "4"
      ]
     },
     "execution_count": 11,
     "metadata": {},
     "output_type": "execute_result"
    }
   ],
   "source": [
    "x = x+2\n",
    "x"
   ]
  },
  {
   "cell_type": "code",
   "execution_count": 12,
   "id": "099c296d-f823-46e7-af9b-4404e6627006",
   "metadata": {},
   "outputs": [
    {
     "data": {
      "text/plain": [
       "6"
      ]
     },
     "execution_count": 12,
     "metadata": {},
     "output_type": "execute_result"
    }
   ],
   "source": [
    "x += 2\n",
    "x"
   ]
  },
  {
   "cell_type": "code",
   "execution_count": 13,
   "id": "2a01f6c6-e2ae-48c7-990a-9f094c6c3cae",
   "metadata": {},
   "outputs": [
    {
     "data": {
      "text/plain": [
       "8"
      ]
     },
     "execution_count": 13,
     "metadata": {},
     "output_type": "execute_result"
    }
   ],
   "source": [
    "x += 2\n",
    "x"
   ]
  },
  {
   "cell_type": "code",
   "execution_count": 14,
   "id": "344bc0ea-955b-4cf1-a810-8ecf31d29b40",
   "metadata": {},
   "outputs": [
    {
     "data": {
      "text/plain": [
       "16"
      ]
     },
     "execution_count": 14,
     "metadata": {},
     "output_type": "execute_result"
    }
   ],
   "source": [
    "x *= 2\n",
    "x"
   ]
  },
  {
   "cell_type": "code",
   "execution_count": 15,
   "id": "9b7a81c7-3baa-44da-82fd-4e14b8f9494e",
   "metadata": {},
   "outputs": [
    {
     "data": {
      "text/plain": [
       "14"
      ]
     },
     "execution_count": 15,
     "metadata": {},
     "output_type": "execute_result"
    }
   ],
   "source": [
    "x -= 2\n",
    "x"
   ]
  },
  {
   "cell_type": "code",
   "execution_count": 16,
   "id": "e3f942c3-8110-4a0c-933d-20ce2066b9ad",
   "metadata": {},
   "outputs": [
    {
     "data": {
      "text/plain": [
       "7.0"
      ]
     },
     "execution_count": 16,
     "metadata": {},
     "output_type": "execute_result"
    }
   ],
   "source": [
    "x /= 2\n",
    "x"
   ]
  },
  {
   "cell_type": "code",
   "execution_count": 17,
   "id": "7aaddefa-3860-4194-bd7d-fbe6589aff19",
   "metadata": {},
   "outputs": [
    {
     "data": {
      "text/plain": [
       "3.0"
      ]
     },
     "execution_count": 17,
     "metadata": {},
     "output_type": "execute_result"
    }
   ],
   "source": [
    "x //= 2\n",
    "x"
   ]
  },
  {
   "cell_type": "code",
   "execution_count": 18,
   "id": "2cf61583-e203-4067-a06c-2c494dbfee22",
   "metadata": {},
   "outputs": [
    {
     "data": {
      "text/plain": [
       "1.0"
      ]
     },
     "execution_count": 18,
     "metadata": {},
     "output_type": "execute_result"
    }
   ],
   "source": [
    "x %= 2\n",
    "x"
   ]
  },
  {
   "cell_type": "code",
   "execution_count": 19,
   "id": "4fe283a0-8bae-412c-a8c9-9e7f9f8637ec",
   "metadata": {},
   "outputs": [
    {
     "name": "stdout",
     "output_type": "stream",
     "text": [
      "5\n",
      "6\n"
     ]
    }
   ],
   "source": [
    "a,b=5,6\n",
    "print(a)\n",
    "print(b)"
   ]
  },
  {
   "cell_type": "code",
   "execution_count": null,
   "id": "c66a77d7-e4b1-42e7-acc5-8306b44f1455",
   "metadata": {},
   "outputs": [],
   "source": []
  },
  {
   "cell_type": "markdown",
   "id": "ff4a45ac-5153-44c0-bb7d-13b5da6a93b0",
   "metadata": {},
   "source": [
    "# Unary operator"
   ]
  },
  {
   "cell_type": "code",
   "execution_count": 20,
   "id": "2a5dbbfb-1702-4863-a5df-de62b033b739",
   "metadata": {},
   "outputs": [
    {
     "data": {
      "text/plain": [
       "7"
      ]
     },
     "execution_count": 20,
     "metadata": {},
     "output_type": "execute_result"
    }
   ],
   "source": [
    "n = 7\n",
    "n"
   ]
  },
  {
   "cell_type": "code",
   "execution_count": 21,
   "id": "8517813d-a920-40b0-83bc-35bdd1401330",
   "metadata": {},
   "outputs": [
    {
     "data": {
      "text/plain": [
       "-7"
      ]
     },
     "execution_count": 21,
     "metadata": {},
     "output_type": "execute_result"
    }
   ],
   "source": [
    "m = -(n)\n",
    "m"
   ]
  },
  {
   "cell_type": "code",
   "execution_count": 22,
   "id": "8e48b913-6e17-4045-963f-45bf5a1f59a9",
   "metadata": {},
   "outputs": [
    {
     "data": {
      "text/plain": [
       "7"
      ]
     },
     "execution_count": 22,
     "metadata": {},
     "output_type": "execute_result"
    }
   ],
   "source": [
    "n"
   ]
  },
  {
   "cell_type": "code",
   "execution_count": 23,
   "id": "e3509b93-5ac2-443d-8c46-a5ee3a54a6e6",
   "metadata": {},
   "outputs": [
    {
     "data": {
      "text/plain": [
       "-7"
      ]
     },
     "execution_count": 23,
     "metadata": {},
     "output_type": "execute_result"
    }
   ],
   "source": [
    "-n"
   ]
  },
  {
   "cell_type": "code",
   "execution_count": null,
   "id": "290ee5e9-8492-4200-9ff5-65fdbdbbd7fc",
   "metadata": {},
   "outputs": [],
   "source": []
  },
  {
   "cell_type": "markdown",
   "id": "d024b27a-8f06-4d99-9ddc-0acb933c9157",
   "metadata": {},
   "source": [
    "# Relational operator"
   ]
  },
  {
   "cell_type": "code",
   "execution_count": 24,
   "id": "93ee6e99-3d64-4f6a-97e5-18c748238212",
   "metadata": {},
   "outputs": [],
   "source": [
    "a = 5\n",
    "b = 6"
   ]
  },
  {
   "cell_type": "code",
   "execution_count": 25,
   "id": "3cf7818d-84bf-4cc4-950d-d52b95556d4d",
   "metadata": {},
   "outputs": [
    {
     "data": {
      "text/plain": [
       "True"
      ]
     },
     "execution_count": 25,
     "metadata": {},
     "output_type": "execute_result"
    }
   ],
   "source": [
    "a<b"
   ]
  },
  {
   "cell_type": "code",
   "execution_count": 26,
   "id": "bd75ceea-1784-420f-b2a4-c936a06101df",
   "metadata": {},
   "outputs": [
    {
     "data": {
      "text/plain": [
       "False"
      ]
     },
     "execution_count": 26,
     "metadata": {},
     "output_type": "execute_result"
    }
   ],
   "source": [
    "a>b"
   ]
  },
  {
   "cell_type": "code",
   "execution_count": 27,
   "id": "af87128e-0b87-4c00-8c4f-fb331581010a",
   "metadata": {},
   "outputs": [
    {
     "data": {
      "text/plain": [
       "False"
      ]
     },
     "execution_count": 27,
     "metadata": {},
     "output_type": "execute_result"
    }
   ],
   "source": [
    "a==b"
   ]
  },
  {
   "cell_type": "code",
   "execution_count": 28,
   "id": "fda3bcc0-4032-4420-813a-30818008b96a",
   "metadata": {},
   "outputs": [
    {
     "data": {
      "text/plain": [
       "True"
      ]
     },
     "execution_count": 28,
     "metadata": {},
     "output_type": "execute_result"
    }
   ],
   "source": [
    "a != b"
   ]
  },
  {
   "cell_type": "code",
   "execution_count": 29,
   "id": "3f69d75f-cc7e-4d81-a8df-7cc15050b4b0",
   "metadata": {},
   "outputs": [
    {
     "data": {
      "text/plain": [
       "False"
      ]
     },
     "execution_count": 29,
     "metadata": {},
     "output_type": "execute_result"
    }
   ],
   "source": [
    "a >= b"
   ]
  },
  {
   "cell_type": "code",
   "execution_count": 30,
   "id": "564565ad-e064-42f6-aea1-d0c42fe9018e",
   "metadata": {},
   "outputs": [
    {
     "data": {
      "text/plain": [
       "True"
      ]
     },
     "execution_count": 30,
     "metadata": {},
     "output_type": "execute_result"
    }
   ],
   "source": [
    "a <= b"
   ]
  },
  {
   "cell_type": "code",
   "execution_count": null,
   "id": "51061191-edb7-44ec-80c5-70072ed60c38",
   "metadata": {},
   "outputs": [],
   "source": []
  },
  {
   "cell_type": "markdown",
   "id": "b7c1789a-7f4e-4de8-9c36-078bddc58302",
   "metadata": {},
   "source": [
    "# Logical operator"
   ]
  },
  {
   "cell_type": "code",
   "execution_count": 31,
   "id": "33c16ba6-d196-4672-b979-e1aaa8cf0b75",
   "metadata": {},
   "outputs": [],
   "source": [
    "a = 5\n",
    "b = 4"
   ]
  },
  {
   "cell_type": "code",
   "execution_count": 32,
   "id": "7805d10b-22ba-4eb0-8ba8-0e71bff8d641",
   "metadata": {},
   "outputs": [
    {
     "data": {
      "text/plain": [
       "True"
      ]
     },
     "execution_count": 32,
     "metadata": {},
     "output_type": "execute_result"
    }
   ],
   "source": [
    "a < 8 and b < 5"
   ]
  },
  {
   "cell_type": "code",
   "execution_count": 33,
   "id": "4742aada-c49f-49e0-8652-dc9e9dc3d8f1",
   "metadata": {},
   "outputs": [
    {
     "data": {
      "text/plain": [
       "False"
      ]
     },
     "execution_count": 33,
     "metadata": {},
     "output_type": "execute_result"
    }
   ],
   "source": [
    "a < 8 and b < 2"
   ]
  },
  {
   "cell_type": "code",
   "execution_count": 34,
   "id": "9ba78a93-0888-4270-be0b-d9b1270acd5b",
   "metadata": {},
   "outputs": [
    {
     "data": {
      "text/plain": [
       "True"
      ]
     },
     "execution_count": 34,
     "metadata": {},
     "output_type": "execute_result"
    }
   ],
   "source": [
    "a < 8 or b < 5"
   ]
  },
  {
   "cell_type": "code",
   "execution_count": 35,
   "id": "9e71bf40-9891-4d3e-98f2-f12e9abb61d2",
   "metadata": {},
   "outputs": [
    {
     "data": {
      "text/plain": [
       "False"
      ]
     },
     "execution_count": 35,
     "metadata": {},
     "output_type": "execute_result"
    }
   ],
   "source": [
    "a > 8 or b > 2"
   ]
  },
  {
   "cell_type": "code",
   "execution_count": 36,
   "id": "4c4c6d50-1c2b-4b7d-ae5d-42fa6237e175",
   "metadata": {},
   "outputs": [
    {
     "data": {
      "text/plain": [
       "False"
      ]
     },
     "execution_count": 36,
     "metadata": {},
     "output_type": "execute_result"
    }
   ],
   "source": [
    "a > 8 or b < 2"
   ]
  },
  {
   "cell_type": "code",
   "execution_count": null,
   "id": "9b24f421-caa8-416f-85b8-025869ab2552",
   "metadata": {},
   "outputs": [],
   "source": []
  },
  {
   "cell_type": "code",
   "execution_count": 37,
   "id": "24861b31-2adc-482f-adf5-967d0e051e9e",
   "metadata": {},
   "outputs": [
    {
     "data": {
      "text/plain": [
       "False"
      ]
     },
     "execution_count": 37,
     "metadata": {},
     "output_type": "execute_result"
    }
   ],
   "source": [
    "x = False\n",
    "x"
   ]
  },
  {
   "cell_type": "code",
   "execution_count": 38,
   "id": "b36f784d-e2b2-42de-8abe-b7f6b066fa5f",
   "metadata": {},
   "outputs": [
    {
     "data": {
      "text/plain": [
       "True"
      ]
     },
     "execution_count": 38,
     "metadata": {},
     "output_type": "execute_result"
    }
   ],
   "source": [
    "not x"
   ]
  },
  {
   "cell_type": "code",
   "execution_count": 39,
   "id": "0194f5a5-0e4e-48c5-aa25-64a222b01d50",
   "metadata": {},
   "outputs": [
    {
     "data": {
      "text/plain": [
       "True"
      ]
     },
     "execution_count": 39,
     "metadata": {},
     "output_type": "execute_result"
    }
   ],
   "source": [
    "x = not x\n",
    "x"
   ]
  },
  {
   "cell_type": "code",
   "execution_count": 40,
   "id": "ce63eb82-5eeb-4197-b639-2492ec0fdc19",
   "metadata": {},
   "outputs": [
    {
     "data": {
      "text/plain": [
       "True"
      ]
     },
     "execution_count": 40,
     "metadata": {},
     "output_type": "execute_result"
    }
   ],
   "source": [
    "x"
   ]
  },
  {
   "cell_type": "code",
   "execution_count": 41,
   "id": "11b128b0-1750-46af-a227-232b585e67e5",
   "metadata": {},
   "outputs": [
    {
     "data": {
      "text/plain": [
       "False"
      ]
     },
     "execution_count": 41,
     "metadata": {},
     "output_type": "execute_result"
    }
   ],
   "source": [
    "not x"
   ]
  },
  {
   "cell_type": "code",
   "execution_count": null,
   "id": "ae2c3950-f650-4cd5-88ba-1764d1a034c2",
   "metadata": {},
   "outputs": [],
   "source": []
  },
  {
   "cell_type": "markdown",
   "id": "6913b037-5960-46ed-bacc-5575ec2804aa",
   "metadata": {},
   "source": [
    "# Number system conversion"
   ]
  },
  {
   "cell_type": "code",
   "execution_count": 42,
   "id": "a0925db4-8024-484a-ae1e-188c889cad22",
   "metadata": {},
   "outputs": [
    {
     "data": {
      "text/plain": [
       "25"
      ]
     },
     "execution_count": 42,
     "metadata": {},
     "output_type": "execute_result"
    }
   ],
   "source": [
    "25"
   ]
  },
  {
   "cell_type": "code",
   "execution_count": 43,
   "id": "9c2d53a5-31ec-4621-90f4-9ba40a5e1147",
   "metadata": {},
   "outputs": [
    {
     "data": {
      "text/plain": [
       "'0b11001'"
      ]
     },
     "execution_count": 43,
     "metadata": {},
     "output_type": "execute_result"
    }
   ],
   "source": [
    "bin(25)"
   ]
  },
  {
   "cell_type": "code",
   "execution_count": 44,
   "id": "d78dfc1c-44b9-46f9-83b4-9a88af7e7b4a",
   "metadata": {},
   "outputs": [
    {
     "data": {
      "text/plain": [
       "25"
      ]
     },
     "execution_count": 44,
     "metadata": {},
     "output_type": "execute_result"
    }
   ],
   "source": [
    "int(0b11001)"
   ]
  },
  {
   "cell_type": "code",
   "execution_count": 45,
   "id": "f3076e57-bf13-4fe4-a801-c0a6203262e0",
   "metadata": {},
   "outputs": [
    {
     "data": {
      "text/plain": [
       "'0b11110'"
      ]
     },
     "execution_count": 45,
     "metadata": {},
     "output_type": "execute_result"
    }
   ],
   "source": [
    "bin(30)"
   ]
  },
  {
   "cell_type": "code",
   "execution_count": 46,
   "id": "baa36c41-06db-4267-adc3-ad07d57004b6",
   "metadata": {},
   "outputs": [
    {
     "data": {
      "text/plain": [
       "30"
      ]
     },
     "execution_count": 46,
     "metadata": {},
     "output_type": "execute_result"
    }
   ],
   "source": [
    "int(0b11110)"
   ]
  },
  {
   "cell_type": "code",
   "execution_count": null,
   "id": "939a97ea-5194-4a92-a0cc-137b9f5c6c83",
   "metadata": {},
   "outputs": [],
   "source": []
  },
  {
   "cell_type": "code",
   "execution_count": 47,
   "id": "2d486ac8-46b1-4887-b422-6bd5411b81b6",
   "metadata": {},
   "outputs": [
    {
     "data": {
      "text/plain": [
       "'0o31'"
      ]
     },
     "execution_count": 47,
     "metadata": {},
     "output_type": "execute_result"
    }
   ],
   "source": [
    "oct(25)"
   ]
  },
  {
   "cell_type": "code",
   "execution_count": 48,
   "id": "a2084e9d-38c6-49a8-9335-28c64ce2fa50",
   "metadata": {},
   "outputs": [
    {
     "data": {
      "text/plain": [
       "25"
      ]
     },
     "execution_count": 48,
     "metadata": {},
     "output_type": "execute_result"
    }
   ],
   "source": [
    "int(0o31)"
   ]
  },
  {
   "cell_type": "code",
   "execution_count": 49,
   "id": "350f1add-6584-4e46-afdd-bbb71cc4d6ad",
   "metadata": {},
   "outputs": [
    {
     "data": {
      "text/plain": [
       "25"
      ]
     },
     "execution_count": 49,
     "metadata": {},
     "output_type": "execute_result"
    }
   ],
   "source": [
    "0o31"
   ]
  },
  {
   "cell_type": "code",
   "execution_count": 50,
   "id": "3e1308d9-add1-486f-a1dd-130cf7f730ee",
   "metadata": {},
   "outputs": [
    {
     "data": {
      "text/plain": [
       "25"
      ]
     },
     "execution_count": 50,
     "metadata": {},
     "output_type": "execute_result"
    }
   ],
   "source": [
    "int(0b11001)"
   ]
  },
  {
   "cell_type": "code",
   "execution_count": 51,
   "id": "3e45d675-87e9-4127-9e86-3ed341ea1c7d",
   "metadata": {},
   "outputs": [
    {
     "data": {
      "text/plain": [
       "'0b111'"
      ]
     },
     "execution_count": 51,
     "metadata": {},
     "output_type": "execute_result"
    }
   ],
   "source": [
    "bin(7)"
   ]
  },
  {
   "cell_type": "code",
   "execution_count": null,
   "id": "c553b313-62bc-4e2b-9342-95da031c8e7a",
   "metadata": {},
   "outputs": [],
   "source": []
  },
  {
   "cell_type": "code",
   "execution_count": 53,
   "id": "7151ad99-9c50-426f-9b10-52508c01efce",
   "metadata": {},
   "outputs": [
    {
     "data": {
      "text/plain": [
       "'0x19'"
      ]
     },
     "execution_count": 53,
     "metadata": {},
     "output_type": "execute_result"
    }
   ],
   "source": [
    "hex(25)"
   ]
  },
  {
   "cell_type": "code",
   "execution_count": 54,
   "id": "7567dd9f-59eb-4354-9a9b-f1e122a2a8d0",
   "metadata": {},
   "outputs": [
    {
     "data": {
      "text/plain": [
       "25"
      ]
     },
     "execution_count": 54,
     "metadata": {},
     "output_type": "execute_result"
    }
   ],
   "source": [
    "0x19"
   ]
  },
  {
   "cell_type": "code",
   "execution_count": 55,
   "id": "bf09fd3e-a6a7-4471-888f-0ee259cc071f",
   "metadata": {},
   "outputs": [
    {
     "data": {
      "text/plain": [
       "25"
      ]
     },
     "execution_count": 55,
     "metadata": {},
     "output_type": "execute_result"
    }
   ],
   "source": [
    "int(0x19)"
   ]
  },
  {
   "cell_type": "code",
   "execution_count": 56,
   "id": "79d34a0a-9797-4831-a060-9a7ed832c817",
   "metadata": {},
   "outputs": [
    {
     "data": {
      "text/plain": [
       "10"
      ]
     },
     "execution_count": 56,
     "metadata": {},
     "output_type": "execute_result"
    }
   ],
   "source": [
    "0xa"
   ]
  },
  {
   "cell_type": "code",
   "execution_count": 57,
   "id": "1519e123-be69-4116-8079-af5ac6a328fc",
   "metadata": {},
   "outputs": [
    {
     "data": {
      "text/plain": [
       "11"
      ]
     },
     "execution_count": 57,
     "metadata": {},
     "output_type": "execute_result"
    }
   ],
   "source": [
    "0xb"
   ]
  },
  {
   "cell_type": "code",
   "execution_count": 59,
   "id": "d8dbfa9c-6d20-4527-b5a3-8eaf19230ce6",
   "metadata": {},
   "outputs": [
    {
     "data": {
      "text/plain": [
       "12"
      ]
     },
     "execution_count": 59,
     "metadata": {},
     "output_type": "execute_result"
    }
   ],
   "source": [
    "0xc"
   ]
  },
  {
   "cell_type": "code",
   "execution_count": 60,
   "id": "afdd01c0-8c66-4325-a276-13cf0abe764d",
   "metadata": {},
   "outputs": [
    {
     "data": {
      "text/plain": [
       "13"
      ]
     },
     "execution_count": 60,
     "metadata": {},
     "output_type": "execute_result"
    }
   ],
   "source": [
    "0xd"
   ]
  },
  {
   "cell_type": "code",
   "execution_count": 61,
   "id": "89d10f52-c28f-49f8-8545-3784dd380a10",
   "metadata": {},
   "outputs": [
    {
     "data": {
      "text/plain": [
       "14"
      ]
     },
     "execution_count": 61,
     "metadata": {},
     "output_type": "execute_result"
    }
   ],
   "source": [
    "0xe"
   ]
  },
  {
   "cell_type": "code",
   "execution_count": 62,
   "id": "46c44376-0dbe-455f-9313-a0f373e3b11e",
   "metadata": {},
   "outputs": [
    {
     "data": {
      "text/plain": [
       "15"
      ]
     },
     "execution_count": 62,
     "metadata": {},
     "output_type": "execute_result"
    }
   ],
   "source": [
    "0xf"
   ]
  },
  {
   "cell_type": "code",
   "execution_count": 63,
   "id": "382a18b5-ab48-4b50-8e00-7336e0fe70ec",
   "metadata": {},
   "outputs": [
    {
     "ename": "SyntaxError",
     "evalue": "invalid hexadecimal literal (2506630588.py, line 1)",
     "output_type": "error",
     "traceback": [
      "\u001b[1;36m  Cell \u001b[1;32mIn[63], line 1\u001b[1;36m\u001b[0m\n\u001b[1;33m    0xg\u001b[0m\n\u001b[1;37m     ^\u001b[0m\n\u001b[1;31mSyntaxError\u001b[0m\u001b[1;31m:\u001b[0m invalid hexadecimal literal\n"
     ]
    }
   ],
   "source": [
    "0xg"
   ]
  },
  {
   "cell_type": "code",
   "execution_count": 64,
   "id": "88f5dacf-9ebc-47cf-8172-4fa078542b27",
   "metadata": {},
   "outputs": [
    {
     "data": {
      "text/plain": [
       "16"
      ]
     },
     "execution_count": 64,
     "metadata": {},
     "output_type": "execute_result"
    }
   ],
   "source": [
    "0x10"
   ]
  },
  {
   "cell_type": "code",
   "execution_count": 65,
   "id": "1d2ca57d-98a1-450b-a6ac-a6295da9dd9b",
   "metadata": {},
   "outputs": [
    {
     "data": {
      "text/plain": [
       "28"
      ]
     },
     "execution_count": 65,
     "metadata": {},
     "output_type": "execute_result"
    }
   ],
   "source": [
    "0x1c"
   ]
  },
  {
   "cell_type": "code",
   "execution_count": 66,
   "id": "a9496b18-7f17-41fe-9e2e-ed74c62260ef",
   "metadata": {},
   "outputs": [
    {
     "data": {
      "text/plain": [
       "25"
      ]
     },
     "execution_count": 66,
     "metadata": {},
     "output_type": "execute_result"
    }
   ],
   "source": [
    "0x19"
   ]
  },
  {
   "cell_type": "code",
   "execution_count": 67,
   "id": "e2b67a18-07e8-419d-afc4-1dcf74dc2b33",
   "metadata": {},
   "outputs": [
    {
     "data": {
      "text/plain": [
       "21"
      ]
     },
     "execution_count": 67,
     "metadata": {},
     "output_type": "execute_result"
    }
   ],
   "source": [
    "0x15"
   ]
  },
  {
   "cell_type": "code",
   "execution_count": null,
   "id": "585feac6-82c1-4314-86dd-5f0b68aa048c",
   "metadata": {},
   "outputs": [],
   "source": []
  },
  {
   "cell_type": "markdown",
   "id": "c30f877b-f81a-4cb5-9330-9ef5c699e35a",
   "metadata": {},
   "source": [
    "# SWapping 2 variables"
   ]
  },
  {
   "cell_type": "code",
   "execution_count": 68,
   "id": "49062a35-99d8-4bad-9db7-8862a4971954",
   "metadata": {},
   "outputs": [],
   "source": [
    "a = 5\n",
    "b = 6"
   ]
  },
  {
   "cell_type": "code",
   "execution_count": 69,
   "id": "749944b4-0f69-4db5-97b0-b976f6d4a245",
   "metadata": {},
   "outputs": [],
   "source": [
    "a = b\n",
    "b = a"
   ]
  },
  {
   "cell_type": "code",
   "execution_count": 70,
   "id": "e7126d1b-8ca5-4ce9-8967-6bf08b89735c",
   "metadata": {},
   "outputs": [
    {
     "name": "stdout",
     "output_type": "stream",
     "text": [
      "6\n",
      "6\n"
     ]
    }
   ],
   "source": [
    "print(a)\n",
    "print(b)"
   ]
  },
  {
   "cell_type": "code",
   "execution_count": 71,
   "id": "b70f2f45-4dce-48e0-95f6-be6e54f3d1a6",
   "metadata": {},
   "outputs": [],
   "source": [
    "a = 5\n",
    "b = 6"
   ]
  },
  {
   "cell_type": "code",
   "execution_count": 72,
   "id": "549065c9-dddb-4dea-9579-b8c2f8b3bbea",
   "metadata": {},
   "outputs": [],
   "source": [
    "temp = a   # using a third variable\n",
    "a = b\n",
    "b = temp"
   ]
  },
  {
   "cell_type": "code",
   "execution_count": 73,
   "id": "f54d3ccf-c99b-465f-9c72-f88e34856f32",
   "metadata": {},
   "outputs": [
    {
     "name": "stdout",
     "output_type": "stream",
     "text": [
      "6\n",
      "5\n"
     ]
    }
   ],
   "source": [
    "print(a)\n",
    "print(b)"
   ]
  },
  {
   "cell_type": "code",
   "execution_count": 74,
   "id": "b3b3c1ab-8435-4f65-8b92-95882c647ca5",
   "metadata": {},
   "outputs": [],
   "source": [
    "a1 = 5\n",
    "b1 = 6"
   ]
  },
  {
   "cell_type": "code",
   "execution_count": 75,
   "id": "205fffaf-e25e-443a-99c6-21a49df5ac6e",
   "metadata": {},
   "outputs": [],
   "source": [
    "a1 = a1 + b1   # without using a 3rd variable\n",
    "b1 = a1 - b1\n",
    "a1 = a1 - b1"
   ]
  },
  {
   "cell_type": "code",
   "execution_count": 76,
   "id": "f9797ac1-c769-4044-b9eb-5edc58fc6160",
   "metadata": {},
   "outputs": [
    {
     "name": "stdout",
     "output_type": "stream",
     "text": [
      "6\n",
      "5\n"
     ]
    }
   ],
   "source": [
    "print(a)\n",
    "print(b)"
   ]
  },
  {
   "cell_type": "code",
   "execution_count": 77,
   "id": "f0cbdd9b-2b87-4a78-9f4f-c416ea7e839f",
   "metadata": {},
   "outputs": [],
   "source": [
    "a = 4\n",
    "b = 6"
   ]
  },
  {
   "cell_type": "code",
   "execution_count": 80,
   "id": "6266c7d7-0488-4115-8a94-200141518174",
   "metadata": {},
   "outputs": [
    {
     "name": "stdout",
     "output_type": "stream",
     "text": [
      "6\n",
      "4\n"
     ]
    }
   ],
   "source": [
    "a,b = b,a    # swapping using rotational concept internally\n",
    "print(a)\n",
    "print(b)"
   ]
  },
  {
   "cell_type": "code",
   "execution_count": 82,
   "id": "611c0a53-e283-42c0-b44e-1c3c6e96bd48",
   "metadata": {},
   "outputs": [],
   "source": [
    "a_ = 13\n",
    "b_ = 16"
   ]
  },
  {
   "cell_type": "code",
   "execution_count": 83,
   "id": "b5cb111a-2e88-4bac-9bab-6c296ba025ee",
   "metadata": {},
   "outputs": [],
   "source": [
    "a_ = a_ ^ b_    # swapping using XOR operator\n",
    "b_ = a_ ^ b_\n",
    "a_ = a_ ^ b_"
   ]
  },
  {
   "cell_type": "code",
   "execution_count": 84,
   "id": "de709c28-3385-4f16-bc9a-c934acaab6ba",
   "metadata": {},
   "outputs": [
    {
     "name": "stdout",
     "output_type": "stream",
     "text": [
      "16\n",
      "13\n"
     ]
    }
   ],
   "source": [
    "print(a_)\n",
    "print(b_)"
   ]
  },
  {
   "cell_type": "code",
   "execution_count": null,
   "id": "634c6a33-f218-4e08-ab56-3beb9cfb7f2a",
   "metadata": {},
   "outputs": [],
   "source": []
  },
  {
   "cell_type": "markdown",
   "id": "b5ed6902-2b7c-4753-8ef7-2f6b73cc38f9",
   "metadata": {},
   "source": [
    "# Bitwise complement operator(~)"
   ]
  },
  {
   "cell_type": "code",
   "execution_count": 85,
   "id": "f4bd2697-b00c-4e06-8a30-6d36c6865d8a",
   "metadata": {},
   "outputs": [
    {
     "data": {
      "text/plain": [
       "-13"
      ]
     },
     "execution_count": 85,
     "metadata": {},
     "output_type": "execute_result"
    }
   ],
   "source": [
    "~12    # ~ = reverse of binary format"
   ]
  },
  {
   "cell_type": "code",
   "execution_count": 86,
   "id": "3355550e-e709-451b-a1b8-b50688fdb14f",
   "metadata": {},
   "outputs": [
    {
     "data": {
      "text/plain": [
       "-47"
      ]
     },
     "execution_count": 86,
     "metadata": {},
     "output_type": "execute_result"
    }
   ],
   "source": [
    "~46"
   ]
  },
  {
   "cell_type": "code",
   "execution_count": 87,
   "id": "71d381d1-4ba6-447a-81c5-26ac9c2d8ed6",
   "metadata": {},
   "outputs": [
    {
     "data": {
      "text/plain": [
       "-52"
      ]
     },
     "execution_count": 87,
     "metadata": {},
     "output_type": "execute_result"
    }
   ],
   "source": [
    "~51"
   ]
  },
  {
   "cell_type": "code",
   "execution_count": 88,
   "id": "ba478d6f-d800-4b71-9f82-71c8504a0df9",
   "metadata": {},
   "outputs": [
    {
     "data": {
      "text/plain": [
       "-11"
      ]
     },
     "execution_count": 88,
     "metadata": {},
     "output_type": "execute_result"
    }
   ],
   "source": [
    "~10"
   ]
  },
  {
   "cell_type": "code",
   "execution_count": null,
   "id": "84411f0d-05fc-4b38-b0fa-8dd999ba7ac5",
   "metadata": {},
   "outputs": [],
   "source": []
  },
  {
   "cell_type": "markdown",
   "id": "c38ebadb-d209-4fc7-b27e-1473c5ed4edb",
   "metadata": {},
   "source": [
    "# Bitwise AND operator (&)"
   ]
  },
  {
   "cell_type": "code",
   "execution_count": 89,
   "id": "ae670653-f6d0-4acb-86f9-8b4470909c27",
   "metadata": {},
   "outputs": [
    {
     "data": {
      "text/plain": [
       "12"
      ]
     },
     "execution_count": 89,
     "metadata": {},
     "output_type": "execute_result"
    }
   ],
   "source": [
    "12 & 13      # and = logical ; & = bitwise and"
   ]
  },
  {
   "cell_type": "code",
   "execution_count": 90,
   "id": "3fb60c26-a529-4bbb-b57f-687bb9bc2011",
   "metadata": {},
   "outputs": [
    {
     "data": {
      "text/plain": [
       "0"
      ]
     },
     "execution_count": 90,
     "metadata": {},
     "output_type": "execute_result"
    }
   ],
   "source": [
    "1 & 0"
   ]
  },
  {
   "cell_type": "code",
   "execution_count": null,
   "id": "336a7734-601c-4cd5-9549-102b9d7ca070",
   "metadata": {},
   "outputs": [],
   "source": []
  },
  {
   "cell_type": "markdown",
   "id": "493c3aaf-274a-4790-9148-2b3210f68beb",
   "metadata": {},
   "source": [
    "# Bitwise OR operator"
   ]
  },
  {
   "cell_type": "code",
   "execution_count": 92,
   "id": "1da7dafa-77ee-486b-9341-4edfbd301141",
   "metadata": {},
   "outputs": [
    {
     "data": {
      "text/plain": [
       "13"
      ]
     },
     "execution_count": 92,
     "metadata": {},
     "output_type": "execute_result"
    }
   ],
   "source": [
    "12 | 13"
   ]
  },
  {
   "cell_type": "code",
   "execution_count": 93,
   "id": "034dce64-78bf-457d-a242-aea291738953",
   "metadata": {},
   "outputs": [
    {
     "data": {
      "text/plain": [
       "1"
      ]
     },
     "execution_count": 93,
     "metadata": {},
     "output_type": "execute_result"
    }
   ],
   "source": [
    "1 | 0"
   ]
  },
  {
   "cell_type": "code",
   "execution_count": 94,
   "id": "a4a26b08-8f01-4b1c-8c69-88e179769242",
   "metadata": {},
   "outputs": [
    {
     "data": {
      "text/plain": [
       "32"
      ]
     },
     "execution_count": 94,
     "metadata": {},
     "output_type": "execute_result"
    }
   ],
   "source": [
    "35 & 40"
   ]
  },
  {
   "cell_type": "code",
   "execution_count": 95,
   "id": "98bee26a-409f-43d6-aa2c-43383c9685f6",
   "metadata": {},
   "outputs": [
    {
     "data": {
      "text/plain": [
       "43"
      ]
     },
     "execution_count": 95,
     "metadata": {},
     "output_type": "execute_result"
    }
   ],
   "source": [
    "35 | 40"
   ]
  },
  {
   "cell_type": "code",
   "execution_count": null,
   "id": "7e7c3acc-e515-4c89-b7f6-8899c307bb98",
   "metadata": {},
   "outputs": [],
   "source": []
  },
  {
   "cell_type": "markdown",
   "id": "e1aa28fa-60e4-428e-8f75-3bb2a202c86f",
   "metadata": {},
   "source": [
    "# Bitwise XOR operator"
   ]
  },
  {
   "cell_type": "code",
   "execution_count": 96,
   "id": "f57d7ae9-d066-40ce-b2bf-7c9d760cbcbd",
   "metadata": {},
   "outputs": [
    {
     "data": {
      "text/plain": [
       "1"
      ]
     },
     "execution_count": 96,
     "metadata": {},
     "output_type": "execute_result"
    }
   ],
   "source": [
    "12 ^ 13"
   ]
  },
  {
   "cell_type": "code",
   "execution_count": 97,
   "id": "12e4ad82-1ebc-4228-b03d-10347c417eaa",
   "metadata": {},
   "outputs": [
    {
     "data": {
      "text/plain": [
       "7"
      ]
     },
     "execution_count": 97,
     "metadata": {},
     "output_type": "execute_result"
    }
   ],
   "source": [
    "25 ^ 30"
   ]
  },
  {
   "cell_type": "code",
   "execution_count": null,
   "id": "3c31737d-3b95-469c-ba1b-a92738f62c06",
   "metadata": {},
   "outputs": [],
   "source": []
  },
  {
   "cell_type": "markdown",
   "id": "e7226c1a-b010-4080-a32d-57073490c373",
   "metadata": {},
   "source": [
    "# Bitwise Left shift operator"
   ]
  },
  {
   "cell_type": "code",
   "execution_count": 98,
   "id": "f48b7810-4857-4249-a368-6f0d85a7bb30",
   "metadata": {},
   "outputs": [
    {
     "data": {
      "text/plain": [
       "20"
      ]
     },
     "execution_count": 98,
     "metadata": {},
     "output_type": "execute_result"
    }
   ],
   "source": [
    "10 << 1"
   ]
  },
  {
   "cell_type": "code",
   "execution_count": 99,
   "id": "1089d037-4f24-4cda-9c41-2861315ddd28",
   "metadata": {},
   "outputs": [
    {
     "data": {
      "text/plain": [
       "40"
      ]
     },
     "execution_count": 99,
     "metadata": {},
     "output_type": "execute_result"
    }
   ],
   "source": [
    "10 << 2"
   ]
  },
  {
   "cell_type": "code",
   "execution_count": 100,
   "id": "2ecb0c73-e084-408f-a638-e2d0bf54f8dc",
   "metadata": {},
   "outputs": [
    {
     "data": {
      "text/plain": [
       "1280"
      ]
     },
     "execution_count": 100,
     "metadata": {},
     "output_type": "execute_result"
    }
   ],
   "source": [
    "40 << 5"
   ]
  },
  {
   "cell_type": "code",
   "execution_count": 101,
   "id": "0f49f435-37ee-4cde-b7d2-e0a7cd3551a4",
   "metadata": {},
   "outputs": [
    {
     "data": {
      "text/plain": [
       "80"
      ]
     },
     "execution_count": 101,
     "metadata": {},
     "output_type": "execute_result"
    }
   ],
   "source": [
    "10 << 3"
   ]
  },
  {
   "cell_type": "code",
   "execution_count": null,
   "id": "6a444728-5696-4aa1-9190-b88e08694cf0",
   "metadata": {},
   "outputs": [],
   "source": []
  },
  {
   "cell_type": "markdown",
   "id": "21398745-5967-4729-8531-a7652b52a592",
   "metadata": {},
   "source": [
    "# Bitwise Right shift operator"
   ]
  },
  {
   "cell_type": "code",
   "execution_count": 102,
   "id": "d9232968-77f3-4303-81f7-8f19ad737a24",
   "metadata": {},
   "outputs": [
    {
     "data": {
      "text/plain": [
       "5"
      ]
     },
     "execution_count": 102,
     "metadata": {},
     "output_type": "execute_result"
    }
   ],
   "source": [
    "10 >> 1"
   ]
  },
  {
   "cell_type": "code",
   "execution_count": 103,
   "id": "db982be1-baed-4014-9957-950a93809cca",
   "metadata": {},
   "outputs": [
    {
     "data": {
      "text/plain": [
       "2"
      ]
     },
     "execution_count": 103,
     "metadata": {},
     "output_type": "execute_result"
    }
   ],
   "source": [
    "10 >> 2"
   ]
  },
  {
   "cell_type": "code",
   "execution_count": 104,
   "id": "e1842be7-d44f-4bcf-93dc-cb2a0149b94a",
   "metadata": {},
   "outputs": [
    {
     "data": {
      "text/plain": [
       "1"
      ]
     },
     "execution_count": 104,
     "metadata": {},
     "output_type": "execute_result"
    }
   ],
   "source": [
    "10 >> 3"
   ]
  },
  {
   "cell_type": "code",
   "execution_count": null,
   "id": "2c573da2-ad05-45b4-9ca2-1573e3f4e045",
   "metadata": {},
   "outputs": [],
   "source": []
  }
 ],
 "metadata": {
  "kernelspec": {
   "display_name": "Python [conda env:base] *",
   "language": "python",
   "name": "conda-base-py"
  },
  "language_info": {
   "codemirror_mode": {
    "name": "ipython",
    "version": 3
   },
   "file_extension": ".py",
   "mimetype": "text/x-python",
   "name": "python",
   "nbconvert_exporter": "python",
   "pygments_lexer": "ipython3",
   "version": "3.12.7"
  }
 },
 "nbformat": 4,
 "nbformat_minor": 5
}
