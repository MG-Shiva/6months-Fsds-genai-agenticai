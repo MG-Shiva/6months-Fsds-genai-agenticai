{
 "cells": [
  {
   "cell_type": "markdown",
   "id": "ae6eb5b9-52fb-410a-9f9e-bab34dbcb3c7",
   "metadata": {},
   "source": [
    "# Sets"
   ]
  },
  {
   "cell_type": "code",
   "execution_count": 162,
   "id": "159aee93-b4f6-4ba1-bbf2-e335ad259bb1",
   "metadata": {},
   "outputs": [
    {
     "data": {
      "text/plain": [
       "{1, 2, 3, 4, 5}"
      ]
     },
     "execution_count": 162,
     "metadata": {},
     "output_type": "execute_result"
    }
   ],
   "source": [
    "myset = {1,2,3,4,5}\n",
    "myset"
   ]
  },
  {
   "cell_type": "code",
   "execution_count": 163,
   "id": "9d26ba0e-d2b5-44b5-9204-ede4d1431e83",
   "metadata": {},
   "outputs": [
    {
     "data": {
      "text/plain": [
       "5"
      ]
     },
     "execution_count": 163,
     "metadata": {},
     "output_type": "execute_result"
    }
   ],
   "source": [
    "len(myset)"
   ]
  },
  {
   "cell_type": "code",
   "execution_count": 164,
   "id": "fc7ab18e-8705-49df-b7a7-3e6f6bea88a0",
   "metadata": {},
   "outputs": [
    {
     "data": {
      "text/plain": [
       "{1, 2, 3}"
      ]
     },
     "execution_count": 164,
     "metadata": {},
     "output_type": "execute_result"
    }
   ],
   "source": [
    "my_set = {1,1,2,2,3,3}    # Duplicates are not allowed in sets\n",
    "my_set"
   ]
  },
  {
   "cell_type": "code",
   "execution_count": 165,
   "id": "3ba0762d-dce2-4ff8-8ddc-53067bf035d3",
   "metadata": {},
   "outputs": [
    {
     "data": {
      "text/plain": [
       "{1.79, 2.8, 3.45, 4.89, 5.13}"
      ]
     },
     "execution_count": 165,
     "metadata": {},
     "output_type": "execute_result"
    }
   ],
   "source": [
    "myset1 = {1.79,2.80,3.45,4.89,5.13}   # set of floats\n",
    "myset1"
   ]
  },
  {
   "cell_type": "code",
   "execution_count": 166,
   "id": "31bc88fa-c40b-4c71-aad3-61c4f6e27de2",
   "metadata": {},
   "outputs": [
    {
     "data": {
      "text/plain": [
       "{'John', 'asif', 'tyrion'}"
      ]
     },
     "execution_count": 166,
     "metadata": {},
     "output_type": "execute_result"
    }
   ],
   "source": [
    "myset2 = {'asif','John','tyrion'}    # set of strings\n",
    "myset2"
   ]
  },
  {
   "cell_type": "code",
   "execution_count": 167,
   "id": "2788d7de-a27b-4c17-b9e6-01a608a4a846",
   "metadata": {},
   "outputs": [
    {
     "data": {
      "text/plain": [
       "{(11, 22, 33), 10, 20, 'Hola'}"
      ]
     },
     "execution_count": 167,
     "metadata": {},
     "output_type": "execute_result"
    }
   ],
   "source": [
    "myset3 = {10,20,'Hola',(11,22,33)}   # mixed datatype\n",
    "myset3"
   ]
  },
  {
   "cell_type": "code",
   "execution_count": 168,
   "id": "d2e38f47-c837-436c-a1ef-5b1f5f7dc134",
   "metadata": {},
   "outputs": [
    {
     "ename": "TypeError",
     "evalue": "unhashable type: 'list'",
     "output_type": "error",
     "traceback": [
      "\u001b[1;31m---------------------------------------------------------------------------\u001b[0m",
      "\u001b[1;31mTypeError\u001b[0m                                 Traceback (most recent call last)",
      "Cell \u001b[1;32mIn[168], line 1\u001b[0m\n\u001b[1;32m----> 1\u001b[0m myset3 \u001b[38;5;241m=\u001b[39m {\u001b[38;5;241m10\u001b[39m,\u001b[38;5;241m20\u001b[39m,\u001b[38;5;124m'\u001b[39m\u001b[38;5;124mHola\u001b[39m\u001b[38;5;124m'\u001b[39m,[\u001b[38;5;241m11\u001b[39m,\u001b[38;5;241m22\u001b[39m,\u001b[38;5;241m33\u001b[39m]}   \u001b[38;5;66;03m# set doesnot allow mutable items like lists \u001b[39;00m\n\u001b[0;32m      2\u001b[0m myset3\n",
      "\u001b[1;31mTypeError\u001b[0m: unhashable type: 'list'"
     ]
    }
   ],
   "source": [
    "myset3 = {10,20,'Hola',[11,22,33]}   # set doesnot allow mutable items like lists \n",
    "myset3"
   ]
  },
  {
   "cell_type": "code",
   "execution_count": null,
   "id": "8aa607f2-203c-41cb-9a0a-5eb0b9c05889",
   "metadata": {},
   "outputs": [],
   "source": [
    "myset4 = set()        # Creating a empty set\n",
    "print(type(myset4))"
   ]
  },
  {
   "cell_type": "code",
   "execution_count": null,
   "id": "43b7ed62-8540-4a3e-ae2c-995f10dfa9b2",
   "metadata": {},
   "outputs": [],
   "source": [
    "myset_1 = set(('one','two','three','four'))\n",
    "myset_1"
   ]
  },
  {
   "cell_type": "code",
   "execution_count": null,
   "id": "1ba0918d-8606-4d97-a9a3-64440bf2eb35",
   "metadata": {},
   "outputs": [],
   "source": [
    "print(myset_1)"
   ]
  },
  {
   "cell_type": "code",
   "execution_count": null,
   "id": "e6e8b3fc-4cd9-414d-b993-e20c18e16562",
   "metadata": {},
   "outputs": [],
   "source": []
  },
  {
   "cell_type": "markdown",
   "id": "8a79e385-9c17-4289-92b2-4e1ffe020178",
   "metadata": {},
   "source": [
    "# Loop through a set"
   ]
  },
  {
   "cell_type": "code",
   "execution_count": null,
   "id": "54f46366-a47d-43ef-9948-ffa0336c50e9",
   "metadata": {},
   "outputs": [],
   "source": [
    "myset = {'one','two','three','four','five','six','seven','eight'}\n",
    "\n",
    "print(myset)\n",
    "\n",
    "for i in myset:\n",
    "    print(i)"
   ]
  },
  {
   "cell_type": "code",
   "execution_count": null,
   "id": "552b484e-0c78-4ba8-990e-19438270b059",
   "metadata": {},
   "outputs": [],
   "source": [
    "for i in enumerate(myset):\n",
    "    print(i)"
   ]
  },
  {
   "cell_type": "code",
   "execution_count": null,
   "id": "37f51caa-d60c-4db2-a6d0-a002bca31bcf",
   "metadata": {},
   "outputs": [],
   "source": []
  },
  {
   "cell_type": "markdown",
   "id": "bbff00ad-05d3-4cc6-9c27-4c07fe4320ca",
   "metadata": {},
   "source": [
    "# Set membership"
   ]
  },
  {
   "cell_type": "code",
   "execution_count": null,
   "id": "3ebb0a7e-cb32-481e-9836-a86bd4fb4993",
   "metadata": {},
   "outputs": [],
   "source": [
    "myset"
   ]
  },
  {
   "cell_type": "code",
   "execution_count": null,
   "id": "07170535-4278-478f-b27e-fb3d16ef1adf",
   "metadata": {},
   "outputs": [],
   "source": [
    "'one' in myset  # checks if 'one' is in set or not"
   ]
  },
  {
   "cell_type": "code",
   "execution_count": null,
   "id": "25d474c8-4445-4381-924b-748476956bd5",
   "metadata": {},
   "outputs": [],
   "source": [
    "'Two' in myset   # strings - case sensitive"
   ]
  },
  {
   "cell_type": "code",
   "execution_count": null,
   "id": "92d275f5-55b7-4a36-8722-a5dcf27e1d51",
   "metadata": {},
   "outputs": [],
   "source": [
    "'ten' in myset"
   ]
  },
  {
   "cell_type": "code",
   "execution_count": null,
   "id": "5a4aa9a1-38a5-428a-ba37-23f232785b60",
   "metadata": {},
   "outputs": [],
   "source": [
    "if 'three' in myset:\n",
    "    print('Three is present in the set')\n",
    "else:\n",
    "    print('Three is not present in the set')"
   ]
  },
  {
   "cell_type": "code",
   "execution_count": null,
   "id": "8c721b8b-51b9-4fae-a397-8677552cb3a8",
   "metadata": {},
   "outputs": [],
   "source": [
    "if 'Twelve' in myset:\n",
    "    print('Twelve is present in the set')\n",
    "else:\n",
    "    print('Twelve is not present in the set')"
   ]
  },
  {
   "cell_type": "code",
   "execution_count": null,
   "id": "68ec4f18-018c-487b-81d6-fd542c9af785",
   "metadata": {},
   "outputs": [],
   "source": []
  },
  {
   "cell_type": "markdown",
   "id": "84e083f1-761a-4c0b-8de8-381726e40d53",
   "metadata": {},
   "source": [
    "# Add or remove items from the list"
   ]
  },
  {
   "cell_type": "code",
   "execution_count": null,
   "id": "ac89b403-0330-4fb0-bc53-8162e505a39a",
   "metadata": {},
   "outputs": [],
   "source": [
    "myset"
   ]
  },
  {
   "cell_type": "code",
   "execution_count": null,
   "id": "73931b67-87ba-4c32-ad55-265b055a0567",
   "metadata": {},
   "outputs": [],
   "source": [
    "myset.add('Nine')   # add a single item to set\n",
    "myset"
   ]
  },
  {
   "cell_type": "code",
   "execution_count": null,
   "id": "ec66eb8a-78ec-47cc-b431-0a7fcb334165",
   "metadata": {},
   "outputs": [],
   "source": [
    "myset.update(['Ten','Eleven','Twelve'])  # add multiple items to set\n",
    "myset"
   ]
  },
  {
   "cell_type": "code",
   "execution_count": null,
   "id": "2922d989-b102-4173-a019-d40f13ce1ef1",
   "metadata": {},
   "outputs": [],
   "source": [
    "myset.remove('Five')"
   ]
  },
  {
   "cell_type": "code",
   "execution_count": null,
   "id": "02d616c1-3cab-4e16-b466-231cd0858e9d",
   "metadata": {},
   "outputs": [],
   "source": [
    "myset.remove('five')   # remove item using remove() method\n",
    "myset"
   ]
  },
  {
   "cell_type": "code",
   "execution_count": null,
   "id": "4d6b69fd-c798-4781-a2e2-7e4d9f52f1b8",
   "metadata": {},
   "outputs": [],
   "source": [
    "myset.discard('six')    # remove item using discard() method\n",
    "myset"
   ]
  },
  {
   "cell_type": "code",
   "execution_count": null,
   "id": "1510b5ae-891a-48ad-9c6c-b8cbc898ab4b",
   "metadata": {},
   "outputs": [],
   "source": [
    "# unlike remove() , discrd() doesnt return with errors\n",
    "\n",
    "myset.discard('twenty')    \n",
    "myset"
   ]
  },
  {
   "cell_type": "code",
   "execution_count": null,
   "id": "ddbd6785-1185-4ff7-8ed0-e3ac6b51c833",
   "metadata": {},
   "outputs": [],
   "source": [
    "myset.clear()     # deletes all items, becomes a nullset\n",
    "myset"
   ]
  },
  {
   "cell_type": "code",
   "execution_count": null,
   "id": "56a65f02-e8bb-43ba-a2eb-d2f0d3901842",
   "metadata": {},
   "outputs": [],
   "source": [
    "del myset      # deletes the set "
   ]
  },
  {
   "cell_type": "code",
   "execution_count": null,
   "id": "334ca1d6-e80d-4245-b704-9f62c601631f",
   "metadata": {},
   "outputs": [],
   "source": [
    "myset"
   ]
  },
  {
   "cell_type": "code",
   "execution_count": null,
   "id": "9180fdad-eb49-46ca-ad57-6d2aab5d7bf0",
   "metadata": {},
   "outputs": [],
   "source": []
  },
  {
   "cell_type": "code",
   "execution_count": null,
   "id": "c4408c12-2b71-4990-b40a-d5ff48dc1379",
   "metadata": {},
   "outputs": [],
   "source": [
    "myset ={'one','two','three','four','five','six','seven','eight'}\n",
    "myset"
   ]
  },
  {
   "cell_type": "code",
   "execution_count": null,
   "id": "0633b208-2d25-4456-b4dc-74d380f7a4d7",
   "metadata": {},
   "outputs": [],
   "source": [
    "myset1 = myset     # creating a new reference set\n",
    "myset1"
   ]
  },
  {
   "cell_type": "code",
   "execution_count": null,
   "id": "e19c776b-5534-4e2d-826b-ea2ec73d42e7",
   "metadata": {},
   "outputs": [],
   "source": [
    "id(myset1)==id(myset)"
   ]
  },
  {
   "cell_type": "code",
   "execution_count": null,
   "id": "707a2113-267d-4f36-8ee2-17429c29acac",
   "metadata": {},
   "outputs": [],
   "source": [
    "id(myset), id(myset1)    # for reference set, both addresses will be same"
   ]
  },
  {
   "cell_type": "code",
   "execution_count": null,
   "id": "97920edc-8e49-41cf-935f-e41f754a3d75",
   "metadata": {},
   "outputs": [],
   "source": []
  },
  {
   "cell_type": "code",
   "execution_count": null,
   "id": "1ae41e32-e8f4-4e18-8946-86eb031fc456",
   "metadata": {},
   "outputs": [],
   "source": [
    "myset2 = myset.copy()\n",
    "myset2"
   ]
  },
  {
   "cell_type": "code",
   "execution_count": null,
   "id": "da68455c-1b54-4f12-8ad9-8277b919681e",
   "metadata": {},
   "outputs": [],
   "source": [
    "id(myset2) == id(myset)"
   ]
  },
  {
   "cell_type": "code",
   "execution_count": null,
   "id": "5ba51e73-8e7e-4334-99d9-2e47d723c290",
   "metadata": {},
   "outputs": [],
   "source": [
    "id(myset) , id(myset2)    \n",
    "\n",
    "# copyset is not a refernce set, a new set is created with similar elements so new address"
   ]
  },
  {
   "cell_type": "code",
   "execution_count": null,
   "id": "ac0bd221-b84a-42e4-9abe-c12684eee74f",
   "metadata": {},
   "outputs": [],
   "source": [
    "myset.add('nine')\n",
    "myset"
   ]
  },
  {
   "cell_type": "code",
   "execution_count": null,
   "id": "33ec12c2-2c60-4c97-936d-cf98d43d0a00",
   "metadata": {},
   "outputs": [],
   "source": [
    "myset1\n",
    "# reference set will also get impacted with any changes with original set"
   ]
  },
  {
   "cell_type": "code",
   "execution_count": null,
   "id": "68116f21-bc2d-4d9e-925f-31f590f1c741",
   "metadata": {},
   "outputs": [],
   "source": [
    "myset2\n",
    "# copy set will not get impacted with any changes with original set"
   ]
  },
  {
   "cell_type": "code",
   "execution_count": null,
   "id": "d8e4bee0-d13c-4184-ad56-8f9b5f58bef8",
   "metadata": {},
   "outputs": [],
   "source": []
  },
  {
   "cell_type": "markdown",
   "id": "61f01f45-538b-45e9-b70b-73f3ca155726",
   "metadata": {},
   "source": [
    "# Set operations"
   ]
  },
  {
   "cell_type": "code",
   "execution_count": null,
   "id": "b60a4ef1-714d-4c3d-9cd6-705085ce6637",
   "metadata": {},
   "outputs": [],
   "source": [
    "A = {1,2,3,4,5}\n",
    "B = {4,5,6,7,8}\n",
    "C = {8,9,10}"
   ]
  },
  {
   "cell_type": "code",
   "execution_count": null,
   "id": "0a451ec7-07b9-49f5-815e-6f7a4ef86ad3",
   "metadata": {},
   "outputs": [],
   "source": [
    "A | B   #union"
   ]
  },
  {
   "cell_type": "code",
   "execution_count": null,
   "id": "5090497f-1462-4b16-b1f5-e5d9f6f72f7a",
   "metadata": {},
   "outputs": [],
   "source": [
    "A.union(B)"
   ]
  },
  {
   "cell_type": "code",
   "execution_count": null,
   "id": "3cb25877-8cd1-4508-bb62-7eed2ebc05e0",
   "metadata": {},
   "outputs": [],
   "source": [
    "A.union(B,C)   # A U B U C"
   ]
  },
  {
   "cell_type": "code",
   "execution_count": null,
   "id": "f5ddabd2-0f7b-4acc-a3dd-037fa73d41a1",
   "metadata": {},
   "outputs": [],
   "source": [
    "A | B | C   # A U B U C"
   ]
  },
  {
   "cell_type": "code",
   "execution_count": null,
   "id": "55fbe58a-5747-49bf-aae7-59057dfb9267",
   "metadata": {},
   "outputs": [],
   "source": []
  },
  {
   "cell_type": "code",
   "execution_count": null,
   "id": "2fdd1691-1808-4d72-af29-d19e555752d5",
   "metadata": {},
   "outputs": [],
   "source": [
    "A & B   # A intersection B"
   ]
  },
  {
   "cell_type": "code",
   "execution_count": null,
   "id": "ae832de6-a071-4972-92d7-18e9f4ccda5f",
   "metadata": {},
   "outputs": [],
   "source": [
    "A.intersection(B)"
   ]
  },
  {
   "cell_type": "code",
   "execution_count": null,
   "id": "319ee693-9acc-43e0-832a-badc42e3a6dc",
   "metadata": {},
   "outputs": [],
   "source": [
    "A.intersection(B,C)"
   ]
  },
  {
   "cell_type": "code",
   "execution_count": null,
   "id": "89713570-b89f-4af4-be4e-340c8515d46c",
   "metadata": {},
   "outputs": [],
   "source": [
    "A & B & C"
   ]
  },
  {
   "cell_type": "code",
   "execution_count": null,
   "id": "e7f4ada9-eeaf-48a8-8757-c1d2d79b0073",
   "metadata": {},
   "outputs": [],
   "source": []
  },
  {
   "cell_type": "code",
   "execution_count": null,
   "id": "fa92b1b6-4de2-4128-999c-711edb4b6749",
   "metadata": {},
   "outputs": [],
   "source": [
    "A - B   # difference"
   ]
  },
  {
   "cell_type": "code",
   "execution_count": null,
   "id": "eec52225-93f1-48e8-9cf1-d00943eef0b1",
   "metadata": {},
   "outputs": [],
   "source": [
    "A.difference(B)"
   ]
  },
  {
   "cell_type": "code",
   "execution_count": null,
   "id": "2b57eeb5-be1b-4c7c-a2bd-434e84727fe2",
   "metadata": {},
   "outputs": [],
   "source": [
    "B - A"
   ]
  },
  {
   "cell_type": "code",
   "execution_count": null,
   "id": "6fa3d7f7-aa71-4366-8d92-51652200c8c4",
   "metadata": {},
   "outputs": [],
   "source": [
    "B.difference(A)"
   ]
  },
  {
   "cell_type": "code",
   "execution_count": null,
   "id": "02a59bde-3c8f-445d-a1b0-604d6d202ca2",
   "metadata": {},
   "outputs": [],
   "source": [
    "A,B"
   ]
  },
  {
   "cell_type": "code",
   "execution_count": null,
   "id": "e9a4788f-5062-4476-adf1-ac29069e17f2",
   "metadata": {},
   "outputs": [],
   "source": [
    "A.difference_update(B)\n",
    "A\n",
    "\n",
    "# set A is updated with A-B"
   ]
  },
  {
   "cell_type": "code",
   "execution_count": null,
   "id": "7b45092c-7fef-4836-948f-c88a16e0fe7d",
   "metadata": {},
   "outputs": [],
   "source": []
  },
  {
   "cell_type": "markdown",
   "id": "79ff02c2-6529-418b-a673-8862eddbc8a5",
   "metadata": {},
   "source": [
    "# symmetric difference"
   ]
  },
  {
   "cell_type": "code",
   "execution_count": null,
   "id": "f6745c50-bc72-4adb-947c-c227e51acc22",
   "metadata": {},
   "outputs": [],
   "source": [
    "A = {1,2,3,4,5}\n",
    "B = {4,5,6,7,8}\n",
    "C = {8,9,10}"
   ]
  },
  {
   "cell_type": "code",
   "execution_count": null,
   "id": "2d4cef29-7e87-4361-b96a-abb1e3b06175",
   "metadata": {},
   "outputs": [],
   "source": [
    "A ^ B  # set elements in A and B but not in both((A|B)-(A&B))"
   ]
  },
  {
   "cell_type": "code",
   "execution_count": null,
   "id": "ae6d0fec-1f26-4cc8-9762-07c929210f0b",
   "metadata": {},
   "outputs": [],
   "source": [
    "(A | B)-(A & B)"
   ]
  },
  {
   "cell_type": "code",
   "execution_count": null,
   "id": "e785fa5d-dbfc-4d6d-b841-a65bb3dd30f3",
   "metadata": {},
   "outputs": [],
   "source": [
    "A.symmetric_difference_update(B)\n",
    "A\n",
    "# A gets updated with A^B"
   ]
  },
  {
   "cell_type": "code",
   "execution_count": null,
   "id": "59743734-d0de-4223-b401-34e42c05766f",
   "metadata": {},
   "outputs": [],
   "source": []
  },
  {
   "cell_type": "markdown",
   "id": "75e20cb4-f7dd-4b3f-8292-746f09c5d875",
   "metadata": {},
   "source": [
    "# Subset , Superset & Disjoint"
   ]
  },
  {
   "cell_type": "code",
   "execution_count": null,
   "id": "649c2aff-ed3e-4c4d-9d18-75c0bff7f61b",
   "metadata": {},
   "outputs": [],
   "source": [
    "A = {1,2,3,4,5,6,7,8,9}\n",
    "B = {3,4,5,6,7,8}\n",
    "C = {10,20,30,40}"
   ]
  },
  {
   "cell_type": "code",
   "execution_count": null,
   "id": "298506ce-3eab-4b39-8c9c-efe6c3a3eb0f",
   "metadata": {},
   "outputs": [],
   "source": [
    "B.issubset(A)"
   ]
  },
  {
   "cell_type": "code",
   "execution_count": null,
   "id": "e86226b2-4d02-4cc0-bcfa-1416f0e69b57",
   "metadata": {},
   "outputs": [],
   "source": [
    "A.issuperset(B)"
   ]
  },
  {
   "cell_type": "code",
   "execution_count": null,
   "id": "0edaddb1-102f-4697-b89d-63e0c39049e3",
   "metadata": {},
   "outputs": [],
   "source": [
    "C.isdisjoint(A)"
   ]
  },
  {
   "cell_type": "code",
   "execution_count": null,
   "id": "d5806d81-dbc9-4dcc-9887-9977e9a2b02a",
   "metadata": {},
   "outputs": [],
   "source": [
    "B.isdisjoint(A)"
   ]
  },
  {
   "cell_type": "code",
   "execution_count": null,
   "id": "0e882979-101c-4886-b19a-c8ee9e6589a3",
   "metadata": {},
   "outputs": [],
   "source": []
  },
  {
   "cell_type": "markdown",
   "id": "83d81e1c-30ab-4ff8-af5b-415c01af209d",
   "metadata": {},
   "source": [
    "# other built in functions"
   ]
  },
  {
   "cell_type": "code",
   "execution_count": null,
   "id": "8e95578c-9c79-4b19-a6cd-61f997109f01",
   "metadata": {},
   "outputs": [],
   "source": [
    "A = {1,2,3,4,5,6,7,8,9}"
   ]
  },
  {
   "cell_type": "code",
   "execution_count": null,
   "id": "81ffbfe0-9bd5-4d00-8d1d-f3adffc01ad7",
   "metadata": {},
   "outputs": [],
   "source": [
    "sum(A)"
   ]
  },
  {
   "cell_type": "code",
   "execution_count": null,
   "id": "d0eb8f17-9417-4bde-ba62-d43564d01756",
   "metadata": {},
   "outputs": [],
   "source": [
    "max(A)"
   ]
  },
  {
   "cell_type": "code",
   "execution_count": null,
   "id": "ac2d7d0e-6b48-4ccc-ba67-a4ddf318f27d",
   "metadata": {},
   "outputs": [],
   "source": [
    "min(A)"
   ]
  },
  {
   "cell_type": "code",
   "execution_count": null,
   "id": "286eefe7-82e8-4a62-8972-effe4892fe8b",
   "metadata": {},
   "outputs": [],
   "source": [
    "len(A)"
   ]
  },
  {
   "cell_type": "code",
   "execution_count": null,
   "id": "c51b8461-908d-4a15-8b09-7d02f5666de5",
   "metadata": {},
   "outputs": [],
   "source": [
    "list(enumerate(A))"
   ]
  },
  {
   "cell_type": "code",
   "execution_count": null,
   "id": "819d1628-988f-44e6-8f77-1faaa6711435",
   "metadata": {},
   "outputs": [],
   "source": [
    "A1 = sorted(A,reverse=True)\n",
    "A1"
   ]
  },
  {
   "cell_type": "code",
   "execution_count": null,
   "id": "2c390915-7e03-475c-be78-5c301490aced",
   "metadata": {},
   "outputs": [],
   "source": [
    "sorted(A1)"
   ]
  },
  {
   "cell_type": "code",
   "execution_count": null,
   "id": "f0689c58-5727-46f0-a91e-218a8c01faca",
   "metadata": {},
   "outputs": [],
   "source": []
  },
  {
   "cell_type": "code",
   "execution_count": null,
   "id": "f3d274a4-702c-49e6-8d28-bd90b01ab564",
   "metadata": {},
   "outputs": [],
   "source": []
  },
  {
   "cell_type": "markdown",
   "id": "d258c32f-556e-4727-b406-94d6b01a23fa",
   "metadata": {},
   "source": [
    "# Dictionary"
   ]
  },
  {
   "cell_type": "code",
   "execution_count": null,
   "id": "f3ee5c87-1841-4c94-bf35-71d819f7a9a8",
   "metadata": {},
   "outputs": [],
   "source": [
    "mydict = dict()    # empty dictionary creation\n",
    "mydict             # dict() is a built-in constructor used to create dictionary objects"
   ]
  },
  {
   "cell_type": "code",
   "execution_count": null,
   "id": "3389cee9-2a4a-4ec7-b24b-a4ec5a1b7632",
   "metadata": {},
   "outputs": [],
   "source": [
    "mydict = {}\n",
    "mydict"
   ]
  },
  {
   "cell_type": "code",
   "execution_count": null,
   "id": "cbc59088-d573-4bae-a784-d2774f25368d",
   "metadata": {},
   "outputs": [],
   "source": [
    "mydict = {1:'one', 2:'two', 3:'three'}\n",
    "mydict"
   ]
  },
  {
   "cell_type": "code",
   "execution_count": null,
   "id": "88d1cb56-3442-4bc4-ad8c-1390d9d3eea3",
   "metadata": {},
   "outputs": [],
   "source": [
    "mydict = dict({1:'one', 2:'two',3:'three'})\n",
    "mydict\n",
    "\n",
    "# dict() is a built-in constructor used to create dictionary objects"
   ]
  },
  {
   "cell_type": "code",
   "execution_count": null,
   "id": "13a0ca35-195a-4508-9d79-8d7b7e1819fc",
   "metadata": {},
   "outputs": [],
   "source": [
    "mydict = {'A':'one','B':'two','C':'three'}   # dict with character key\n",
    "mydict  \n"
   ]
  },
  {
   "cell_type": "code",
   "execution_count": null,
   "id": "5570bc01-64ae-402c-87de-bed84eea0bf3",
   "metadata": {},
   "outputs": [],
   "source": [
    "mydict = {1:'one','A':'two',3:'three'}  # dict with mixed keys\n",
    "mydict         "
   ]
  },
  {
   "cell_type": "code",
   "execution_count": null,
   "id": "53d11db8-5958-4844-bfcb-6d55365f5308",
   "metadata": {},
   "outputs": [],
   "source": [
    "mydict.keys()   # returns the keys"
   ]
  },
  {
   "cell_type": "code",
   "execution_count": null,
   "id": "d08dbb84-e647-4f55-900b-d0499deb9fd4",
   "metadata": {},
   "outputs": [],
   "source": [
    "mydict.values()  # return the values"
   ]
  },
  {
   "cell_type": "code",
   "execution_count": null,
   "id": "1e49b927-4c6a-4511-ab29-6c97442858f0",
   "metadata": {},
   "outputs": [],
   "source": [
    "mydict.items()    # returns key-value pairs(items)"
   ]
  },
  {
   "cell_type": "code",
   "execution_count": null,
   "id": "6370f175-1e59-486b-8dae-dc292116e308",
   "metadata": {},
   "outputs": [],
   "source": [
    "mydict = {1:'one', 2:'two', 'A':['Asif','John','wick']}\n",
    "mydict"
   ]
  },
  {
   "cell_type": "code",
   "execution_count": null,
   "id": "14e42702-629e-4af6-9104-7a579c19a208",
   "metadata": {},
   "outputs": [],
   "source": [
    "mydict = {1:'one', 2:'two', 'A':['Asif','John','wick'],'B':('bat','cat','hat')}\n",
    "mydict"
   ]
  },
  {
   "cell_type": "code",
   "execution_count": null,
   "id": "fe1d56c0-abc1-468e-80ef-0a20c749d652",
   "metadata": {},
   "outputs": [],
   "source": [
    "mydict = {1:'one', 2:'two', 'A':{'name':'Asif','John':'wick'},'B':('bat','cat','hat')}\n",
    "mydict"
   ]
  },
  {
   "cell_type": "code",
   "execution_count": null,
   "id": "5ab4bf04-1f8f-43d4-b7fc-a7e2df29a3ed",
   "metadata": {},
   "outputs": [],
   "source": [
    "keys = {'a','b','c','d'}\n",
    "mydict3 = dict.fromkeys(keys)    # creating dict using sequence of keys\n",
    "mydict3"
   ]
  },
  {
   "cell_type": "code",
   "execution_count": null,
   "id": "4b808db8-1d23-47ba-a171-d507ff5dcb95",
   "metadata": {},
   "outputs": [],
   "source": [
    "keys = {'a','b','c','d'}\n",
    "value = 10\n",
    "mydict3 = dict.fromkeys(keys,value)     # creating dict using sequence of keys and a value\n",
    "mydict3"
   ]
  },
  {
   "cell_type": "code",
   "execution_count": null,
   "id": "0d00cc4b-a103-4b54-a8d5-68f14a6ad5b5",
   "metadata": {},
   "outputs": [],
   "source": [
    "keys = {'a','b','c','d'}\n",
    "value = [10,20,30] \n",
    "mydict3 = dict.fromkeys(keys,value)\n",
    "mydict3"
   ]
  },
  {
   "cell_type": "code",
   "execution_count": null,
   "id": "4954bfa6-31e8-4eca-95d4-2a2aab9e2eae",
   "metadata": {},
   "outputs": [],
   "source": [
    "value.append(40)\n",
    "mydict3"
   ]
  },
  {
   "cell_type": "code",
   "execution_count": null,
   "id": "ae4d4fde-ec05-415d-b9cb-c9a008c68539",
   "metadata": {},
   "outputs": [],
   "source": []
  },
  {
   "cell_type": "markdown",
   "id": "6e7dc440-02ef-4ad8-92dc-fe67d2f5d625",
   "metadata": {},
   "source": [
    "# Accessing items"
   ]
  },
  {
   "cell_type": "code",
   "execution_count": 169,
   "id": "47d68da1-a3ae-4a41-a94d-2435c6b08628",
   "metadata": {},
   "outputs": [
    {
     "data": {
      "text/plain": [
       "{1: 'one', 2: 'two', 3: 'three', 4: 'four'}"
      ]
     },
     "execution_count": 169,
     "metadata": {},
     "output_type": "execute_result"
    }
   ],
   "source": [
    "mydict = {1:'one',2:'two',3:'three',4:'four'}\n",
    "mydict"
   ]
  },
  {
   "cell_type": "code",
   "execution_count": 170,
   "id": "8b02531e-7924-4c66-bc64-38dc4fec291f",
   "metadata": {},
   "outputs": [
    {
     "data": {
      "text/plain": [
       "'one'"
      ]
     },
     "execution_count": 170,
     "metadata": {},
     "output_type": "execute_result"
    }
   ],
   "source": [
    "mydict[1]   # access the value using the key"
   ]
  },
  {
   "cell_type": "code",
   "execution_count": 171,
   "id": "5fe375ff-1e3f-4b83-a8ab-d442762bf2de",
   "metadata": {},
   "outputs": [
    {
     "data": {
      "text/plain": [
       "'one'"
      ]
     },
     "execution_count": 171,
     "metadata": {},
     "output_type": "execute_result"
    }
   ],
   "source": [
    "mydict.get(1)   # access the value using get()"
   ]
  },
  {
   "cell_type": "code",
   "execution_count": 172,
   "id": "97c57bea-99c2-4c05-b95f-11965b82e010",
   "metadata": {},
   "outputs": [],
   "source": [
    "mydict.get(5)  \n",
    "# Return the value for key if key is in the dictionary, else default."
   ]
  },
  {
   "cell_type": "code",
   "execution_count": 173,
   "id": "8cb07056-67cc-45e7-b841-b2bc54571b85",
   "metadata": {},
   "outputs": [
    {
     "data": {
      "text/plain": [
       "{'Name': 'Arif', 'ID': 12345, 'Dob': 1991, 'Address': 'Hyderabad'}"
      ]
     },
     "execution_count": 173,
     "metadata": {},
     "output_type": "execute_result"
    }
   ],
   "source": [
    "mydict1 = {'Name':'Arif', 'ID':12345, 'Dob':1991,'Address':'Hyderabad'}\n",
    "mydict1"
   ]
  },
  {
   "cell_type": "code",
   "execution_count": 174,
   "id": "0fd6dde5-27c2-474e-983d-555dba45e9e3",
   "metadata": {},
   "outputs": [
    {
     "data": {
      "text/plain": [
       "{'Name': 'Arif', 'ID': 12345, 'Dob': 1992, 'Address': 'Goa'}"
      ]
     },
     "execution_count": 174,
     "metadata": {},
     "output_type": "execute_result"
    }
   ],
   "source": [
    "# changing dictionary items\n",
    "\n",
    "mydict1['Dob'] = 1992\n",
    "mydict1['Address'] = 'Goa'\n",
    "mydict1"
   ]
  },
  {
   "cell_type": "code",
   "execution_count": 175,
   "id": "9d285012-ca66-454a-ae80-cd8e97c20ffa",
   "metadata": {},
   "outputs": [
    {
     "data": {
      "text/plain": [
       "{'Name': 'Arif', 'ID': 12345, 'Dob': 1995, 'Address': 'Goa'}"
      ]
     },
     "execution_count": 175,
     "metadata": {},
     "output_type": "execute_result"
    }
   ],
   "source": [
    "dict1 = {'Dob':1995}\n",
    "mydict1.update(dict1)    # update the key-value pair\n",
    "mydict1"
   ]
  },
  {
   "cell_type": "code",
   "execution_count": 176,
   "id": "4c6d96c9-c83c-4b20-9b8d-9033779b264c",
   "metadata": {},
   "outputs": [
    {
     "data": {
      "text/plain": [
       "{'Name': 'Arif', 'ID': 12345, 'Dob': 1995, 'Address': 'Goa', 'Job': 'Analyst'}"
      ]
     },
     "execution_count": 176,
     "metadata": {},
     "output_type": "execute_result"
    }
   ],
   "source": [
    "mydict1['Job'] = 'Analyst'    # adding items in the dict\n",
    "mydict1"
   ]
  },
  {
   "cell_type": "code",
   "execution_count": 177,
   "id": "0aa9d21f-9b33-49cf-ab53-4038ee5241ca",
   "metadata": {},
   "outputs": [
    {
     "data": {
      "text/plain": [
       "{'Name': 'Arif', 'ID': 12345, 'Dob': 1995, 'Address': 'Goa'}"
      ]
     },
     "execution_count": 177,
     "metadata": {},
     "output_type": "execute_result"
    }
   ],
   "source": [
    "mydict1.pop('Job')      # removing items using pop method\n",
    "mydict1"
   ]
  },
  {
   "cell_type": "code",
   "execution_count": 178,
   "id": "5585d0ee-10f1-4946-8113-dc9197b16979",
   "metadata": {},
   "outputs": [
    {
     "data": {
      "text/plain": [
       "('Address', 'Goa')"
      ]
     },
     "execution_count": 178,
     "metadata": {},
     "output_type": "execute_result"
    }
   ],
   "source": [
    "mydict1.popitem()       # A random item is removed"
   ]
  },
  {
   "cell_type": "code",
   "execution_count": 179,
   "id": "33898d8c-9e5c-4588-9a81-a31b1321f97d",
   "metadata": {},
   "outputs": [
    {
     "data": {
      "text/plain": [
       "{'Name': 'Arif', 'ID': 12345, 'Dob': 1995}"
      ]
     },
     "execution_count": 179,
     "metadata": {},
     "output_type": "execute_result"
    }
   ],
   "source": [
    "mydict1"
   ]
  },
  {
   "cell_type": "code",
   "execution_count": 181,
   "id": "af6f4e6e-2563-4253-a95e-1a2c551f1b04",
   "metadata": {},
   "outputs": [
    {
     "data": {
      "text/plain": [
       "{'Name': 'Arif', 'Dob': 1995}"
      ]
     },
     "execution_count": 181,
     "metadata": {},
     "output_type": "execute_result"
    }
   ],
   "source": [
    "del[mydict1['ID']]      # removing using del method\n",
    "mydict1"
   ]
  },
  {
   "cell_type": "code",
   "execution_count": 182,
   "id": "bbe5b5d8-612d-41aa-96dc-d951247cb813",
   "metadata": {},
   "outputs": [
    {
     "ename": "NameError",
     "evalue": "name 'mydict1' is not defined",
     "output_type": "error",
     "traceback": [
      "\u001b[1;31m---------------------------------------------------------------------------\u001b[0m",
      "\u001b[1;31mNameError\u001b[0m                                 Traceback (most recent call last)",
      "Cell \u001b[1;32mIn[182], line 2\u001b[0m\n\u001b[0;32m      1\u001b[0m \u001b[38;5;28;01mdel\u001b[39;00m mydict1\n\u001b[1;32m----> 2\u001b[0m mydict1\n",
      "\u001b[1;31mNameError\u001b[0m: name 'mydict1' is not defined"
     ]
    }
   ],
   "source": [
    "del mydict1            # Delete the dict object\n",
    "mydict1"
   ]
  },
  {
   "cell_type": "code",
   "execution_count": null,
   "id": "08506441-811f-4740-b881-9f0b06e0a2f1",
   "metadata": {},
   "outputs": [],
   "source": []
  },
  {
   "cell_type": "markdown",
   "id": "fedef9e8-9c85-442e-8890-5ad814296a0a",
   "metadata": {},
   "source": [
    "# Copy Dictionary"
   ]
  },
  {
   "cell_type": "code",
   "execution_count": 183,
   "id": "5070c2cc-b9ca-4e0f-878a-9f2de0293aba",
   "metadata": {},
   "outputs": [
    {
     "data": {
      "text/plain": [
       "{'Name': 'Arif', 'ID': 12345, 'Dob': 1991, 'Address': 'Hyderabad'}"
      ]
     },
     "execution_count": 183,
     "metadata": {},
     "output_type": "execute_result"
    }
   ],
   "source": [
    "mydict = {'Name':'Arif', 'ID':12345, 'Dob':1991,'Address':'Hyderabad'}\n",
    "mydict"
   ]
  },
  {
   "cell_type": "code",
   "execution_count": 184,
   "id": "35d8dd3a-ab5a-4277-a298-488a713b9c3c",
   "metadata": {},
   "outputs": [],
   "source": [
    "mydict1 = mydict"
   ]
  },
  {
   "cell_type": "code",
   "execution_count": 185,
   "id": "df439224-3bd2-4e25-bbfc-91a702be4385",
   "metadata": {},
   "outputs": [
    {
     "data": {
      "text/plain": [
       "True"
      ]
     },
     "execution_count": 185,
     "metadata": {},
     "output_type": "execute_result"
    }
   ],
   "source": [
    "id(mydict1) == id(mydict)"
   ]
  },
  {
   "cell_type": "code",
   "execution_count": 186,
   "id": "00054c40-33e9-4e33-a00f-eff64d3eec08",
   "metadata": {},
   "outputs": [
    {
     "data": {
      "text/plain": [
       "{'Name': 'Arif', 'ID': 12345, 'Dob': 1991, 'Address': 'Hyderabad'}"
      ]
     },
     "execution_count": 186,
     "metadata": {},
     "output_type": "execute_result"
    }
   ],
   "source": [
    "mydict2 = mydict.copy()\n",
    "mydict2"
   ]
  },
  {
   "cell_type": "code",
   "execution_count": 187,
   "id": "d0d3a86f-ba4f-44ca-ab31-51cfe585790b",
   "metadata": {},
   "outputs": [
    {
     "data": {
      "text/plain": [
       "False"
      ]
     },
     "execution_count": 187,
     "metadata": {},
     "output_type": "execute_result"
    }
   ],
   "source": [
    "id(mydict2) == id(mydict)"
   ]
  },
  {
   "cell_type": "code",
   "execution_count": 188,
   "id": "7d385b0e-21f0-4a83-9e4c-d730d1faa290",
   "metadata": {},
   "outputs": [],
   "source": [
    "mydict['Address'] = 'Mumbai'"
   ]
  },
  {
   "cell_type": "code",
   "execution_count": 190,
   "id": "4fe7a2f5-dd8c-4c5e-abf0-653f8be70b6b",
   "metadata": {},
   "outputs": [
    {
     "name": "stdout",
     "output_type": "stream",
     "text": [
      "{'Name': 'Arif', 'ID': 12345, 'Dob': 1991, 'Address': 'Mumbai'}\n",
      "{'Name': 'Arif', 'ID': 12345, 'Dob': 1991, 'Address': 'Mumbai'}\n",
      "{'Name': 'Arif', 'ID': 12345, 'Dob': 1991, 'Address': 'Hyderabad'}\n"
     ]
    }
   ],
   "source": [
    "print(mydict)\n",
    "print(mydict1)    # reference dict will be impacted by change in original dict\n",
    "print(mydict2)    # copy dict will not be impacted with change in original dict"
   ]
  },
  {
   "cell_type": "code",
   "execution_count": null,
   "id": "441ef863-c553-4624-b1a3-bae8e7f558aa",
   "metadata": {},
   "outputs": [],
   "source": []
  },
  {
   "cell_type": "markdown",
   "id": "ec1e2e85-134d-4d5f-ad1f-43f438b1e744",
   "metadata": {},
   "source": [
    "# Loop through a Dictionary"
   ]
  },
  {
   "cell_type": "code",
   "execution_count": 191,
   "id": "964a2839-47f6-4bde-8f94-c10e9f887b3b",
   "metadata": {},
   "outputs": [
    {
     "data": {
      "text/plain": [
       "{'Name': 'Arif', 'ID': 12345, 'Dob': 1991, 'Address': 'Mumbai'}"
      ]
     },
     "execution_count": 191,
     "metadata": {},
     "output_type": "execute_result"
    }
   ],
   "source": [
    "mydict1"
   ]
  },
  {
   "cell_type": "code",
   "execution_count": 192,
   "id": "cf4dfdee-35ab-48ff-a37b-3e3a188d47a4",
   "metadata": {},
   "outputs": [
    {
     "data": {
      "text/plain": [
       "{'Name': 'Arif',\n",
       " 'ID': 12345,\n",
       " 'Dob': 1991,\n",
       " 'Address': 'Mumbai',\n",
       " 'Job': 'Data Analyst'}"
      ]
     },
     "execution_count": 192,
     "metadata": {},
     "output_type": "execute_result"
    }
   ],
   "source": [
    "mydict1['Job'] = 'Data Analyst'\n",
    "mydict1"
   ]
  },
  {
   "cell_type": "code",
   "execution_count": 195,
   "id": "221bd6cb-619a-46e1-821d-5c8d22e332e1",
   "metadata": {},
   "outputs": [
    {
     "name": "stdout",
     "output_type": "stream",
     "text": [
      "Name\n",
      "ID\n",
      "Dob\n",
      "Address\n",
      "Job\n"
     ]
    }
   ],
   "source": [
    "for i in mydict1:\n",
    "    print(i)                 # Returns only keys "
   ]
  },
  {
   "cell_type": "code",
   "execution_count": 196,
   "id": "081cfd93-a2ae-49fd-99c7-518e8a241e8f",
   "metadata": {},
   "outputs": [
    {
     "name": "stdout",
     "output_type": "stream",
     "text": [
      "Name : Arif\n",
      "ID : 12345\n",
      "Dob : 1991\n",
      "Address : Mumbai\n",
      "Job : Data Analyst\n"
     ]
    }
   ],
   "source": [
    "for i in mydict1:\n",
    "    print(i,':',mydict1[i])   # Returns key-value pair"
   ]
  },
  {
   "cell_type": "code",
   "execution_count": 202,
   "id": "8ef069d5-a735-4a78-af17-9981cd160cd2",
   "metadata": {},
   "outputs": [
    {
     "name": "stdout",
     "output_type": "stream",
     "text": [
      "Arif\n",
      "12345\n",
      "1991\n",
      "Mumbai\n",
      "Data Analyst\n"
     ]
    }
   ],
   "source": [
    "for i in mydict1:\n",
    "    print(mydict1[i])         # Returns only values"
   ]
  },
  {
   "cell_type": "code",
   "execution_count": null,
   "id": "e29e0f9c-9f5b-434c-b001-6821df3f100c",
   "metadata": {},
   "outputs": [],
   "source": []
  },
  {
   "cell_type": "markdown",
   "id": "26555ca9-bdb7-4401-8672-2cd67e6f61c3",
   "metadata": {},
   "source": [
    "# Dictionary membership"
   ]
  },
  {
   "cell_type": "code",
   "execution_count": 203,
   "id": "2cbb8cda-dd0b-4336-aad7-b8414bd44f41",
   "metadata": {},
   "outputs": [
    {
     "data": {
      "text/plain": [
       "{'Name': 'Arif',\n",
       " 'ID': 12345,\n",
       " 'Dob': 1991,\n",
       " 'Address': 'Mumbai',\n",
       " 'Job': 'Data Analyst'}"
      ]
     },
     "execution_count": 203,
     "metadata": {},
     "output_type": "execute_result"
    }
   ],
   "source": [
    "mydict1"
   ]
  },
  {
   "cell_type": "code",
   "execution_count": 204,
   "id": "36544f0a-462f-416e-99f7-6d135f62ecac",
   "metadata": {},
   "outputs": [
    {
     "data": {
      "text/plain": [
       "True"
      ]
     },
     "execution_count": 204,
     "metadata": {},
     "output_type": "execute_result"
    }
   ],
   "source": [
    "'Name' in mydict1"
   ]
  },
  {
   "cell_type": "code",
   "execution_count": 205,
   "id": "5596add7-e82b-4d22-93dd-01afcfe798fa",
   "metadata": {},
   "outputs": [
    {
     "data": {
      "text/plain": [
       "False"
      ]
     },
     "execution_count": 205,
     "metadata": {},
     "output_type": "execute_result"
    }
   ],
   "source": [
    "'Age' in mydict1"
   ]
  },
  {
   "cell_type": "code",
   "execution_count": 207,
   "id": "31c32bfc-b447-46ef-b77c-4bcf25f36caf",
   "metadata": {},
   "outputs": [
    {
     "data": {
      "text/plain": [
       "False"
      ]
     },
     "execution_count": 207,
     "metadata": {},
     "output_type": "execute_result"
    }
   ],
   "source": [
    "'id' in mydict1"
   ]
  },
  {
   "cell_type": "code",
   "execution_count": null,
   "id": "5f578651-6f7a-4013-a0c2-ee31f68ab5ca",
   "metadata": {},
   "outputs": [],
   "source": []
  },
  {
   "cell_type": "markdown",
   "id": "ca74f34b-b9a6-403b-90c6-bd0e17f53c78",
   "metadata": {},
   "source": [
    "# All - Any methods"
   ]
  },
  {
   "cell_type": "code",
   "execution_count": 208,
   "id": "553a0300-7c63-4906-93c9-4bc5d9abd449",
   "metadata": {},
   "outputs": [
    {
     "data": {
      "text/plain": [
       "{'Name': 'Arif',\n",
       " 'ID': 12345,\n",
       " 'Dob': 1991,\n",
       " 'Address': 'Mumbai',\n",
       " 'Job': 'Data Analyst'}"
      ]
     },
     "execution_count": 208,
     "metadata": {},
     "output_type": "execute_result"
    }
   ],
   "source": [
    "mydict1"
   ]
  },
  {
   "cell_type": "code",
   "execution_count": 209,
   "id": "207f37a6-c5ea-4b7d-8c84-4b6982371680",
   "metadata": {},
   "outputs": [
    {
     "data": {
      "text/plain": [
       "True"
      ]
     },
     "execution_count": 209,
     "metadata": {},
     "output_type": "execute_result"
    }
   ],
   "source": [
    "all(mydict1)    # Returns false if even one value is false(0)"
   ]
  },
  {
   "cell_type": "code",
   "execution_count": 210,
   "id": "212eb64d-8e3a-4207-9f01-83864004b30f",
   "metadata": {},
   "outputs": [
    {
     "data": {
      "text/plain": [
       "True"
      ]
     },
     "execution_count": 210,
     "metadata": {},
     "output_type": "execute_result"
    }
   ],
   "source": [
    "any(mydict1)"
   ]
  },
  {
   "cell_type": "code",
   "execution_count": 214,
   "id": "daafada7-2f19-4f65-baed-883515a2bf57",
   "metadata": {},
   "outputs": [
    {
     "data": {
      "text/plain": [
       "{'Name': 'Arif',\n",
       " 'ID': '000',\n",
       " 'Dob': '1990',\n",
       " 'Address': 'Mumbai',\n",
       " 'Job': 'Data Analyst'}"
      ]
     },
     "execution_count": 214,
     "metadata": {},
     "output_type": "execute_result"
    }
   ],
   "source": [
    "mydict1['ID'] = '000'\n",
    "mydict1"
   ]
  },
  {
   "cell_type": "code",
   "execution_count": 215,
   "id": "9c21c298-d9cb-4cf9-b139-9b101d82293f",
   "metadata": {},
   "outputs": [
    {
     "data": {
      "text/plain": [
       "True"
      ]
     },
     "execution_count": 215,
     "metadata": {},
     "output_type": "execute_result"
    }
   ],
   "source": [
    "all(mydict1)"
   ]
  },
  {
   "cell_type": "code",
   "execution_count": 216,
   "id": "8859d448-8b0e-4e79-ac97-07ba2ba57c73",
   "metadata": {},
   "outputs": [
    {
     "data": {
      "text/plain": [
       "True"
      ]
     },
     "execution_count": 216,
     "metadata": {},
     "output_type": "execute_result"
    }
   ],
   "source": [
    "any(mydict1)"
   ]
  },
  {
   "cell_type": "code",
   "execution_count": null,
   "id": "f123e42b-daa9-4f44-9d7e-a22a5eeb8fbc",
   "metadata": {},
   "outputs": [],
   "source": []
  }
 ],
 "metadata": {
  "kernelspec": {
   "display_name": "Python [conda env:base] *",
   "language": "python",
   "name": "conda-base-py"
  },
  "language_info": {
   "codemirror_mode": {
    "name": "ipython",
    "version": 3
   },
   "file_extension": ".py",
   "mimetype": "text/x-python",
   "name": "python",
   "nbconvert_exporter": "python",
   "pygments_lexer": "ipython3",
   "version": "3.12.7"
  }
 },
 "nbformat": 4,
 "nbformat_minor": 5
}
