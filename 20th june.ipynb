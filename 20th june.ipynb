{
 "cells": [
  {
   "cell_type": "code",
   "execution_count": null,
   "id": "a1140f7e-6c30-4d8c-a861-e4ebf96ade43",
   "metadata": {},
   "outputs": [],
   "source": [
    "p=20\n",
    "q=20\n",
    "r=20"
   ]
  },
  {
   "cell_type": "code",
   "execution_count": 3,
   "id": "1070fd58-1634-4a63-9a03-9d47d317e058",
   "metadata": {},
   "outputs": [],
   "source": [
    "p=q=r=20    #code optimisation"
   ]
  },
  {
   "cell_type": "code",
   "execution_count": 20,
   "id": "61cff6f5-de14-446c-b894-b84fdcb8d4a7",
   "metadata": {},
   "outputs": [
    {
     "name": "stdout",
     "output_type": "stream",
     "text": [
      "140736030780440\n",
      "140736030780440\n",
      "140736030780440\n"
     ]
    }
   ],
   "source": [
    "print(id(p))\n",
    "\n",
    "print(id(q))\n",
    "\n",
    "print(id(r))\n"
   ]
  },
  {
   "cell_type": "code",
   "execution_count": 21,
   "id": "87c1ae62-6ce8-4222-888f-25ef07db7564",
   "metadata": {},
   "outputs": [],
   "source": [
    "# same address for all variables with same value"
   ]
  },
  {
   "cell_type": "code",
   "execution_count": 22,
   "id": "d54ba8f8-616b-45cd-b47b-65e3e6362e90",
   "metadata": {},
   "outputs": [
    {
     "ename": "TypeError",
     "evalue": "cannot unpack non-iterable int object",
     "output_type": "error",
     "traceback": [
      "\u001b[1;31m---------------------------------------------------------------------------\u001b[0m",
      "\u001b[1;31mTypeError\u001b[0m                                 Traceback (most recent call last)",
      "Cell \u001b[1;32mIn[22], line 1\u001b[0m\n\u001b[1;32m----> 1\u001b[0m p1, q1, r1 \u001b[38;5;241m=\u001b[39m \u001b[38;5;241m20\u001b[39m\n",
      "\u001b[1;31mTypeError\u001b[0m: cannot unpack non-iterable int object"
     ]
    }
   ],
   "source": [
    "p1, q1, r1 = 20"
   ]
  },
  {
   "cell_type": "code",
   "execution_count": 23,
   "id": "81bc3b70-6665-48fe-bb49-b5efa301bd32",
   "metadata": {},
   "outputs": [],
   "source": [
    "# q1 and r1 values are missing"
   ]
  },
  {
   "cell_type": "code",
   "execution_count": 14,
   "id": "dc34f64a-b204-4177-8d6e-852d4eda6824",
   "metadata": {},
   "outputs": [],
   "source": [
    "p1,q1,r1= 20, 30, 50"
   ]
  },
  {
   "cell_type": "code",
   "execution_count": 15,
   "id": "ddcad52a-717d-48a6-9b30-f5f54dd3a03f",
   "metadata": {},
   "outputs": [
    {
     "name": "stdout",
     "output_type": "stream",
     "text": [
      "140736030780440\n",
      "140736030780760\n",
      "140736030781400\n"
     ]
    }
   ],
   "source": [
    "print(id(p1))\n",
    "\n",
    "print(id(q1))\n",
    "\n",
    "print(id(r1))\n"
   ]
  },
  {
   "cell_type": "code",
   "execution_count": 24,
   "id": "790b0a74-4613-4822-a9e4-ff1c187e24cb",
   "metadata": {},
   "outputs": [],
   "source": [
    "# different addresses for all variables with different value"
   ]
  },
  {
   "cell_type": "code",
   "execution_count": null,
   "id": "5aa302f8-6e64-4401-88d2-2e03ca08e610",
   "metadata": {},
   "outputs": [],
   "source": []
  },
  {
   "cell_type": "markdown",
   "id": "fd5fbae2-9607-413e-8347-7f59865123a3",
   "metadata": {},
   "source": [
    "STRING"
   ]
  },
  {
   "cell_type": "code",
   "execution_count": 25,
   "id": "d809ed68-b9cc-4f76-89df-1a8e74e55790",
   "metadata": {},
   "outputs": [
    {
     "data": {
      "text/plain": [
       "'Hello Python'"
      ]
     },
     "execution_count": 25,
     "metadata": {},
     "output_type": "execute_result"
    }
   ],
   "source": [
    "s= 'Hello Python'\n",
    "s"
   ]
  },
  {
   "cell_type": "code",
   "execution_count": 27,
   "id": "f9797b70-aa6a-4578-8841-cbec48aa0cc5",
   "metadata": {},
   "outputs": [
    {
     "data": {
      "text/plain": [
       "12"
      ]
     },
     "execution_count": 27,
     "metadata": {},
     "output_type": "execute_result"
    }
   ],
   "source": [
    "len(s)  #length of the string"
   ]
  },
  {
   "cell_type": "code",
   "execution_count": 28,
   "id": "3c80fd4c-b78b-466f-a96c-e9d69a77a469",
   "metadata": {},
   "outputs": [
    {
     "data": {
      "text/plain": [
       "'Hello Python'"
      ]
     },
     "execution_count": 28,
     "metadata": {},
     "output_type": "execute_result"
    }
   ],
   "source": [
    "s"
   ]
  },
  {
   "cell_type": "code",
   "execution_count": 29,
   "id": "78dacd97-514a-4335-852c-e3ffed0dc477",
   "metadata": {},
   "outputs": [
    {
     "ename": "SyntaxError",
     "evalue": "invalid syntax (1085298815.py, line 1)",
     "output_type": "error",
     "traceback": [
      "\u001b[1;36m  Cell \u001b[1;32mIn[29], line 1\u001b[1;36m\u001b[0m\n\u001b[1;33m    s[]\u001b[0m\n\u001b[1;37m      ^\u001b[0m\n\u001b[1;31mSyntaxError\u001b[0m\u001b[1;31m:\u001b[0m invalid syntax\n"
     ]
    }
   ],
   "source": [
    "s[]"
   ]
  },
  {
   "cell_type": "code",
   "execution_count": 30,
   "id": "9e9b580c-fd9f-4845-a83f-f2955037f2d7",
   "metadata": {},
   "outputs": [
    {
     "ename": "TypeError",
     "evalue": "'str' object is not callable",
     "output_type": "error",
     "traceback": [
      "\u001b[1;31m---------------------------------------------------------------------------\u001b[0m",
      "\u001b[1;31mTypeError\u001b[0m                                 Traceback (most recent call last)",
      "Cell \u001b[1;32mIn[30], line 1\u001b[0m\n\u001b[1;32m----> 1\u001b[0m s()\n",
      "\u001b[1;31mTypeError\u001b[0m: 'str' object is not callable"
     ]
    }
   ],
   "source": [
    "s()"
   ]
  },
  {
   "cell_type": "code",
   "execution_count": 31,
   "id": "93554a79-b7c9-4d42-b685-8605d138f49a",
   "metadata": {},
   "outputs": [
    {
     "ename": "TypeError",
     "evalue": "'str' object is not callable",
     "output_type": "error",
     "traceback": [
      "\u001b[1;31m---------------------------------------------------------------------------\u001b[0m",
      "\u001b[1;31mTypeError\u001b[0m                                 Traceback (most recent call last)",
      "Cell \u001b[1;32mIn[31], line 1\u001b[0m\n\u001b[1;32m----> 1\u001b[0m s(\u001b[38;5;241m0\u001b[39m)\n",
      "\u001b[1;31mTypeError\u001b[0m: 'str' object is not callable"
     ]
    }
   ],
   "source": [
    "s(0)"
   ]
  },
  {
   "cell_type": "code",
   "execution_count": 33,
   "id": "04ee938e-820a-435d-acee-edf701666f86",
   "metadata": {},
   "outputs": [
    {
     "data": {
      "text/plain": [
       "'H'"
      ]
     },
     "execution_count": 33,
     "metadata": {},
     "output_type": "execute_result"
    }
   ],
   "source": [
    "s[0] # forward indexing"
   ]
  },
  {
   "cell_type": "code",
   "execution_count": 36,
   "id": "86ec5c23-bfe9-469e-a86e-712d77e4f6c2",
   "metadata": {},
   "outputs": [
    {
     "data": {
      "text/plain": [
       "'t'"
      ]
     },
     "execution_count": 36,
     "metadata": {},
     "output_type": "execute_result"
    }
   ],
   "source": [
    "s[-4]  #backward indexing"
   ]
  },
  {
   "cell_type": "code",
   "execution_count": 37,
   "id": "8bb8649a-1e7b-421a-93a3-ea4a2d5b9ac8",
   "metadata": {},
   "outputs": [],
   "source": [
    "# only print a part of the string"
   ]
  },
  {
   "cell_type": "code",
   "execution_count": 39,
   "id": "17eef73e-69f1-4103-afea-c036d56dce08",
   "metadata": {},
   "outputs": [
    {
     "data": {
      "text/plain": [
       "'Hello Python'"
      ]
     },
     "execution_count": 39,
     "metadata": {},
     "output_type": "execute_result"
    }
   ],
   "source": [
    "s"
   ]
  },
  {
   "cell_type": "code",
   "execution_count": 40,
   "id": "0c615930-d858-42ef-a1e2-d1a9cc0cf746",
   "metadata": {},
   "outputs": [
    {
     "data": {
      "text/plain": [
       "'Hello Python'"
      ]
     },
     "execution_count": 40,
     "metadata": {},
     "output_type": "execute_result"
    }
   ],
   "source": [
    "s[:]   #full slice"
   ]
  },
  {
   "cell_type": "code",
   "execution_count": 48,
   "id": "304b7f15-2b6d-4504-a4a1-75a248a13b1e",
   "metadata": {},
   "outputs": [
    {
     "data": {
      "text/plain": [
       "'Hell'"
      ]
     },
     "execution_count": 48,
     "metadata": {},
     "output_type": "execute_result"
    }
   ],
   "source": [
    "s[0:4]   # 0 - starting index(n) , 4- ending index but not included(n-1)"
   ]
  },
  {
   "cell_type": "code",
   "execution_count": 47,
   "id": "43d4acd0-3a2e-4326-877f-6aba99837fd9",
   "metadata": {},
   "outputs": [
    {
     "ename": "IndexError",
     "evalue": "string index out of range",
     "output_type": "error",
     "traceback": [
      "\u001b[1;31m---------------------------------------------------------------------------\u001b[0m",
      "\u001b[1;31mIndexError\u001b[0m                                Traceback (most recent call last)",
      "Cell \u001b[1;32mIn[47], line 1\u001b[0m\n\u001b[1;32m----> 1\u001b[0m s[\u001b[38;5;241m13\u001b[39m]\n",
      "\u001b[1;31mIndexError\u001b[0m: string index out of range"
     ]
    }
   ],
   "source": [
    "s[13]"
   ]
  },
  {
   "cell_type": "code",
   "execution_count": 46,
   "id": "55153669-6469-4437-ae20-bd4ab92d31a3",
   "metadata": {},
   "outputs": [
    {
     "data": {
      "text/plain": [
       "'Hello'"
      ]
     },
     "execution_count": 46,
     "metadata": {},
     "output_type": "execute_result"
    }
   ],
   "source": [
    "s[0:5]   # 0 - starting index(n) , 4- ending index but not included(n-1)"
   ]
  },
  {
   "cell_type": "code",
   "execution_count": 51,
   "id": "b46ab2e9-bd8d-4593-bd35-d0404fe89399",
   "metadata": {},
   "outputs": [
    {
     "data": {
      "text/plain": [
       "'Hello '"
      ]
     },
     "execution_count": 51,
     "metadata": {},
     "output_type": "execute_result"
    }
   ],
   "source": [
    "s[0:6]   # 0 to 5 index"
   ]
  },
  {
   "cell_type": "code",
   "execution_count": 49,
   "id": "0835e250-ae34-4559-a7e7-0cbf5339af5d",
   "metadata": {},
   "outputs": [
    {
     "data": {
      "text/plain": [
       "'Pyt'"
      ]
     },
     "execution_count": 49,
     "metadata": {},
     "output_type": "execute_result"
    }
   ],
   "source": [
    "s[6:9]"
   ]
  },
  {
   "cell_type": "code",
   "execution_count": 52,
   "id": "c54dd1f5-f4a7-4beb-8f59-cbbbda5e3dab",
   "metadata": {},
   "outputs": [
    {
     "data": {
      "text/plain": [
       "'ytho'"
      ]
     },
     "execution_count": 52,
     "metadata": {},
     "output_type": "execute_result"
    }
   ],
   "source": [
    "s[-5:-1]  #-5 starting index , -1 ending index but not included(n-1=> -1-1=-2)"
   ]
  },
  {
   "cell_type": "code",
   "execution_count": 55,
   "id": "854cb490-894b-49c2-88a8-618fe25f8163",
   "metadata": {},
   "outputs": [
    {
     "data": {
      "text/plain": [
       "'lo Python'"
      ]
     },
     "execution_count": 55,
     "metadata": {},
     "output_type": "execute_result"
    }
   ],
   "source": [
    "s[3:]   # from 3rd index to last"
   ]
  },
  {
   "cell_type": "code",
   "execution_count": 56,
   "id": "c19c733e-685f-4c85-b1ae-3f8103115a77",
   "metadata": {},
   "outputs": [
    {
     "data": {
      "text/plain": [
       "'Hello P'"
      ]
     },
     "execution_count": 56,
     "metadata": {},
     "output_type": "execute_result"
    }
   ],
   "source": [
    "s[:7]   # from start to 6th index(n-1, 7-1=6th index) "
   ]
  },
  {
   "cell_type": "code",
   "execution_count": 57,
   "id": "ca600e88-e39c-4159-8092-a081315621b3",
   "metadata": {},
   "outputs": [
    {
     "data": {
      "text/plain": [
       "'nohtyP olleH'"
      ]
     },
     "execution_count": 57,
     "metadata": {},
     "output_type": "execute_result"
    }
   ],
   "source": [
    "s[::-1]   #reverse"
   ]
  },
  {
   "cell_type": "code",
   "execution_count": 60,
   "id": "70e149a4-bc52-413b-a46c-86b11cb6b7ea",
   "metadata": {},
   "outputs": [
    {
     "data": {
      "text/plain": [
       "'Hello Python'"
      ]
     },
     "execution_count": 60,
     "metadata": {},
     "output_type": "execute_result"
    }
   ],
   "source": [
    "s[::]   "
   ]
  },
  {
   "cell_type": "code",
   "execution_count": 62,
   "id": "16dd1501-05f7-41d4-9db2-aeb8223aa684",
   "metadata": {},
   "outputs": [
    {
     "data": {
      "text/plain": [
       "'HlPh'"
      ]
     },
     "execution_count": 62,
     "metadata": {},
     "output_type": "execute_result"
    }
   ],
   "source": [
    "s[0:13:3]"
   ]
  },
  {
   "cell_type": "code",
   "execution_count": 63,
   "id": "dca2e676-6eb2-4c2f-b4ed-4f3ed9ff20b0",
   "metadata": {},
   "outputs": [
    {
     "data": {
      "text/plain": [
       "'HloPt'"
      ]
     },
     "execution_count": 63,
     "metadata": {},
     "output_type": "execute_result"
    }
   ],
   "source": [
    "s[0:10:2]"
   ]
  },
  {
   "cell_type": "code",
   "execution_count": 64,
   "id": "949debef-8217-4811-a8cc-f6d711e431e0",
   "metadata": {},
   "outputs": [
    {
     "data": {
      "text/plain": [
       "'H '"
      ]
     },
     "execution_count": 64,
     "metadata": {},
     "output_type": "execute_result"
    }
   ],
   "source": [
    "s[0:10:5]     #space for remaining indexes as it ended before "
   ]
  },
  {
   "cell_type": "code",
   "execution_count": 68,
   "id": "34119edf-3634-4dc5-ba10-b4db3aea464a",
   "metadata": {},
   "outputs": [
    {
     "ename": "NameError",
     "evalue": "name 'np' is not defined",
     "output_type": "error",
     "traceback": [
      "\u001b[1;31m---------------------------------------------------------------------------\u001b[0m",
      "\u001b[1;31mNameError\u001b[0m                                 Traceback (most recent call last)",
      "Cell \u001b[1;32mIn[68], line 1\u001b[0m\n\u001b[1;32m----> 1\u001b[0m data\u001b[38;5;241m=\u001b[39mnp\u001b[38;5;241m.\u001b[39mnan\n",
      "\u001b[1;31mNameError\u001b[0m: name 'np' is not defined"
     ]
    }
   ],
   "source": [
    "data=np.nan\n"
   ]
  },
  {
   "cell_type": "code",
   "execution_count": null,
   "id": "0287c5e9-1e47-48a3-8fbc-63cb44b6fe86",
   "metadata": {},
   "outputs": [],
   "source": []
  },
  {
   "cell_type": "code",
   "execution_count": null,
   "id": "d6aa06ba-592b-4477-bfaa-006d9c1d475b",
   "metadata": {},
   "outputs": [],
   "source": []
  },
  {
   "cell_type": "code",
   "execution_count": null,
   "id": "6c56e17b-1467-42c3-9f6e-d1c65bd5f1f4",
   "metadata": {},
   "outputs": [],
   "source": []
  }
 ],
 "metadata": {
  "kernelspec": {
   "display_name": "Python [conda env:base] *",
   "language": "python",
   "name": "conda-base-py"
  },
  "language_info": {
   "codemirror_mode": {
    "name": "ipython",
    "version": 3
   },
   "file_extension": ".py",
   "mimetype": "text/x-python",
   "name": "python",
   "nbconvert_exporter": "python",
   "pygments_lexer": "ipython3",
   "version": "3.12.7"
  }
 },
 "nbformat": 4,
 "nbformat_minor": 5
}
