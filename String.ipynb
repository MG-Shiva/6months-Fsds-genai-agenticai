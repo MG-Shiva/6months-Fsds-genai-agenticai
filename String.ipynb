{
 "cells": [
  {
   "cell_type": "markdown",
   "id": "d64b6282-2bb8-4496-88db-a00e68705f56",
   "metadata": {},
   "source": [
    "# Single line comment"
   ]
  },
  {
   "cell_type": "code",
   "execution_count": 1,
   "id": "677eb17e-2f9d-4534-b36e-2ddf8fd5655b",
   "metadata": {},
   "outputs": [],
   "source": [
    "letter='P'"
   ]
  },
  {
   "cell_type": "code",
   "execution_count": 2,
   "id": "1e31c464-db64-445b-89b4-d58cca54a084",
   "metadata": {},
   "outputs": [
    {
     "name": "stdout",
     "output_type": "stream",
     "text": [
      "P\n"
     ]
    }
   ],
   "source": [
    "print(letter)"
   ]
  },
  {
   "cell_type": "code",
   "execution_count": 3,
   "id": "33becf8e-8fac-48e4-8607-91577ae7e03a",
   "metadata": {},
   "outputs": [
    {
     "name": "stdout",
     "output_type": "stream",
     "text": [
      "1\n"
     ]
    }
   ],
   "source": [
    "print(len(letter))"
   ]
  },
  {
   "cell_type": "code",
   "execution_count": null,
   "id": "fa5584af-df49-49f4-b7ad-b0ac51763d5d",
   "metadata": {},
   "outputs": [],
   "source": []
  },
  {
   "cell_type": "code",
   "execution_count": 4,
   "id": "e093190e-8447-4fd4-926d-cada8af87f80",
   "metadata": {},
   "outputs": [],
   "source": [
    "greeting='Hello, World!'"
   ]
  },
  {
   "cell_type": "code",
   "execution_count": 5,
   "id": "c52a574a-bc9d-4265-b6f1-eab42d0acc4e",
   "metadata": {},
   "outputs": [
    {
     "name": "stdout",
     "output_type": "stream",
     "text": [
      "Hello, World!\n",
      "13\n"
     ]
    }
   ],
   "source": [
    "print(greeting)\n",
    "print(len(greeting))"
   ]
  },
  {
   "cell_type": "code",
   "execution_count": null,
   "id": "ea67e47c-7c24-4db3-b5f3-a0a506cca19b",
   "metadata": {},
   "outputs": [],
   "source": []
  },
  {
   "cell_type": "code",
   "execution_count": 6,
   "id": "cf89f0d0-875d-4fc0-acba-56e443034e5b",
   "metadata": {},
   "outputs": [],
   "source": [
    "sentence=\"I hope you are enjoying 30days of python challenge\""
   ]
  },
  {
   "cell_type": "code",
   "execution_count": 7,
   "id": "91609bc2-ee74-48eb-b62c-30890326df08",
   "metadata": {},
   "outputs": [
    {
     "name": "stdout",
     "output_type": "stream",
     "text": [
      "I hope you are enjoying 30days of python challenge\n"
     ]
    }
   ],
   "source": [
    "print(sentence)"
   ]
  },
  {
   "cell_type": "code",
   "execution_count": null,
   "id": "a598f6f1-60d8-403d-8a7d-40d49b4ffbed",
   "metadata": {},
   "outputs": [],
   "source": []
  },
  {
   "cell_type": "markdown",
   "id": "098185b7-6670-4ba6-b585-c53e15260b4b",
   "metadata": {},
   "source": [
    "# Multiline string"
   ]
  },
  {
   "cell_type": "code",
   "execution_count": 8,
   "id": "3f115142-7602-404c-995d-473e850e7856",
   "metadata": {},
   "outputs": [],
   "source": [
    "multiline_string='''I am a teacher and enjoy teaching.\n",
    "I didn't find anything as rewarding as empowering people.\n",
    "That is why i created 30 days of python.'''"
   ]
  },
  {
   "cell_type": "code",
   "execution_count": 9,
   "id": "73b3d24e-5e5b-4c5a-9613-86e54ef07024",
   "metadata": {},
   "outputs": [
    {
     "name": "stdout",
     "output_type": "stream",
     "text": [
      "I am a teacher and enjoy teaching.\n",
      "I didn't find anything as rewarding as empowering people.\n",
      "That is why i created 30 days of python.\n"
     ]
    }
   ],
   "source": [
    "print(multiline_string)"
   ]
  },
  {
   "cell_type": "code",
   "execution_count": null,
   "id": "69990ff7-0b02-4c46-8b92-0ce0fba0e908",
   "metadata": {},
   "outputs": [],
   "source": []
  },
  {
   "cell_type": "code",
   "execution_count": 10,
   "id": "8d566124-7941-4d31-9b97-8fc0eee8a3fe",
   "metadata": {},
   "outputs": [],
   "source": [
    "multiline_string1=\"\"\"I am a teacher and enjoy teaching.\n",
    "I didn't find anything as rewarding as empowering people.\n",
    "That is why i created 30 days of python.\"\"\""
   ]
  },
  {
   "cell_type": "code",
   "execution_count": 11,
   "id": "e0907085-dd9f-4b15-9026-9a23258f6e6e",
   "metadata": {},
   "outputs": [
    {
     "name": "stdout",
     "output_type": "stream",
     "text": [
      "I am a teacher and enjoy teaching.\n",
      "I didn't find anything as rewarding as empowering people.\n",
      "That is why i created 30 days of python.\n"
     ]
    }
   ],
   "source": [
    "print(multiline_string1)"
   ]
  },
  {
   "cell_type": "code",
   "execution_count": null,
   "id": "a2974833-f378-456e-94cb-2599f5c53c4d",
   "metadata": {},
   "outputs": [],
   "source": []
  },
  {
   "cell_type": "markdown",
   "id": "9e3df9ab-8028-4f9e-87de-195e89b80813",
   "metadata": {},
   "source": [
    "# String concatenation"
   ]
  },
  {
   "cell_type": "code",
   "execution_count": 12,
   "id": "8dcff358-7dc9-45f7-8ff6-639bad4cf20c",
   "metadata": {},
   "outputs": [],
   "source": [
    "first_name='Asabaneh'"
   ]
  },
  {
   "cell_type": "code",
   "execution_count": 13,
   "id": "56c2d7da-e973-4e35-a3ff-ccfb0439c0f0",
   "metadata": {},
   "outputs": [],
   "source": [
    "last_name='yetayeh'"
   ]
  },
  {
   "cell_type": "code",
   "execution_count": 14,
   "id": "251fdd3d-1eee-4646-ad18-ecbb17c368cc",
   "metadata": {},
   "outputs": [],
   "source": [
    "space=' '"
   ]
  },
  {
   "cell_type": "code",
   "execution_count": 15,
   "id": "f1031789-e2e3-4182-83fa-2ab4d394f331",
   "metadata": {},
   "outputs": [],
   "source": [
    "full_name=first_name+space+last_name"
   ]
  },
  {
   "cell_type": "code",
   "execution_count": 16,
   "id": "88d8fbdf-95c3-46a2-9371-9ee2eaddc389",
   "metadata": {},
   "outputs": [
    {
     "name": "stdout",
     "output_type": "stream",
     "text": [
      "Asabaneh yetayeh\n"
     ]
    }
   ],
   "source": [
    "print(full_name)"
   ]
  },
  {
   "cell_type": "code",
   "execution_count": 22,
   "id": "1f0f2654-2d07-4923-92e3-5e10d58e45c6",
   "metadata": {},
   "outputs": [
    {
     "name": "stdout",
     "output_type": "stream",
     "text": [
      "8\n",
      "7\n",
      "16\n"
     ]
    }
   ],
   "source": [
    "print(len(first_name))\n",
    "print(len(last_name))\n",
    "print(len(full_name))"
   ]
  },
  {
   "cell_type": "code",
   "execution_count": 23,
   "id": "2b9579ff-601c-4d71-9def-6e590ef6f7c8",
   "metadata": {},
   "outputs": [
    {
     "name": "stdout",
     "output_type": "stream",
     "text": [
      "True\n"
     ]
    }
   ],
   "source": [
    "print(len(first_name) > len(last_name))"
   ]
  },
  {
   "cell_type": "code",
   "execution_count": null,
   "id": "360d5d94-1dc0-4dd0-a9d1-16b5f27edc0e",
   "metadata": {},
   "outputs": [],
   "source": []
  },
  {
   "cell_type": "markdown",
   "id": "3010dc34-2031-4020-a612-a4fbebd1f193",
   "metadata": {},
   "source": [
    "# Unpacking characters"
   ]
  },
  {
   "cell_type": "code",
   "execution_count": 24,
   "id": "fa205ce7-4979-469b-85f4-23f18a9993d9",
   "metadata": {},
   "outputs": [],
   "source": [
    "language = 'Python'"
   ]
  },
  {
   "cell_type": "code",
   "execution_count": 25,
   "id": "ea3c7040-fe25-4e35-84ce-f98b0b0ce448",
   "metadata": {},
   "outputs": [],
   "source": [
    "a,b,c,d,e,f=language  # unpacking sequence characters into variables"
   ]
  },
  {
   "cell_type": "code",
   "execution_count": 27,
   "id": "530cb97a-3721-4266-b904-4aa070a24479",
   "metadata": {},
   "outputs": [
    {
     "name": "stdout",
     "output_type": "stream",
     "text": [
      "P\n",
      "y\n",
      "t\n",
      "h\n",
      "o\n",
      "n\n"
     ]
    }
   ],
   "source": [
    "print(a)\n",
    "print(b)\n",
    "print(c)\n",
    "print(d)\n",
    "print(e)\n",
    "print(f)"
   ]
  },
  {
   "cell_type": "code",
   "execution_count": null,
   "id": "c8ea4be7-104d-45a4-ab59-366795a1efa7",
   "metadata": {},
   "outputs": [],
   "source": []
  },
  {
   "cell_type": "markdown",
   "id": "99668c37-1ceb-48df-bf1e-b7ca6963914d",
   "metadata": {},
   "source": [
    "# Accessing characters instrings by index"
   ]
  },
  {
   "cell_type": "code",
   "execution_count": 28,
   "id": "457f107f-0bf6-4989-97f1-27e4f050974b",
   "metadata": {},
   "outputs": [],
   "source": [
    "language = 'Python'"
   ]
  },
  {
   "cell_type": "code",
   "execution_count": 30,
   "id": "9ae449f5-0c35-4e3a-bc4e-1b7a541c7f01",
   "metadata": {},
   "outputs": [
    {
     "name": "stdout",
     "output_type": "stream",
     "text": [
      "P\n"
     ]
    }
   ],
   "source": [
    "first_letter = language[0]\n",
    "print(first_letter)"
   ]
  },
  {
   "cell_type": "code",
   "execution_count": 31,
   "id": "27a28363-87c1-4b16-ad7c-c470b99412ae",
   "metadata": {},
   "outputs": [
    {
     "name": "stdout",
     "output_type": "stream",
     "text": [
      "y\n"
     ]
    }
   ],
   "source": [
    "second_letter = language[1]\n",
    "print(second_letter)"
   ]
  },
  {
   "cell_type": "code",
   "execution_count": 34,
   "id": "fc8e65ca-711f-4d59-b1f9-bec3893ff773",
   "metadata": {},
   "outputs": [],
   "source": [
    "last_index=len(language)-1"
   ]
  },
  {
   "cell_type": "code",
   "execution_count": 35,
   "id": "128d9baa-e2db-46ad-a82b-b66270f2ed93",
   "metadata": {},
   "outputs": [],
   "source": [
    "last_letter=language[last_index]"
   ]
  },
  {
   "cell_type": "code",
   "execution_count": 36,
   "id": "b9fa2230-2da1-46c0-a1b0-7ec785126c71",
   "metadata": {},
   "outputs": [
    {
     "name": "stdout",
     "output_type": "stream",
     "text": [
      "n\n"
     ]
    }
   ],
   "source": [
    "print(last_letter)"
   ]
  },
  {
   "cell_type": "code",
   "execution_count": null,
   "id": "f5dac3a8-f443-4c26-99dc-5e1e770a6b02",
   "metadata": {},
   "outputs": [],
   "source": []
  },
  {
   "cell_type": "code",
   "execution_count": 37,
   "id": "f529f438-83eb-4fcd-b544-3e25e43286ca",
   "metadata": {},
   "outputs": [],
   "source": [
    "last_letter1=language[-1]"
   ]
  },
  {
   "cell_type": "code",
   "execution_count": 38,
   "id": "549b87c4-bb8c-4ba7-baac-fc0d144ea45a",
   "metadata": {},
   "outputs": [
    {
     "name": "stdout",
     "output_type": "stream",
     "text": [
      "n\n"
     ]
    }
   ],
   "source": [
    "print(last_letter)"
   ]
  },
  {
   "cell_type": "code",
   "execution_count": 39,
   "id": "0273334d-85d4-4b20-94bb-7153898be5e3",
   "metadata": {},
   "outputs": [
    {
     "name": "stdout",
     "output_type": "stream",
     "text": [
      "o\n"
     ]
    }
   ],
   "source": [
    "second_last=language[-2]\n",
    "print(second_last)"
   ]
  },
  {
   "cell_type": "code",
   "execution_count": null,
   "id": "8ccf2365-bf2b-4202-8303-c3ccb03d142e",
   "metadata": {},
   "outputs": [],
   "source": []
  },
  {
   "cell_type": "markdown",
   "id": "bd16864f-0c44-4a51-a8f7-6e9088411936",
   "metadata": {},
   "source": [
    "# Slicing"
   ]
  },
  {
   "cell_type": "code",
   "execution_count": 40,
   "id": "cc3d7b27-7f38-4c02-ace4-07ed5c2100e7",
   "metadata": {},
   "outputs": [],
   "source": [
    "language = 'Python'"
   ]
  },
  {
   "cell_type": "code",
   "execution_count": 43,
   "id": "479b57e7-a0f2-477d-8264-2f1fdc492074",
   "metadata": {},
   "outputs": [
    {
     "name": "stdout",
     "output_type": "stream",
     "text": [
      "Pyt\n"
     ]
    }
   ],
   "source": [
    "first_three=language[:3]\n",
    "print(first_three)"
   ]
  },
  {
   "cell_type": "code",
   "execution_count": 46,
   "id": "dfad4020-d186-4e06-8c7f-bdb1c535be6b",
   "metadata": {},
   "outputs": [],
   "source": [
    "last_three=language[3:6]\n",
    "last_three1=language[-3:]\n"
   ]
  },
  {
   "cell_type": "code",
   "execution_count": 47,
   "id": "556724df-dee5-44d6-9109-6450ef71ce65",
   "metadata": {},
   "outputs": [
    {
     "name": "stdout",
     "output_type": "stream",
     "text": [
      "hon\n",
      "hon\n"
     ]
    }
   ],
   "source": [
    "print(last_three)\n",
    "print(last_three1)"
   ]
  },
  {
   "cell_type": "code",
   "execution_count": null,
   "id": "0448b2cf-a9b0-4ee4-bebc-cb33cbec4707",
   "metadata": {},
   "outputs": [],
   "source": []
  },
  {
   "cell_type": "markdown",
   "id": "3cf04dd2-1c0d-4156-b4e4-293a0db63f8d",
   "metadata": {},
   "source": [
    "# Skipping character while splitting python strings"
   ]
  },
  {
   "cell_type": "code",
   "execution_count": 48,
   "id": "cd037039-b34e-4100-baee-211cdb12194b",
   "metadata": {},
   "outputs": [],
   "source": [
    "language='Python'"
   ]
  },
  {
   "cell_type": "code",
   "execution_count": 49,
   "id": "5b50de05-f0e4-4d2a-9a43-62942f94117b",
   "metadata": {},
   "outputs": [],
   "source": [
    "pto=language[0:6:2]"
   ]
  },
  {
   "cell_type": "code",
   "execution_count": 50,
   "id": "327bc147-5349-4278-a724-6eceac4dd88c",
   "metadata": {},
   "outputs": [
    {
     "name": "stdout",
     "output_type": "stream",
     "text": [
      "Pto\n"
     ]
    }
   ],
   "source": [
    "print(pto)"
   ]
  },
  {
   "cell_type": "code",
   "execution_count": null,
   "id": "18c9f42e-6e4f-4456-8d1f-cfcbbb9e38ae",
   "metadata": {},
   "outputs": [],
   "source": []
  },
  {
   "cell_type": "markdown",
   "id": "f5da262e-1cf0-4c5a-b702-907cb903315a",
   "metadata": {},
   "source": [
    "# Escaping sequence"
   ]
  },
  {
   "cell_type": "code",
   "execution_count": 63,
   "id": "2ff8d2c0-1723-4ff6-ac6f-85fc8469a950",
   "metadata": {},
   "outputs": [
    {
     "name": "stdout",
     "output_type": "stream",
     "text": [
      "I hope every one is enjoying the python challenge.\n",
      "Do you?\n"
     ]
    }
   ],
   "source": [
    "print('I hope every one is enjoying the python challenge.\\nDo you?')   # \\n = next line"
   ]
  },
  {
   "cell_type": "code",
   "execution_count": 64,
   "id": "3aa89983-6355-47f5-8a68-571d4b618734",
   "metadata": {},
   "outputs": [
    {
     "data": {
      "text/plain": [
       "'I hope everyone is enjoying the python challenge.\\nDo you?'"
      ]
     },
     "execution_count": 64,
     "metadata": {},
     "output_type": "execute_result"
    }
   ],
   "source": [
    "'I hope everyone is enjoying the python challenge.\\nDo you?'"
   ]
  },
  {
   "cell_type": "code",
   "execution_count": 62,
   "id": "0f9ff832-aa23-4263-8d0b-b5c2c5125534",
   "metadata": {},
   "outputs": [
    {
     "name": "stdout",
     "output_type": "stream",
     "text": [
      "Days\tTopics\tExercices\n"
     ]
    }
   ],
   "source": [
    "print('Days\\tTopics\\tExercices')     # \\t = tab character"
   ]
  },
  {
   "cell_type": "code",
   "execution_count": 81,
   "id": "8c6d06c2-b938-4bf6-ab2c-48c03fdbeb82",
   "metadata": {},
   "outputs": [
    {
     "name": "stdout",
     "output_type": "stream",
     "text": [
      "Day 1\t3\t5\n"
     ]
    }
   ],
   "source": [
    "print('Day 1\\t3\\t5')               # first \\t =tab character, next \\t =double tab character"
   ]
  },
  {
   "cell_type": "code",
   "execution_count": 91,
   "id": "3dbfef9b-2c78-4319-a0ef-021208e9c24c",
   "metadata": {},
   "outputs": [
    {
     "name": "stdout",
     "output_type": "stream",
     "text": [
      "Day   1\t3\t5\n"
     ]
    }
   ],
   "source": [
    "print('Day   1\\t3\\t5')"
   ]
  },
  {
   "cell_type": "code",
   "execution_count": 90,
   "id": "79c0ec8d-ec1a-4db6-8590-b69baf495601",
   "metadata": {},
   "outputs": [
    {
     "name": "stdout",
     "output_type": "stream",
     "text": [
      "Day    1\t3\t5\n"
     ]
    }
   ],
   "source": [
    "print('Day    1\\t3\\t5')"
   ]
  },
  {
   "cell_type": "code",
   "execution_count": 71,
   "id": "f8eee6c6-0b1a-44bd-ba3d-17a8f710249d",
   "metadata": {},
   "outputs": [
    {
     "name": "stdout",
     "output_type": "stream",
     "text": [
      "Day 2\t3\t5\n"
     ]
    }
   ],
   "source": [
    "print('Day 2\\t3\\t5')"
   ]
  },
  {
   "cell_type": "code",
   "execution_count": 72,
   "id": "0578d4d2-cf07-4b0b-9cbf-6b76b6aa2964",
   "metadata": {},
   "outputs": [
    {
     "name": "stdout",
     "output_type": "stream",
     "text": [
      "Day 3\t3\t5\n"
     ]
    }
   ],
   "source": [
    "print('Day 3\\t3\\t5')"
   ]
  },
  {
   "cell_type": "code",
   "execution_count": 73,
   "id": "5809a3d6-056c-4002-a91c-78039cc149c1",
   "metadata": {},
   "outputs": [
    {
     "name": "stdout",
     "output_type": "stream",
     "text": [
      "Day 4\t3\t5\n"
     ]
    }
   ],
   "source": [
    "print('Day 4\\t3\\t5')"
   ]
  },
  {
   "cell_type": "code",
   "execution_count": 80,
   "id": "bdfa20e8-4a1f-425d-a836-968665bb7dac",
   "metadata": {},
   "outputs": [
    {
     "name": "stdout",
     "output_type": "stream",
     "text": [
      "Day 4\t3\t5\n"
     ]
    }
   ],
   "source": [
    "print('Day 4\\t3\\t5')"
   ]
  },
  {
   "cell_type": "code",
   "execution_count": null,
   "id": "67e516a1-e842-400c-929f-1b78c323fd28",
   "metadata": {},
   "outputs": [],
   "source": []
  },
  {
   "cell_type": "code",
   "execution_count": 92,
   "id": "76c77225-6fe1-4a47-98e0-04314aaddc82",
   "metadata": {},
   "outputs": [
    {
     "name": "stdout",
     "output_type": "stream",
     "text": [
      "This is a black slash symbol(\\)\n"
     ]
    }
   ],
   "source": [
    "print('This is a black slash symbol(\\\\)')     # To write a black slash"
   ]
  },
  {
   "cell_type": "code",
   "execution_count": 93,
   "id": "6a21346f-8266-42bc-9d2d-a1627f62a52b",
   "metadata": {},
   "outputs": [
    {
     "name": "stdout",
     "output_type": "stream",
     "text": [
      "In every programming language it starts with \"Hello, world!\"\n"
     ]
    }
   ],
   "source": [
    "print('In every programming language it starts with \\\"Hello, world!\\\"')"
   ]
  },
  {
   "cell_type": "code",
   "execution_count": null,
   "id": "29d13f85-c70d-4332-986a-2f1adcfe37f8",
   "metadata": {},
   "outputs": [],
   "source": []
  },
  {
   "cell_type": "code",
   "execution_count": 99,
   "id": "89bd0615-73b6-4138-9378-67b4db934108",
   "metadata": {},
   "outputs": [
    {
     "name": "stdout",
     "output_type": "stream",
     "text": [
      " \"hi\" \n"
     ]
    }
   ],
   "source": [
    "print(' \\\"hi\" ')"
   ]
  },
  {
   "cell_type": "code",
   "execution_count": null,
   "id": "fee1fd3a-18de-4c4c-8be2-b6f58ad84088",
   "metadata": {},
   "outputs": [],
   "source": []
  },
  {
   "cell_type": "markdown",
   "id": "feaacabf-881f-4f97-92a5-e58fef0f684c",
   "metadata": {},
   "source": [
    "# String methods"
   ]
  },
  {
   "cell_type": "code",
   "execution_count": 103,
   "id": "ee8299fd-ac18-4edc-9771-6c791084224a",
   "metadata": {},
   "outputs": [
    {
     "name": "stdout",
     "output_type": "stream",
     "text": [
      "Thirty days\n"
     ]
    }
   ],
   "source": [
    "# capitalize() = converts the first character in the string to upper case\n",
    "\n",
    "challenge ='thirty days'\n",
    "print(challenge.capitalize())"
   ]
  },
  {
   "cell_type": "code",
   "execution_count": null,
   "id": "ab178de3-8463-465c-8d80-3ced703306aa",
   "metadata": {},
   "outputs": [],
   "source": []
  },
  {
   "cell_type": "code",
   "execution_count": null,
   "id": "faa939d7-37ad-4c19-a197-8b195f4a5a7a",
   "metadata": {},
   "outputs": [],
   "source": [
    "# Count() = returns occurences of substring in a string, count(substring, start=..,end=..)"
   ]
  },
  {
   "cell_type": "code",
   "execution_count": 104,
   "id": "eb2dbd4c-242b-4107-b788-a997e8a9bb5a",
   "metadata": {},
   "outputs": [],
   "source": [
    "challenge='thirty days of python'"
   ]
  },
  {
   "cell_type": "code",
   "execution_count": 105,
   "id": "55b418bb-bbe1-4c58-ad1b-a65302a82478",
   "metadata": {},
   "outputs": [
    {
     "name": "stdout",
     "output_type": "stream",
     "text": [
      "3\n"
     ]
    }
   ],
   "source": [
    "print(challenge.count('y'))"
   ]
  },
  {
   "cell_type": "code",
   "execution_count": 108,
   "id": "924e4cf2-68a9-4609-9c61-07120b54aa24",
   "metadata": {},
   "outputs": [
    {
     "name": "stdout",
     "output_type": "stream",
     "text": [
      "1\n"
     ]
    }
   ],
   "source": [
    "print(challenge.count('y',7,14))   # y in between 7th and 14th index"
   ]
  },
  {
   "cell_type": "code",
   "execution_count": 110,
   "id": "ef629dca-ea14-496b-bc04-6d3618c65b78",
   "metadata": {},
   "outputs": [
    {
     "name": "stdout",
     "output_type": "stream",
     "text": [
      "2\n"
     ]
    }
   ],
   "source": [
    "print(challenge.count('th'))"
   ]
  },
  {
   "cell_type": "code",
   "execution_count": null,
   "id": "159e82e1-90d4-41ae-8d18-48a9bc8554e2",
   "metadata": {},
   "outputs": [],
   "source": []
  },
  {
   "cell_type": "code",
   "execution_count": 111,
   "id": "77acc5cd-5d64-4a66-bb68-3b904b2d49d5",
   "metadata": {},
   "outputs": [],
   "source": [
    "# endswith() = checks if a string ends with a specfied ending"
   ]
  },
  {
   "cell_type": "code",
   "execution_count": 113,
   "id": "3aaaab6a-8333-44d7-bfd8-16c5727af35f",
   "metadata": {},
   "outputs": [
    {
     "name": "stdout",
     "output_type": "stream",
     "text": [
      "False\n"
     ]
    }
   ],
   "source": [
    "print(challenge.endswith('th'))"
   ]
  },
  {
   "cell_type": "code",
   "execution_count": 114,
   "id": "bc815824-51ad-4cd1-8037-9cd227963700",
   "metadata": {},
   "outputs": [
    {
     "name": "stdout",
     "output_type": "stream",
     "text": [
      "True\n"
     ]
    }
   ],
   "source": [
    "print(challenge.endswith('on'))"
   ]
  },
  {
   "cell_type": "code",
   "execution_count": null,
   "id": "7365fb3b-7470-4533-be2c-cb3a607d3569",
   "metadata": {},
   "outputs": [],
   "source": []
  },
  {
   "cell_type": "code",
   "execution_count": null,
   "id": "3bef66d6-824d-43d8-9e44-b97ec9dcef49",
   "metadata": {},
   "outputs": [],
   "source": [
    "# expandtabs() = replaces tab character with spaces, default tab size is 8"
   ]
  },
  {
   "cell_type": "code",
   "execution_count": 119,
   "id": "39fa1563-fc3a-4916-a184-90026052337b",
   "metadata": {},
   "outputs": [
    {
     "name": "stdout",
     "output_type": "stream",
     "text": [
      "Thirty\tdays\tof\tython\n"
     ]
    }
   ],
   "source": [
    "challenge= 'Thirty\\tdays\\tof\\tython'\n",
    "print(challenge)"
   ]
  },
  {
   "cell_type": "code",
   "execution_count": 121,
   "id": "2a548141-ab97-4c88-bf70-002ab703ad13",
   "metadata": {},
   "outputs": [
    {
     "name": "stdout",
     "output_type": "stream",
     "text": [
      "Thirty  days    of      ython\n"
     ]
    }
   ],
   "source": [
    "print(challenge.expandtabs())       # changing tab to space"
   ]
  },
  {
   "cell_type": "code",
   "execution_count": 122,
   "id": "c3d9b7db-7cb7-4060-b4dd-bad953a22635",
   "metadata": {},
   "outputs": [
    {
     "name": "stdout",
     "output_type": "stream",
     "text": [
      "Thirty    days      of        ython\n"
     ]
    }
   ],
   "source": [
    "print(challenge.expandtabs(10))     # changing 8 size tab to 10 size tab"
   ]
  },
  {
   "cell_type": "code",
   "execution_count": null,
   "id": "457fd4b5-2cce-453d-a0bd-7834ced9212d",
   "metadata": {},
   "outputs": [],
   "source": []
  },
  {
   "cell_type": "code",
   "execution_count": 123,
   "id": "bdcefcd1-325f-4263-9cd5-724170c4702a",
   "metadata": {},
   "outputs": [],
   "source": [
    "# find() = returns the index of first occurence of substring"
   ]
  },
  {
   "cell_type": "code",
   "execution_count": 125,
   "id": "6fa8c6ef-d899-40c5-b429-549648e63761",
   "metadata": {},
   "outputs": [
    {
     "name": "stdout",
     "output_type": "stream",
     "text": [
      "5\n"
     ]
    }
   ],
   "source": [
    "print(challenge.find('y'))      # 5th index first 'y'"
   ]
  },
  {
   "cell_type": "code",
   "execution_count": 127,
   "id": "ca5b5083-ba73-43ab-b61a-f1781341d408",
   "metadata": {},
   "outputs": [
    {
     "name": "stdout",
     "output_type": "stream",
     "text": [
      "16\n"
     ]
    }
   ],
   "source": [
    "print(challenge.find('th'))"
   ]
  },
  {
   "cell_type": "code",
   "execution_count": 128,
   "id": "57100dbb-dff0-4ba6-bf8e-3b6ca03d5c24",
   "metadata": {},
   "outputs": [
    {
     "name": "stdout",
     "output_type": "stream",
     "text": [
      "0\n"
     ]
    }
   ],
   "source": [
    "print(challenge.find('Th'))"
   ]
  },
  {
   "cell_type": "code",
   "execution_count": null,
   "id": "4c86c680-ca5f-44f1-a5c9-9e709f6f0de9",
   "metadata": {},
   "outputs": [],
   "source": []
  },
  {
   "cell_type": "code",
   "execution_count": 129,
   "id": "5ab5286f-4470-44e1-b005-9dc2cf293138",
   "metadata": {},
   "outputs": [],
   "source": [
    "# format() = formats string into nicer output"
   ]
  },
  {
   "cell_type": "code",
   "execution_count": 130,
   "id": "452c6187-515d-4370-8429-8926ed81a8d1",
   "metadata": {},
   "outputs": [],
   "source": [
    "first_name='Asabeneh'"
   ]
  },
  {
   "cell_type": "code",
   "execution_count": 131,
   "id": "21f1612a-ec11-444a-bb1e-fe9654104022",
   "metadata": {},
   "outputs": [],
   "source": [
    "last_name='yetayeh'"
   ]
  },
  {
   "cell_type": "code",
   "execution_count": 132,
   "id": "9ac71e33-d3a7-4488-8b9a-0cd8784f4a09",
   "metadata": {},
   "outputs": [],
   "source": [
    "job='teacher'"
   ]
  },
  {
   "cell_type": "code",
   "execution_count": 133,
   "id": "7e5205d9-8809-4bae-b336-80deec7ae20d",
   "metadata": {},
   "outputs": [],
   "source": [
    "country='finland'"
   ]
  },
  {
   "cell_type": "code",
   "execution_count": 136,
   "id": "86406f30-077a-4bbc-bc51-4a6783b7e19c",
   "metadata": {},
   "outputs": [],
   "source": [
    "sentence= ' I am {} {}. I am a {}.I live in{}.'.format(first_name,last_name,job,country)"
   ]
  },
  {
   "cell_type": "code",
   "execution_count": 137,
   "id": "e8eb824c-dc0f-444f-b7af-417f461b5113",
   "metadata": {},
   "outputs": [
    {
     "name": "stdout",
     "output_type": "stream",
     "text": [
      " I am Asabeneh yetayeh. I am a teacher.I live infinland.\n"
     ]
    }
   ],
   "source": [
    "print(sentence)"
   ]
  },
  {
   "cell_type": "code",
   "execution_count": null,
   "id": "93d91447-e74a-4979-b276-6c50063d0a74",
   "metadata": {},
   "outputs": [],
   "source": []
  },
  {
   "cell_type": "code",
   "execution_count": 138,
   "id": "7cd47d9e-5601-4b8e-af6e-21b606fc8186",
   "metadata": {},
   "outputs": [],
   "source": [
    "rad=10\n",
    "pi=3.14\n",
    "area=pi*rad**2\n",
    "result = 'The area of circle with radius {} is {}'.format(rad,area)"
   ]
  },
  {
   "cell_type": "code",
   "execution_count": 139,
   "id": "ebb8d82f-ce7e-4608-b5c6-6e2c2235fd8b",
   "metadata": {},
   "outputs": [
    {
     "name": "stdout",
     "output_type": "stream",
     "text": [
      "The area of circle with radius 10 is 314.0\n"
     ]
    }
   ],
   "source": [
    "print(result)"
   ]
  },
  {
   "cell_type": "code",
   "execution_count": null,
   "id": "16e5ee56-c927-4428-ab33-7c993761e134",
   "metadata": {},
   "outputs": [],
   "source": []
  },
  {
   "cell_type": "code",
   "execution_count": 140,
   "id": "5c756800-aefb-44f2-9ebc-aa1d5c46ea23",
   "metadata": {},
   "outputs": [],
   "source": [
    "# index() = returns the index of substring"
   ]
  },
  {
   "cell_type": "code",
   "execution_count": 141,
   "id": "6bba1d95-b056-4dec-8f2f-b90d35e0cbe3",
   "metadata": {},
   "outputs": [],
   "source": [
    "challenge = 'Thirty days of pyhton'"
   ]
  },
  {
   "cell_type": "code",
   "execution_count": 142,
   "id": "b5c4fe5e-13ed-463f-a3dd-bf2d62a5268a",
   "metadata": {},
   "outputs": [
    {
     "name": "stdout",
     "output_type": "stream",
     "text": [
      "5\n"
     ]
    }
   ],
   "source": [
    "print(challenge.index('y'))"
   ]
  },
  {
   "cell_type": "code",
   "execution_count": 144,
   "id": "3441b308-9f3b-46f0-9eb8-9ba1505a16ca",
   "metadata": {},
   "outputs": [
    {
     "name": "stdout",
     "output_type": "stream",
     "text": [
      "17\n"
     ]
    }
   ],
   "source": [
    "print(challenge.index('ht'))"
   ]
  },
  {
   "cell_type": "code",
   "execution_count": null,
   "id": "e0ad37f5-eaca-47a5-8e9b-cfa0986d6845",
   "metadata": {},
   "outputs": [],
   "source": []
  },
  {
   "cell_type": "code",
   "execution_count": 145,
   "id": "e2e1b609-1b9d-4759-bfff-f14f96d84e83",
   "metadata": {},
   "outputs": [],
   "source": [
    "# isalnum() = checks if all are alphanumeric characters"
   ]
  },
  {
   "cell_type": "code",
   "execution_count": 146,
   "id": "d65cf28e-dde6-4975-9113-f9151e49ee1e",
   "metadata": {},
   "outputs": [
    {
     "name": "stdout",
     "output_type": "stream",
     "text": [
      "False\n"
     ]
    }
   ],
   "source": [
    "print(challenge.isalnum())   # False if the string contains any non-alphanumeric characters (like spaces, symbols, or punctuation)"
   ]
  },
  {
   "cell_type": "code",
   "execution_count": 148,
   "id": "db41ad04-8082-4dba-a960-5ad1465f8bc0",
   "metadata": {},
   "outputs": [
    {
     "name": "stdout",
     "output_type": "stream",
     "text": [
      "True\n"
     ]
    }
   ],
   "source": [
    "challenge='30daysofpython'     # True if all characters in the string are alphanumeric\n",
    "print(challenge.isalnum())"
   ]
  },
  {
   "cell_type": "code",
   "execution_count": 149,
   "id": "3a7c07c8-6128-48a8-a354-eb5091ee1c28",
   "metadata": {},
   "outputs": [
    {
     "name": "stdout",
     "output_type": "stream",
     "text": [
      "False\n"
     ]
    }
   ],
   "source": [
    "challenge='30 days of python'\n",
    "print(challenge.isalnum())"
   ]
  },
  {
   "cell_type": "code",
   "execution_count": null,
   "id": "c310b7e0-494c-413c-8bc4-cb131d05b709",
   "metadata": {},
   "outputs": [],
   "source": []
  },
  {
   "cell_type": "code",
   "execution_count": 150,
   "id": "342d62ab-6ba0-4aa2-afa0-8cf6080c0976",
   "metadata": {},
   "outputs": [],
   "source": [
    "# isalpha() = checks if all characters are alphabets"
   ]
  },
  {
   "cell_type": "code",
   "execution_count": 151,
   "id": "4f18ee99-6436-4b84-9679-c2bc86ce4298",
   "metadata": {},
   "outputs": [
    {
     "name": "stdout",
     "output_type": "stream",
     "text": [
      "False\n"
     ]
    }
   ],
   "source": [
    "challenge='30 days of python'\n",
    "print(challenge.isalnum())"
   ]
  },
  {
   "cell_type": "code",
   "execution_count": 154,
   "id": "d59d03d6-5443-4b90-aee7-7c1583294e47",
   "metadata": {},
   "outputs": [
    {
     "name": "stdout",
     "output_type": "stream",
     "text": [
      "True\n"
     ]
    }
   ],
   "source": [
    "challenge='30589'\n",
    "print(challenge.isalnum())"
   ]
  },
  {
   "cell_type": "code",
   "execution_count": null,
   "id": "198df758-300e-4c07-91de-bd8ecf2f20e6",
   "metadata": {},
   "outputs": [],
   "source": []
  },
  {
   "cell_type": "code",
   "execution_count": null,
   "id": "974a702a-2d26-4089-b253-58678d80b6a6",
   "metadata": {},
   "outputs": [],
   "source": [
    "# isdecimal() = checks if all characters are decimal characters"
   ]
  },
  {
   "cell_type": "code",
   "execution_count": 160,
   "id": "c3f92326-5f9f-411e-8b41-3b18aad34a08",
   "metadata": {},
   "outputs": [],
   "source": [
    "num='30'"
   ]
  },
  {
   "cell_type": "code",
   "execution_count": 161,
   "id": "5b01d99f-e650-4b8e-8aad-b0da7fde112c",
   "metadata": {},
   "outputs": [
    {
     "name": "stdout",
     "output_type": "stream",
     "text": [
      "True\n"
     ]
    }
   ],
   "source": [
    "print(num.isdecimal())"
   ]
  },
  {
   "cell_type": "code",
   "execution_count": 162,
   "id": "37a87e5e-0029-4d03-ae9e-05c359b77d65",
   "metadata": {},
   "outputs": [],
   "source": [
    "num1='30kg'"
   ]
  },
  {
   "cell_type": "code",
   "execution_count": 163,
   "id": "587c5802-26dd-4c15-822e-7fe928aea494",
   "metadata": {},
   "outputs": [
    {
     "name": "stdout",
     "output_type": "stream",
     "text": [
      "False\n"
     ]
    }
   ],
   "source": [
    "print(num1.isdecimal())"
   ]
  },
  {
   "cell_type": "code",
   "execution_count": 164,
   "id": "5fdb2e5e-71fc-421a-9f9c-5c9ac8fc7353",
   "metadata": {},
   "outputs": [],
   "source": [
    "num2='30.56'"
   ]
  },
  {
   "cell_type": "code",
   "execution_count": 166,
   "id": "7bc21ccd-a343-4470-ba77-ed4e7056efb5",
   "metadata": {},
   "outputs": [
    {
     "name": "stdout",
     "output_type": "stream",
     "text": [
      "False\n"
     ]
    }
   ],
   "source": [
    "print(num2.isdecimal())    # . for fraction/floats are considered as non decimal"
   ]
  },
  {
   "cell_type": "code",
   "execution_count": null,
   "id": "a24296e9-901f-498e-a30f-2cc043195d50",
   "metadata": {},
   "outputs": [],
   "source": []
  },
  {
   "cell_type": "code",
   "execution_count": 167,
   "id": "9ddb7234-c977-49e1-bbd7-6f9dbfdd346e",
   "metadata": {},
   "outputs": [],
   "source": [
    "# isdigit() = checks for digits"
   ]
  },
  {
   "cell_type": "code",
   "execution_count": 168,
   "id": "559af1ed-a3e9-4033-9fbb-e0a4756031b0",
   "metadata": {},
   "outputs": [],
   "source": [
    "num1='156'"
   ]
  },
  {
   "cell_type": "code",
   "execution_count": 169,
   "id": "38fcda70-9fa1-43c1-b9b0-b0914e240f3f",
   "metadata": {},
   "outputs": [
    {
     "name": "stdout",
     "output_type": "stream",
     "text": [
      "True\n"
     ]
    }
   ],
   "source": [
    "print(num1.isdigit())"
   ]
  },
  {
   "cell_type": "code",
   "execution_count": 170,
   "id": "6361f22b-1ec8-4e4a-93db-a8368e4f672a",
   "metadata": {},
   "outputs": [],
   "source": [
    "num3='15.369'"
   ]
  },
  {
   "cell_type": "code",
   "execution_count": 171,
   "id": "e63db0f7-8d83-48de-a14d-f889696d8b95",
   "metadata": {},
   "outputs": [
    {
     "name": "stdout",
     "output_type": "stream",
     "text": [
      "True\n"
     ]
    }
   ],
   "source": [
    "print(num.isdigit())      # . for fractions/floats are digitd"
   ]
  },
  {
   "cell_type": "code",
   "execution_count": null,
   "id": "400b298a-91fb-4793-9c02-35d33e4eb1c6",
   "metadata": {},
   "outputs": [],
   "source": []
  },
  {
   "cell_type": "code",
   "execution_count": 172,
   "id": "ef21d14e-cf33-44d0-b7e7-6106ec2fc591",
   "metadata": {},
   "outputs": [],
   "source": [
    "# isidentifier() = checks for valid identifier i.e., it checks if a string is suitable for variable name"
   ]
  },
  {
   "cell_type": "code",
   "execution_count": 173,
   "id": "2401b809-50f9-42dc-93fb-3805e2342767",
   "metadata": {},
   "outputs": [],
   "source": [
    "str = '30daysofchallenge'"
   ]
  },
  {
   "cell_type": "code",
   "execution_count": 175,
   "id": "3141b5b4-dbb0-43af-a50f-b1d5d26e4c8c",
   "metadata": {},
   "outputs": [
    {
     "name": "stdout",
     "output_type": "stream",
     "text": [
      "False\n"
     ]
    }
   ],
   "source": [
    "print(str.isidentifier())    # starting with number"
   ]
  },
  {
   "cell_type": "code",
   "execution_count": 176,
   "id": "aa3074cb-79c0-4e6c-a4fb-79c7f7544564",
   "metadata": {},
   "outputs": [],
   "source": [
    "str1 = 'days of'"
   ]
  },
  {
   "cell_type": "code",
   "execution_count": 177,
   "id": "35b89c51-86e9-41ed-9de2-2a634cf446c9",
   "metadata": {},
   "outputs": [
    {
     "name": "stdout",
     "output_type": "stream",
     "text": [
      "False\n"
     ]
    }
   ],
   "source": [
    "print(str1.isidentifier())    # has spcae "
   ]
  },
  {
   "cell_type": "code",
   "execution_count": 178,
   "id": "978a7cad-0957-4c09-8dbf-f375e5632f69",
   "metadata": {},
   "outputs": [],
   "source": [
    "str2='daysofmine'"
   ]
  },
  {
   "cell_type": "code",
   "execution_count": 181,
   "id": "7c3acc17-5e20-4aac-8e85-cecf65db0ed4",
   "metadata": {},
   "outputs": [
    {
     "name": "stdout",
     "output_type": "stream",
     "text": [
      "True\n"
     ]
    }
   ],
   "source": [
    "print(str2.isidentifier())    # can be used as variable name"
   ]
  },
  {
   "cell_type": "code",
   "execution_count": null,
   "id": "c560c55f-50b5-436f-b06f-82dc8380f86c",
   "metadata": {},
   "outputs": [],
   "source": []
  },
  {
   "cell_type": "code",
   "execution_count": 182,
   "id": "12c1e7e7-8f54-4ff6-8c35-c371b66eeaaa",
   "metadata": {},
   "outputs": [],
   "source": [
    "# isupper() = checks if all alphabets in a string are uppercase"
   ]
  },
  {
   "cell_type": "code",
   "execution_count": 183,
   "id": "64b62b5f-91a3-428c-b966-c23a0bc2ea87",
   "metadata": {},
   "outputs": [],
   "source": [
    "str1=' thirty days'"
   ]
  },
  {
   "cell_type": "code",
   "execution_count": 184,
   "id": "46389c61-8967-4f0a-b96c-e7bf6fd7b3ad",
   "metadata": {},
   "outputs": [
    {
     "name": "stdout",
     "output_type": "stream",
     "text": [
      "False\n"
     ]
    }
   ],
   "source": [
    "print(str1.isupper())"
   ]
  },
  {
   "cell_type": "code",
   "execution_count": 185,
   "id": "57477d85-b88b-4066-bc52-91c71c7d96fd",
   "metadata": {},
   "outputs": [],
   "source": [
    "str2='THIRTY DAYS'"
   ]
  },
  {
   "cell_type": "code",
   "execution_count": 186,
   "id": "0aca0727-841c-4924-beed-7b0c196a360a",
   "metadata": {},
   "outputs": [
    {
     "name": "stdout",
     "output_type": "stream",
     "text": [
      "True\n"
     ]
    }
   ],
   "source": [
    "print(str2.isupper())    # spaces are neglected"
   ]
  },
  {
   "cell_type": "code",
   "execution_count": null,
   "id": "72e5d25e-d411-41bc-b133-f2a780625188",
   "metadata": {},
   "outputs": [],
   "source": []
  },
  {
   "cell_type": "code",
   "execution_count": 187,
   "id": "bc48c262-5ab7-4d24-804a-41e6a36e14f4",
   "metadata": {},
   "outputs": [],
   "source": [
    "# islower() = checks if all alphabets are in lower case"
   ]
  },
  {
   "cell_type": "code",
   "execution_count": null,
   "id": "6473b26d-09a4-4128-a7d1-91ee0fd89725",
   "metadata": {},
   "outputs": [],
   "source": [
    "str1=' thirty days'"
   ]
  },
  {
   "cell_type": "code",
   "execution_count": 188,
   "id": "c04c1828-b21c-4f18-81d5-1c6b2dfa88f3",
   "metadata": {},
   "outputs": [
    {
     "name": "stdout",
     "output_type": "stream",
     "text": [
      "True\n"
     ]
    }
   ],
   "source": [
    "print(str1.islower())"
   ]
  },
  {
   "cell_type": "code",
   "execution_count": 190,
   "id": "661add62-e83c-40a8-adff-04a25cdcc0db",
   "metadata": {},
   "outputs": [],
   "source": [
    "str2='THIRTy dAYS'"
   ]
  },
  {
   "cell_type": "code",
   "execution_count": 192,
   "id": "15954d49-2125-4352-a474-0c39f85a31c4",
   "metadata": {},
   "outputs": [
    {
     "name": "stdout",
     "output_type": "stream",
     "text": [
      "False\n"
     ]
    }
   ],
   "source": [
    "print(str2.islower())"
   ]
  },
  {
   "cell_type": "code",
   "execution_count": null,
   "id": "824be29f-d74c-4fd9-bede-43a28c448189",
   "metadata": {},
   "outputs": [],
   "source": []
  },
  {
   "cell_type": "code",
   "execution_count": 193,
   "id": "1e35658e-2d2b-4e4f-bf15-eca3089acf8a",
   "metadata": {},
   "outputs": [],
   "source": [
    "# isnumeric() = checks for numeric characters"
   ]
  },
  {
   "cell_type": "code",
   "execution_count": 194,
   "id": "1b03a3e6-86b3-4d73-8422-db423ddf0d53",
   "metadata": {},
   "outputs": [],
   "source": [
    "num='10'"
   ]
  },
  {
   "cell_type": "code",
   "execution_count": 195,
   "id": "c379dc02-0904-4d2b-850d-69e023d82ff7",
   "metadata": {},
   "outputs": [
    {
     "name": "stdout",
     "output_type": "stream",
     "text": [
      "True\n"
     ]
    }
   ],
   "source": [
    "print(num.isnumeric())"
   ]
  },
  {
   "cell_type": "code",
   "execution_count": 196,
   "id": "dc9fd0c0-287b-49e9-992d-ec62848f0c5f",
   "metadata": {},
   "outputs": [
    {
     "name": "stdout",
     "output_type": "stream",
     "text": [
      "False\n"
     ]
    }
   ],
   "source": [
    "print('ten'.isnumeric())"
   ]
  },
  {
   "cell_type": "code",
   "execution_count": null,
   "id": "9cc3a32a-25ef-45bb-989a-1a7f710f9415",
   "metadata": {},
   "outputs": [],
   "source": []
  },
  {
   "cell_type": "code",
   "execution_count": 197,
   "id": "ee643fd0-c2c8-489a-8a11-a0c9e79dda5d",
   "metadata": {},
   "outputs": [],
   "source": [
    "# join() = returns a concatenated string"
   ]
  },
  {
   "cell_type": "code",
   "execution_count": 200,
   "id": "7a04d4ca-7f99-4ddf-ab5a-9369bbd5fa53",
   "metadata": {},
   "outputs": [],
   "source": [
    "web_tech = ['html','css','java','react']"
   ]
  },
  {
   "cell_type": "code",
   "execution_count": 201,
   "id": "3b340b05-2502-4c28-881d-725de4edbd83",
   "metadata": {},
   "outputs": [],
   "source": [
    "result= '#,'.join(web_tech)       # links substrings together"
   ]
  },
  {
   "cell_type": "code",
   "execution_count": 202,
   "id": "03a45927-eca2-4b36-8256-03ed1081747b",
   "metadata": {},
   "outputs": [
    {
     "name": "stdout",
     "output_type": "stream",
     "text": [
      "html#,css#,java#,react\n"
     ]
    }
   ],
   "source": [
    "print(result)"
   ]
  },
  {
   "cell_type": "code",
   "execution_count": null,
   "id": "55f00785-9364-4ae6-b6db-e0e6f2897352",
   "metadata": {},
   "outputs": [],
   "source": []
  },
  {
   "cell_type": "code",
   "execution_count": 203,
   "id": "d8d1f86c-bb3d-4b84-b4aa-c4e7f1809186",
   "metadata": {},
   "outputs": [],
   "source": [
    "# strip() = removes whitespace characters (spaces, tabs, newlines) from both leading and traiing characters"
   ]
  },
  {
   "cell_type": "code",
   "execution_count": 221,
   "id": "e43d288c-ea00-4f8d-8018-5919e8a5ebab",
   "metadata": {},
   "outputs": [],
   "source": [
    "challenge = 'thirty days of python '"
   ]
  },
  {
   "cell_type": "code",
   "execution_count": 222,
   "id": "8a6dbee8-6101-4f01-a391-9ea033b2408a",
   "metadata": {},
   "outputs": [
    {
     "name": "stdout",
     "output_type": "stream",
     "text": [
      "thirty days of python\n"
     ]
    }
   ],
   "source": [
    "print(challenge.strip())"
   ]
  },
  {
   "cell_type": "code",
   "execution_count": null,
   "id": "6b8c9d2a-f300-4238-bde0-8137d8bfc567",
   "metadata": {},
   "outputs": [],
   "source": []
  },
  {
   "cell_type": "code",
   "execution_count": 223,
   "id": "a331eace-427e-417c-92a8-0a0f71cdfa06",
   "metadata": {},
   "outputs": [],
   "source": [
    "# replace() = replace substring"
   ]
  },
  {
   "cell_type": "code",
   "execution_count": 225,
   "id": "cd172db4-e7a8-46d6-a6c5-64a6938c8521",
   "metadata": {},
   "outputs": [
    {
     "name": "stdout",
     "output_type": "stream",
     "text": [
      "thirty days of vscode \n"
     ]
    }
   ],
   "source": [
    "print(challenge.replace('python','vscode'))"
   ]
  },
  {
   "cell_type": "code",
   "execution_count": null,
   "id": "3c9b3a38-1d6b-429e-b16e-7d15f32a3e8b",
   "metadata": {},
   "outputs": [],
   "source": []
  },
  {
   "cell_type": "code",
   "execution_count": 226,
   "id": "7866182c-848e-4bca-9ff1-94950f7ea1b9",
   "metadata": {},
   "outputs": [],
   "source": [
    "# split() =splits string from left"
   ]
  },
  {
   "cell_type": "code",
   "execution_count": 227,
   "id": "0bfbeeea-9e4c-4db9-816f-316d2908efc2",
   "metadata": {},
   "outputs": [
    {
     "name": "stdout",
     "output_type": "stream",
     "text": [
      "['thirty', 'days', 'of', 'python']\n"
     ]
    }
   ],
   "source": [
    "print(challenge.split())"
   ]
  },
  {
   "cell_type": "code",
   "execution_count": null,
   "id": "8d18f3e4-bf16-4b63-b572-463c00fc5804",
   "metadata": {},
   "outputs": [],
   "source": []
  },
  {
   "cell_type": "code",
   "execution_count": 228,
   "id": "8b916f02-cc63-4433-a426-9a7f2a7da10e",
   "metadata": {},
   "outputs": [],
   "source": [
    "# title = returns a title case string"
   ]
  },
  {
   "cell_type": "code",
   "execution_count": 230,
   "id": "0eb6da97-aeb0-4a81-ad04-d8691f2a830e",
   "metadata": {},
   "outputs": [
    {
     "name": "stdout",
     "output_type": "stream",
     "text": [
      "Thirty Days Of Python \n"
     ]
    }
   ],
   "source": [
    "print(challenge.title())   # first letter of every word is capitalised"
   ]
  },
  {
   "cell_type": "code",
   "execution_count": null,
   "id": "16a46d87-1541-42ab-933a-935fb76f98e3",
   "metadata": {},
   "outputs": [],
   "source": []
  },
  {
   "cell_type": "code",
   "execution_count": 235,
   "id": "deba5d04-120a-40f4-b529-03e1ad3f3db4",
   "metadata": {},
   "outputs": [],
   "source": [
    "# swapcase() = swaps the case of every letter in the string"
   ]
  },
  {
   "cell_type": "code",
   "execution_count": 232,
   "id": "40baccd8-173d-46e1-b039-d44830921714",
   "metadata": {},
   "outputs": [
    {
     "data": {
      "text/plain": [
       "'thirty days of python '"
      ]
     },
     "execution_count": 232,
     "metadata": {},
     "output_type": "execute_result"
    }
   ],
   "source": [
    "challenge"
   ]
  },
  {
   "cell_type": "code",
   "execution_count": 239,
   "id": "6cf527d0-e2cd-45cb-b11a-b89018190bc7",
   "metadata": {},
   "outputs": [],
   "source": [
    "challenge1= 'Thirty Days Of Python'"
   ]
  },
  {
   "cell_type": "code",
   "execution_count": 240,
   "id": "56b14c8b-ba2a-4121-ac65-7854d23fab52",
   "metadata": {},
   "outputs": [
    {
     "name": "stdout",
     "output_type": "stream",
     "text": [
      "THIRTY DAYS OF PYTHON \n"
     ]
    }
   ],
   "source": [
    "print(challenge.swapcase())"
   ]
  },
  {
   "cell_type": "code",
   "execution_count": 241,
   "id": "39f4e070-c090-4497-8247-117b1e4cd81f",
   "metadata": {},
   "outputs": [
    {
     "name": "stdout",
     "output_type": "stream",
     "text": [
      "tHIRTY dAYS oF pYTHON\n"
     ]
    }
   ],
   "source": [
    "print(challenge1.swapcase())"
   ]
  },
  {
   "cell_type": "code",
   "execution_count": null,
   "id": "fc9017ca-83a5-41a5-a9b1-a0c9c1911d50",
   "metadata": {},
   "outputs": [],
   "source": []
  },
  {
   "cell_type": "code",
   "execution_count": 242,
   "id": "7819da3a-dc82-4c09-96c6-8412a008fe1c",
   "metadata": {},
   "outputs": [],
   "source": [
    "# startswith() = checks if string starts with a specified substring"
   ]
  },
  {
   "cell_type": "code",
   "execution_count": 243,
   "id": "61bd79b0-3e83-4660-9e93-16702e57e907",
   "metadata": {},
   "outputs": [
    {
     "name": "stdout",
     "output_type": "stream",
     "text": [
      "False\n"
     ]
    }
   ],
   "source": [
    "print(challenge.startswith('of'))"
   ]
  },
  {
   "cell_type": "code",
   "execution_count": 244,
   "id": "17a3610d-02ae-4115-949c-5ad7b076d3e5",
   "metadata": {},
   "outputs": [
    {
     "name": "stdout",
     "output_type": "stream",
     "text": [
      "True\n"
     ]
    }
   ],
   "source": [
    "print(challenge.startswith('thirty'))"
   ]
  },
  {
   "cell_type": "code",
   "execution_count": null,
   "id": "ab71c72c-5703-4a9e-b1b0-ff178e8f1773",
   "metadata": {},
   "outputs": [],
   "source": []
  }
 ],
 "metadata": {
  "kernelspec": {
   "display_name": "Python [conda env:base] *",
   "language": "python",
   "name": "conda-base-py"
  },
  "language_info": {
   "codemirror_mode": {
    "name": "ipython",
    "version": 3
   },
   "file_extension": ".py",
   "mimetype": "text/x-python",
   "name": "python",
   "nbconvert_exporter": "python",
   "pygments_lexer": "ipython3",
   "version": "3.12.7"
  }
 },
 "nbformat": 4,
 "nbformat_minor": 5
}
