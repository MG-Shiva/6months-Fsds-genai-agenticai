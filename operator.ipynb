{
 "cells": [
  {
   "cell_type": "markdown",
   "id": "a70b6e0c-f899-490d-95ea-1b1863a975cb",
   "metadata": {},
   "source": [
    "# Arithmetic operations in python"
   ]
  },
  {
   "cell_type": "code",
   "execution_count": null,
   "id": "a38d2921-9ef7-4dd2-b18f-323918aae980",
   "metadata": {},
   "outputs": [],
   "source": []
  },
  {
   "cell_type": "markdown",
   "id": "299ba037-24f9-468b-9669-ff92b13e05c3",
   "metadata": {},
   "source": [
    "# Integers"
   ]
  },
  {
   "cell_type": "code",
   "execution_count": 46,
   "id": "f38ee012-f635-49db-a2fd-89aa40a1a2ad",
   "metadata": {},
   "outputs": [
    {
     "name": "stdout",
     "output_type": "stream",
     "text": [
      "Addition:  3\n"
     ]
    }
   ],
   "source": [
    "print('Addition: ',1+2)"
   ]
  },
  {
   "cell_type": "code",
   "execution_count": 47,
   "id": "4531e0a9-05fd-4683-a3b3-14c183afaaac",
   "metadata": {},
   "outputs": [
    {
     "name": "stdout",
     "output_type": "stream",
     "text": [
      "Subtraction:  1\n"
     ]
    }
   ],
   "source": [
    "print('Subtraction: ',2-1)"
   ]
  },
  {
   "cell_type": "code",
   "execution_count": 48,
   "id": "8409073c-411e-4703-84fa-4a454752a7c6",
   "metadata": {},
   "outputs": [
    {
     "name": "stdout",
     "output_type": "stream",
     "text": [
      "Multiplication:  6\n"
     ]
    }
   ],
   "source": [
    "print('Multiplication: ',2*3)"
   ]
  },
  {
   "cell_type": "code",
   "execution_count": 49,
   "id": "9dec57db-5dce-4af6-9cec-c01ce4b34f97",
   "metadata": {},
   "outputs": [
    {
     "name": "stdout",
     "output_type": "stream",
     "text": [
      "Division:  2.0\n"
     ]
    }
   ],
   "source": [
    "print('Division: ',4/2)"
   ]
  },
  {
   "cell_type": "code",
   "execution_count": 50,
   "id": "80f9bec9-883f-4916-8df4-707803cf3d6e",
   "metadata": {},
   "outputs": [
    {
     "name": "stdout",
     "output_type": "stream",
     "text": [
      "Division:  3.5\n"
     ]
    }
   ],
   "source": [
    "print('Division: ',7/2)"
   ]
  },
  {
   "cell_type": "code",
   "execution_count": 51,
   "id": "3bebb4bc-dc70-4885-b4c3-b6cd77244338",
   "metadata": {},
   "outputs": [
    {
     "name": "stdout",
     "output_type": "stream",
     "text": [
      "Division without the remainder:  3\n"
     ]
    }
   ],
   "source": [
    "print('Division without the remainder: ',7//2)"
   ]
  },
  {
   "cell_type": "code",
   "execution_count": 52,
   "id": "4ce1c7d0-35c3-42ae-9de8-6e2bbca62b0b",
   "metadata": {},
   "outputs": [
    {
     "name": "stdout",
     "output_type": "stream",
     "text": [
      "Modulus:  3\n"
     ]
    }
   ],
   "source": [
    "print('Modulus: ',7%4)      # remainder"
   ]
  },
  {
   "cell_type": "code",
   "execution_count": 53,
   "id": "b1b7a856-35d4-4109-bf6c-9acee29cbf21",
   "metadata": {},
   "outputs": [
    {
     "name": "stdout",
     "output_type": "stream",
     "text": [
      "Exponential:  64\n"
     ]
    }
   ],
   "source": [
    "print('Exponential: ',4**3)"
   ]
  },
  {
   "cell_type": "code",
   "execution_count": null,
   "id": "054e0893-68cd-4eec-9b0a-cac4e1a65c7b",
   "metadata": {},
   "outputs": [],
   "source": []
  },
  {
   "cell_type": "markdown",
   "id": "f2569f9a-efdf-4108-bfaa-27f33ec93022",
   "metadata": {},
   "source": [
    "# Floating numbers"
   ]
  },
  {
   "cell_type": "code",
   "execution_count": 54,
   "id": "3f72c6bd-eeb4-4660-9b17-377e2dca42ee",
   "metadata": {},
   "outputs": [
    {
     "name": "stdout",
     "output_type": "stream",
     "text": [
      "Floating number, PI  3.14\n"
     ]
    }
   ],
   "source": [
    "print('Floating number, PI ',3.14)"
   ]
  },
  {
   "cell_type": "code",
   "execution_count": 55,
   "id": "92c125dc-029e-4359-9c19-6d3b2f4f01ec",
   "metadata": {},
   "outputs": [
    {
     "name": "stdout",
     "output_type": "stream",
     "text": [
      "floating number, gravity 9.81\n"
     ]
    }
   ],
   "source": [
    "print('floating number, gravity',9.81)"
   ]
  },
  {
   "cell_type": "code",
   "execution_count": null,
   "id": "d70623fa-2ae6-4fa5-a1b1-e69fc6bd4497",
   "metadata": {},
   "outputs": [],
   "source": []
  },
  {
   "cell_type": "markdown",
   "id": "1f0e7238-8c50-4c97-8a0e-fae7c280673b",
   "metadata": {},
   "source": [
    "# Complex numbers"
   ]
  },
  {
   "cell_type": "code",
   "execution_count": 56,
   "id": "83a6d771-526f-407e-8f92-640e196231c2",
   "metadata": {},
   "outputs": [
    {
     "name": "stdout",
     "output_type": "stream",
     "text": [
      "complex number: (1+2j)\n"
     ]
    }
   ],
   "source": [
    "print('complex number:',1+2j)"
   ]
  },
  {
   "cell_type": "code",
   "execution_count": 57,
   "id": "bee63912-16ca-4886-87f6-c1a49283db3e",
   "metadata": {},
   "outputs": [
    {
     "name": "stdout",
     "output_type": "stream",
     "text": [
      "complex number multiplication: (5+0j)\n"
     ]
    }
   ],
   "source": [
    "print('complex number multiplication:',(1+2j)*(1-2j)) "
   ]
  },
  {
   "cell_type": "code",
   "execution_count": null,
   "id": "090c3892-e390-45ea-a572-4cda01217d13",
   "metadata": {},
   "outputs": [],
   "source": []
  },
  {
   "cell_type": "markdown",
   "id": "57265f59-cccc-4c93-aab1-cad4cfa91bcb",
   "metadata": {},
   "source": [
    "# Declaring the variable at the top first"
   ]
  },
  {
   "cell_type": "code",
   "execution_count": 58,
   "id": "1c257b3e-27a0-434c-90f3-0e8335b34da9",
   "metadata": {},
   "outputs": [],
   "source": [
    "a = 3  "
   ]
  },
  {
   "cell_type": "code",
   "execution_count": 59,
   "id": "60e2892c-a162-436f-bc20-245318a24b03",
   "metadata": {},
   "outputs": [],
   "source": [
    "b = 2 "
   ]
  },
  {
   "cell_type": "code",
   "execution_count": null,
   "id": "a3d51585-70e1-4d3f-b39e-b8ddfb0ef194",
   "metadata": {},
   "outputs": [],
   "source": []
  },
  {
   "cell_type": "markdown",
   "id": "d7118a13-2e7c-49a2-95a5-fdb7fdffa09c",
   "metadata": {},
   "source": [
    "# Arithmetic operations and assigning the result to a variable"
   ]
  },
  {
   "cell_type": "code",
   "execution_count": 60,
   "id": "f168abf5-69a5-44b1-b942-12ca8380e31e",
   "metadata": {},
   "outputs": [],
   "source": [
    "a=3\n",
    "b=2"
   ]
  },
  {
   "cell_type": "code",
   "execution_count": 61,
   "id": "741af5ad-28a2-4d10-9112-ce95a4a5c325",
   "metadata": {},
   "outputs": [],
   "source": [
    "total = a+b"
   ]
  },
  {
   "cell_type": "code",
   "execution_count": 62,
   "id": "2dcc07f2-8041-4c75-b8dd-90fbeaa72278",
   "metadata": {},
   "outputs": [],
   "source": [
    "diff = a-b"
   ]
  },
  {
   "cell_type": "code",
   "execution_count": 63,
   "id": "348d4ed7-e4f9-49bc-bbf5-7c254541543c",
   "metadata": {},
   "outputs": [],
   "source": [
    "product = a*b"
   ]
  },
  {
   "cell_type": "code",
   "execution_count": 64,
   "id": "2d1e1e49-0d69-40cf-a97f-56502384ae98",
   "metadata": {},
   "outputs": [],
   "source": [
    "division = a/b"
   ]
  },
  {
   "cell_type": "code",
   "execution_count": 65,
   "id": "373e0746-3f1c-4765-84bd-af5128df844c",
   "metadata": {},
   "outputs": [],
   "source": [
    "remainder = a%b"
   ]
  },
  {
   "cell_type": "code",
   "execution_count": 66,
   "id": "c4ea616e-24c5-49cb-9853-dabff1bf3638",
   "metadata": {},
   "outputs": [],
   "source": [
    "floor_division = a//b"
   ]
  },
  {
   "cell_type": "code",
   "execution_count": 67,
   "id": "713346a7-24cc-47e2-9ad1-b139137db9e3",
   "metadata": {},
   "outputs": [],
   "source": [
    "exponential = a**b"
   ]
  },
  {
   "cell_type": "code",
   "execution_count": null,
   "id": "0e979792-d27b-44f6-9987-b15555402416",
   "metadata": {},
   "outputs": [],
   "source": []
  },
  {
   "cell_type": "code",
   "execution_count": 68,
   "id": "e9ad86a2-697b-43de-ad0e-c49e74cbec28",
   "metadata": {},
   "outputs": [
    {
     "name": "stdout",
     "output_type": "stream",
     "text": [
      "5\n"
     ]
    }
   ],
   "source": [
    "print(total)"
   ]
  },
  {
   "cell_type": "code",
   "execution_count": 69,
   "id": "aa333bbf-f7db-4073-b627-f515e7161b1c",
   "metadata": {},
   "outputs": [
    {
     "name": "stdout",
     "output_type": "stream",
     "text": [
      "a+b=  5\n",
      "a-b=  1\n",
      "a*b=  6\n",
      "a/b=  1.5\n",
      "a%b=  1\n",
      "a//b=  1\n",
      "a**b=  9\n"
     ]
    }
   ],
   "source": [
    "print('a+b= ',total)\n",
    "print('a-b= ',diff)\n",
    "print('a*b= ',product)\n",
    "print('a/b= ',division)\n",
    "print('a%b= ',remainder)\n",
    "print('a//b= ',floor_division)\n",
    "print('a**b= ',exponential)"
   ]
  },
  {
   "cell_type": "raw",
   "id": "77cf3d16-16b8-4ebe-bbde-37cfa7f5b7a5",
   "metadata": {},
   "source": []
  },
  {
   "cell_type": "markdown",
   "id": "813bfb7f-ebe5-4bb9-a512-d1ca462865f9",
   "metadata": {},
   "source": [
    "# Declaring two values and organizing them together"
   ]
  },
  {
   "cell_type": "code",
   "execution_count": 70,
   "id": "73ddeeaa-7356-4e58-8e83-3bcb607397b7",
   "metadata": {},
   "outputs": [],
   "source": [
    "n1 = 3\n",
    "n2 = 4"
   ]
  },
  {
   "cell_type": "code",
   "execution_count": null,
   "id": "17b3e1bd-aa87-4b39-b4b3-9710369adad2",
   "metadata": {},
   "outputs": [],
   "source": []
  },
  {
   "cell_type": "code",
   "execution_count": 71,
   "id": "1b826e5d-cdf8-4581-af5d-d760734d532f",
   "metadata": {},
   "outputs": [],
   "source": [
    "total = n1+n2\n",
    "diff = n1-n2\n",
    "pro = n1*n2\n",
    "div=n1/n2\n",
    "rem=n1%n2"
   ]
  },
  {
   "cell_type": "code",
   "execution_count": null,
   "id": "b1a698dd-b8af-4345-9b3d-f2d9b4a6fcbb",
   "metadata": {},
   "outputs": [],
   "source": []
  },
  {
   "cell_type": "code",
   "execution_count": 72,
   "id": "1aa217da-5514-4e73-9678-e7cd42ca4e1b",
   "metadata": {},
   "outputs": [
    {
     "name": "stdout",
     "output_type": "stream",
     "text": [
      "total:  7\n",
      "Difference: -1\n",
      "Product: 12\n",
      "Division: 0.75\n",
      "Remainder: 3\n"
     ]
    }
   ],
   "source": [
    "print('total: ',total)\n",
    "print('Difference:',diff)\n",
    "print('Product:',pro)\n",
    "print('Division:',div)\n",
    "print('Remainder:',rem)"
   ]
  },
  {
   "cell_type": "code",
   "execution_count": null,
   "id": "65049565-32e0-4ca2-8f05-44c9c5ca0911",
   "metadata": {},
   "outputs": [],
   "source": []
  },
  {
   "cell_type": "markdown",
   "id": "e50fb0f3-e74f-4af9-88f1-2739faeeb717",
   "metadata": {},
   "source": [
    "# Calculating area of a circle"
   ]
  },
  {
   "cell_type": "code",
   "execution_count": 73,
   "id": "05494039-970e-4bf1-9611-6a7c82102c4c",
   "metadata": {},
   "outputs": [
    {
     "name": "stdout",
     "output_type": "stream",
     "text": [
      "Area of a circle: 314.0\n"
     ]
    }
   ],
   "source": [
    "rad = 10\n",
    "aroc = 3.14*rad**2\n",
    "print('Area of a circle:',aroc)"
   ]
  },
  {
   "cell_type": "code",
   "execution_count": null,
   "id": "85ca629a-2242-4fc3-87ef-0af56eace210",
   "metadata": {},
   "outputs": [],
   "source": []
  },
  {
   "cell_type": "markdown",
   "id": "82e0760a-a52e-43d2-88d6-b0fe721922d3",
   "metadata": {},
   "source": [
    "# Calculating area of a rectangle"
   ]
  },
  {
   "cell_type": "code",
   "execution_count": 74,
   "id": "93ac98b0-8b40-4fa6-bacc-90fc02c5546c",
   "metadata": {},
   "outputs": [
    {
     "name": "stdout",
     "output_type": "stream",
     "text": [
      "Area of rectangle: 200\n"
     ]
    }
   ],
   "source": [
    "l=10\n",
    "b=20\n",
    "area =l*b\n",
    "print('Area of rectangle:',area)"
   ]
  },
  {
   "cell_type": "code",
   "execution_count": null,
   "id": "3f8eac17-0fcc-44f3-89df-9a09a3f37882",
   "metadata": {},
   "outputs": [],
   "source": []
  },
  {
   "cell_type": "markdown",
   "id": "0785cae2-aba4-4d2a-985b-94045e112004",
   "metadata": {},
   "source": [
    "# Calculating weight of an object"
   ]
  },
  {
   "cell_type": "code",
   "execution_count": 75,
   "id": "a11bf7bb-1407-48f6-92e0-01d62f2610bb",
   "metadata": {},
   "outputs": [
    {
     "name": "stdout",
     "output_type": "stream",
     "text": [
      "735.75 N\n"
     ]
    }
   ],
   "source": [
    "mass=75\n",
    "gravity =9.81\n",
    "weight=mass*gravity\n",
    "print(weight,'N')"
   ]
  },
  {
   "cell_type": "code",
   "execution_count": null,
   "id": "d7a31573-4f25-4aac-bd63-6921b0f8452b",
   "metadata": {},
   "outputs": [],
   "source": []
  },
  {
   "cell_type": "markdown",
   "id": "b8f95d2a-4248-412e-b119-0927dd033305",
   "metadata": {},
   "source": [
    "# Boolean"
   ]
  },
  {
   "cell_type": "code",
   "execution_count": 76,
   "id": "27706217-7c36-4a99-ba3f-25ccdcc97d06",
   "metadata": {},
   "outputs": [
    {
     "name": "stdout",
     "output_type": "stream",
     "text": [
      "True\n",
      "False\n",
      "True\n",
      "False\n",
      "True\n",
      "False\n",
      "False\n",
      "True\n",
      "False\n",
      "True\n"
     ]
    }
   ],
   "source": [
    "print(3>2)\n",
    "print(3<2)\n",
    "print(3>=2)\n",
    "print(3<=2)\n",
    "print(2<3)\n",
    "print(2>3)\n",
    "print(2>=3)\n",
    "print(2<=3)\n",
    "print(3==2)\n",
    "print(3!=2)"
   ]
  },
  {
   "cell_type": "code",
   "execution_count": null,
   "id": "5e297dea-df08-41e2-bf96-f03664d3d775",
   "metadata": {},
   "outputs": [],
   "source": []
  },
  {
   "cell_type": "code",
   "execution_count": 77,
   "id": "445fb8d1-7c78-4ff5-ade4-54b143a8d48c",
   "metadata": {},
   "outputs": [
    {
     "name": "stdout",
     "output_type": "stream",
     "text": [
      "False\n",
      "True\n",
      "True\n",
      "False\n"
     ]
    }
   ],
   "source": [
    "print(len('mango')==len('avacado'))\n",
    "print(len('mango')!=len('avacado'))\n",
    "print(len('mango')<=len('avacado'))\n",
    "print(len('mango')>=len('avacado'))"
   ]
  },
  {
   "cell_type": "code",
   "execution_count": 78,
   "id": "8236bc70-f2a9-4964-964f-2f71754a9a86",
   "metadata": {},
   "outputs": [
    {
     "name": "stdout",
     "output_type": "stream",
     "text": [
      "True\n",
      "False\n"
     ]
    }
   ],
   "source": [
    "print(len('milk')==len('meat'))\n",
    "print(len('milk')!=len('meat'))"
   ]
  },
  {
   "cell_type": "code",
   "execution_count": 79,
   "id": "f18398e5-6470-4c4c-bc2a-95ad4ad7d143",
   "metadata": {},
   "outputs": [
    {
     "name": "stdout",
     "output_type": "stream",
     "text": [
      "True\n",
      "False\n"
     ]
    }
   ],
   "source": [
    "print(len('tomato')==len('potato'))\n",
    "print(len('python')>len('dragon'))"
   ]
  },
  {
   "cell_type": "code",
   "execution_count": null,
   "id": "a8879296-ae84-4357-bcc4-9f20ebbb5b23",
   "metadata": {},
   "outputs": [],
   "source": []
  },
  {
   "cell_type": "markdown",
   "id": "1219987a-9e39-4966-be79-e979f6fa1759",
   "metadata": {},
   "source": [
    "# Boolean comparision"
   ]
  },
  {
   "cell_type": "code",
   "execution_count": 80,
   "id": "b21904fa-4700-49d6-b6ac-88d77019caaa",
   "metadata": {},
   "outputs": [
    {
     "name": "stdout",
     "output_type": "stream",
     "text": [
      "True==True: True\n",
      "True==False: False\n",
      "False==False: True\n",
      "True and True: True\n",
      "True or False: True\n"
     ]
    }
   ],
   "source": [
    "print('True==True:',True==True)\n",
    "print('True==False:',True==False)\n",
    "print('False==False:',False==False)\n",
    "print('True and True:',True and True)\n",
    "print('True or False:', True or False)"
   ]
  },
  {
   "cell_type": "code",
   "execution_count": null,
   "id": "6afed956-9ffb-4f93-b04a-16784835fb61",
   "metadata": {},
   "outputs": [],
   "source": []
  },
  {
   "cell_type": "code",
   "execution_count": 83,
   "id": "e96281fc-71b4-4fc8-a837-7debf14fd9d2",
   "metadata": {},
   "outputs": [
    {
     "name": "stdout",
     "output_type": "stream",
     "text": [
      "1 is 1 True\n",
      "1 is not 2 True\n",
      "A in Asabaneh True\n",
      "B in Asabaneh False\n",
      "True\n",
      "a in an: True\n",
      "4 is 2**2 True\n"
     ]
    },
    {
     "name": "stderr",
     "output_type": "stream",
     "text": [
      "<>:1: SyntaxWarning: \"is\" with 'int' literal. Did you mean \"==\"?\n",
      "<>:2: SyntaxWarning: \"is not\" with 'int' literal. Did you mean \"!=\"?\n",
      "<>:7: SyntaxWarning: \"is\" with 'int' literal. Did you mean \"==\"?\n",
      "<>:1: SyntaxWarning: \"is\" with 'int' literal. Did you mean \"==\"?\n",
      "<>:2: SyntaxWarning: \"is not\" with 'int' literal. Did you mean \"!=\"?\n",
      "<>:7: SyntaxWarning: \"is\" with 'int' literal. Did you mean \"==\"?\n",
      "C:\\Users\\Shiva\\AppData\\Local\\Temp\\ipykernel_19852\\3499324321.py:1: SyntaxWarning: \"is\" with 'int' literal. Did you mean \"==\"?\n",
      "  print('1 is 1',1 is 1)\n",
      "C:\\Users\\Shiva\\AppData\\Local\\Temp\\ipykernel_19852\\3499324321.py:2: SyntaxWarning: \"is not\" with 'int' literal. Did you mean \"!=\"?\n",
      "  print('1 is not 2',1 is not 2)\n",
      "C:\\Users\\Shiva\\AppData\\Local\\Temp\\ipykernel_19852\\3499324321.py:7: SyntaxWarning: \"is\" with 'int' literal. Did you mean \"==\"?\n",
      "  print('4 is 2**2', 4 is 2**2)\n"
     ]
    }
   ],
   "source": [
    "print('1 is 1',1 is 1)\n",
    "print('1 is not 2',1 is not 2)\n",
    "print('A in Asabaneh', 'A' in 'Asabaneh')\n",
    "print('B in Asabaneh', 'B' in 'Asabaneh')\n",
    "print('coding' in 'coding for all')\n",
    "print('a in an:', 'a' in 'an')\n",
    "print('4 is 2**2', 4 is 2**2)"
   ]
  },
  {
   "cell_type": "code",
   "execution_count": null,
   "id": "0e4408d7-0068-4b29-88ed-5b8d07097362",
   "metadata": {},
   "outputs": [],
   "source": []
  },
  {
   "cell_type": "code",
   "execution_count": 84,
   "id": "54a93d07-6866-431b-b6f3-e67fe6c17887",
   "metadata": {},
   "outputs": [
    {
     "name": "stdout",
     "output_type": "stream",
     "text": [
      "True\n",
      "False\n",
      "False\n",
      "True\n",
      "True\n",
      "False\n",
      "False\n"
     ]
    }
   ],
   "source": [
    "print(3>2 and 4>3)\n",
    "print(3>2 and 4<3)\n",
    "print(3<2 and 4<3)\n",
    "print(3>2 or 4>3)\n",
    "print(3>2 or 4<3)\n",
    "print(3<2 or 4<3)\n",
    "print(not 3>2)"
   ]
  },
  {
   "cell_type": "code",
   "execution_count": null,
   "id": "0c227171-23c6-4e0e-9102-541073f6c148",
   "metadata": {},
   "outputs": [],
   "source": []
  },
  {
   "cell_type": "code",
   "execution_count": 85,
   "id": "82ed48ab-739b-4b13-9475-9c50c50308a3",
   "metadata": {},
   "outputs": [
    {
     "name": "stdout",
     "output_type": "stream",
     "text": [
      "False\n",
      "True\n",
      "True\n",
      "False\n"
     ]
    }
   ],
   "source": [
    "print(not True)\n",
    "print(not False)\n",
    "print(not not True)\n",
    "print(not not False)"
   ]
  },
  {
   "cell_type": "code",
   "execution_count": null,
   "id": "d215be6b-0d82-4840-9c0f-331443053f6f",
   "metadata": {},
   "outputs": [],
   "source": []
  },
  {
   "cell_type": "code",
   "execution_count": null,
   "id": "4e183915-8e75-478f-92b8-29df646400d9",
   "metadata": {},
   "outputs": [],
   "source": []
  },
  {
   "cell_type": "code",
   "execution_count": null,
   "id": "6c553701-ca14-4676-953c-9ce7a8c31d58",
   "metadata": {},
   "outputs": [],
   "source": []
  }
 ],
 "metadata": {
  "kernelspec": {
   "display_name": "Python [conda env:base] *",
   "language": "python",
   "name": "conda-base-py"
  },
  "language_info": {
   "codemirror_mode": {
    "name": "ipython",
    "version": 3
   },
   "file_extension": ".py",
   "mimetype": "text/x-python",
   "name": "python",
   "nbconvert_exporter": "python",
   "pygments_lexer": "ipython3",
   "version": "3.12.7"
  }
 },
 "nbformat": 4,
 "nbformat_minor": 5
}
