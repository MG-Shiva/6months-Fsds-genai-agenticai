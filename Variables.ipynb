{
 "cells": [
  {
   "cell_type": "markdown",
   "id": "e52ccb5e-56bb-4373-b833-e18830b11c76",
   "metadata": {},
   "source": [
    "# variables in python"
   ]
  },
  {
   "cell_type": "code",
   "execution_count": 2,
   "id": "d46da152-c620-4367-a816-5ae35cdcbaf7",
   "metadata": {},
   "outputs": [],
   "source": [
    "first_name = 'M G'"
   ]
  },
  {
   "cell_type": "code",
   "execution_count": 3,
   "id": "72fd6f2f-67cd-4c05-ad85-c7b627451477",
   "metadata": {},
   "outputs": [],
   "source": [
    "last_name = 'Shiva'"
   ]
  },
  {
   "cell_type": "code",
   "execution_count": 4,
   "id": "ba282faa-14be-43ac-aeae-3e766c81b16e",
   "metadata": {},
   "outputs": [],
   "source": [
    "country = 'India'"
   ]
  },
  {
   "cell_type": "code",
   "execution_count": 5,
   "id": "545fda04-e1b8-4f27-bf14-7e4ab698b040",
   "metadata": {},
   "outputs": [],
   "source": [
    "state = 'Telangana'"
   ]
  },
  {
   "cell_type": "code",
   "execution_count": 6,
   "id": "67309bf0-130f-4a66-a792-fbdbf92fa44d",
   "metadata": {},
   "outputs": [],
   "source": [
    "city= 'Hyderabad'"
   ]
  },
  {
   "cell_type": "code",
   "execution_count": 7,
   "id": "abded493-379f-4078-97f1-641488eebb3b",
   "metadata": {},
   "outputs": [],
   "source": [
    "age= 999"
   ]
  },
  {
   "cell_type": "code",
   "execution_count": 8,
   "id": "b8ba7bc6-71a1-47e2-a760-2828fb97583a",
   "metadata": {},
   "outputs": [],
   "source": [
    "is_married = False"
   ]
  },
  {
   "cell_type": "code",
   "execution_count": 9,
   "id": "ca0fb79c-9f26-4d8f-b490-37e48793677a",
   "metadata": {},
   "outputs": [],
   "source": [
    "skills = ['HTML', 'CSS', 'PYTHON', 'JAVA']"
   ]
  },
  {
   "cell_type": "code",
   "execution_count": 50,
   "id": "89d00a6d-f257-4c9f-8a5a-304a501c15f6",
   "metadata": {},
   "outputs": [],
   "source": [
    "per_info = {'firstname' : 'Asabeneh',\n",
    "            'lastname' : 'Yetayeh',\n",
    "            'country' : 'Finland',\n",
    "            'city' : 'Helsinki'\n",
    "              }\n"
   ]
  },
  {
   "cell_type": "code",
   "execution_count": null,
   "id": "6f683b20-5e36-4a63-a84e-1b101b5174d4",
   "metadata": {},
   "outputs": [],
   "source": []
  },
  {
   "cell_type": "code",
   "execution_count": 11,
   "id": "a1612c2c-d0bd-48cf-ab63-e0c65777763a",
   "metadata": {},
   "outputs": [],
   "source": [
    "# Printing the values stored in the variables"
   ]
  },
  {
   "cell_type": "code",
   "execution_count": null,
   "id": "5b92b23d-216e-4d8f-809f-dfcc599cb22f",
   "metadata": {},
   "outputs": [],
   "source": []
  },
  {
   "cell_type": "code",
   "execution_count": 45,
   "id": "c4da5d2c-6457-4825-adc0-9b1e62f88072",
   "metadata": {},
   "outputs": [
    {
     "name": "stdout",
     "output_type": "stream",
     "text": [
      "First name: Asabeneh\n",
      "First name lenth: 8\n",
      "Last name: Yetayeh\n",
      "Last name length: 7\n",
      "country: Helsinki\n",
      "state: Telangana\n",
      "city: Hyderabad\n",
      "Age: 777\n",
      "Married: True\n",
      "Skills: ['HTML', 'CSS', 'PYTHON', 'JAVA']\n",
      "\n",
      "\n",
      "\n",
      "Personal information: {'firstname': 'Asabeneh', 'lastname': 'Yetayeh', 'country': 'Finland', 'city': 'Helsinki'}\n"
     ]
    }
   ],
   "source": [
    "print('First name:',first_name)\n",
    "print('First name lenth:', len(first_name))\n",
    "print('Last name:', last_name)\n",
    "print('Last name length:', len(last_name))\n",
    "print('country:', country)\n",
    "print('state:',state)\n",
    "print('city:', city)\n",
    "print('Age:', age)\n",
    "print('Married:', is_married)\n",
    "print('Skills:', skills)\n",
    "\n",
    "print()\n",
    "print('\\n')\n",
    "\n",
    "print('Personal information:',per_info)"
   ]
  },
  {
   "cell_type": "code",
   "execution_count": null,
   "id": "88999c75-3a5c-4a0b-86f2-4ea6a651d03a",
   "metadata": {},
   "outputs": [],
   "source": []
  },
  {
   "cell_type": "code",
   "execution_count": 32,
   "id": "1708b488-ac23-46bf-99fd-5655df970186",
   "metadata": {},
   "outputs": [],
   "source": [
    "# Declaring the multiple variables in one line"
   ]
  },
  {
   "cell_type": "code",
   "execution_count": 33,
   "id": "5029240f-9ff7-4ad3-95d1-bdb730631c76",
   "metadata": {},
   "outputs": [],
   "source": [
    "first_name, last_name, country, age, is_married = 'Asabeneh', 'Yetayeh', 'Helsinki', 777, True"
   ]
  },
  {
   "cell_type": "code",
   "execution_count": 34,
   "id": "dbdf91e5-9b0e-4dc4-99cb-c17172ab146b",
   "metadata": {},
   "outputs": [
    {
     "name": "stdout",
     "output_type": "stream",
     "text": [
      "Asabeneh Yetayeh Helsinki 777 True\n"
     ]
    }
   ],
   "source": [
    "print(first_name, last_name, country, age, is_married)"
   ]
  },
  {
   "cell_type": "code",
   "execution_count": 35,
   "id": "45729b2d-db86-42a7-88e4-7c064e40570b",
   "metadata": {},
   "outputs": [
    {
     "name": "stdout",
     "output_type": "stream",
     "text": [
      "First name: Asabeneh\n"
     ]
    }
   ],
   "source": [
    "print('First name:', first_name)"
   ]
  },
  {
   "cell_type": "code",
   "execution_count": 36,
   "id": "3f577349-6e17-4d03-b6e1-2e7b5c2cbbe2",
   "metadata": {},
   "outputs": [
    {
     "name": "stdout",
     "output_type": "stream",
     "text": [
      "Last name: Yetayeh\n"
     ]
    }
   ],
   "source": [
    "print('Last name:', last_name)"
   ]
  },
  {
   "cell_type": "code",
   "execution_count": 37,
   "id": "57c462a3-92b1-41bf-bde4-82fb29ed8174",
   "metadata": {},
   "outputs": [
    {
     "name": "stdout",
     "output_type": "stream",
     "text": [
      "Country: Helsinki\n"
     ]
    }
   ],
   "source": [
    "print('Country:', country)"
   ]
  },
  {
   "cell_type": "code",
   "execution_count": 40,
   "id": "616ca065-1c61-4f0c-8f07-f7d030096f3d",
   "metadata": {},
   "outputs": [
    {
     "name": "stdout",
     "output_type": "stream",
     "text": [
      "Age: 777\n"
     ]
    }
   ],
   "source": [
    "print('Age:',age)"
   ]
  },
  {
   "cell_type": "code",
   "execution_count": 41,
   "id": "5eb08e62-7add-4e4b-a36e-4f2604e0c947",
   "metadata": {},
   "outputs": [
    {
     "name": "stdout",
     "output_type": "stream",
     "text": [
      "Married: True\n"
     ]
    }
   ],
   "source": [
    "print('Married:',is_married)"
   ]
  },
  {
   "cell_type": "code",
   "execution_count": null,
   "id": "e9f2f67f-d3b2-418e-afcb-2f4bf9891be4",
   "metadata": {},
   "outputs": [],
   "source": []
  }
 ],
 "metadata": {
  "kernelspec": {
   "display_name": "Python [conda env:base] *",
   "language": "python",
   "name": "conda-base-py"
  },
  "language_info": {
   "codemirror_mode": {
    "name": "ipython",
    "version": 3
   },
   "file_extension": ".py",
   "mimetype": "text/x-python",
   "name": "python",
   "nbconvert_exporter": "python",
   "pygments_lexer": "ipython3",
   "version": "3.12.7"
  }
 },
 "nbformat": 4,
 "nbformat_minor": 5
}
