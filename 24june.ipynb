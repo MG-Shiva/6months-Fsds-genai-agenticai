{
 "cells": [
  {
   "cell_type": "markdown",
   "id": "4160ee21-3d03-43c9-afce-ce440468f488",
   "metadata": {},
   "source": [
    "# List"
   ]
  },
  {
   "cell_type": "code",
   "execution_count": 100,
   "id": "237484b5-2f12-4f85-a44b-48fb90f7d326",
   "metadata": {},
   "outputs": [
    {
     "data": {
      "text/plain": [
       "[]"
      ]
     },
     "execution_count": 100,
     "metadata": {},
     "output_type": "execute_result"
    }
   ],
   "source": [
    "l=[]\n",
    "l"
   ]
  },
  {
   "cell_type": "code",
   "execution_count": 101,
   "id": "a1935a68-b454-4bca-8953-e03277fd7537",
   "metadata": {},
   "outputs": [
    {
     "data": {
      "text/plain": [
       "[10]"
      ]
     },
     "execution_count": 101,
     "metadata": {},
     "output_type": "execute_result"
    }
   ],
   "source": [
    "l.append(10)\n",
    "l"
   ]
  },
  {
   "cell_type": "code",
   "execution_count": 102,
   "id": "c82628d1-0c97-421a-97cc-219dc6be1bd9",
   "metadata": {},
   "outputs": [],
   "source": [
    "l.append(20)\n",
    "l.append(30)\n",
    "l.append(40)"
   ]
  },
  {
   "cell_type": "code",
   "execution_count": 103,
   "id": "7681519e-834a-45d3-b512-786673941c7c",
   "metadata": {},
   "outputs": [
    {
     "data": {
      "text/plain": [
       "[10, 20, 30, 40]"
      ]
     },
     "execution_count": 103,
     "metadata": {},
     "output_type": "execute_result"
    }
   ],
   "source": [
    "l"
   ]
  },
  {
   "cell_type": "code",
   "execution_count": 104,
   "id": "5ed63403-a9bd-475e-83a8-66982a47d7f1",
   "metadata": {},
   "outputs": [
    {
     "data": {
      "text/plain": [
       "[100, 20, 30, 40]"
      ]
     },
     "execution_count": 104,
     "metadata": {},
     "output_type": "execute_result"
    }
   ],
   "source": [
    "l[0] = 100   # changing the values of elements in the list using indexing\n",
    "l"
   ]
  },
  {
   "cell_type": "code",
   "execution_count": 82,
   "id": "7094b71f-ae75-4817-813e-b2697066b72f",
   "metadata": {},
   "outputs": [
    {
     "data": {
      "text/plain": [
       "[100, 20, 30, -40]"
      ]
     },
     "execution_count": 82,
     "metadata": {},
     "output_type": "execute_result"
    }
   ],
   "source": [
    "l[-1] = -40   # changing the values of elements in the list using indexing\n",
    "l"
   ]
  },
  {
   "cell_type": "markdown",
   "id": "2a9951f7-9d96-42bd-addc-b62fb390bf44",
   "metadata": {},
   "source": [
    "# copy function"
   ]
  },
  {
   "cell_type": "code",
   "execution_count": 83,
   "id": "085432b5-9b34-4553-8112-49e54b392dfe",
   "metadata": {},
   "outputs": [
    {
     "data": {
      "text/plain": [
       "[100, 20, 30, -40]"
      ]
     },
     "execution_count": 83,
     "metadata": {},
     "output_type": "execute_result"
    }
   ],
   "source": [
    "l1=l.copy()\n",
    "l1"
   ]
  },
  {
   "cell_type": "code",
   "execution_count": 84,
   "id": "cf37427f-5488-4e6b-87a5-3c7171bd45d9",
   "metadata": {},
   "outputs": [
    {
     "name": "stdout",
     "output_type": "stream",
     "text": [
      "[100, 20, 30, -40]\n",
      "[100, 20, 30, -40]\n"
     ]
    }
   ],
   "source": [
    "print(l)\n",
    "print(l1)"
   ]
  },
  {
   "cell_type": "code",
   "execution_count": 85,
   "id": "011f673d-e0d8-4586-a39b-cd3cf4b35241",
   "metadata": {},
   "outputs": [
    {
     "data": {
      "text/plain": [
       "True"
      ]
     },
     "execution_count": 85,
     "metadata": {},
     "output_type": "execute_result"
    }
   ],
   "source": [
    "l==l1 \n",
    "# same elements in the lists"
   ]
  },
  {
   "cell_type": "code",
   "execution_count": 86,
   "id": "b664ce73-9c9e-494a-afa2-38e0d3705a53",
   "metadata": {},
   "outputs": [
    {
     "data": {
      "text/plain": [
       "False"
      ]
     },
     "execution_count": 86,
     "metadata": {},
     "output_type": "execute_result"
    }
   ],
   "source": [
    "id(l)==id(l1)\n",
    "\n",
    "# different addresses for both lists"
   ]
  },
  {
   "cell_type": "code",
   "execution_count": 87,
   "id": "e6a5139f-a234-4268-858c-e3f2695bcf65",
   "metadata": {},
   "outputs": [
    {
     "data": {
      "text/plain": [
       "True"
      ]
     },
     "execution_count": 87,
     "metadata": {},
     "output_type": "execute_result"
    }
   ],
   "source": [
    "id(l)!= id(l1)"
   ]
  },
  {
   "cell_type": "markdown",
   "id": "570026ca-43e4-4379-9ef0-8ed674146116",
   "metadata": {},
   "source": [
    "# count function"
   ]
  },
  {
   "cell_type": "code",
   "execution_count": 88,
   "id": "73df2342-d22f-4ecd-ac0d-af71f80688f6",
   "metadata": {},
   "outputs": [
    {
     "data": {
      "text/plain": [
       "1"
      ]
     },
     "execution_count": 88,
     "metadata": {},
     "output_type": "execute_result"
    }
   ],
   "source": [
    "l.count(20)"
   ]
  },
  {
   "cell_type": "code",
   "execution_count": 89,
   "id": "695f0026-aaa9-4665-91c2-f1338121a7e6",
   "metadata": {},
   "outputs": [
    {
     "data": {
      "text/plain": [
       "[100, 20, 30, -40, 30]"
      ]
     },
     "execution_count": 89,
     "metadata": {},
     "output_type": "execute_result"
    }
   ],
   "source": [
    "l.append(30)\n",
    "l"
   ]
  },
  {
   "cell_type": "code",
   "execution_count": 90,
   "id": "3dc9d907-c2e9-44d1-99ce-81413341ce46",
   "metadata": {},
   "outputs": [
    {
     "data": {
      "text/plain": [
       "2"
      ]
     },
     "execution_count": 90,
     "metadata": {},
     "output_type": "execute_result"
    }
   ],
   "source": [
    "l.count(30) # counts the number of repetitions"
   ]
  },
  {
   "cell_type": "markdown",
   "id": "1b36e74d-9680-4edd-9716-f6287b1f0ce6",
   "metadata": {},
   "source": [
    "# clear function"
   ]
  },
  {
   "cell_type": "code",
   "execution_count": 91,
   "id": "f4c60ab0-787b-461f-bff7-70eb770ca831",
   "metadata": {},
   "outputs": [
    {
     "data": {
      "text/plain": [
       "5"
      ]
     },
     "execution_count": 91,
     "metadata": {},
     "output_type": "execute_result"
    }
   ],
   "source": [
    "len(l)"
   ]
  },
  {
   "cell_type": "code",
   "execution_count": 92,
   "id": "6d7e51f3-6897-4c40-b16d-f8b5b230d39b",
   "metadata": {},
   "outputs": [
    {
     "data": {
      "text/plain": [
       "4"
      ]
     },
     "execution_count": 92,
     "metadata": {},
     "output_type": "execute_result"
    }
   ],
   "source": [
    "len(l1)"
   ]
  },
  {
   "cell_type": "code",
   "execution_count": 93,
   "id": "e24a6eae-171a-47a1-b7f2-a0264c8c5b59",
   "metadata": {},
   "outputs": [],
   "source": [
    "l1.clear()"
   ]
  },
  {
   "cell_type": "code",
   "execution_count": 94,
   "id": "048c7355-6830-4566-9a47-f2e729421396",
   "metadata": {},
   "outputs": [
    {
     "data": {
      "text/plain": [
       "[]"
      ]
     },
     "execution_count": 94,
     "metadata": {},
     "output_type": "execute_result"
    }
   ],
   "source": [
    "l1 # clears or deletes all the elemnets in the list"
   ]
  },
  {
   "cell_type": "markdown",
   "id": "7cd1c497-eecc-4052-b217-a32fed6e7af9",
   "metadata": {},
   "source": [
    "# Delete a list"
   ]
  },
  {
   "cell_type": "code",
   "execution_count": 95,
   "id": "e3e3d4d3-9383-4adb-a130-a216b7a527d7",
   "metadata": {},
   "outputs": [],
   "source": [
    "l5=[5,40,87,789]"
   ]
  },
  {
   "cell_type": "code",
   "execution_count": 96,
   "id": "259d2c94-3508-47a8-9c6f-dcbdf9796d55",
   "metadata": {},
   "outputs": [
    {
     "data": {
      "text/plain": [
       "[5, 40, 87, 789]"
      ]
     },
     "execution_count": 96,
     "metadata": {},
     "output_type": "execute_result"
    }
   ],
   "source": [
    "l5"
   ]
  },
  {
   "cell_type": "code",
   "execution_count": 97,
   "id": "ec686c5d-22c2-4a84-869a-51e8235e1154",
   "metadata": {},
   "outputs": [],
   "source": [
    "del l5"
   ]
  },
  {
   "cell_type": "code",
   "execution_count": 98,
   "id": "0c0f888a-1d2a-4a07-b034-0f93dd9dcd1e",
   "metadata": {},
   "outputs": [
    {
     "ename": "NameError",
     "evalue": "name 'l5' is not defined",
     "output_type": "error",
     "traceback": [
      "\u001b[1;31m---------------------------------------------------------------------------\u001b[0m",
      "\u001b[1;31mNameError\u001b[0m                                 Traceback (most recent call last)",
      "Cell \u001b[1;32mIn[98], line 1\u001b[0m\n\u001b[1;32m----> 1\u001b[0m l5\n",
      "\u001b[1;31mNameError\u001b[0m: name 'l5' is not defined"
     ]
    }
   ],
   "source": [
    "l5     # l5 is deleted from memory"
   ]
  },
  {
   "cell_type": "code",
   "execution_count": 105,
   "id": "83635d94-9751-49e0-ad82-cd3d374d3795",
   "metadata": {},
   "outputs": [],
   "source": [
    "del l1"
   ]
  },
  {
   "cell_type": "code",
   "execution_count": 106,
   "id": "cb1cc84b-9568-4666-b9ad-1288784e9e4b",
   "metadata": {},
   "outputs": [],
   "source": [
    "l2=[]"
   ]
  },
  {
   "cell_type": "code",
   "execution_count": 107,
   "id": "0c3c652a-83a6-43aa-b1b3-ea6b740847f2",
   "metadata": {},
   "outputs": [],
   "source": [
    "l2.append('nit')\n",
    "l2.append(15)\n",
    "l2.append(True)\n",
    "l2.append(1+2j)\n",
    "l2.append(10.3)"
   ]
  },
  {
   "cell_type": "code",
   "execution_count": 108,
   "id": "e9252dac-7351-4f3c-9549-0313f5b72d02",
   "metadata": {},
   "outputs": [
    {
     "data": {
      "text/plain": [
       "['nit', 15, True, (1+2j), 10.3]"
      ]
     },
     "execution_count": 108,
     "metadata": {},
     "output_type": "execute_result"
    }
   ],
   "source": [
    "l2"
   ]
  },
  {
   "cell_type": "code",
   "execution_count": 109,
   "id": "17f66eaf-0a33-4ca1-bc6d-d023f6817b7c",
   "metadata": {},
   "outputs": [
    {
     "name": "stdout",
     "output_type": "stream",
     "text": [
      "[100, 20, 30, 40]\n",
      "['nit', 15, True, (1+2j), 10.3]\n"
     ]
    }
   ],
   "source": [
    "print(l)\n",
    "print(l2)"
   ]
  },
  {
   "cell_type": "code",
   "execution_count": null,
   "id": "3a7cd7ca-a891-4a6a-b646-ee659deee52c",
   "metadata": {},
   "outputs": [],
   "source": []
  },
  {
   "cell_type": "code",
   "execution_count": 110,
   "id": "940d3edf-f0af-458d-bd08-a66e4791c0da",
   "metadata": {},
   "outputs": [
    {
     "data": {
      "text/plain": [
       "0"
      ]
     },
     "execution_count": 110,
     "metadata": {},
     "output_type": "execute_result"
    }
   ],
   "source": [
    "l.index(100)"
   ]
  },
  {
   "cell_type": "code",
   "execution_count": 111,
   "id": "6531147a-04c1-44a9-9fb9-1a0a21162973",
   "metadata": {},
   "outputs": [
    {
     "data": {
      "text/plain": [
       "1"
      ]
     },
     "execution_count": 111,
     "metadata": {},
     "output_type": "execute_result"
    }
   ],
   "source": [
    "l2.index(15)"
   ]
  },
  {
   "cell_type": "code",
   "execution_count": 112,
   "id": "09384305-c324-4670-bd8f-184d92f7ed8f",
   "metadata": {},
   "outputs": [
    {
     "data": {
      "text/plain": [
       "2"
      ]
     },
     "execution_count": 112,
     "metadata": {},
     "output_type": "execute_result"
    }
   ],
   "source": [
    "l.index(30)  # only shows first found value and not its repetitions"
   ]
  },
  {
   "cell_type": "code",
   "execution_count": 113,
   "id": "8cd77c67-e527-43c8-bef2-c6cf176282d5",
   "metadata": {},
   "outputs": [
    {
     "name": "stdout",
     "output_type": "stream",
     "text": [
      "15\n"
     ]
    }
   ],
   "source": [
    "print(l2[1])"
   ]
  },
  {
   "cell_type": "code",
   "execution_count": 114,
   "id": "0a6255fa-fb11-40d3-a06b-e151fcc3e57d",
   "metadata": {},
   "outputs": [
    {
     "name": "stdout",
     "output_type": "stream",
     "text": [
      "n\n",
      "i\n",
      "t\n"
     ]
    }
   ],
   "source": [
    "print(l2[0][0])\n",
    "print(l2[0][1])\n",
    "print(l2[0][2])     # nested indexing"
   ]
  },
  {
   "cell_type": "code",
   "execution_count": null,
   "id": "2ae8e494-a21e-4f19-a755-c7a63a926cae",
   "metadata": {},
   "outputs": [],
   "source": []
  },
  {
   "cell_type": "code",
   "execution_count": null,
   "id": "7a6200a1-51a4-458d-ae51-ad358b9db232",
   "metadata": {},
   "outputs": [],
   "source": []
  },
  {
   "cell_type": "code",
   "execution_count": 115,
   "id": "4f7c9496-34a0-4df9-8903-0cccb8e988b4",
   "metadata": {},
   "outputs": [
    {
     "data": {
      "text/plain": [
       "[100, 20, 30, 40]"
      ]
     },
     "execution_count": 115,
     "metadata": {},
     "output_type": "execute_result"
    }
   ],
   "source": [
    "l"
   ]
  },
  {
   "cell_type": "code",
   "execution_count": 116,
   "id": "4636c1b4-adf8-46e7-b5f4-d0b08ac6cc2f",
   "metadata": {},
   "outputs": [
    {
     "data": {
      "text/plain": [
       "[100, 20, 30, 40]"
      ]
     },
     "execution_count": 116,
     "metadata": {},
     "output_type": "execute_result"
    }
   ],
   "source": [
    "l[:]   #list fulls slice"
   ]
  },
  {
   "cell_type": "code",
   "execution_count": 117,
   "id": "d0ff865e-5a38-451c-9437-f67b36465d85",
   "metadata": {},
   "outputs": [
    {
     "data": {
      "text/plain": [
       "[40]"
      ]
     },
     "execution_count": 117,
     "metadata": {},
     "output_type": "execute_result"
    }
   ],
   "source": [
    "l[3:]   #list slicing"
   ]
  },
  {
   "cell_type": "code",
   "execution_count": 118,
   "id": "1b284620-97cb-46c2-8d14-d6e3ecdbee70",
   "metadata": {},
   "outputs": [
    {
     "data": {
      "text/plain": [
       "[100, 20, 30, 40]"
      ]
     },
     "execution_count": 118,
     "metadata": {},
     "output_type": "execute_result"
    }
   ],
   "source": [
    "l[:10]   # list slicing exceding its lenth"
   ]
  },
  {
   "cell_type": "code",
   "execution_count": 119,
   "id": "892d29a4-6f1d-47d2-af8a-fc3480c2d00b",
   "metadata": {},
   "outputs": [
    {
     "data": {
      "text/plain": [
       "[100, 40]"
      ]
     },
     "execution_count": 119,
     "metadata": {},
     "output_type": "execute_result"
    }
   ],
   "source": [
    "l[0:8:3]   # list with step slicing"
   ]
  },
  {
   "cell_type": "code",
   "execution_count": 120,
   "id": "1d9426a0-3fc5-41c9-aea0-9bf151c1cf39",
   "metadata": {},
   "outputs": [
    {
     "data": {
      "text/plain": [
       "['nit', 15, True, (1+2j), 10.3]"
      ]
     },
     "execution_count": 120,
     "metadata": {},
     "output_type": "execute_result"
    }
   ],
   "source": [
    "l2"
   ]
  },
  {
   "cell_type": "code",
   "execution_count": 121,
   "id": "0919d006-660d-4312-ad2f-d3899719b7ab",
   "metadata": {},
   "outputs": [
    {
     "data": {
      "text/plain": [
       "[15, (1+2j)]"
      ]
     },
     "execution_count": 121,
     "metadata": {},
     "output_type": "execute_result"
    }
   ],
   "source": [
    "l2[1:6:2]"
   ]
  },
  {
   "cell_type": "code",
   "execution_count": 122,
   "id": "b49726a5-fa48-42d5-a78f-cbcc84152be5",
   "metadata": {},
   "outputs": [
    {
     "data": {
      "text/plain": [
       "['nit']"
      ]
     },
     "execution_count": 122,
     "metadata": {},
     "output_type": "execute_result"
    }
   ],
   "source": [
    "l2[0:2:2]"
   ]
  },
  {
   "cell_type": "code",
   "execution_count": null,
   "id": "69062874-d4fb-45b2-b535-40879be49b41",
   "metadata": {},
   "outputs": [],
   "source": []
  },
  {
   "cell_type": "code",
   "execution_count": 123,
   "id": "4668d8ea-bdb2-4bff-ac4a-e8b70c6996e9",
   "metadata": {},
   "outputs": [],
   "source": [
    "# insert new object in a list"
   ]
  },
  {
   "cell_type": "code",
   "execution_count": 124,
   "id": "b82caeb4-d8ad-48fa-9c16-f56f22af912c",
   "metadata": {},
   "outputs": [],
   "source": [
    "l.insert(3,48)    #3rd index position and 48 element"
   ]
  },
  {
   "cell_type": "code",
   "execution_count": 125,
   "id": "6b8be040-9126-4986-be1d-e124ad0c52f9",
   "metadata": {},
   "outputs": [
    {
     "data": {
      "text/plain": [
       "[100, 20, 30, 48, 40]"
      ]
     },
     "execution_count": 125,
     "metadata": {},
     "output_type": "execute_result"
    }
   ],
   "source": [
    "l"
   ]
  },
  {
   "cell_type": "code",
   "execution_count": null,
   "id": "0ee4a9a6-cbdd-4e62-bafb-3a641c0a23d8",
   "metadata": {},
   "outputs": [],
   "source": [
    "# pop function"
   ]
  },
  {
   "cell_type": "code",
   "execution_count": 126,
   "id": "f39bd80f-63b2-4507-8bb9-c96ccba553b2",
   "metadata": {},
   "outputs": [
    {
     "data": {
      "text/plain": [
       "[100, 20, 30, 48, 40]"
      ]
     },
     "execution_count": 126,
     "metadata": {},
     "output_type": "execute_result"
    }
   ],
   "source": [
    "l"
   ]
  },
  {
   "cell_type": "code",
   "execution_count": 127,
   "id": "4842641d-473d-45d6-8521-a2556d67a539",
   "metadata": {},
   "outputs": [
    {
     "data": {
      "text/plain": [
       "40"
      ]
     },
     "execution_count": 127,
     "metadata": {},
     "output_type": "execute_result"
    }
   ],
   "source": [
    "l.pop()  # removes a element from list"
   ]
  },
  {
   "cell_type": "code",
   "execution_count": 128,
   "id": "3e22f995-6db7-4e13-8d3c-3eeaddb5e401",
   "metadata": {},
   "outputs": [
    {
     "data": {
      "text/plain": [
       "[100, 20, 30, 48]"
      ]
     },
     "execution_count": 128,
     "metadata": {},
     "output_type": "execute_result"
    }
   ],
   "source": [
    "l"
   ]
  },
  {
   "cell_type": "code",
   "execution_count": 129,
   "id": "195a6ceb-d33c-4ce9-9a4d-c8cd45c68586",
   "metadata": {},
   "outputs": [
    {
     "data": {
      "text/plain": [
       "['nit', 15, True, (1+2j), 10.3]"
      ]
     },
     "execution_count": 129,
     "metadata": {},
     "output_type": "execute_result"
    }
   ],
   "source": [
    "l2"
   ]
  },
  {
   "cell_type": "code",
   "execution_count": 130,
   "id": "fcfa17e9-b470-4028-9fe4-77db3648029e",
   "metadata": {},
   "outputs": [
    {
     "data": {
      "text/plain": [
       "10.3"
      ]
     },
     "execution_count": 130,
     "metadata": {},
     "output_type": "execute_result"
    }
   ],
   "source": [
    "l2.pop(-1)  # removes a element by index position"
   ]
  },
  {
   "cell_type": "code",
   "execution_count": 131,
   "id": "cbfb9143-3526-40e5-9f5b-c535fa7d23e4",
   "metadata": {},
   "outputs": [
    {
     "data": {
      "text/plain": [
       "['nit', 15, True, (1+2j)]"
      ]
     },
     "execution_count": 131,
     "metadata": {},
     "output_type": "execute_result"
    }
   ],
   "source": [
    "l2"
   ]
  },
  {
   "cell_type": "code",
   "execution_count": null,
   "id": "53ffa9d5-ad98-4c5b-8664-0c55cf23cced",
   "metadata": {},
   "outputs": [],
   "source": []
  },
  {
   "cell_type": "code",
   "execution_count": null,
   "id": "075b3499-eca1-40a1-83de-cbc49d846e6d",
   "metadata": {},
   "outputs": [],
   "source": [
    "# pop() remove() append () clear() copy() count() index() practice"
   ]
  },
  {
   "cell_type": "code",
   "execution_count": null,
   "id": "6cc65183-3578-4c75-84a0-be1be18f8fac",
   "metadata": {},
   "outputs": [],
   "source": []
  },
  {
   "cell_type": "code",
   "execution_count": null,
   "id": "3dc58a5b-a366-417b-b2b3-3cc9ed62496d",
   "metadata": {},
   "outputs": [],
   "source": [
    "\n",
    "#function ends with () and  by default returns with 4 space\n",
    "#4space = indentation\n",
    "#argument = paramater\n",
    "#variable = object\n",
    "\n",
    "# excel = dataset\n",
    "#rows record\n",
    "#column = attributes = features\n",
    "#excel sheet = 10 column name = 10 attribute = 10 feature = dimension\n",
    "\n",
    "# pca principal component analysis= dimension reduction technique"
   ]
  },
  {
   "cell_type": "code",
   "execution_count": null,
   "id": "5e1ea5c9-e88f-46d7-9434-6b58bba8dc8a",
   "metadata": {},
   "outputs": [],
   "source": []
  },
  {
   "cell_type": "code",
   "execution_count": null,
   "id": "6dd5fdd2-26c5-46b1-aac1-d3157ee45e03",
   "metadata": {},
   "outputs": [],
   "source": []
  },
  {
   "cell_type": "code",
   "execution_count": null,
   "id": "e05c438e-c4d8-463e-a2ec-7b7a85b1606b",
   "metadata": {},
   "outputs": [],
   "source": [
    "l"
   ]
  },
  {
   "cell_type": "code",
   "execution_count": null,
   "id": "1f0e4863-14c6-4d0c-ab80-395b61c04dc2",
   "metadata": {},
   "outputs": [],
   "source": []
  },
  {
   "cell_type": "code",
   "execution_count": null,
   "id": "ad7bcf08-c2de-4845-a221-f6d63d7ec391",
   "metadata": {},
   "outputs": [],
   "source": []
  },
  {
   "cell_type": "code",
   "execution_count": null,
   "id": "417e1513-610b-4de0-8b12-ab91e15dba9b",
   "metadata": {},
   "outputs": [],
   "source": []
  },
  {
   "cell_type": "code",
   "execution_count": null,
   "id": "cd40f747-673b-4292-9586-aaae8d6d92c9",
   "metadata": {},
   "outputs": [],
   "source": []
  },
  {
   "cell_type": "code",
   "execution_count": null,
   "id": "25aae02b-0d04-48a6-a190-cac6f627e683",
   "metadata": {},
   "outputs": [],
   "source": []
  },
  {
   "cell_type": "code",
   "execution_count": null,
   "id": "ba70e0bf-f848-493f-9486-91fd662be64c",
   "metadata": {},
   "outputs": [],
   "source": []
  },
  {
   "cell_type": "code",
   "execution_count": null,
   "id": "be7b0335-7387-4de7-b548-d4e79a660aba",
   "metadata": {},
   "outputs": [],
   "source": []
  }
 ],
 "metadata": {
  "kernelspec": {
   "display_name": "Python [conda env:base] *",
   "language": "python",
   "name": "conda-base-py"
  },
  "language_info": {
   "codemirror_mode": {
    "name": "ipython",
    "version": 3
   },
   "file_extension": ".py",
   "mimetype": "text/x-python",
   "name": "python",
   "nbconvert_exporter": "python",
   "pygments_lexer": "ipython3",
   "version": "3.12.7"
  }
 },
 "nbformat": 4,
 "nbformat_minor": 5
}
