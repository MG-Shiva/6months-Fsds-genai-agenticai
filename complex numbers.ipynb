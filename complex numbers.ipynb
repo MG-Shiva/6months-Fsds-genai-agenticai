{
 "cells": [
  {
   "cell_type": "markdown",
   "id": "10617223-62ff-43c3-bb34-aee824eb9800",
   "metadata": {},
   "source": [
    "#complex numbers"
   ]
  },
  {
   "cell_type": "code",
   "execution_count": null,
   "id": "cea53ef4-9875-4bef-9cbc-b55cd0ed483d",
   "metadata": {},
   "outputs": [],
   "source": []
  },
  {
   "cell_type": "code",
   "execution_count": 6,
   "id": "f9ad97b0-a7a6-4bd1-b31f-06045e289099",
   "metadata": {},
   "outputs": [],
   "source": [
    "c = 1+2j"
   ]
  },
  {
   "cell_type": "code",
   "execution_count": 7,
   "id": "0c49d7c3-5718-4208-82c3-f3c57a003402",
   "metadata": {},
   "outputs": [
    {
     "name": "stdout",
     "output_type": "stream",
     "text": [
      "1.0\n"
     ]
    }
   ],
   "source": [
    "print(c.real)"
   ]
  },
  {
   "cell_type": "code",
   "execution_count": 8,
   "id": "9519cec6-3d21-4195-adf3-53c71af2d485",
   "metadata": {},
   "outputs": [
    {
     "name": "stdout",
     "output_type": "stream",
     "text": [
      "2.0\n"
     ]
    }
   ],
   "source": [
    "print(c.imag)"
   ]
  },
  {
   "cell_type": "code",
   "execution_count": null,
   "id": "dc97c871-aa9f-4535-ae0c-9121b7d80fcb",
   "metadata": {},
   "outputs": [],
   "source": []
  },
  {
   "cell_type": "code",
   "execution_count": 1,
   "id": "5e2e6117-36dd-4bc1-863e-0fdc5162c640",
   "metadata": {},
   "outputs": [],
   "source": [
    "a = 3+4j\n",
    "b = 1+2j"
   ]
  },
  {
   "cell_type": "code",
   "execution_count": 2,
   "id": "f29da587-f726-4a7f-88a8-1b16c6d308bd",
   "metadata": {},
   "outputs": [
    {
     "name": "stdout",
     "output_type": "stream",
     "text": [
      "(4+6j)\n"
     ]
    }
   ],
   "source": [
    "print(a+b)"
   ]
  },
  {
   "cell_type": "code",
   "execution_count": 3,
   "id": "93ed29b6-0c57-4f38-af29-1ae912c6cb18",
   "metadata": {},
   "outputs": [
    {
     "name": "stdout",
     "output_type": "stream",
     "text": [
      "(2+2j)\n"
     ]
    }
   ],
   "source": [
    "print(a-b)"
   ]
  },
  {
   "cell_type": "code",
   "execution_count": 4,
   "id": "17373437-8dbf-482c-b76d-f191d4d32151",
   "metadata": {},
   "outputs": [
    {
     "name": "stdout",
     "output_type": "stream",
     "text": [
      "(-5+10j)\n"
     ]
    }
   ],
   "source": [
    "print(a*b)"
   ]
  },
  {
   "cell_type": "code",
   "execution_count": 5,
   "id": "8d04e238-a203-447d-ba3b-62c55ecf084b",
   "metadata": {},
   "outputs": [
    {
     "name": "stdout",
     "output_type": "stream",
     "text": [
      "(2.2-0.4j)\n"
     ]
    }
   ],
   "source": [
    "print(a/b)"
   ]
  },
  {
   "cell_type": "code",
   "execution_count": null,
   "id": "cc05e864-eab0-4b25-ac08-62abe0f34079",
   "metadata": {},
   "outputs": [],
   "source": []
  },
  {
   "cell_type": "code",
   "execution_count": 9,
   "id": "39b24a96-39c1-4ca3-961d-0876ee66af82",
   "metadata": {},
   "outputs": [],
   "source": [
    "z = 3+4j"
   ]
  },
  {
   "cell_type": "code",
   "execution_count": 16,
   "id": "7b50ec73-dbc7-4a20-b969-74eb14c0ae58",
   "metadata": {},
   "outputs": [
    {
     "name": "stdout",
     "output_type": "stream",
     "text": [
      "5.0\n"
     ]
    }
   ],
   "source": [
    "print(abs(z))  # magnitude of complex number"
   ]
  },
  {
   "cell_type": "code",
   "execution_count": 17,
   "id": "b970b6ac-eb5a-4404-ab24-8f29ff1a8e15",
   "metadata": {},
   "outputs": [
    {
     "name": "stdout",
     "output_type": "stream",
     "text": [
      "(3-4j)\n"
     ]
    }
   ],
   "source": [
    "print(z.conjugate())   # conjugate of complex number"
   ]
  },
  {
   "cell_type": "code",
   "execution_count": null,
   "id": "09ac4d09-7c36-48d5-b60e-d9cb70d3fef7",
   "metadata": {},
   "outputs": [],
   "source": []
  },
  {
   "cell_type": "code",
   "execution_count": null,
   "id": "baa1d38b-a75a-442e-8a09-8ba490a88e22",
   "metadata": {},
   "outputs": [],
   "source": []
  },
  {
   "cell_type": "code",
   "execution_count": 18,
   "id": "2ccd1436-4bb9-4531-94f7-4ba994da36a6",
   "metadata": {},
   "outputs": [],
   "source": [
    "import cmath"
   ]
  },
  {
   "cell_type": "code",
   "execution_count": 24,
   "id": "641297f8-41de-4ab7-bd9f-e6291d1cafbd",
   "metadata": {},
   "outputs": [],
   "source": [
    "z = 1+3j"
   ]
  },
  {
   "cell_type": "code",
   "execution_count": 25,
   "id": "ba510e45-18a4-49e8-b7bc-8022e718732f",
   "metadata": {},
   "outputs": [
    {
     "name": "stdout",
     "output_type": "stream",
     "text": [
      "1.2490457723982544\n"
     ]
    }
   ],
   "source": [
    "print(cmath.phase(z))    # phase angle of complex number"
   ]
  },
  {
   "cell_type": "code",
   "execution_count": 23,
   "id": "b57c5c83-94a8-431f-952e-975be03a7b7c",
   "metadata": {},
   "outputs": [
    {
     "name": "stdout",
     "output_type": "stream",
     "text": [
      "(2.23606797749979, 1.1071487177940904)\n"
     ]
    }
   ],
   "source": [
    "print(cmath.polar(z))   \n",
    "\n",
    "# polar form of complex number\n",
    "# z = x + iy \n",
    "# z = r cosθ + i r sinθ = r (cosθ + i sinθ)\n",
    "# r = √(x2 + y2)"
   ]
  },
  {
   "cell_type": "code",
   "execution_count": 26,
   "id": "5259bcda-4c5b-4597-b706-fa9a5752fbf8",
   "metadata": {},
   "outputs": [
    {
     "name": "stdout",
     "output_type": "stream",
     "text": [
      "(1.442615274452683+1.0397782600555705j)\n"
     ]
    }
   ],
   "source": [
    "print(cmath.sqrt(z))"
   ]
  },
  {
   "cell_type": "code",
   "execution_count": null,
   "id": "c12ca33c-9190-4e5f-8e47-b0fd7dbf8a30",
   "metadata": {},
   "outputs": [],
   "source": []
  },
  {
   "cell_type": "code",
   "execution_count": null,
   "id": "3025946c-f400-4c23-b2d7-33bb2b3e8928",
   "metadata": {},
   "outputs": [],
   "source": []
  },
  {
   "cell_type": "code",
   "execution_count": null,
   "id": "101fd109-b336-4174-b192-3cddc6e3c661",
   "metadata": {},
   "outputs": [],
   "source": []
  }
 ],
 "metadata": {
  "kernelspec": {
   "display_name": "Python [conda env:base] *",
   "language": "python",
   "name": "conda-base-py"
  },
  "language_info": {
   "codemirror_mode": {
    "name": "ipython",
    "version": 3
   },
   "file_extension": ".py",
   "mimetype": "text/x-python",
   "name": "python",
   "nbconvert_exporter": "python",
   "pygments_lexer": "ipython3",
   "version": "3.12.7"
  }
 },
 "nbformat": 4,
 "nbformat_minor": 5
}
