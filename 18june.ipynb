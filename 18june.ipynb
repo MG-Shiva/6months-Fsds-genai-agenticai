{
 "cells": [
  {
   "cell_type": "code",
   "execution_count": 2,
   "id": "034e68b0-a1da-4248-a869-b8ee2ca4f221",
   "metadata": {},
   "outputs": [
    {
     "data": {
      "text/plain": [
       "5"
      ]
     },
     "execution_count": 2,
     "metadata": {},
     "output_type": "execute_result"
    }
   ],
   "source": [
    "v=5  #variable declaration\n",
    "v"
   ]
  },
  {
   "cell_type": "code",
   "execution_count": 3,
   "id": "1b9eaf73-9432-488a-a643-65f4afae3303",
   "metadata": {},
   "outputs": [
    {
     "data": {
      "text/plain": [
       "140736545368632"
      ]
     },
     "execution_count": 3,
     "metadata": {},
     "output_type": "execute_result"
    }
   ],
   "source": [
    "id(v)"
   ]
  },
  {
   "cell_type": "code",
   "execution_count": 5,
   "id": "7e510c44-6156-4d8a-bc25-a47773ac220b",
   "metadata": {},
   "outputs": [
    {
     "ename": "SyntaxError",
     "evalue": "cannot assign to literal here. Maybe you meant '==' instead of '='? (3090767856.py, line 1)",
     "output_type": "error",
     "traceback": [
      "\u001b[1;36m  Cell \u001b[1;32mIn[5], line 1\u001b[1;36m\u001b[0m\n\u001b[1;33m    5=v  #variable cannot be a number\u001b[0m\n\u001b[1;37m    ^\u001b[0m\n\u001b[1;31mSyntaxError\u001b[0m\u001b[1;31m:\u001b[0m cannot assign to literal here. Maybe you meant '==' instead of '='?\n"
     ]
    }
   ],
   "source": [
    "5=v  #variable cannot be a number"
   ]
  },
  {
   "cell_type": "code",
   "execution_count": 7,
   "id": "39a0d2b0-19ce-49f6-86f8-e06778f837b4",
   "metadata": {},
   "outputs": [
    {
     "ename": "SyntaxError",
     "evalue": "invalid decimal literal (1782340620.py, line 1)",
     "output_type": "error",
     "traceback": [
      "\u001b[1;36m  Cell \u001b[1;32mIn[7], line 1\u001b[1;36m\u001b[0m\n\u001b[1;33m    1v = 5  #variable cannot start with a number\u001b[0m\n\u001b[1;37m    ^\u001b[0m\n\u001b[1;31mSyntaxError\u001b[0m\u001b[1;31m:\u001b[0m invalid decimal literal\n"
     ]
    }
   ],
   "source": [
    "1v = 5  #variable cannot start with a number"
   ]
  },
  {
   "cell_type": "code",
   "execution_count": 10,
   "id": "00a01b4d-cdeb-4015-b605-16c1ccffb10e",
   "metadata": {},
   "outputs": [
    {
     "data": {
      "text/plain": [
       "5"
      ]
     },
     "execution_count": 10,
     "metadata": {},
     "output_type": "execute_result"
    }
   ],
   "source": [
    "v1 = 5  #variables can have numbers except at the start\n",
    "v1"
   ]
  },
  {
   "cell_type": "code",
   "execution_count": 12,
   "id": "5c2d9627-1d4e-4680-9272-8d5294e192f2",
   "metadata": {},
   "outputs": [
    {
     "ename": "NameError",
     "evalue": "name 'A2' is not defined",
     "output_type": "error",
     "traceback": [
      "\u001b[1;31m---------------------------------------------------------------------------\u001b[0m",
      "\u001b[1;31mNameError\u001b[0m                                 Traceback (most recent call last)",
      "Cell \u001b[1;32mIn[12], line 2\u001b[0m\n\u001b[0;32m      1\u001b[0m a2\u001b[38;5;241m=\u001b[39m\u001b[38;5;241m10\u001b[39m    \u001b[38;5;66;03m#variables are case sensitive\u001b[39;00m\n\u001b[1;32m----> 2\u001b[0m A2\n",
      "\u001b[1;31mNameError\u001b[0m: name 'A2' is not defined"
     ]
    }
   ],
   "source": [
    "a2=10    #variables are case sensitive\n",
    "A2"
   ]
  },
  {
   "cell_type": "code",
   "execution_count": 13,
   "id": "4c09b8fc-3ebe-48e8-9621-c2d3954a8c92",
   "metadata": {},
   "outputs": [
    {
     "data": {
      "text/plain": [
       "10"
      ]
     },
     "execution_count": 13,
     "metadata": {},
     "output_type": "execute_result"
    }
   ],
   "source": [
    "a2"
   ]
  },
  {
   "cell_type": "code",
   "execution_count": 15,
   "id": "a5f98081-229b-440d-bd93-c5d7262aad44",
   "metadata": {},
   "outputs": [
    {
     "ename": "SyntaxError",
     "evalue": "invalid syntax (2816651375.py, line 2)",
     "output_type": "error",
     "traceback": [
      "\u001b[1;36m  Cell \u001b[1;32mIn[15], line 2\u001b[1;36m\u001b[0m\n\u001b[1;33m    v@\u001b[0m\n\u001b[1;37m      ^\u001b[0m\n\u001b[1;31mSyntaxError\u001b[0m\u001b[1;31m:\u001b[0m invalid syntax\n"
     ]
    }
   ],
   "source": [
    "v@=58  #variables cannot have special characters\n",
    "v@"
   ]
  },
  {
   "cell_type": "code",
   "execution_count": 17,
   "id": "30aa1746-5d89-4ee1-aadc-fc8962f3e32d",
   "metadata": {},
   "outputs": [
    {
     "data": {
      "text/plain": [
       "37"
      ]
     },
     "execution_count": 17,
     "metadata": {},
     "output_type": "execute_result"
    }
   ],
   "source": [
    "v_ = 37   # only _ is permitted in the variables\n",
    "v_"
   ]
  },
  {
   "cell_type": "code",
   "execution_count": 19,
   "id": "1197cd77-9981-40a0-90f3-89ad9e6b9dad",
   "metadata": {},
   "outputs": [
    {
     "ename": "SyntaxError",
     "evalue": "invalid syntax (3502761501.py, line 1)",
     "output_type": "error",
     "traceback": [
      "\u001b[1;36m  Cell \u001b[1;32mIn[19], line 1\u001b[1;36m\u001b[0m\n\u001b[1;33m    if = 86   #reserved keyword\u001b[0m\n\u001b[1;37m       ^\u001b[0m\n\u001b[1;31mSyntaxError\u001b[0m\u001b[1;31m:\u001b[0m invalid syntax\n"
     ]
    }
   ],
   "source": [
    "if = 86   #reserved keyword\n",
    "if"
   ]
  },
  {
   "cell_type": "code",
   "execution_count": 21,
   "id": "7bd675cb-3577-4543-92b0-882dd8b4d9fb",
   "metadata": {},
   "outputs": [
    {
     "ename": "SyntaxError",
     "evalue": "invalid syntax (322027425.py, line 1)",
     "output_type": "error",
     "traceback": [
      "\u001b[1;36m  Cell \u001b[1;32mIn[21], line 1\u001b[1;36m\u001b[0m\n\u001b[1;33m    else =  86   # reserved keyword\u001b[0m\n\u001b[1;37m    ^\u001b[0m\n\u001b[1;31mSyntaxError\u001b[0m\u001b[1;31m:\u001b[0m invalid syntax\n"
     ]
    }
   ],
   "source": [
    "else =  86   # reserved keyword\n",
    "else"
   ]
  },
  {
   "cell_type": "code",
   "execution_count": 22,
   "id": "302161df-20f3-417e-ac6e-e736f6e12f7a",
   "metadata": {},
   "outputs": [
    {
     "ename": "SyntaxError",
     "evalue": "invalid syntax (433428939.py, line 1)",
     "output_type": "error",
     "traceback": [
      "\u001b[1;36m  Cell \u001b[1;32mIn[22], line 1\u001b[1;36m\u001b[0m\n\u001b[1;33m    for = 65    # reserved keyword\u001b[0m\n\u001b[1;37m        ^\u001b[0m\n\u001b[1;31mSyntaxError\u001b[0m\u001b[1;31m:\u001b[0m invalid syntax\n"
     ]
    }
   ],
   "source": [
    "for = 65    # reserved keyword\n",
    "for"
   ]
  },
  {
   "cell_type": "code",
   "execution_count": 23,
   "id": "86be7d9f-f0d5-43d1-8e77-9a500c6f7d72",
   "metadata": {},
   "outputs": [
    {
     "data": {
      "text/plain": [
       "['False',\n",
       " 'None',\n",
       " 'True',\n",
       " 'and',\n",
       " 'as',\n",
       " 'assert',\n",
       " 'async',\n",
       " 'await',\n",
       " 'break',\n",
       " 'class',\n",
       " 'continue',\n",
       " 'def',\n",
       " 'del',\n",
       " 'elif',\n",
       " 'else',\n",
       " 'except',\n",
       " 'finally',\n",
       " 'for',\n",
       " 'from',\n",
       " 'global',\n",
       " 'if',\n",
       " 'import',\n",
       " 'in',\n",
       " 'is',\n",
       " 'lambda',\n",
       " 'nonlocal',\n",
       " 'not',\n",
       " 'or',\n",
       " 'pass',\n",
       " 'raise',\n",
       " 'return',\n",
       " 'try',\n",
       " 'while',\n",
       " 'with',\n",
       " 'yield']"
      ]
     },
     "execution_count": 23,
     "metadata": {},
     "output_type": "execute_result"
    }
   ],
   "source": [
    "import keyword\n",
    "keyword.kwlist"
   ]
  },
  {
   "cell_type": "code",
   "execution_count": 24,
   "id": "23c36cc1-bbc9-4e4d-92be-d39124c55a37",
   "metadata": {},
   "outputs": [],
   "source": [
    "# total of 35 reserved keywords"
   ]
  },
  {
   "cell_type": "code",
   "execution_count": 25,
   "id": "b0f4cf1e-2330-44dc-8458-4f1aba0320ac",
   "metadata": {},
   "outputs": [
    {
     "data": {
      "text/plain": [
       "35"
      ]
     },
     "execution_count": 25,
     "metadata": {},
     "output_type": "execute_result"
    }
   ],
   "source": [
    "len(keyword.kwlist)"
   ]
  },
  {
   "cell_type": "code",
   "execution_count": 28,
   "id": "2f44eb2a-ac44-4edd-8649-2b250fa48e7a",
   "metadata": {},
   "outputs": [
    {
     "name": "stdout",
     "output_type": "stream",
     "text": [
      "56\n",
      "59\n"
     ]
    }
   ],
   "source": [
    "Else = 56\n",
    "For = 59   #keywords with other case can be used\n",
    "\n",
    "print(Else)\n",
    "print(For)"
   ]
  },
  {
   "cell_type": "code",
   "execution_count": 30,
   "id": "9f90be62-6d75-42ef-b8d1-657a7806b6cd",
   "metadata": {},
   "outputs": [
    {
     "data": {
      "text/plain": [
       "'thon'"
      ]
     },
     "execution_count": 30,
     "metadata": {},
     "output_type": "execute_result"
    }
   ],
   "source": [
    "prefix = 'py'\n",
    "prefix = 'thon'   \n",
    "\n",
    "prefix"
   ]
  },
  {
   "cell_type": "code",
   "execution_count": 31,
   "id": "7555a3bf-0a28-479c-a6c8-87996b51a83d",
   "metadata": {},
   "outputs": [],
   "source": [
    "# if the same variable is alloted different values , the last given value is considered"
   ]
  },
  {
   "cell_type": "code",
   "execution_count": 32,
   "id": "b00cf373-82b9-4656-925f-2663c405fe7a",
   "metadata": {},
   "outputs": [
    {
     "data": {
      "text/plain": [
       "'python'"
      ]
     },
     "execution_count": 32,
     "metadata": {},
     "output_type": "execute_result"
    }
   ],
   "source": [
    "'py' + prefix"
   ]
  },
  {
   "cell_type": "code",
   "execution_count": null,
   "id": "b997ecff-1ff5-4702-af9f-bb91917f7532",
   "metadata": {},
   "outputs": [],
   "source": []
  },
  {
   "cell_type": "code",
   "execution_count": null,
   "id": "54d87d03-4efd-4bc5-b32d-21b57c7d5235",
   "metadata": {},
   "outputs": [],
   "source": []
  }
 ],
 "metadata": {
  "kernelspec": {
   "display_name": "Python [conda env:base] *",
   "language": "python",
   "name": "conda-base-py"
  },
  "language_info": {
   "codemirror_mode": {
    "name": "ipython",
    "version": 3
   },
   "file_extension": ".py",
   "mimetype": "text/x-python",
   "name": "python",
   "nbconvert_exporter": "python",
   "pygments_lexer": "ipython3",
   "version": "3.12.7"
  }
 },
 "nbformat": 4,
 "nbformat_minor": 5
}
