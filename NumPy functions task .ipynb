{
 "cells": [
  {
   "cell_type": "markdown",
   "id": "40766e75-3d0c-40cd-9807-8ec192955e30",
   "metadata": {},
   "source": [
    "# 1.Array Creation Functions"
   ]
  },
  {
   "cell_type": "code",
   "execution_count": 1,
   "id": "255f28f1-5cdc-40c6-b57d-0a43f28934db",
   "metadata": {},
   "outputs": [],
   "source": [
    "import numpy as np"
   ]
  },
  {
   "cell_type": "code",
   "execution_count": 3,
   "id": "dfa1f429-bb87-40a1-a903-503c94cf20f6",
   "metadata": {},
   "outputs": [
    {
     "name": "stdout",
     "output_type": "stream",
     "text": [
      "Array a: [1 2 3]\n"
     ]
    }
   ],
   "source": [
    "# Create an array from a list\n",
    "\n",
    "a = np.array([1,2,3])\n",
    "print(\"Array a:\",a)"
   ]
  },
  {
   "cell_type": "code",
   "execution_count": 4,
   "id": "7ee33cc5-d968-465e-88b8-58d35ecd5ed7",
   "metadata": {},
   "outputs": [
    {
     "name": "stdout",
     "output_type": "stream",
     "text": [
      "Array b: [0 2 4 6 8]\n"
     ]
    }
   ],
   "source": [
    "# Create an array with evenly spaced values\n",
    "\n",
    "b = np.arange(0,10,2)\n",
    "print(\"Array b:\",b)"
   ]
  },
  {
   "cell_type": "code",
   "execution_count": 5,
   "id": "28ef5965-5511-4d87-b741-0abe0d28237c",
   "metadata": {},
   "outputs": [
    {
     "name": "stdout",
     "output_type": "stream",
     "text": [
      "Array d:\n",
      " [[0. 0. 0.]\n",
      " [0. 0. 0.]]\n"
     ]
    }
   ],
   "source": [
    "# Create an array filled with zeros\n",
    "\n",
    "d = np.zeros((2, 3))\n",
    "print(\"Array d:\\n\", d)"
   ]
  },
  {
   "cell_type": "code",
   "execution_count": 7,
   "id": "fe0a234f-e7e8-4259-81ac-48e56bc30862",
   "metadata": {},
   "outputs": [
    {
     "name": "stdout",
     "output_type": "stream",
     "text": [
      "Array e:\n",
      " [[1. 1.]\n",
      " [1. 1.]\n",
      " [1. 1.]]\n"
     ]
    }
   ],
   "source": [
    "# Create an array filled with ones\n",
    "\n",
    "e = np.ones((3,2))\n",
    "print(\"Array e:\\n\",e)"
   ]
  },
  {
   "cell_type": "code",
   "execution_count": 8,
   "id": "07b397c5-6f9e-4956-ad89-428de4b1a034",
   "metadata": {},
   "outputs": [
    {
     "name": "stdout",
     "output_type": "stream",
     "text": [
      "Identity matrix f:\n",
      " [[1 0 0 0]\n",
      " [0 1 0 0]\n",
      " [0 0 1 0]\n",
      " [0 0 0 1]]\n"
     ]
    }
   ],
   "source": [
    "# Creating a identity matrix\n",
    "\n",
    "f = np.eye(4,dtype=int)\n",
    "print(\"Identity matrix f:\\n\",f)"
   ]
  },
  {
   "cell_type": "code",
   "execution_count": null,
   "id": "d7896783-1ea8-4015-90a1-7b9918703f5d",
   "metadata": {},
   "outputs": [],
   "source": []
  },
  {
   "cell_type": "markdown",
   "id": "3ad58470-acf9-40b6-9799-092663dce077",
   "metadata": {},
   "source": [
    "# 2. Array Manipulation Functions"
   ]
  },
  {
   "cell_type": "code",
   "execution_count": 10,
   "id": "77ea5250-7d45-4345-a1cf-90bae3f8c6dd",
   "metadata": {},
   "outputs": [
    {
     "name": "stdout",
     "output_type": "stream",
     "text": [
      "a1: [1 2 3]\n",
      "Reshaped array: [[1 2 3]]\n"
     ]
    }
   ],
   "source": [
    "# reshape an array\n",
    "\n",
    "a1 = np.array([1,2,3])\n",
    "reshaped = np.reshape(a1,(1,3))\n",
    "print(\"a1:\",a1)\n",
    "print(\"Reshaped array:\",reshaped)"
   ]
  },
  {
   "cell_type": "code",
   "execution_count": null,
   "id": "00619b61-23b1-4d93-bdf5-f37a20e1ffbf",
   "metadata": {},
   "outputs": [],
   "source": []
  },
  {
   "cell_type": "code",
   "execution_count": 12,
   "id": "6407858c-5ea3-4de5-8ff3-cb7c6b356087",
   "metadata": {},
   "outputs": [
    {
     "name": "stdout",
     "output_type": "stream",
     "text": [
      "f1:\n",
      " [[1 2]\n",
      " [3 4]]\n",
      "Flattened array: [1 2 3 4]\n"
     ]
    }
   ],
   "source": [
    "# Flatten an array RAVEL FUNCTION => flattens to 1D array\n",
    "\n",
    "f1 = np.array([[1,2],[3,4]])\n",
    "flattened = np.ravel(f1)\n",
    "print(\"f1:\\n\",f1)\n",
    "print(\"Flattened array:\",flattened)"
   ]
  },
  {
   "cell_type": "code",
   "execution_count": null,
   "id": "a706d399-f817-43f7-ac15-c129599ad0e0",
   "metadata": {},
   "outputs": [],
   "source": []
  },
  {
   "cell_type": "code",
   "execution_count": 13,
   "id": "10738b4b-dd04-4974-bec7-28037cc5dd9d",
   "metadata": {},
   "outputs": [
    {
     "name": "stdout",
     "output_type": "stream",
     "text": [
      "Stacked arrays:\n",
      " [[1 2]\n",
      " [3 4]]\n"
     ]
    }
   ],
   "source": [
    "# Stack array vertically VSTACK FUNCTION \n",
    "\n",
    "a2 = np.array([1,2])\n",
    "b2 = np.array([3,4])\n",
    "stacked = np.vstack([a2,b2])\n",
    "print('Stacked arrays:\\n',stacked)"
   ]
  },
  {
   "cell_type": "code",
   "execution_count": null,
   "id": "376a84a8-b4e2-4d3f-a448-23a7039ee14d",
   "metadata": {},
   "outputs": [],
   "source": []
  },
  {
   "cell_type": "code",
   "execution_count": 15,
   "id": "87c60599-1b75-4dcb-83dc-4a98d7093927",
   "metadata": {},
   "outputs": [
    {
     "name": "stdout",
     "output_type": "stream",
     "text": [
      "Transposed array:\n",
      " [[1 3]\n",
      " [2 4]]\n"
     ]
    }
   ],
   "source": [
    "# Transpose an array => changing rows to columns & vice-versa\n",
    "\n",
    "e1 = np.array([[1,2],[3,4]])\n",
    "transposed = np.transpose(e1)\n",
    "print(\"Transposed array:\\n\",transposed)"
   ]
  },
  {
   "cell_type": "code",
   "execution_count": null,
   "id": "69f43631-588a-4825-8c34-58f257232f34",
   "metadata": {},
   "outputs": [],
   "source": []
  },
  {
   "cell_type": "markdown",
   "id": "dc671f35-ffcb-4be7-9cf2-b6293190fbe2",
   "metadata": {},
   "source": [
    "# 3. Mathematical Functions"
   ]
  },
  {
   "cell_type": "code",
   "execution_count": 18,
   "id": "d472f666-9ba1-499d-b8a9-67f541ee3cd1",
   "metadata": {},
   "outputs": [
    {
     "name": "stdout",
     "output_type": "stream",
     "text": [
      "Added 2 to g: [11 27 38 51]\n"
     ]
    }
   ],
   "source": [
    "# Add two arrays\n",
    "\n",
    "g = np.array([9,25,36,49])\n",
    "added = np.add(g,2)\n",
    "print(\"Added 2 to g:\",added)"
   ]
  },
  {
   "cell_type": "code",
   "execution_count": null,
   "id": "b0bf0c67-d6c2-4982-941c-fdc4eaa512f6",
   "metadata": {},
   "outputs": [],
   "source": []
  },
  {
   "cell_type": "code",
   "execution_count": 19,
   "id": "1f6ed1f7-e0f5-4ed5-99f6-1ab41c51c255",
   "metadata": {},
   "outputs": [
    {
     "name": "stdout",
     "output_type": "stream",
     "text": [
      "Squared g: [  81  625 1296 2401]\n"
     ]
    }
   ],
   "source": [
    "# Square each element\n",
    "\n",
    "squared = np.power(g,2)\n",
    "print(\"Squared g:\",squared)"
   ]
  },
  {
   "cell_type": "code",
   "execution_count": null,
   "id": "b8d8549e-4a26-4712-8c59-621aa26094fe",
   "metadata": {},
   "outputs": [],
   "source": []
  },
  {
   "cell_type": "code",
   "execution_count": 20,
   "id": "45101b9d-087c-4e8c-b571-4373bb1f2ac6",
   "metadata": {},
   "outputs": [
    {
     "name": "stdout",
     "output_type": "stream",
     "text": [
      "Square root of g: [3. 5. 6. 7.]\n"
     ]
    }
   ],
   "source": [
    "# Square root of each element\n",
    "\n",
    "sqrt_val = np.sqrt(g)\n",
    "print(\"Square root of g:\",sqrt_val)"
   ]
  },
  {
   "cell_type": "code",
   "execution_count": null,
   "id": "eaee6791-615b-4b78-9db9-0c431ead2afa",
   "metadata": {},
   "outputs": [],
   "source": []
  },
  {
   "cell_type": "code",
   "execution_count": 21,
   "id": "62910c50-9989-4102-9deb-82e40d369a8a",
   "metadata": {},
   "outputs": [
    {
     "name": "stdout",
     "output_type": "stream",
     "text": [
      "[1 2 3]\n",
      "[ 9 25 36 49]\n"
     ]
    }
   ],
   "source": [
    "print(a1)\n",
    "print(g)"
   ]
  },
  {
   "cell_type": "code",
   "execution_count": null,
   "id": "a9ef8fbd-2ac8-4c13-acc2-62be8aad9db1",
   "metadata": {},
   "outputs": [],
   "source": []
  },
  {
   "cell_type": "code",
   "execution_count": 24,
   "id": "5e25e5f3-6823-4950-b864-f3f43b390c9f",
   "metadata": {},
   "outputs": [
    {
     "ename": "ValueError",
     "evalue": "shapes (3,) and (4,) not aligned: 3 (dim 0) != 4 (dim 0)",
     "output_type": "error",
     "traceback": [
      "\u001b[1;31m---------------------------------------------------------------------------\u001b[0m",
      "\u001b[1;31mValueError\u001b[0m                                Traceback (most recent call last)",
      "Cell \u001b[1;32mIn[24], line 4\u001b[0m\n\u001b[0;32m      1\u001b[0m \u001b[38;5;66;03m# Dot product of two arrays\u001b[39;00m\n\u001b[0;32m      3\u001b[0m a2 \u001b[38;5;241m=\u001b[39m np\u001b[38;5;241m.\u001b[39marray([\u001b[38;5;241m1\u001b[39m,\u001b[38;5;241m2\u001b[39m,\u001b[38;5;241m3\u001b[39m])\n\u001b[1;32m----> 4\u001b[0m dot_product \u001b[38;5;241m=\u001b[39m np\u001b[38;5;241m.\u001b[39mdot(a2,g)\n\u001b[0;32m      5\u001b[0m \u001b[38;5;28mprint\u001b[39m(\u001b[38;5;124m\"\u001b[39m\u001b[38;5;124mDot product of a2 and g:\u001b[39m\u001b[38;5;124m\"\u001b[39m,dot_product)\n",
      "\u001b[1;31mValueError\u001b[0m: shapes (3,) and (4,) not aligned: 3 (dim 0) != 4 (dim 0)"
     ]
    }
   ],
   "source": [
    "# Dot product of two arrays\n",
    "\n",
    "a2 = np.array([1,2,3])\n",
    "dot_product = np.dot(a2,g)\n",
    "print(\"Dot product of a2 and g:\",dot_product)"
   ]
  },
  {
   "cell_type": "code",
   "execution_count": null,
   "id": "30088243-f445-4b7d-84e8-c5951ca6378e",
   "metadata": {},
   "outputs": [],
   "source": []
  },
  {
   "cell_type": "code",
   "execution_count": 25,
   "id": "0f0efcf2-aa1d-4df3-925f-89376fc9ba16",
   "metadata": {},
   "outputs": [
    {
     "name": "stdout",
     "output_type": "stream",
     "text": [
      "Dot product of a and a1: 14\n"
     ]
    }
   ],
   "source": [
    "# Dot product of two arrays\n",
    "\n",
    "a1 = np.array([1,2,3])\n",
    "dot_product = np.dot(a,a1)\n",
    "print(\"Dot product of a and a1:\",dot_product)"
   ]
  },
  {
   "cell_type": "code",
   "execution_count": null,
   "id": "79011546-0c26-4e0a-9e36-5d12a88d7316",
   "metadata": {},
   "outputs": [],
   "source": []
  },
  {
   "cell_type": "markdown",
   "id": "67cfa7a7-c275-40e3-bd96-82f368cd2e46",
   "metadata": {},
   "source": [
    "# 4.Statistical Functions"
   ]
  },
  {
   "cell_type": "code",
   "execution_count": 26,
   "id": "d6feac40-8035-4a27-be9b-649f94d6e68a",
   "metadata": {},
   "outputs": [
    {
     "name": "stdout",
     "output_type": "stream",
     "text": [
      "Mean of s: 3.0\n"
     ]
    }
   ],
   "source": [
    "s =np.array([1,2,3,4,5])\n",
    "mean = np.mean(s)\n",
    "print(\"Mean of s:\",mean)"
   ]
  },
  {
   "cell_type": "code",
   "execution_count": null,
   "id": "bbadade1-3d26-4d4d-88c8-46019155a5f5",
   "metadata": {},
   "outputs": [],
   "source": []
  },
  {
   "cell_type": "code",
   "execution_count": 27,
   "id": "c8a783a3-9182-4e63-83da-e73e7a9835d0",
   "metadata": {},
   "outputs": [
    {
     "name": "stdout",
     "output_type": "stream",
     "text": [
      "Standard deviation of s: 1.4142135623730951\n"
     ]
    }
   ],
   "source": [
    "std_dev =np.std(s)\n",
    "print(\"Standard deviation of s:\",std_dev)"
   ]
  },
  {
   "cell_type": "code",
   "execution_count": null,
   "id": "380d8bdf-b789-41a5-aecc-2277ff7a856d",
   "metadata": {},
   "outputs": [],
   "source": []
  },
  {
   "cell_type": "code",
   "execution_count": 28,
   "id": "9b1792e9-8c5f-4bb3-a3ea-7809a094c7f3",
   "metadata": {},
   "outputs": [
    {
     "name": "stdout",
     "output_type": "stream",
     "text": [
      "Min of s 1\n"
     ]
    }
   ],
   "source": [
    "min_ = np.min(s)\n",
    "print(\"Min of s\",min_)"
   ]
  },
  {
   "cell_type": "code",
   "execution_count": null,
   "id": "d43e11c7-1a93-4faa-9027-cd32eb643d65",
   "metadata": {},
   "outputs": [],
   "source": []
  },
  {
   "cell_type": "code",
   "execution_count": 29,
   "id": "3fe6d898-0085-43ed-a950-620c9548ca5c",
   "metadata": {},
   "outputs": [
    {
     "name": "stdout",
     "output_type": "stream",
     "text": [
      "Max of s 5\n"
     ]
    }
   ],
   "source": [
    "max_ = np.max(s)\n",
    "print(\"Max of s\",max_)"
   ]
  },
  {
   "cell_type": "code",
   "execution_count": null,
   "id": "bf012f86-b1a5-454a-9556-ea4d0e0dc9a1",
   "metadata": {},
   "outputs": [],
   "source": []
  },
  {
   "cell_type": "markdown",
   "id": "d5011211-3ae8-4dba-b30a-a132fac66b90",
   "metadata": {},
   "source": [
    "# 5. Linear Algebra Functions"
   ]
  },
  {
   "cell_type": "code",
   "execution_count": 31,
   "id": "dec8ec2f-b59d-445d-be46-7397f5afbfd0",
   "metadata": {},
   "outputs": [
    {
     "data": {
      "text/plain": [
       "array([[1, 3],\n",
       "       [4, 7]])"
      ]
     },
     "execution_count": 31,
     "metadata": {},
     "output_type": "execute_result"
    }
   ],
   "source": [
    "matrix = np.array([[1,3],[4,7]])\n",
    "matrix"
   ]
  },
  {
   "cell_type": "code",
   "execution_count": null,
   "id": "95263546-c07a-4f87-afd3-84036fb9f755",
   "metadata": {},
   "outputs": [],
   "source": []
  },
  {
   "cell_type": "markdown",
   "id": "8687d554-9ba8-41ef-b1b7-8e223979b13b",
   "metadata": {},
   "source": [
    "# 6. Random sampling Functions"
   ]
  },
  {
   "cell_type": "code",
   "execution_count": 32,
   "id": "eebda5d5-2d80-4c60-b63c-484dacc2517a",
   "metadata": {},
   "outputs": [
    {
     "name": "stdout",
     "output_type": "stream",
     "text": [
      "Random Values: [0.589708   0.13485274 0.84770267]\n"
     ]
    }
   ],
   "source": [
    "random_vals = np.random.rand(3)\n",
    "print(\"Random Values:\",random_vals)"
   ]
  },
  {
   "cell_type": "code",
   "execution_count": null,
   "id": "ec684362-5467-4760-a3f3-b2f5f15ae81d",
   "metadata": {},
   "outputs": [],
   "source": []
  },
  {
   "cell_type": "code",
   "execution_count": 37,
   "id": "5998590e-108c-4537-aeb1-066f088707a2",
   "metadata": {},
   "outputs": [
    {
     "name": "stdout",
     "output_type": "stream",
     "text": [
      "Random Values: [0.5488135  0.71518937 0.60276338]\n"
     ]
    }
   ],
   "source": [
    "np.random.seed(0)   # set seed for reproductibility\n",
    "                    # same random numbers are generated for every run\n",
    "\n",
    "random_vals = np.random.rand(3)\n",
    "print(\"Random Values:\",random_vals)"
   ]
  },
  {
   "cell_type": "code",
   "execution_count": null,
   "id": "52e7e6d8-8c87-46b1-a86b-79020d74fecb",
   "metadata": {},
   "outputs": [],
   "source": []
  },
  {
   "cell_type": "code",
   "execution_count": 38,
   "id": "e509179b-e351-4566-932d-6de34fc3817c",
   "metadata": {},
   "outputs": [
    {
     "name": "stdout",
     "output_type": "stream",
     "text": [
      "Random integers: [3 7 9 3 5]\n"
     ]
    }
   ],
   "source": [
    "rand_ints = np.random.randint(0,10,5)\n",
    "print(\"Random integers:\",rand_ints)"
   ]
  },
  {
   "cell_type": "code",
   "execution_count": null,
   "id": "a8407271-7063-467e-8534-9cdd2b0ff4ad",
   "metadata": {},
   "outputs": [],
   "source": []
  },
  {
   "cell_type": "code",
   "execution_count": 40,
   "id": "7e85107f-d800-4c13-b361-a3eb5234f478",
   "metadata": {},
   "outputs": [
    {
     "name": "stdout",
     "output_type": "stream",
     "text": [
      "Random integers: [5 0 3 3 7]\n"
     ]
    }
   ],
   "source": [
    "np.random.seed(0)     # set seed for reproductibility\n",
    "                      # same random integers are generated for every run\n",
    "\n",
    "\n",
    "rand_ints = np.random.randint(0,10,5)\n",
    "print(\"Random integers:\",rand_ints)"
   ]
  },
  {
   "cell_type": "code",
   "execution_count": null,
   "id": "4fe90edf-8c9e-4e97-8f02-46e3280273d7",
   "metadata": {},
   "outputs": [],
   "source": []
  },
  {
   "cell_type": "markdown",
   "id": "722a8112-0436-4299-8235-13feb09dccf2",
   "metadata": {},
   "source": [
    "# 7. Boolean & Logical Functions"
   ]
  },
  {
   "cell_type": "code",
   "execution_count": 46,
   "id": "69e9d39e-7060-45cd-96c0-477217c5b8e2",
   "metadata": {},
   "outputs": [
    {
     "name": "stdout",
     "output_type": "stream",
     "text": [
      "All elements True: False\n"
     ]
    }
   ],
   "source": [
    "# all - checks if all elements are True\n",
    "\n",
    "logical_test = np.array([True,False,True])\n",
    "all_true = np.all(logical_test)\n",
    "print(\"All elements True:\",all_true)"
   ]
  },
  {
   "cell_type": "code",
   "execution_count": null,
   "id": "645fb3ce-c2df-4bf9-a107-8b135aa3acdb",
   "metadata": {},
   "outputs": [],
   "source": []
  },
  {
   "cell_type": "code",
   "execution_count": 44,
   "id": "6309d251-3d37-40c8-b3f2-a84ed3344aac",
   "metadata": {},
   "outputs": [
    {
     "name": "stdout",
     "output_type": "stream",
     "text": [
      "All elements True: False\n"
     ]
    }
   ],
   "source": [
    "logical_test = np.array([False,False,False])\n",
    "all_true = np.all(logical_test)\n",
    "print(\"All elements True:\",all_true)"
   ]
  },
  {
   "cell_type": "code",
   "execution_count": null,
   "id": "32707f92-7ece-4051-8248-c91fa23d897d",
   "metadata": {},
   "outputs": [],
   "source": []
  },
  {
   "cell_type": "code",
   "execution_count": 47,
   "id": "d50891cd-62bb-4933-829a-38aca8a670f1",
   "metadata": {},
   "outputs": [
    {
     "name": "stdout",
     "output_type": "stream",
     "text": [
      "Any elements true: True\n"
     ]
    }
   ],
   "source": [
    "any_true = np.any(logical_test)\n",
    "print(\"Any elements true:\",any_true)"
   ]
  },
  {
   "cell_type": "code",
   "execution_count": null,
   "id": "8265997c-7450-4cee-a934-760d33eb0892",
   "metadata": {},
   "outputs": [],
   "source": []
  },
  {
   "cell_type": "markdown",
   "id": "b6ed5f83-3345-4c01-b3d9-ba4d88d6ff7f",
   "metadata": {},
   "source": [
    "# 8. Set Operations"
   ]
  },
  {
   "cell_type": "code",
   "execution_count": 48,
   "id": "18b1ce08-a207-43c1-9d69-288b10d1d24c",
   "metadata": {},
   "outputs": [
    {
     "name": "stdout",
     "output_type": "stream",
     "text": [
      "Intersection of sets a & b : [3 4]\n"
     ]
    }
   ],
   "source": [
    "# intersection of two arrays\n",
    "\n",
    "set_a = np.array([1,2,3,4])\n",
    "set_b = np.array([3,4,5,6])\n",
    "intersection = np.intersect1d(set_a,set_b)\n",
    "print(\"Intersection of sets a & b :\",intersection)"
   ]
  },
  {
   "cell_type": "code",
   "execution_count": null,
   "id": "a1e8a559-d32e-4ce4-ba64-b82183a8a663",
   "metadata": {},
   "outputs": [],
   "source": []
  },
  {
   "cell_type": "code",
   "execution_count": 49,
   "id": "ed8d4661-b438-4879-9440-568ca4aa211d",
   "metadata": {},
   "outputs": [
    {
     "name": "stdout",
     "output_type": "stream",
     "text": [
      "Union of sets a & b : [1 2 3 4 5 6]\n"
     ]
    }
   ],
   "source": [
    "# union of two sets\n",
    "\n",
    "union = np.union1d(set_a,set_b)\n",
    "print(\"Union of sets a & b :\",union)"
   ]
  },
  {
   "cell_type": "code",
   "execution_count": null,
   "id": "1f8bf567-443f-408a-a5fb-523e17e96b15",
   "metadata": {},
   "outputs": [],
   "source": []
  },
  {
   "cell_type": "markdown",
   "id": "47af2fbc-3059-4b92-9e3a-c0cee324eb1d",
   "metadata": {},
   "source": [
    "# 9. Array Attribute Functions"
   ]
  },
  {
   "cell_type": "code",
   "execution_count": 55,
   "id": "ce0e405e-74a5-4249-b5ab-6d3f0bbefe68",
   "metadata": {},
   "outputs": [
    {
     "name": "stdout",
     "output_type": "stream",
     "text": [
      "Array:\n",
      " [[1 2 3 4]\n",
      " [5 6 7 8]]\n",
      "Shape of a: (2, 4)\n",
      "Size of a: 8\n",
      "Number of dimensions of a: 2\n",
      "Data type of a: int32\n"
     ]
    }
   ],
   "source": [
    "a = np.array(([1,2,3,4],[5,6,7,8]))\n",
    "shape = a.shape\n",
    "size = a.size\n",
    "dimensions = a.ndim\n",
    "dtype = a.dtype\n",
    "\n",
    "print(\"Array:\\n\",a)\n",
    "print(\"Shape of a:\", shape)\n",
    "print(\"Size of a:\", size)\n",
    "print(\"Number of dimensions of a:\", dimensions)\n",
    "print(\"Data type of a:\", dtype)\n"
   ]
  },
  {
   "cell_type": "code",
   "execution_count": null,
   "id": "e12e7f95-aa70-4962-b3c4-0ca60bda8bb0",
   "metadata": {},
   "outputs": [],
   "source": []
  },
  {
   "cell_type": "markdown",
   "id": "48b7ec32-a80c-4593-9504-22878dd9370f",
   "metadata": {},
   "source": [
    "# 10. Other Functions"
   ]
  },
  {
   "cell_type": "code",
   "execution_count": 57,
   "id": "38b32545-f691-49e6-bf6b-c2b600375384",
   "metadata": {},
   "outputs": [
    {
     "name": "stdout",
     "output_type": "stream",
     "text": [
      "Copied Array:\n",
      " [[1 2 3 4]\n",
      " [5 6 7 8]]\n"
     ]
    }
   ],
   "source": [
    "copied_array = np.copy(a)\n",
    "print(\"Copied Array:\\n\",copied_array)"
   ]
  },
  {
   "cell_type": "code",
   "execution_count": null,
   "id": "0dec2748-b453-47d4-92e8-a72a42994b8e",
   "metadata": {},
   "outputs": [],
   "source": []
  },
  {
   "cell_type": "code",
   "execution_count": 58,
   "id": "3fc4678e-73f5-4575-b2a0-255333f8b000",
   "metadata": {},
   "outputs": [
    {
     "name": "stdout",
     "output_type": "stream",
     "text": [
      "Size of Array a in bytes: 32\n"
     ]
    }
   ],
   "source": [
    "array_size_in_bytes = a.nbytes\n",
    "print(\"Size of Array a in bytes:\",array_size_in_bytes)"
   ]
  },
  {
   "cell_type": "code",
   "execution_count": null,
   "id": "1234a8f0-8aeb-4942-8c38-9da077288ebe",
   "metadata": {},
   "outputs": [],
   "source": []
  },
  {
   "cell_type": "code",
   "execution_count": 59,
   "id": "2ed1301d-5a9a-4053-8b11-e623b470b4aa",
   "metadata": {},
   "outputs": [
    {
     "name": "stdout",
     "output_type": "stream",
     "text": [
      "Do a and copied_array share memory? False\n"
     ]
    }
   ],
   "source": [
    "# Check if two arrays share memory\n",
    "\n",
    "shared = np.shares_memory(a,copied_array)\n",
    "print(\"Do a and copied_array share memory?\", shared)"
   ]
  },
  {
   "cell_type": "code",
   "execution_count": null,
   "id": "da133a07-fe7b-463e-b75f-d41b46b81abf",
   "metadata": {},
   "outputs": [],
   "source": []
  }
 ],
 "metadata": {
  "kernelspec": {
   "display_name": "Python [conda env:base] *",
   "language": "python",
   "name": "conda-base-py"
  },
  "language_info": {
   "codemirror_mode": {
    "name": "ipython",
    "version": 3
   },
   "file_extension": ".py",
   "mimetype": "text/x-python",
   "name": "python",
   "nbconvert_exporter": "python",
   "pygments_lexer": "ipython3",
   "version": "3.12.7"
  }
 },
 "nbformat": 4,
 "nbformat_minor": 5
}
